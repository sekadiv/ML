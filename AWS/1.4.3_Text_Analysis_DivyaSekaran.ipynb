{
 "cells": [
  {
   "cell_type": "markdown",
   "metadata": {},
   "source": [
    "# MLC - Working with AWS - Graded Questions"
   ]
  },
  {
   "cell_type": "markdown",
   "metadata": {},
   "source": [
    "## Text Analysis using AWS Services"
   ]
  },
  {
   "cell_type": "markdown",
   "metadata": {},
   "source": [
    "You are expected to solve the questions in the assignment using the Boto3 SDK offered by AWS. You can refer to the documentation [here](https://boto3.amazonaws.com/v1/documentation/api/latest/index.html)."
   ]
  },
  {
   "cell_type": "markdown",
   "metadata": {},
   "source": [
    "You are provided with the following review of a course offered by upGrad:\n",
    "\n",
    "#### Review:\n",
    "\n",
    "*I am currently close to completing my Post Graduate Diploma in Data Science from IIIT Bangalore in collaboration with UpGrad and therefore I feel I can throw some light on the program and help others make an informed decision on choosing programs offered by UpGrad.*\n",
    "\n",
    "*Prior to taking up the course with UpGrad, I had done a few courses from edX and Coursera platforms posted by various Universities across the globe. This, I combined with online resources and study material in hopes of making a career transition to Data Science. The fact is, we have all the required resources available online such as video material for teaching the technology, data sets to gain coding knowledge and other materials to teach us about the business domain. Honestly, after about 4 months of trying to crack data science this way (the hard way), it didn’t seem like I was making any headway. I was nowhere close to understanding an industry which is not an IT discipline at all, but rather a field which combines Mathematics, Coding and above all Business domain.*\n",
    "\n",
    "*This is when I found out about the PGDDS course offered by UpGrad which provided a definite structure in the vast ocean of information about the Data Science Industry available online. It gave the benefit of a structured program rather than spending or wasting huge amounts of time just trying to accumulate all the resources required to make some headway. Simply put, it saved me the effort of searching for needles in a mammoth haystack (internet).*\n",
    "\n",
    "*So I signed up for the program and after completing 10 months of the 11 month program, here are the few benefits I have felt.*\n",
    "\n",
    "*1. First and foremost, this is not a certification course but a Post Graduate Diploma provided by an accredited University that carries a lot of value than any certification course. Let’s be honest, any company would always value a university degree over any online certification course.*\n",
    "\n",
    "*2. Faculty who teach different modules are top notch in their fields having Doctorate or Master’s degree. Further, since Data Science is inter-disciplinary in nature, therefore we would require faculties with experience in the relevant disciplines to guide us. IIIT-B in collaboration with UpGrad have chosen faculties with the right qualification to match with the different disciplines.*\n",
    "\n",
    "*3. Moreover, UpGrad has tied up with industry professionals working at companies such as Gramener, Uber, Flipkart etc. to provide the students with a course that makes it more aligned with the happenings in the current Data Science Industry. They also let you work on case studies using real time data (as opposed to fabricated data) providing us with exposure to actual problems in the industry being solved using Data Analytics.*\n",
    "\n",
    "*4. UpGrad has further tied up with a third party company known as Tapchief to allow us to interact with top professionals in the industry. This is aimed at giving us guidance on how we can further our career in the field considering our educational qualification, past experiences, our expectation or goals, and age. They also help in guiding us in our final Capstone Project through video chats and main benefit of this is to guide us in terms of realistic approaches to the problem and providing business insights into the given problems.*\n",
    "\n",
    "*5. Biggest benefit: Networking!!! The biggest benefit I have received is being able to collaborate with so many other students who are industry professionals at different stages of the course. Numerous opportunities are given to interact with this diverse group of people such as working in groups on numerous case studies, meeting them at basecamps arranged by UpGrad and lot of us can meet up at campus library if you are from Bangalore.*\n",
    "\n",
    "*UpGrad is trying to tackle a concern or a problem which has been voiced by so many CEO’s of top IT organizations: EMPLOYABILITY. They do this by collaborating not just with an academic institute, but also bringing in industry experts to give us the right tools required in the market.*\n",
    "\n",
    "*I understand the course fees are on the upper side compared to many other online and offline courses offered, but I don’t personally believe there are many platforms which offer a holistic package such as the one’s UpGrad offered.*\n",
    "\n",
    "*I hope this review helps anyone wishing to pursue a course offered by UpGrad and I must say, taking up any of the courses is serious business and will require serious time and effort from the candidates.*"
   ]
  },
  {
   "cell_type": "code",
   "execution_count": 5,
   "metadata": {},
   "outputs": [],
   "source": [
    "review=\"\"\"I am currently close to completing my Post Graduate Diploma in Data Science from IIIT Bangalore in collaboration with UpGrad and therefore I feel I can throw some light on the program and help others make an informed decision on choosing programs offered by UpGrad.\\\n",
    "\n",
    "Prior to taking up the course with UpGrad, I had done a few courses from edX and Coursera platforms posted by various Universities across the globe. This, I combined with online resources and study material in hopes of making a career transition to Data Science. The fact is, we have all the required resources available online such as video material for teaching the technology, data sets to gain coding knowledge and other materials to teach us about the business domain. Honestly, after about 4 months of trying to crack data science this way (the hard way), it didn’t seem like I was making any headway. I was nowhere close to understanding an industry which is not an IT discipline at all, but rather a field which combines Mathematics, Coding and above all Business domain.\\\n",
    "\n",
    "This is when I found out about the PGDDS course offered by UpGrad which provided a definite structure in the vast ocean of information about the Data Science Industry available online. It gave the benefit of a structured program rather than spending or wasting huge amounts of time just trying to accumulate all the resources required to make some headway. Simply put, it saved me the effort of searching for needles in a mammoth haystack (internet).\\\n",
    "\n",
    "So I signed up for the program and after completing 10 months of the 11 month program, here are the few benefits I have felt.\\\n",
    "\n",
    "1. First and foremost, this is not a certification course but a Post Graduate Diploma provided by an accredited University that carries a lot of value than any certification course. Let’s be honest, any company would always value a university degree over any online certification course.\\\n",
    "\n",
    "2. Faculty who teach different modules are top notch in their fields having Doctorate or Master’s degree. Further, since Data Science is inter-disciplinary in nature, therefore we would require faculties with experience in the relevant disciplines to guide us. IIIT-B in collaboration with UpGrad have chosen faculties with the right qualification to match with the different disciplines.\\\n",
    "\n",
    "3. Moreover, UpGrad has tied up with industry professionals working at companies such as Gramener, Uber, Flipkart etc. to provide the students with a course that makes it more aligned with the happenings in the current Data Science Industry. They also let you work on case studies using real time data (as opposed to fabricated data) providing us with exposure to actual problems in the industry being solved using Data Analytics.\\\n",
    "\n",
    "4. UpGrad has further tied up with a third party company known as Tapchief to allow us to interact with top professionals in the industry. This is aimed at giving us guidance on how we can further our career in the field considering our educational qualification, past experiences, our expectation or goals, and age. They also help in guiding us in our final Capstone Project through video chats and main benefit of this is to guide us in terms of realistic approaches to the problem and providing business insights into the given problems.\\\n",
    "\n",
    "5. Biggest benefit: Networking!!! The biggest benefit I have received is being able to collaborate with so many other students who are industry professionals at different stages of the course. Numerous opportunities are given to interact with this diverse group of people such as working in groups on numerous case studies, meeting them at basecamps arranged by UpGrad and lot of us can meet up at campus library if you are from Bangalore.\\\n",
    "\n",
    "UpGrad is trying to tackle a concern or a problem which has been voiced by so many CEO’s of top IT organizations: EMPLOYABILITY. They do this by collaborating not just with an academic institute, but also bringing in industry experts to give us the right tools required in the market.\\\n",
    "\n",
    "I understand the course fees are on the upper side compared to many other online and offline courses offered, but I don’t personally believe there are many platforms which offer a holistic package such as the one’s UpGrad offered.\\\n",
    "\n",
    "I hope this review helps anyone wishing to pursue a course offered by UpGrad and I must say, taking up any of the courses is serious business and will require serious time and effort from the candidates.\"\"\""
   ]
  },
  {
   "cell_type": "markdown",
   "metadata": {},
   "source": [
    "#### Your task is to use the appriopriate AWS services to check the key points mentioned by the student. Also, you must identify whether the student is satisfied with the course or not."
   ]
  },
  {
   "cell_type": "code",
   "execution_count": 1,
   "metadata": {},
   "outputs": [],
   "source": [
    "# Import the required libraries and define the required variables\n",
    "\n",
    "import boto3\n",
    "import json\n"
   ]
  },
  {
   "cell_type": "markdown",
   "metadata": {},
   "source": [
    "#### Question 1.\n",
    "\n",
    "Which of the following commands will help you get the gist of the review?\n",
    "\n",
    "- detect_entities\n",
    "- detect_sentiment\n",
    "- detect_key_phrases\n",
    "- detect_syntax"
   ]
  },
  {
   "cell_type": "code",
   "execution_count": 2,
   "metadata": {},
   "outputs": [],
   "source": [
    "# Provide your code here\n",
    "s3=boto3.client('s3')\n",
    "response=s3.list_buckets()\n"
   ]
  },
  {
   "cell_type": "code",
   "execution_count": 7,
   "metadata": {},
   "outputs": [],
   "source": [
    "client = boto3.client('comprehend')"
   ]
  },
  {
   "cell_type": "code",
   "execution_count": 25,
   "metadata": {},
   "outputs": [],
   "source": [
    "response = client.detect_sentiment(\n",
    "    Text=review,\n",
    "    LanguageCode='en'\n",
    ")"
   ]
  },
  {
   "cell_type": "code",
   "execution_count": 26,
   "metadata": {},
   "outputs": [
    {
     "name": "stdout",
     "output_type": "stream",
     "text": [
      "{'Sentiment': 'NEUTRAL', 'SentimentScore': {'Positive': 0.32493674755096436, 'Negative': 0.0016977065242826939, 'Neutral': 0.6732372045516968, 'Mixed': 0.00012842653086408973}, 'ResponseMetadata': {'RequestId': 'cb416acc-e407-4b55-bd9c-57322e65e4cc', 'HTTPStatusCode': 200, 'HTTPHeaders': {'x-amzn-requestid': 'cb416acc-e407-4b55-bd9c-57322e65e4cc', 'content-type': 'application/x-amz-json-1.1', 'content-length': '165', 'date': 'Sat, 13 Feb 2021 15:40:19 GMT'}, 'RetryAttempts': 0}}\n"
     ]
    }
   ],
   "source": [
    "print(response)"
   ]
  },
  {
   "cell_type": "code",
   "execution_count": 12,
   "metadata": {},
   "outputs": [],
   "source": [
    "response2 = client.detect_key_phrases(\n",
    "    Text=review,\n",
    "    LanguageCode='en'\n",
    ")"
   ]
  },
  {
   "cell_type": "code",
   "execution_count": 13,
   "metadata": {},
   "outputs": [
    {
     "name": "stdout",
     "output_type": "stream",
     "text": [
      "{'KeyPhrases': [{'Score': 0.999992311000824, 'Text': 'my Post Graduate Diploma', 'BeginOffset': 35, 'EndOffset': 59}, {'Score': 0.999991774559021, 'Text': 'Data Science', 'BeginOffset': 63, 'EndOffset': 75}, {'Score': 0.9999852180480957, 'Text': 'IIIT Bangalore', 'BeginOffset': 81, 'EndOffset': 95}, {'Score': 0.9999929666519165, 'Text': 'collaboration', 'BeginOffset': 99, 'EndOffset': 112}, {'Score': 0.9999914169311523, 'Text': 'UpGrad', 'BeginOffset': 118, 'EndOffset': 124}, {'Score': 0.9999992847442627, 'Text': 'some light', 'BeginOffset': 158, 'EndOffset': 168}, {'Score': 1.0, 'Text': 'the program', 'BeginOffset': 172, 'EndOffset': 183}, {'Score': 0.9999998807907104, 'Text': 'an informed decision', 'BeginOffset': 205, 'EndOffset': 225}, {'Score': 0.9999994039535522, 'Text': 'programs', 'BeginOffset': 238, 'EndOffset': 246}, {'Score': 0.9999994039535522, 'Text': 'UpGrad', 'BeginOffset': 258, 'EndOffset': 264}, {'Score': 0.9999993443489075, 'Text': 'the course', 'BeginOffset': 285, 'EndOffset': 295}, {'Score': 0.9999986886978149, 'Text': 'UpGrad', 'BeginOffset': 301, 'EndOffset': 307}, {'Score': 0.9999958872795105, 'Text': 'a few courses', 'BeginOffset': 320, 'EndOffset': 333}, {'Score': 0.9999732971191406, 'Text': 'edX', 'BeginOffset': 339, 'EndOffset': 342}, {'Score': 0.868301272392273, 'Text': 'Coursera platforms', 'BeginOffset': 347, 'EndOffset': 365}, {'Score': 0.9999427199363708, 'Text': 'various Universities', 'BeginOffset': 376, 'EndOffset': 396}, {'Score': 0.9999991655349731, 'Text': 'the globe', 'BeginOffset': 404, 'EndOffset': 413}, {'Score': 0.8658382296562195, 'Text': 'online resources and study material', 'BeginOffset': 437, 'EndOffset': 472}, {'Score': 0.9999995231628418, 'Text': 'hopes', 'BeginOffset': 476, 'EndOffset': 481}, {'Score': 0.9999769926071167, 'Text': 'a career transition', 'BeginOffset': 492, 'EndOffset': 511}, {'Score': 0.9999902844429016, 'Text': 'Data Science', 'BeginOffset': 515, 'EndOffset': 527}, {'Score': 0.9999958872795105, 'Text': 'The fact', 'BeginOffset': 529, 'EndOffset': 537}, {'Score': 0.9999753832817078, 'Text': 'all the required resources', 'BeginOffset': 550, 'EndOffset': 576}, {'Score': 0.9999205470085144, 'Text': 'video material', 'BeginOffset': 602, 'EndOffset': 616}, {'Score': 0.9999999403953552, 'Text': 'the technology', 'BeginOffset': 630, 'EndOffset': 644}, {'Score': 0.9999947547912598, 'Text': 'data', 'BeginOffset': 646, 'EndOffset': 650}, {'Score': 0.9671196341514587, 'Text': 'coding', 'BeginOffset': 664, 'EndOffset': 670}, {'Score': 0.8303347826004028, 'Text': 'knowledge and other materials', 'BeginOffset': 671, 'EndOffset': 700}, {'Score': 0.9999930262565613, 'Text': 'the business domain', 'BeginOffset': 719, 'EndOffset': 738}, {'Score': 0.9999231696128845, 'Text': 'about 4 months', 'BeginOffset': 756, 'EndOffset': 770}, {'Score': 0.9999695420265198, 'Text': 'data science', 'BeginOffset': 790, 'EndOffset': 802}, {'Score': 0.9999887943267822, 'Text': 'this way', 'BeginOffset': 803, 'EndOffset': 811}, {'Score': 0.9999859929084778, 'Text': 'the hard way', 'BeginOffset': 813, 'EndOffset': 825}, {'Score': 0.999997079372406, 'Text': 'any headway', 'BeginOffset': 861, 'EndOffset': 872}, {'Score': 0.9999998211860657, 'Text': 'an industry', 'BeginOffset': 911, 'EndOffset': 922}, {'Score': 0.9999988079071045, 'Text': 'an IT discipline', 'BeginOffset': 936, 'EndOffset': 952}, {'Score': 0.9999977350234985, 'Text': 'a field', 'BeginOffset': 972, 'EndOffset': 979}, {'Score': 0.9406411647796631, 'Text': 'Mathematics, Coding', 'BeginOffset': 995, 'EndOffset': 1014}, {'Score': 0.9988654255867004, 'Text': 'all Business domain', 'BeginOffset': 1025, 'EndOffset': 1044}, {'Score': 0.9999999403953552, 'Text': 'the PGDDS course', 'BeginOffset': 1077, 'EndOffset': 1093}, {'Score': 0.9999988079071045, 'Text': 'UpGrad', 'BeginOffset': 1105, 'EndOffset': 1111}, {'Score': 0.9999995827674866, 'Text': 'a definite structure', 'BeginOffset': 1127, 'EndOffset': 1147}, {'Score': 0.9999987483024597, 'Text': 'the vast ocean', 'BeginOffset': 1151, 'EndOffset': 1165}, {'Score': 0.9999531507492065, 'Text': 'information', 'BeginOffset': 1169, 'EndOffset': 1180}, {'Score': 0.9999984502792358, 'Text': 'the Data Science Industry', 'BeginOffset': 1187, 'EndOffset': 1212}, {'Score': 0.9999998807907104, 'Text': 'the benefit', 'BeginOffset': 1239, 'EndOffset': 1250}, {'Score': 0.9999998211860657, 'Text': 'a structured program', 'BeginOffset': 1254, 'EndOffset': 1274}, {'Score': 0.999358594417572, 'Text': 'huge amounts', 'BeginOffset': 1307, 'EndOffset': 1319}, {'Score': 0.9996078610420227, 'Text': 'time', 'BeginOffset': 1323, 'EndOffset': 1327}, {'Score': 0.9999997019767761, 'Text': 'all the resources', 'BeginOffset': 1354, 'EndOffset': 1371}, {'Score': 0.9999845623970032, 'Text': 'some headway', 'BeginOffset': 1389, 'EndOffset': 1401}, {'Score': 0.999701738357544, 'Text': 'the effort', 'BeginOffset': 1427, 'EndOffset': 1437}, {'Score': 0.9999918937683105, 'Text': 'needles', 'BeginOffset': 1455, 'EndOffset': 1462}, {'Score': 0.9999987483024597, 'Text': 'a mammoth haystack', 'BeginOffset': 1466, 'EndOffset': 1484}, {'Score': 0.9999874830245972, 'Text': 'internet', 'BeginOffset': 1486, 'EndOffset': 1494}, {'Score': 1.0, 'Text': 'the program', 'BeginOffset': 1516, 'EndOffset': 1527}, {'Score': 0.9999996423721313, 'Text': '10 months', 'BeginOffset': 1549, 'EndOffset': 1558}, {'Score': 0.9999986886978149, 'Text': 'the 11 month program', 'BeginOffset': 1562, 'EndOffset': 1582}, {'Score': 0.9999836087226868, 'Text': 'the few benefits', 'BeginOffset': 1593, 'EndOffset': 1609}, {'Score': 0.9989802241325378, 'Text': '1', 'BeginOffset': 1623, 'EndOffset': 1624}, {'Score': 0.9999987483024597, 'Text': 'a certification course', 'BeginOffset': 1658, 'EndOffset': 1680}, {'Score': 0.9999719262123108, 'Text': 'a Post Graduate Diploma', 'BeginOffset': 1685, 'EndOffset': 1708}, {'Score': 0.9999861121177673, 'Text': 'an accredited University', 'BeginOffset': 1721, 'EndOffset': 1745}, {'Score': 0.9999998211860657, 'Text': 'a lot', 'BeginOffset': 1759, 'EndOffset': 1764}, {'Score': 0.9999992251396179, 'Text': 'any certification course', 'BeginOffset': 1779, 'EndOffset': 1803}, {'Score': 0.9999993443489075, 'Text': 'any company', 'BeginOffset': 1822, 'EndOffset': 1833}, {'Score': 0.9999907612800598, 'Text': 'a university degree', 'BeginOffset': 1853, 'EndOffset': 1872}, {'Score': 0.9999951124191284, 'Text': 'any online certification course', 'BeginOffset': 1878, 'EndOffset': 1909}, {'Score': 0.9974774718284607, 'Text': '2', 'BeginOffset': 1911, 'EndOffset': 1912}, {'Score': 0.9997969269752502, 'Text': 'Faculty', 'BeginOffset': 1914, 'EndOffset': 1921}, {'Score': 0.9999969005584717, 'Text': 'different modules', 'BeginOffset': 1932, 'EndOffset': 1949}, {'Score': 0.9999810457229614, 'Text': 'top notch', 'BeginOffset': 1954, 'EndOffset': 1963}, {'Score': 0.9999976754188538, 'Text': 'their fields', 'BeginOffset': 1967, 'EndOffset': 1979}, {'Score': 0.9886612892150879, 'Text': 'Doctorate or Master', 'BeginOffset': 1987, 'EndOffset': 2006}, {'Score': 0.9999762177467346, 'Text': '’s degree', 'BeginOffset': 2006, 'EndOffset': 2015}, {'Score': 0.9924357533454895, 'Text': 'Data Science', 'BeginOffset': 2032, 'EndOffset': 2044}, {'Score': 0.6111578345298767, 'Text': 'disciplinary', 'BeginOffset': 2054, 'EndOffset': 2066}, {'Score': 0.9999904632568359, 'Text': 'nature', 'BeginOffset': 2070, 'EndOffset': 2076}, {'Score': 0.9999973773956299, 'Text': 'faculties', 'BeginOffset': 2105, 'EndOffset': 2114}, {'Score': 0.9995868802070618, 'Text': 'experience', 'BeginOffset': 2120, 'EndOffset': 2130}, {'Score': 0.9999989867210388, 'Text': 'the relevant disciplines', 'BeginOffset': 2134, 'EndOffset': 2158}, {'Score': 0.805296003818512, 'Text': 'IIIT-B', 'BeginOffset': 2172, 'EndOffset': 2178}, {'Score': 0.9999979734420776, 'Text': 'collaboration', 'BeginOffset': 2182, 'EndOffset': 2195}, {'Score': 0.9999892711639404, 'Text': 'UpGrad', 'BeginOffset': 2201, 'EndOffset': 2207}, {'Score': 0.9999845027923584, 'Text': 'faculties', 'BeginOffset': 2220, 'EndOffset': 2229}, {'Score': 0.9999698996543884, 'Text': 'the right qualification', 'BeginOffset': 2235, 'EndOffset': 2258}, {'Score': 0.9999959468841553, 'Text': 'the different disciplines', 'BeginOffset': 2273, 'EndOffset': 2298}, {'Score': 0.9999918937683105, 'Text': '3', 'BeginOffset': 2300, 'EndOffset': 2301}, {'Score': 0.999962329864502, 'Text': 'UpGrad', 'BeginOffset': 2313, 'EndOffset': 2319}, {'Score': 0.9999293088912964, 'Text': 'industry professionals', 'BeginOffset': 2337, 'EndOffset': 2359}, {'Score': 0.9999992847442627, 'Text': 'companies', 'BeginOffset': 2371, 'EndOffset': 2380}, {'Score': 0.991653323173523, 'Text': 'Gramener, Uber, Flipkart etc.', 'BeginOffset': 2389, 'EndOffset': 2418}, {'Score': 0.9999995231628418, 'Text': 'the students', 'BeginOffset': 2430, 'EndOffset': 2442}, {'Score': 1.0, 'Text': 'a course', 'BeginOffset': 2448, 'EndOffset': 2456}, {'Score': 0.999987006187439, 'Text': 'the happenings', 'BeginOffset': 2489, 'EndOffset': 2503}, {'Score': 0.9999929666519165, 'Text': 'the current Data Science Industry', 'BeginOffset': 2507, 'EndOffset': 2540}, {'Score': 0.9999762177467346, 'Text': 'case studies', 'BeginOffset': 2568, 'EndOffset': 2580}, {'Score': 0.9999871253967285, 'Text': 'real time data', 'BeginOffset': 2587, 'EndOffset': 2601}, {'Score': 0.9998458623886108, 'Text': 'fabricated data', 'BeginOffset': 2617, 'EndOffset': 2632}, {'Score': 0.9998605251312256, 'Text': 'exposure', 'BeginOffset': 2652, 'EndOffset': 2660}, {'Score': 0.9999992847442627, 'Text': 'actual problems', 'BeginOffset': 2664, 'EndOffset': 2679}, {'Score': 0.9999999403953552, 'Text': 'the industry', 'BeginOffset': 2683, 'EndOffset': 2695}, {'Score': 0.9999985098838806, 'Text': 'Data Analytics', 'BeginOffset': 2715, 'EndOffset': 2729}, {'Score': 0.9999611377716064, 'Text': '4', 'BeginOffset': 2731, 'EndOffset': 2732}, {'Score': 0.9999572038650513, 'Text': 'UpGrad', 'BeginOffset': 2734, 'EndOffset': 2740}, {'Score': 0.9999989867210388, 'Text': 'a third party company', 'BeginOffset': 2766, 'EndOffset': 2787}, {'Score': 0.9999793767929077, 'Text': 'Tapchief', 'BeginOffset': 2797, 'EndOffset': 2805}, {'Score': 0.9999992847442627, 'Text': 'top professionals', 'BeginOffset': 2835, 'EndOffset': 2852}, {'Score': 0.999998152256012, 'Text': 'the industry', 'BeginOffset': 2856, 'EndOffset': 2868}, {'Score': 0.9999995827674866, 'Text': 'our career', 'BeginOffset': 2928, 'EndOffset': 2938}, {'Score': 0.9999998807907104, 'Text': 'the field', 'BeginOffset': 2942, 'EndOffset': 2951}, {'Score': 0.9999985098838806, 'Text': 'our educational qualification', 'BeginOffset': 2964, 'EndOffset': 2993}, {'Score': 0.9999886155128479, 'Text': 'past experiences', 'BeginOffset': 2995, 'EndOffset': 3011}, {'Score': 0.970647931098938, 'Text': 'our expectation or', 'BeginOffset': 3013, 'EndOffset': 3031}, {'Score': 0.5347374081611633, 'Text': 'goals', 'BeginOffset': 3032, 'EndOffset': 3037}, {'Score': 0.999835729598999, 'Text': 'age', 'BeginOffset': 3043, 'EndOffset': 3046}, {'Score': 0.9999995827674866, 'Text': 'our final Capstone Project', 'BeginOffset': 3080, 'EndOffset': 3106}, {'Score': 0.9999991059303284, 'Text': 'video chats', 'BeginOffset': 3115, 'EndOffset': 3126}, {'Score': 0.9999961256980896, 'Text': 'main benefit', 'BeginOffset': 3131, 'EndOffset': 3143}, {'Score': 0.9999996423721313, 'Text': 'terms', 'BeginOffset': 3170, 'EndOffset': 3175}, {'Score': 0.999991238117218, 'Text': 'realistic approaches', 'BeginOffset': 3179, 'EndOffset': 3199}, {'Score': 0.9999998211860657, 'Text': 'the problem', 'BeginOffset': 3203, 'EndOffset': 3214}, {'Score': 0.9992640614509583, 'Text': 'business insights', 'BeginOffset': 3229, 'EndOffset': 3246}, {'Score': 0.9998489022254944, 'Text': 'the given problems', 'BeginOffset': 3252, 'EndOffset': 3270}, {'Score': 0.9998743534088135, 'Text': '5', 'BeginOffset': 3272, 'EndOffset': 3273}, {'Score': 0.9913284778594971, 'Text': 'Biggest benefit', 'BeginOffset': 3275, 'EndOffset': 3290}, {'Score': 0.9998561143875122, 'Text': 'The biggest benefit', 'BeginOffset': 3306, 'EndOffset': 3325}, {'Score': 0.9987475275993347, 'Text': 'so many other students', 'BeginOffset': 3376, 'EndOffset': 3398}, {'Score': 0.9999969005584717, 'Text': 'industry professionals', 'BeginOffset': 3407, 'EndOffset': 3429}, {'Score': 0.999999463558197, 'Text': 'different stages', 'BeginOffset': 3433, 'EndOffset': 3449}, {'Score': 0.9999994039535522, 'Text': 'the course', 'BeginOffset': 3453, 'EndOffset': 3463}, {'Score': 0.9999939799308777, 'Text': 'Numerous opportunities', 'BeginOffset': 3465, 'EndOffset': 3487}, {'Score': 0.9999997019767761, 'Text': 'this diverse group', 'BeginOffset': 3515, 'EndOffset': 3533}, {'Score': 0.9999880790710449, 'Text': 'people', 'BeginOffset': 3537, 'EndOffset': 3543}, {'Score': 0.9999921321868896, 'Text': 'groups', 'BeginOffset': 3563, 'EndOffset': 3569}, {'Score': 0.9999892115592957, 'Text': 'numerous case studies', 'BeginOffset': 3573, 'EndOffset': 3594}, {'Score': 0.9996852874755859, 'Text': 'basecamps', 'BeginOffset': 3612, 'EndOffset': 3621}, {'Score': 0.9999973773956299, 'Text': 'UpGrad', 'BeginOffset': 3634, 'EndOffset': 3640}, {'Score': 0.9942067861557007, 'Text': 'lot', 'BeginOffset': 3645, 'EndOffset': 3648}, {'Score': 0.9999955296516418, 'Text': 'campus library', 'BeginOffset': 3670, 'EndOffset': 3684}, {'Score': 0.9999991655349731, 'Text': 'Bangalore', 'BeginOffset': 3701, 'EndOffset': 3710}, {'Score': 0.9965136647224426, 'Text': 'UpGrad', 'BeginOffset': 3712, 'EndOffset': 3718}, {'Score': 0.9999996423721313, 'Text': 'a concern', 'BeginOffset': 3739, 'EndOffset': 3748}, {'Score': 0.9999997615814209, 'Text': 'a problem', 'BeginOffset': 3752, 'EndOffset': 3761}, {'Score': 0.7485392093658447, 'Text': 'so many CEO', 'BeginOffset': 3787, 'EndOffset': 3798}, {'Score': 0.9996786713600159, 'Text': 'top IT organizations', 'BeginOffset': 3804, 'EndOffset': 3824}, {'Score': 0.8314128518104553, 'Text': 'EMPLOYABILITY', 'BeginOffset': 3826, 'EndOffset': 3839}, {'Score': 0.9999915957450867, 'Text': 'an academic institute', 'BeginOffset': 3885, 'EndOffset': 3906}, {'Score': 0.9999856352806091, 'Text': 'industry experts', 'BeginOffset': 3929, 'EndOffset': 3945}, {'Score': 0.9858208894729614, 'Text': 'the right tools', 'BeginOffset': 3957, 'EndOffset': 3972}, {'Score': 0.9999901056289673, 'Text': 'the market', 'BeginOffset': 3985, 'EndOffset': 3995}, {'Score': 0.9998942613601685, 'Text': 'the course fees', 'BeginOffset': 4010, 'EndOffset': 4025}, {'Score': 0.9999995827674866, 'Text': 'the upper side', 'BeginOffset': 4033, 'EndOffset': 4047}, {'Score': 0.9999878406524658, 'Text': 'many other online and offline courses', 'BeginOffset': 4060, 'EndOffset': 4097}, {'Score': 0.9999995827674866, 'Text': 'many platforms', 'BeginOffset': 4148, 'EndOffset': 4162}, {'Score': 0.9999998807907104, 'Text': 'a holistic package', 'BeginOffset': 4175, 'EndOffset': 4193}, {'Score': 1.0, 'Text': 'the one', 'BeginOffset': 4202, 'EndOffset': 4209}, {'Score': 0.9999995827674866, 'Text': '’s UpGrad', 'BeginOffset': 4209, 'EndOffset': 4218}, {'Score': 0.9999996423721313, 'Text': 'this review', 'BeginOffset': 4235, 'EndOffset': 4246}, {'Score': 1.0, 'Text': 'a course', 'BeginOffset': 4278, 'EndOffset': 4286}, {'Score': 0.9999991655349731, 'Text': 'UpGrad', 'BeginOffset': 4298, 'EndOffset': 4304}, {'Score': 0.9999998807907104, 'Text': 'the courses', 'BeginOffset': 4338, 'EndOffset': 4349}, {'Score': 0.9999995827674866, 'Text': 'serious business', 'BeginOffset': 4353, 'EndOffset': 4369}, {'Score': 0.9999995827674866, 'Text': 'serious time and effort', 'BeginOffset': 4387, 'EndOffset': 4410}, {'Score': 0.9999997615814209, 'Text': 'the candidates', 'BeginOffset': 4416, 'EndOffset': 4430}], 'ResponseMetadata': {'RequestId': '20bbe800-7ce0-40ee-991e-e2e440afb46b', 'HTTPStatusCode': 200, 'HTTPHeaders': {'x-amzn-requestid': '20bbe800-7ce0-40ee-991e-e2e440afb46b', 'content-type': 'application/x-amz-json-1.1', 'content-length': '14453', 'date': 'Sat, 13 Feb 2021 15:27:27 GMT'}, 'RetryAttempts': 0}}\n"
     ]
    }
   ],
   "source": [
    "print(response2)"
   ]
  },
  {
   "cell_type": "markdown",
   "metadata": {},
   "source": [
    "###Keyphrases gives the gist of data"
   ]
  },
  {
   "cell_type": "markdown",
   "metadata": {},
   "source": [
    "#### Question 2.\n",
    "\n",
    "Which of the following companies is not listed in the review?\n",
    "\n",
    "- upGrad\n",
    "- Gramener\n",
    "- Flipkart\n",
    "- Ola"
   ]
  },
  {
   "cell_type": "code",
   "execution_count": 14,
   "metadata": {},
   "outputs": [],
   "source": [
    "# Provide your code here\n",
    "response_entities = client.detect_entities(\n",
    "    Text=review,\n",
    "    LanguageCode='en',\n",
    "    \n",
    ")\n"
   ]
  },
  {
   "cell_type": "code",
   "execution_count": 15,
   "metadata": {},
   "outputs": [
    {
     "name": "stdout",
     "output_type": "stream",
     "text": [
      "{'Entities': [{'Score': 0.9378122687339783, 'Type': 'ORGANIZATION', 'Text': 'IIIT Bangalore', 'BeginOffset': 81, 'EndOffset': 95}, {'Score': 0.871549129486084, 'Type': 'ORGANIZATION', 'Text': 'UpGrad', 'BeginOffset': 118, 'EndOffset': 124}, {'Score': 0.6870378851890564, 'Type': 'ORGANIZATION', 'Text': 'UpGrad', 'BeginOffset': 258, 'EndOffset': 264}, {'Score': 0.8895578384399414, 'Type': 'ORGANIZATION', 'Text': 'UpGrad', 'BeginOffset': 301, 'EndOffset': 307}, {'Score': 0.5530226230621338, 'Type': 'TITLE', 'Text': 'edX', 'BeginOffset': 339, 'EndOffset': 342}, {'Score': 0.706993818283081, 'Type': 'ORGANIZATION', 'Text': 'Coursera', 'BeginOffset': 347, 'EndOffset': 355}, {'Score': 0.8702214360237122, 'Type': 'QUANTITY', 'Text': 'about 4 months', 'BeginOffset': 756, 'EndOffset': 770}, {'Score': 0.4440819025039673, 'Type': 'ORGANIZATION', 'Text': 'PGDDS', 'BeginOffset': 1081, 'EndOffset': 1086}, {'Score': 0.9886940121650696, 'Type': 'ORGANIZATION', 'Text': 'UpGrad', 'BeginOffset': 1105, 'EndOffset': 1111}, {'Score': 0.9948128461837769, 'Type': 'QUANTITY', 'Text': '10 months', 'BeginOffset': 1549, 'EndOffset': 1558}, {'Score': 0.9865952134132385, 'Type': 'QUANTITY', 'Text': '11 month', 'BeginOffset': 1566, 'EndOffset': 1574}, {'Score': 0.8650789260864258, 'Type': 'QUANTITY', 'Text': 'First', 'BeginOffset': 1626, 'EndOffset': 1631}, {'Score': 0.6010788679122925, 'Type': 'OTHER', 'Text': 'IIIT', 'BeginOffset': 2172, 'EndOffset': 2176}, {'Score': 0.4987099766731262, 'Type': 'OTHER', 'Text': 'B', 'BeginOffset': 2177, 'EndOffset': 2178}, {'Score': 0.9935089945793152, 'Type': 'ORGANIZATION', 'Text': 'UpGrad', 'BeginOffset': 2201, 'EndOffset': 2207}, {'Score': 0.9938815832138062, 'Type': 'ORGANIZATION', 'Text': 'UpGrad', 'BeginOffset': 2313, 'EndOffset': 2319}, {'Score': 0.9985798597335815, 'Type': 'ORGANIZATION', 'Text': 'Gramener', 'BeginOffset': 2389, 'EndOffset': 2397}, {'Score': 0.9994702935218811, 'Type': 'ORGANIZATION', 'Text': 'Uber', 'BeginOffset': 2399, 'EndOffset': 2403}, {'Score': 0.9993135929107666, 'Type': 'ORGANIZATION', 'Text': 'Flipkart', 'BeginOffset': 2405, 'EndOffset': 2413}, {'Score': 0.9949173927307129, 'Type': 'ORGANIZATION', 'Text': 'UpGrad', 'BeginOffset': 2734, 'EndOffset': 2740}, {'Score': 0.997076153755188, 'Type': 'ORGANIZATION', 'Text': 'Tapchief', 'BeginOffset': 2797, 'EndOffset': 2805}, {'Score': 0.910500705242157, 'Type': 'ORGANIZATION', 'Text': 'UpGrad', 'BeginOffset': 3634, 'EndOffset': 3640}, {'Score': 0.9965200424194336, 'Type': 'LOCATION', 'Text': 'Bangalore', 'BeginOffset': 3701, 'EndOffset': 3710}, {'Score': 0.9794635772705078, 'Type': 'ORGANIZATION', 'Text': 'UpGrad', 'BeginOffset': 3712, 'EndOffset': 3718}, {'Score': 0.8526819348335266, 'Type': 'ORGANIZATION', 'Text': 'UpGrad', 'BeginOffset': 4212, 'EndOffset': 4218}, {'Score': 0.912949800491333, 'Type': 'ORGANIZATION', 'Text': 'UpGrad', 'BeginOffset': 4298, 'EndOffset': 4304}], 'ResponseMetadata': {'RequestId': 'c3f00540-199b-4264-bb6d-b2a568ff1e80', 'HTTPStatusCode': 200, 'HTTPHeaders': {'x-amzn-requestid': 'c3f00540-199b-4264-bb6d-b2a568ff1e80', 'content-type': 'application/x-amz-json-1.1', 'content-length': '2648', 'date': 'Sat, 13 Feb 2021 15:34:10 GMT'}, 'RetryAttempts': 0}}\n"
     ]
    }
   ],
   "source": [
    "print(response_entities)"
   ]
  },
  {
   "cell_type": "code",
   "execution_count": 24,
   "metadata": {},
   "outputs": [
    {
     "name": "stdout",
     "output_type": "stream",
     "text": [
      "IIIT Bangalore\n",
      "UpGrad\n",
      "UpGrad\n",
      "UpGrad\n",
      "edX\n",
      "Coursera\n",
      "about 4 months\n",
      "PGDDS\n",
      "UpGrad\n",
      "10 months\n",
      "11 month\n",
      "First\n",
      "IIIT\n",
      "B\n",
      "UpGrad\n",
      "UpGrad\n",
      "Gramener\n",
      "Uber\n",
      "Flipkart\n",
      "UpGrad\n",
      "Tapchief\n",
      "UpGrad\n",
      "Bangalore\n",
      "UpGrad\n",
      "UpGrad\n",
      "UpGrad\n"
     ]
    }
   ],
   "source": [
    "for tt in response_entities[\"Entities\"]:\n",
    "    print(tt[\"Text\"])\n"
   ]
  },
  {
   "cell_type": "markdown",
   "metadata": {},
   "source": [
    "#### Question 3.\n",
    "\n",
    "Based on the results from sentiment analysis using Amazon Comprehened, select the most appropriate option. \n",
    "\n",
    "- The student has a very positive opinion about the couse.\n",
    "- The student doesn't feel that the course is worth.\n",
    "- The student suggests that some elements are really good in the course, but some of them are very bad.\n",
    "- The student feels that the course is neither good nor bad."
   ]
  },
  {
   "cell_type": "code",
   "execution_count": 27,
   "metadata": {},
   "outputs": [],
   "source": [
    "# Provide your code here\n",
    "response = client.detect_sentiment(\n",
    "    Text=review,\n",
    "    LanguageCode='en'\n",
    ")\n"
   ]
  },
  {
   "cell_type": "code",
   "execution_count": 28,
   "metadata": {},
   "outputs": [
    {
     "name": "stdout",
     "output_type": "stream",
     "text": [
      "{'Sentiment': 'NEUTRAL', 'SentimentScore': {'Positive': 0.32493674755096436, 'Negative': 0.0016977065242826939, 'Neutral': 0.6732372045516968, 'Mixed': 0.00012842653086408973}, 'ResponseMetadata': {'RequestId': '48fabe2c-8a56-4a0d-8e3f-4df73c668ac1', 'HTTPStatusCode': 200, 'HTTPHeaders': {'x-amzn-requestid': '48fabe2c-8a56-4a0d-8e3f-4df73c668ac1', 'content-type': 'application/x-amz-json-1.1', 'content-length': '165', 'date': 'Sat, 13 Feb 2021 15:43:21 GMT'}, 'RetryAttempts': 0}}\n"
     ]
    }
   ],
   "source": [
    "print(response)"
   ]
  },
  {
   "cell_type": "markdown",
   "metadata": {},
   "source": [
    "#### Question 4.\n",
    "\n",
    "Which key phrase in the most suitable one to describe the review? \n",
    "\n",
    "- Course\n",
    "- upGrad\n",
    "- Data Science\n",
    "- Education"
   ]
  },
  {
   "cell_type": "code",
   "execution_count": 29,
   "metadata": {},
   "outputs": [
    {
     "name": "stdout",
     "output_type": "stream",
     "text": [
      "{'KeyPhrases': [{'Score': 0.999992311000824, 'Text': 'my Post Graduate Diploma', 'BeginOffset': 35, 'EndOffset': 59}, {'Score': 0.999991774559021, 'Text': 'Data Science', 'BeginOffset': 63, 'EndOffset': 75}, {'Score': 0.9999852180480957, 'Text': 'IIIT Bangalore', 'BeginOffset': 81, 'EndOffset': 95}, {'Score': 0.9999929666519165, 'Text': 'collaboration', 'BeginOffset': 99, 'EndOffset': 112}, {'Score': 0.9999914169311523, 'Text': 'UpGrad', 'BeginOffset': 118, 'EndOffset': 124}, {'Score': 0.9999992847442627, 'Text': 'some light', 'BeginOffset': 158, 'EndOffset': 168}, {'Score': 1.0, 'Text': 'the program', 'BeginOffset': 172, 'EndOffset': 183}, {'Score': 0.9999998807907104, 'Text': 'an informed decision', 'BeginOffset': 205, 'EndOffset': 225}, {'Score': 0.9999994039535522, 'Text': 'programs', 'BeginOffset': 238, 'EndOffset': 246}, {'Score': 0.9999994039535522, 'Text': 'UpGrad', 'BeginOffset': 258, 'EndOffset': 264}, {'Score': 0.9999993443489075, 'Text': 'the course', 'BeginOffset': 285, 'EndOffset': 295}, {'Score': 0.9999986886978149, 'Text': 'UpGrad', 'BeginOffset': 301, 'EndOffset': 307}, {'Score': 0.9999958872795105, 'Text': 'a few courses', 'BeginOffset': 320, 'EndOffset': 333}, {'Score': 0.9999732971191406, 'Text': 'edX', 'BeginOffset': 339, 'EndOffset': 342}, {'Score': 0.868301272392273, 'Text': 'Coursera platforms', 'BeginOffset': 347, 'EndOffset': 365}, {'Score': 0.9999427199363708, 'Text': 'various Universities', 'BeginOffset': 376, 'EndOffset': 396}, {'Score': 0.9999991655349731, 'Text': 'the globe', 'BeginOffset': 404, 'EndOffset': 413}, {'Score': 0.8658382296562195, 'Text': 'online resources and study material', 'BeginOffset': 437, 'EndOffset': 472}, {'Score': 0.9999995231628418, 'Text': 'hopes', 'BeginOffset': 476, 'EndOffset': 481}, {'Score': 0.9999769926071167, 'Text': 'a career transition', 'BeginOffset': 492, 'EndOffset': 511}, {'Score': 0.9999902844429016, 'Text': 'Data Science', 'BeginOffset': 515, 'EndOffset': 527}, {'Score': 0.9999958872795105, 'Text': 'The fact', 'BeginOffset': 529, 'EndOffset': 537}, {'Score': 0.9999753832817078, 'Text': 'all the required resources', 'BeginOffset': 550, 'EndOffset': 576}, {'Score': 0.9999205470085144, 'Text': 'video material', 'BeginOffset': 602, 'EndOffset': 616}, {'Score': 0.9999999403953552, 'Text': 'the technology', 'BeginOffset': 630, 'EndOffset': 644}, {'Score': 0.9999947547912598, 'Text': 'data', 'BeginOffset': 646, 'EndOffset': 650}, {'Score': 0.9671196341514587, 'Text': 'coding', 'BeginOffset': 664, 'EndOffset': 670}, {'Score': 0.8303347826004028, 'Text': 'knowledge and other materials', 'BeginOffset': 671, 'EndOffset': 700}, {'Score': 0.9999930262565613, 'Text': 'the business domain', 'BeginOffset': 719, 'EndOffset': 738}, {'Score': 0.9999231696128845, 'Text': 'about 4 months', 'BeginOffset': 756, 'EndOffset': 770}, {'Score': 0.9999695420265198, 'Text': 'data science', 'BeginOffset': 790, 'EndOffset': 802}, {'Score': 0.9999887943267822, 'Text': 'this way', 'BeginOffset': 803, 'EndOffset': 811}, {'Score': 0.9999859929084778, 'Text': 'the hard way', 'BeginOffset': 813, 'EndOffset': 825}, {'Score': 0.999997079372406, 'Text': 'any headway', 'BeginOffset': 861, 'EndOffset': 872}, {'Score': 0.9999998211860657, 'Text': 'an industry', 'BeginOffset': 911, 'EndOffset': 922}, {'Score': 0.9999988079071045, 'Text': 'an IT discipline', 'BeginOffset': 936, 'EndOffset': 952}, {'Score': 0.9999977350234985, 'Text': 'a field', 'BeginOffset': 972, 'EndOffset': 979}, {'Score': 0.9406411647796631, 'Text': 'Mathematics, Coding', 'BeginOffset': 995, 'EndOffset': 1014}, {'Score': 0.9988654255867004, 'Text': 'all Business domain', 'BeginOffset': 1025, 'EndOffset': 1044}, {'Score': 0.9999999403953552, 'Text': 'the PGDDS course', 'BeginOffset': 1077, 'EndOffset': 1093}, {'Score': 0.9999988079071045, 'Text': 'UpGrad', 'BeginOffset': 1105, 'EndOffset': 1111}, {'Score': 0.9999995827674866, 'Text': 'a definite structure', 'BeginOffset': 1127, 'EndOffset': 1147}, {'Score': 0.9999987483024597, 'Text': 'the vast ocean', 'BeginOffset': 1151, 'EndOffset': 1165}, {'Score': 0.9999531507492065, 'Text': 'information', 'BeginOffset': 1169, 'EndOffset': 1180}, {'Score': 0.9999984502792358, 'Text': 'the Data Science Industry', 'BeginOffset': 1187, 'EndOffset': 1212}, {'Score': 0.9999998807907104, 'Text': 'the benefit', 'BeginOffset': 1239, 'EndOffset': 1250}, {'Score': 0.9999998211860657, 'Text': 'a structured program', 'BeginOffset': 1254, 'EndOffset': 1274}, {'Score': 0.999358594417572, 'Text': 'huge amounts', 'BeginOffset': 1307, 'EndOffset': 1319}, {'Score': 0.9996078610420227, 'Text': 'time', 'BeginOffset': 1323, 'EndOffset': 1327}, {'Score': 0.9999997019767761, 'Text': 'all the resources', 'BeginOffset': 1354, 'EndOffset': 1371}, {'Score': 0.9999845623970032, 'Text': 'some headway', 'BeginOffset': 1389, 'EndOffset': 1401}, {'Score': 0.999701738357544, 'Text': 'the effort', 'BeginOffset': 1427, 'EndOffset': 1437}, {'Score': 0.9999918937683105, 'Text': 'needles', 'BeginOffset': 1455, 'EndOffset': 1462}, {'Score': 0.9999987483024597, 'Text': 'a mammoth haystack', 'BeginOffset': 1466, 'EndOffset': 1484}, {'Score': 0.9999874830245972, 'Text': 'internet', 'BeginOffset': 1486, 'EndOffset': 1494}, {'Score': 1.0, 'Text': 'the program', 'BeginOffset': 1516, 'EndOffset': 1527}, {'Score': 0.9999996423721313, 'Text': '10 months', 'BeginOffset': 1549, 'EndOffset': 1558}, {'Score': 0.9999986886978149, 'Text': 'the 11 month program', 'BeginOffset': 1562, 'EndOffset': 1582}, {'Score': 0.9999836087226868, 'Text': 'the few benefits', 'BeginOffset': 1593, 'EndOffset': 1609}, {'Score': 0.9989802241325378, 'Text': '1', 'BeginOffset': 1623, 'EndOffset': 1624}, {'Score': 0.9999987483024597, 'Text': 'a certification course', 'BeginOffset': 1658, 'EndOffset': 1680}, {'Score': 0.9999719262123108, 'Text': 'a Post Graduate Diploma', 'BeginOffset': 1685, 'EndOffset': 1708}, {'Score': 0.9999861121177673, 'Text': 'an accredited University', 'BeginOffset': 1721, 'EndOffset': 1745}, {'Score': 0.9999998211860657, 'Text': 'a lot', 'BeginOffset': 1759, 'EndOffset': 1764}, {'Score': 0.9999992251396179, 'Text': 'any certification course', 'BeginOffset': 1779, 'EndOffset': 1803}, {'Score': 0.9999993443489075, 'Text': 'any company', 'BeginOffset': 1822, 'EndOffset': 1833}, {'Score': 0.9999907612800598, 'Text': 'a university degree', 'BeginOffset': 1853, 'EndOffset': 1872}, {'Score': 0.9999951124191284, 'Text': 'any online certification course', 'BeginOffset': 1878, 'EndOffset': 1909}, {'Score': 0.9974774718284607, 'Text': '2', 'BeginOffset': 1911, 'EndOffset': 1912}, {'Score': 0.9997969269752502, 'Text': 'Faculty', 'BeginOffset': 1914, 'EndOffset': 1921}, {'Score': 0.9999969005584717, 'Text': 'different modules', 'BeginOffset': 1932, 'EndOffset': 1949}, {'Score': 0.9999810457229614, 'Text': 'top notch', 'BeginOffset': 1954, 'EndOffset': 1963}, {'Score': 0.9999976754188538, 'Text': 'their fields', 'BeginOffset': 1967, 'EndOffset': 1979}, {'Score': 0.9886612892150879, 'Text': 'Doctorate or Master', 'BeginOffset': 1987, 'EndOffset': 2006}, {'Score': 0.9999762177467346, 'Text': '’s degree', 'BeginOffset': 2006, 'EndOffset': 2015}, {'Score': 0.9924357533454895, 'Text': 'Data Science', 'BeginOffset': 2032, 'EndOffset': 2044}, {'Score': 0.6111578345298767, 'Text': 'disciplinary', 'BeginOffset': 2054, 'EndOffset': 2066}, {'Score': 0.9999904632568359, 'Text': 'nature', 'BeginOffset': 2070, 'EndOffset': 2076}, {'Score': 0.9999973773956299, 'Text': 'faculties', 'BeginOffset': 2105, 'EndOffset': 2114}, {'Score': 0.9995868802070618, 'Text': 'experience', 'BeginOffset': 2120, 'EndOffset': 2130}, {'Score': 0.9999989867210388, 'Text': 'the relevant disciplines', 'BeginOffset': 2134, 'EndOffset': 2158}, {'Score': 0.805296003818512, 'Text': 'IIIT-B', 'BeginOffset': 2172, 'EndOffset': 2178}, {'Score': 0.9999979734420776, 'Text': 'collaboration', 'BeginOffset': 2182, 'EndOffset': 2195}, {'Score': 0.9999892711639404, 'Text': 'UpGrad', 'BeginOffset': 2201, 'EndOffset': 2207}, {'Score': 0.9999845027923584, 'Text': 'faculties', 'BeginOffset': 2220, 'EndOffset': 2229}, {'Score': 0.9999698996543884, 'Text': 'the right qualification', 'BeginOffset': 2235, 'EndOffset': 2258}, {'Score': 0.9999959468841553, 'Text': 'the different disciplines', 'BeginOffset': 2273, 'EndOffset': 2298}, {'Score': 0.9999918937683105, 'Text': '3', 'BeginOffset': 2300, 'EndOffset': 2301}, {'Score': 0.999962329864502, 'Text': 'UpGrad', 'BeginOffset': 2313, 'EndOffset': 2319}, {'Score': 0.9999293088912964, 'Text': 'industry professionals', 'BeginOffset': 2337, 'EndOffset': 2359}, {'Score': 0.9999992847442627, 'Text': 'companies', 'BeginOffset': 2371, 'EndOffset': 2380}, {'Score': 0.991653323173523, 'Text': 'Gramener, Uber, Flipkart etc.', 'BeginOffset': 2389, 'EndOffset': 2418}, {'Score': 0.9999995231628418, 'Text': 'the students', 'BeginOffset': 2430, 'EndOffset': 2442}, {'Score': 1.0, 'Text': 'a course', 'BeginOffset': 2448, 'EndOffset': 2456}, {'Score': 0.999987006187439, 'Text': 'the happenings', 'BeginOffset': 2489, 'EndOffset': 2503}, {'Score': 0.9999929666519165, 'Text': 'the current Data Science Industry', 'BeginOffset': 2507, 'EndOffset': 2540}, {'Score': 0.9999762177467346, 'Text': 'case studies', 'BeginOffset': 2568, 'EndOffset': 2580}, {'Score': 0.9999871253967285, 'Text': 'real time data', 'BeginOffset': 2587, 'EndOffset': 2601}, {'Score': 0.9998458623886108, 'Text': 'fabricated data', 'BeginOffset': 2617, 'EndOffset': 2632}, {'Score': 0.9998605251312256, 'Text': 'exposure', 'BeginOffset': 2652, 'EndOffset': 2660}, {'Score': 0.9999992847442627, 'Text': 'actual problems', 'BeginOffset': 2664, 'EndOffset': 2679}, {'Score': 0.9999999403953552, 'Text': 'the industry', 'BeginOffset': 2683, 'EndOffset': 2695}, {'Score': 0.9999985098838806, 'Text': 'Data Analytics', 'BeginOffset': 2715, 'EndOffset': 2729}, {'Score': 0.9999611377716064, 'Text': '4', 'BeginOffset': 2731, 'EndOffset': 2732}, {'Score': 0.9999572038650513, 'Text': 'UpGrad', 'BeginOffset': 2734, 'EndOffset': 2740}, {'Score': 0.9999989867210388, 'Text': 'a third party company', 'BeginOffset': 2766, 'EndOffset': 2787}, {'Score': 0.9999793767929077, 'Text': 'Tapchief', 'BeginOffset': 2797, 'EndOffset': 2805}, {'Score': 0.9999992847442627, 'Text': 'top professionals', 'BeginOffset': 2835, 'EndOffset': 2852}, {'Score': 0.999998152256012, 'Text': 'the industry', 'BeginOffset': 2856, 'EndOffset': 2868}, {'Score': 0.9999995827674866, 'Text': 'our career', 'BeginOffset': 2928, 'EndOffset': 2938}, {'Score': 0.9999998807907104, 'Text': 'the field', 'BeginOffset': 2942, 'EndOffset': 2951}, {'Score': 0.9999985098838806, 'Text': 'our educational qualification', 'BeginOffset': 2964, 'EndOffset': 2993}, {'Score': 0.9999886155128479, 'Text': 'past experiences', 'BeginOffset': 2995, 'EndOffset': 3011}, {'Score': 0.970647931098938, 'Text': 'our expectation or', 'BeginOffset': 3013, 'EndOffset': 3031}, {'Score': 0.5347374081611633, 'Text': 'goals', 'BeginOffset': 3032, 'EndOffset': 3037}, {'Score': 0.999835729598999, 'Text': 'age', 'BeginOffset': 3043, 'EndOffset': 3046}, {'Score': 0.9999995827674866, 'Text': 'our final Capstone Project', 'BeginOffset': 3080, 'EndOffset': 3106}, {'Score': 0.9999991059303284, 'Text': 'video chats', 'BeginOffset': 3115, 'EndOffset': 3126}, {'Score': 0.9999961256980896, 'Text': 'main benefit', 'BeginOffset': 3131, 'EndOffset': 3143}, {'Score': 0.9999996423721313, 'Text': 'terms', 'BeginOffset': 3170, 'EndOffset': 3175}, {'Score': 0.999991238117218, 'Text': 'realistic approaches', 'BeginOffset': 3179, 'EndOffset': 3199}, {'Score': 0.9999998211860657, 'Text': 'the problem', 'BeginOffset': 3203, 'EndOffset': 3214}, {'Score': 0.9992640614509583, 'Text': 'business insights', 'BeginOffset': 3229, 'EndOffset': 3246}, {'Score': 0.9998489022254944, 'Text': 'the given problems', 'BeginOffset': 3252, 'EndOffset': 3270}, {'Score': 0.9998743534088135, 'Text': '5', 'BeginOffset': 3272, 'EndOffset': 3273}, {'Score': 0.9913284778594971, 'Text': 'Biggest benefit', 'BeginOffset': 3275, 'EndOffset': 3290}, {'Score': 0.9998561143875122, 'Text': 'The biggest benefit', 'BeginOffset': 3306, 'EndOffset': 3325}, {'Score': 0.9987475275993347, 'Text': 'so many other students', 'BeginOffset': 3376, 'EndOffset': 3398}, {'Score': 0.9999969005584717, 'Text': 'industry professionals', 'BeginOffset': 3407, 'EndOffset': 3429}, {'Score': 0.999999463558197, 'Text': 'different stages', 'BeginOffset': 3433, 'EndOffset': 3449}, {'Score': 0.9999994039535522, 'Text': 'the course', 'BeginOffset': 3453, 'EndOffset': 3463}, {'Score': 0.9999939799308777, 'Text': 'Numerous opportunities', 'BeginOffset': 3465, 'EndOffset': 3487}, {'Score': 0.9999997019767761, 'Text': 'this diverse group', 'BeginOffset': 3515, 'EndOffset': 3533}, {'Score': 0.9999880790710449, 'Text': 'people', 'BeginOffset': 3537, 'EndOffset': 3543}, {'Score': 0.9999921321868896, 'Text': 'groups', 'BeginOffset': 3563, 'EndOffset': 3569}, {'Score': 0.9999892115592957, 'Text': 'numerous case studies', 'BeginOffset': 3573, 'EndOffset': 3594}, {'Score': 0.9996852874755859, 'Text': 'basecamps', 'BeginOffset': 3612, 'EndOffset': 3621}, {'Score': 0.9999973773956299, 'Text': 'UpGrad', 'BeginOffset': 3634, 'EndOffset': 3640}, {'Score': 0.9942067861557007, 'Text': 'lot', 'BeginOffset': 3645, 'EndOffset': 3648}, {'Score': 0.9999955296516418, 'Text': 'campus library', 'BeginOffset': 3670, 'EndOffset': 3684}, {'Score': 0.9999991655349731, 'Text': 'Bangalore', 'BeginOffset': 3701, 'EndOffset': 3710}, {'Score': 0.9965136647224426, 'Text': 'UpGrad', 'BeginOffset': 3712, 'EndOffset': 3718}, {'Score': 0.9999996423721313, 'Text': 'a concern', 'BeginOffset': 3739, 'EndOffset': 3748}, {'Score': 0.9999997615814209, 'Text': 'a problem', 'BeginOffset': 3752, 'EndOffset': 3761}, {'Score': 0.7485392093658447, 'Text': 'so many CEO', 'BeginOffset': 3787, 'EndOffset': 3798}, {'Score': 0.9996786713600159, 'Text': 'top IT organizations', 'BeginOffset': 3804, 'EndOffset': 3824}, {'Score': 0.8314128518104553, 'Text': 'EMPLOYABILITY', 'BeginOffset': 3826, 'EndOffset': 3839}, {'Score': 0.9999915957450867, 'Text': 'an academic institute', 'BeginOffset': 3885, 'EndOffset': 3906}, {'Score': 0.9999856352806091, 'Text': 'industry experts', 'BeginOffset': 3929, 'EndOffset': 3945}, {'Score': 0.9858208894729614, 'Text': 'the right tools', 'BeginOffset': 3957, 'EndOffset': 3972}, {'Score': 0.9999901056289673, 'Text': 'the market', 'BeginOffset': 3985, 'EndOffset': 3995}, {'Score': 0.9998942613601685, 'Text': 'the course fees', 'BeginOffset': 4010, 'EndOffset': 4025}, {'Score': 0.9999995827674866, 'Text': 'the upper side', 'BeginOffset': 4033, 'EndOffset': 4047}, {'Score': 0.9999878406524658, 'Text': 'many other online and offline courses', 'BeginOffset': 4060, 'EndOffset': 4097}, {'Score': 0.9999995827674866, 'Text': 'many platforms', 'BeginOffset': 4148, 'EndOffset': 4162}, {'Score': 0.9999998807907104, 'Text': 'a holistic package', 'BeginOffset': 4175, 'EndOffset': 4193}, {'Score': 1.0, 'Text': 'the one', 'BeginOffset': 4202, 'EndOffset': 4209}, {'Score': 0.9999995827674866, 'Text': '’s UpGrad', 'BeginOffset': 4209, 'EndOffset': 4218}, {'Score': 0.9999996423721313, 'Text': 'this review', 'BeginOffset': 4235, 'EndOffset': 4246}, {'Score': 1.0, 'Text': 'a course', 'BeginOffset': 4278, 'EndOffset': 4286}, {'Score': 0.9999991655349731, 'Text': 'UpGrad', 'BeginOffset': 4298, 'EndOffset': 4304}, {'Score': 0.9999998807907104, 'Text': 'the courses', 'BeginOffset': 4338, 'EndOffset': 4349}, {'Score': 0.9999995827674866, 'Text': 'serious business', 'BeginOffset': 4353, 'EndOffset': 4369}, {'Score': 0.9999995827674866, 'Text': 'serious time and effort', 'BeginOffset': 4387, 'EndOffset': 4410}, {'Score': 0.9999997615814209, 'Text': 'the candidates', 'BeginOffset': 4416, 'EndOffset': 4430}], 'ResponseMetadata': {'RequestId': '20bbe800-7ce0-40ee-991e-e2e440afb46b', 'HTTPStatusCode': 200, 'HTTPHeaders': {'x-amzn-requestid': '20bbe800-7ce0-40ee-991e-e2e440afb46b', 'content-type': 'application/x-amz-json-1.1', 'content-length': '14453', 'date': 'Sat, 13 Feb 2021 15:27:27 GMT'}, 'RetryAttempts': 0}}\n"
     ]
    }
   ],
   "source": [
    "# Provide your code here\n",
    "\n",
    "print(response2)"
   ]
  },
  {
   "cell_type": "code",
   "execution_count": 36,
   "metadata": {},
   "outputs": [
    {
     "name": "stdout",
     "output_type": "stream",
     "text": [
      "1.0 the program\n",
      "1.0 the program\n",
      "1.0 a course\n",
      "1.0 the one\n",
      "1.0 a course\n"
     ]
    }
   ],
   "source": [
    "for phrase in response2[\"KeyPhrases\"] :\n",
    "    if(phrase[\"Score\"]==1.0):\n",
    "        print(phrase[\"Score\"],phrase[\"Text\"])"
   ]
  },
  {
   "cell_type": "code",
   "execution_count": null,
   "metadata": {},
   "outputs": [],
   "source": []
  }
 ],
 "metadata": {
  "kernelspec": {
   "display_name": "Python 3",
   "language": "python",
   "name": "python3"
  },
  "language_info": {
   "codemirror_mode": {
    "name": "ipython",
    "version": 3
   },
   "file_extension": ".py",
   "mimetype": "text/x-python",
   "name": "python",
   "nbconvert_exporter": "python",
   "pygments_lexer": "ipython3",
   "version": "3.8.5"
  }
 },
 "nbformat": 4,
 "nbformat_minor": 2
}
