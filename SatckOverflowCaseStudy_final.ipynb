{
 "cells": [
  {
   "cell_type": "code",
   "execution_count": 1,
   "metadata": {
    "colab": {
     "base_uri": "https://localhost:8080/"
    },
    "id": "I4hInMw38dHz",
    "outputId": "0cc96d9f-e2af-492c-8d14-59953d70deec"
   },
   "outputs": [
    {
     "name": "stdout",
     "output_type": "stream",
     "text": [
      "Mounted at /content/gdrive\n"
     ]
    }
   ],
   "source": [
    "#mounting the GoogleDrive\n",
    "from google.colab import drive\n",
    "drive.mount('/content/gdrive')"
   ]
  },
  {
   "cell_type": "code",
   "execution_count": 1,
   "metadata": {
    "id": "L9umjA2UGI6c"
   },
   "outputs": [],
   "source": [
    "#Importing Necessary Libraries\n",
    "import pandas as pd\n",
    "import numpy as np\n",
    "import io\n",
    "import requests\n",
    "import matplotlib as mpl\n",
    "import matplotlib.pyplot as plt\n",
    "import random\n",
    "import os\n",
    "#from tqdm import tqdm_notebook\n",
    "from collections import Counter\n",
    "%matplotlib inline\n",
    "plt.rcParams['figure.figsize'] = (10.0, 10.0)"
   ]
  },
  {
   "cell_type": "code",
   "execution_count": 3,
   "metadata": {
    "id": "ydhbQDCt-M7t"
   },
   "outputs": [],
   "source": [
    "root_path = '/content/gdrive/MyDrive/Colab Notebooks/Copy of StackOverflowCS.ipynb'"
   ]
  },
  {
   "cell_type": "code",
   "execution_count": 4,
   "metadata": {
    "colab": {
     "base_uri": "https://localhost:8080/"
    },
    "id": "ryDUZWqf9COK",
    "outputId": "dec74952-8fda-4cd0-b276-39d9ca7f03ee"
   },
   "outputs": [
    {
     "name": "stdout",
     "output_type": "stream",
     "text": [
      "--2021-02-23 03:13:34--  https://stack-overflow-casestudy-datasets.s3.amazonaws.com/Questions.csv\n",
      "Resolving stack-overflow-casestudy-datasets.s3.amazonaws.com (stack-overflow-casestudy-datasets.s3.amazonaws.com)... 52.216.112.219\n",
      "Connecting to stack-overflow-casestudy-datasets.s3.amazonaws.com (stack-overflow-casestudy-datasets.s3.amazonaws.com)|52.216.112.219|:443... connected.\n",
      "HTTP request sent, awaiting response... 200 OK\n",
      "Length: 1923682009 (1.8G) [text/csv]\n",
      "Saving to: ‘/content/gdrive/MyDrive/Colab Notebooks/Copy of StackOverflowCS.ipynb/Questions.csv’\n",
      "\n",
      "Questions.csv       100%[===================>]   1.79G  47.7MB/s    in 34s     \n",
      "\n",
      "2021-02-23 03:14:09 (53.4 MB/s) - ‘/content/gdrive/MyDrive/Colab Notebooks/Copy of StackOverflowCS.ipynb/Questions.csv’ saved [1923682009/1923682009]\n",
      "\n"
     ]
    }
   ],
   "source": [
    "!wget https://stack-overflow-casestudy-datasets.s3.amazonaws.com/Questions.csv -P '/content/gdrive/MyDrive/Colab Notebooks/Copy of StackOverflowCS.ipynb'"
   ]
  },
  {
   "cell_type": "code",
   "execution_count": 6,
   "metadata": {
    "id": "T45g_Waf8wZy"
   },
   "outputs": [],
   "source": [
    "qdf = pd.read_csv(os.path.join(root_path, 'Questions.csv'),encoding='latin-1')"
   ]
  },
  {
   "cell_type": "code",
   "execution_count": 7,
   "metadata": {
    "colab": {
     "base_uri": "https://localhost:8080/"
    },
    "id": "RJoqkO8bFAdV",
    "outputId": "eba41541-31da-4cae-d7c8-4f75717fe078"
   },
   "outputs": [
    {
     "name": "stdout",
     "output_type": "stream",
     "text": [
      "--2021-02-23 03:15:30--  https://stack-overflow-casestudy-datasets.s3.amazonaws.com/Answers.csv\n",
      "Resolving stack-overflow-casestudy-datasets.s3.amazonaws.com (stack-overflow-casestudy-datasets.s3.amazonaws.com)... 52.216.146.123\n",
      "Connecting to stack-overflow-casestudy-datasets.s3.amazonaws.com (stack-overflow-casestudy-datasets.s3.amazonaws.com)|52.216.146.123|:443... connected.\n",
      "HTTP request sent, awaiting response... 200 OK\n",
      "Length: 1607914819 (1.5G) [text/csv]\n",
      "Saving to: ‘/content/gdrive/MyDrive/Colab Notebooks/Copy of StackOverflowCS.ipynb/Answers.csv’\n",
      "\n",
      "Answers.csv         100%[===================>]   1.50G  52.0MB/s    in 30s     \n",
      "\n",
      "2021-02-23 03:16:00 (51.2 MB/s) - ‘/content/gdrive/MyDrive/Colab Notebooks/Copy of StackOverflowCS.ipynb/Answers.csv’ saved [1607914819/1607914819]\n",
      "\n",
      "--2021-02-23 03:16:00--  https://stack-overflow-casestudy-datasets.s3.amazonaws.com/Tags.csv\n",
      "Resolving stack-overflow-casestudy-datasets.s3.amazonaws.com (stack-overflow-casestudy-datasets.s3.amazonaws.com)... 52.216.100.11\n",
      "Connecting to stack-overflow-casestudy-datasets.s3.amazonaws.com (stack-overflow-casestudy-datasets.s3.amazonaws.com)|52.216.100.11|:443... connected.\n",
      "HTTP request sent, awaiting response... 200 OK\n",
      "Length: 65475836 (62M) [text/csv]\n",
      "Saving to: ‘/content/gdrive/MyDrive/Colab Notebooks/Copy of StackOverflowCS.ipynb/Tags.csv.1’\n",
      "\n",
      "Tags.csv.1          100%[===================>]  62.44M  49.6MB/s    in 1.3s    \n",
      "\n",
      "2021-02-23 03:16:02 (49.6 MB/s) - ‘/content/gdrive/MyDrive/Colab Notebooks/Copy of StackOverflowCS.ipynb/Tags.csv.1’ saved [65475836/65475836]\n",
      "\n",
      "--2021-02-23 03:16:02--  https://stack-overflow-casestudy-datasets.s3.amazonaws.com/Users.csv\n",
      "Resolving stack-overflow-casestudy-datasets.s3.amazonaws.com (stack-overflow-casestudy-datasets.s3.amazonaws.com)... 52.216.230.243\n",
      "Connecting to stack-overflow-casestudy-datasets.s3.amazonaws.com (stack-overflow-casestudy-datasets.s3.amazonaws.com)|52.216.230.243|:443... connected.\n",
      "HTTP request sent, awaiting response... 200 OK\n",
      "Length: 192798009 (184M) [text/csv]\n",
      "Saving to: ‘/content/gdrive/MyDrive/Colab Notebooks/Copy of StackOverflowCS.ipynb/Users.csv.1’\n",
      "\n",
      "Users.csv.1         100%[===================>] 183.87M  53.7MB/s    in 3.5s    \n",
      "\n",
      "2021-02-23 03:16:06 (52.2 MB/s) - ‘/content/gdrive/MyDrive/Colab Notebooks/Copy of StackOverflowCS.ipynb/Users.csv.1’ saved [192798009/192798009]\n",
      "\n"
     ]
    }
   ],
   "source": [
    "!wget https://stack-overflow-casestudy-datasets.s3.amazonaws.com/Answers.csv -P '/content/gdrive/MyDrive/Colab Notebooks/Copy of StackOverflowCS.ipynb'\n",
    "!wget https://stack-overflow-casestudy-datasets.s3.amazonaws.com/Tags.csv -P '/content/gdrive/MyDrive/Colab Notebooks/Copy of StackOverflowCS.ipynb'\n",
    "!wget https://stack-overflow-casestudy-datasets.s3.amazonaws.com/Users.csv -P '/content/gdrive/MyDrive/Colab Notebooks/Copy of StackOverflowCS.ipynb'"
   ]
  },
  {
   "cell_type": "code",
   "execution_count": 8,
   "metadata": {
    "id": "X5p7UoJgF8Ye"
   },
   "outputs": [],
   "source": [
    "ansdf = pd.read_csv(os.path.join(root_path, 'Answers.csv'),encoding='latin-1')\n",
    "tagsdf=pd.read_csv(os.path.join(root_path, 'Tags.csv'),encoding='latin-1')\n",
    "usersdf=pd.read_csv(os.path.join(root_path, 'Users.csv'),encoding='latin-1')"
   ]
  },
  {
   "cell_type": "code",
   "execution_count": 2,
   "metadata": {
    "id": "c652XP0QGWt4"
   },
   "outputs": [],
   "source": [
    "#Loading the Datasets Directly from S3\n",
    "question_file = 'https://stack-overflow-casestudy-datasets.s3.amazonaws.com/Questions.csv'        \n",
    "qdf = pd.read_csv(question_file,encoding='latin-1')\n",
    "answers_file='https://stack-overflow-casestudy-datasets.s3.amazonaws.com/Answers.csv'\n",
    "ansdf=pd.read_csv(answers_file,encoding='latin-1')\n",
    "tags_file=\"https://stack-overflow-casestudy-datasets.s3.amazonaws.com/Tags.csv\"\n",
    "tagsdf=pd.read_csv(tags_file,encoding='latin-1')\n",
    "users_file=\"https://stack-overflow-casestudy-datasets.s3.amazonaws.com/Users.csv\"\n",
    "usersdf=pd.read_csv(users_file,encoding='latin-1')"
   ]
  },
  {
   "cell_type": "code",
   "execution_count": 3,
   "metadata": {
    "colab": {
     "base_uri": "https://localhost:8080/",
     "height": 112
    },
    "id": "a_OHq0XiSmOB",
    "outputId": "4bf953e1-a9ae-435e-8d0f-56bad5f89314"
   },
   "outputs": [
    {
     "data": {
      "text/html": [
       "<div>\n",
       "<style scoped>\n",
       "    .dataframe tbody tr th:only-of-type {\n",
       "        vertical-align: middle;\n",
       "    }\n",
       "\n",
       "    .dataframe tbody tr th {\n",
       "        vertical-align: top;\n",
       "    }\n",
       "\n",
       "    .dataframe thead th {\n",
       "        text-align: right;\n",
       "    }\n",
       "</style>\n",
       "<table border=\"1\" class=\"dataframe\">\n",
       "  <thead>\n",
       "    <tr style=\"text-align: right;\">\n",
       "      <th></th>\n",
       "      <th>Id</th>\n",
       "      <th>OwnerUserId</th>\n",
       "      <th>CreationDate</th>\n",
       "      <th>ClosedDate</th>\n",
       "      <th>Score</th>\n",
       "      <th>Title</th>\n",
       "      <th>Body</th>\n",
       "    </tr>\n",
       "  </thead>\n",
       "  <tbody>\n",
       "    <tr>\n",
       "      <th>0</th>\n",
       "      <td>80</td>\n",
       "      <td>26.0</td>\n",
       "      <td>2008-08-01T13:57:07Z</td>\n",
       "      <td>NaN</td>\n",
       "      <td>26</td>\n",
       "      <td>SQLStatement.execute() - multiple queries in o...</td>\n",
       "      <td>&lt;p&gt;I've written a database generation script i...</td>\n",
       "    </tr>\n",
       "    <tr>\n",
       "      <th>1</th>\n",
       "      <td>90</td>\n",
       "      <td>58.0</td>\n",
       "      <td>2008-08-01T14:41:24Z</td>\n",
       "      <td>2012-12-26T03:45:49Z</td>\n",
       "      <td>144</td>\n",
       "      <td>Good branching and merging tutorials for Torto...</td>\n",
       "      <td>&lt;p&gt;Are there any really good tutorials explain...</td>\n",
       "    </tr>\n",
       "  </tbody>\n",
       "</table>\n",
       "</div>"
      ],
      "text/plain": [
       "   Id  OwnerUserId          CreationDate            ClosedDate  Score  \\\n",
       "0  80         26.0  2008-08-01T13:57:07Z                   NaN     26   \n",
       "1  90         58.0  2008-08-01T14:41:24Z  2012-12-26T03:45:49Z    144   \n",
       "\n",
       "                                               Title  \\\n",
       "0  SQLStatement.execute() - multiple queries in o...   \n",
       "1  Good branching and merging tutorials for Torto...   \n",
       "\n",
       "                                                Body  \n",
       "0  <p>I've written a database generation script i...  \n",
       "1  <p>Are there any really good tutorials explain...  "
      ]
     },
     "execution_count": 3,
     "metadata": {},
     "output_type": "execute_result"
    }
   ],
   "source": [
    "qdf.head(2)"
   ]
  },
  {
   "cell_type": "code",
   "execution_count": 4,
   "metadata": {
    "colab": {
     "base_uri": "https://localhost:8080/",
     "height": 112
    },
    "id": "wsT0ixxmSsyD",
    "outputId": "d05a460e-3137-4732-bff4-eedf13962b53"
   },
   "outputs": [
    {
     "data": {
      "text/html": [
       "<div>\n",
       "<style scoped>\n",
       "    .dataframe tbody tr th:only-of-type {\n",
       "        vertical-align: middle;\n",
       "    }\n",
       "\n",
       "    .dataframe tbody tr th {\n",
       "        vertical-align: top;\n",
       "    }\n",
       "\n",
       "    .dataframe thead th {\n",
       "        text-align: right;\n",
       "    }\n",
       "</style>\n",
       "<table border=\"1\" class=\"dataframe\">\n",
       "  <thead>\n",
       "    <tr style=\"text-align: right;\">\n",
       "      <th></th>\n",
       "      <th>Id</th>\n",
       "      <th>Tag</th>\n",
       "    </tr>\n",
       "  </thead>\n",
       "  <tbody>\n",
       "    <tr>\n",
       "      <th>0</th>\n",
       "      <td>80</td>\n",
       "      <td>flex</td>\n",
       "    </tr>\n",
       "    <tr>\n",
       "      <th>1</th>\n",
       "      <td>80</td>\n",
       "      <td>actionscript-3</td>\n",
       "    </tr>\n",
       "  </tbody>\n",
       "</table>\n",
       "</div>"
      ],
      "text/plain": [
       "   Id             Tag\n",
       "0  80            flex\n",
       "1  80  actionscript-3"
      ]
     },
     "execution_count": 4,
     "metadata": {},
     "output_type": "execute_result"
    }
   ],
   "source": [
    "tagsdf.head(2)"
   ]
  },
  {
   "cell_type": "code",
   "execution_count": 5,
   "metadata": {
    "colab": {
     "base_uri": "https://localhost:8080/",
     "height": 112
    },
    "id": "gGIFgMq_TGwl",
    "outputId": "98a0bc45-cac2-4b4f-b14d-5f23b403338a"
   },
   "outputs": [
    {
     "data": {
      "text/html": [
       "<div>\n",
       "<style scoped>\n",
       "    .dataframe tbody tr th:only-of-type {\n",
       "        vertical-align: middle;\n",
       "    }\n",
       "\n",
       "    .dataframe tbody tr th {\n",
       "        vertical-align: top;\n",
       "    }\n",
       "\n",
       "    .dataframe thead th {\n",
       "        text-align: right;\n",
       "    }\n",
       "</style>\n",
       "<table border=\"1\" class=\"dataframe\">\n",
       "  <thead>\n",
       "    <tr style=\"text-align: right;\">\n",
       "      <th></th>\n",
       "      <th>Id</th>\n",
       "      <th>OwnerUserId</th>\n",
       "      <th>CreationDate</th>\n",
       "      <th>ParentId</th>\n",
       "      <th>Score</th>\n",
       "      <th>Body</th>\n",
       "    </tr>\n",
       "  </thead>\n",
       "  <tbody>\n",
       "    <tr>\n",
       "      <th>0</th>\n",
       "      <td>92</td>\n",
       "      <td>61.0</td>\n",
       "      <td>2008-08-01T14:45:37Z</td>\n",
       "      <td>90</td>\n",
       "      <td>13</td>\n",
       "      <td>&lt;p&gt;&lt;a href=\"http://svnbook.red-bean.com/\"&gt;Vers...</td>\n",
       "    </tr>\n",
       "    <tr>\n",
       "      <th>1</th>\n",
       "      <td>124</td>\n",
       "      <td>26.0</td>\n",
       "      <td>2008-08-01T16:09:47Z</td>\n",
       "      <td>80</td>\n",
       "      <td>12</td>\n",
       "      <td>&lt;p&gt;I wound up using this. It is a kind of a ha...</td>\n",
       "    </tr>\n",
       "  </tbody>\n",
       "</table>\n",
       "</div>"
      ],
      "text/plain": [
       "    Id  OwnerUserId          CreationDate  ParentId  Score  \\\n",
       "0   92         61.0  2008-08-01T14:45:37Z        90     13   \n",
       "1  124         26.0  2008-08-01T16:09:47Z        80     12   \n",
       "\n",
       "                                                Body  \n",
       "0  <p><a href=\"http://svnbook.red-bean.com/\">Vers...  \n",
       "1  <p>I wound up using this. It is a kind of a ha...  "
      ]
     },
     "execution_count": 5,
     "metadata": {},
     "output_type": "execute_result"
    }
   ],
   "source": [
    "ansdf.head(2)"
   ]
  },
  {
   "cell_type": "code",
   "execution_count": 6,
   "metadata": {
    "colab": {
     "base_uri": "https://localhost:8080/",
     "height": 112
    },
    "id": "Hn0BuH58TKBz",
    "outputId": "75d68ecc-95ba-4549-8f0e-650e5a904a33"
   },
   "outputs": [
    {
     "data": {
      "text/html": [
       "<div>\n",
       "<style scoped>\n",
       "    .dataframe tbody tr th:only-of-type {\n",
       "        vertical-align: middle;\n",
       "    }\n",
       "\n",
       "    .dataframe tbody tr th {\n",
       "        vertical-align: top;\n",
       "    }\n",
       "\n",
       "    .dataframe thead th {\n",
       "        text-align: right;\n",
       "    }\n",
       "</style>\n",
       "<table border=\"1\" class=\"dataframe\">\n",
       "  <thead>\n",
       "    <tr style=\"text-align: right;\">\n",
       "      <th></th>\n",
       "      <th>Unnamed: 0</th>\n",
       "      <th>id</th>\n",
       "      <th>display_name</th>\n",
       "      <th>creation_date</th>\n",
       "      <th>last_access_date</th>\n",
       "      <th>reputation</th>\n",
       "      <th>up_votes</th>\n",
       "      <th>down_votes</th>\n",
       "      <th>views</th>\n",
       "    </tr>\n",
       "  </thead>\n",
       "  <tbody>\n",
       "    <tr>\n",
       "      <th>0</th>\n",
       "      <td>0</td>\n",
       "      <td>26</td>\n",
       "      <td>Shawn</td>\n",
       "      <td>2008-08-01 12:18:14.52 UTC</td>\n",
       "      <td>2018-04-11 04:40:35.66 UTC</td>\n",
       "      <td>11820</td>\n",
       "      <td>565</td>\n",
       "      <td>67</td>\n",
       "      <td>3547</td>\n",
       "    </tr>\n",
       "    <tr>\n",
       "      <th>1</th>\n",
       "      <td>1</td>\n",
       "      <td>26</td>\n",
       "      <td>Shawn</td>\n",
       "      <td>2008-08-01 12:18:14.52 UTC</td>\n",
       "      <td>2018-04-11 04:40:35.66 UTC</td>\n",
       "      <td>11820</td>\n",
       "      <td>565</td>\n",
       "      <td>67</td>\n",
       "      <td>3547</td>\n",
       "    </tr>\n",
       "  </tbody>\n",
       "</table>\n",
       "</div>"
      ],
      "text/plain": [
       "   Unnamed: 0  id display_name               creation_date  \\\n",
       "0           0  26        Shawn  2008-08-01 12:18:14.52 UTC   \n",
       "1           1  26        Shawn  2008-08-01 12:18:14.52 UTC   \n",
       "\n",
       "             last_access_date  reputation  up_votes  down_votes  views  \n",
       "0  2018-04-11 04:40:35.66 UTC       11820       565          67   3547  \n",
       "1  2018-04-11 04:40:35.66 UTC       11820       565          67   3547  "
      ]
     },
     "execution_count": 6,
     "metadata": {},
     "output_type": "execute_result"
    }
   ],
   "source": [
    "usersdf.head(2)"
   ]
  },
  {
   "cell_type": "markdown",
   "metadata": {
    "id": "co2a0Q22TPze"
   },
   "source": [
    "**Data Cleaning**\n",
    "Removing Null Columns and Rows \n",
    "Removing unwanted Columns in the Dataset"
   ]
  },
  {
   "cell_type": "code",
   "execution_count": 7,
   "metadata": {
    "colab": {
     "base_uri": "https://localhost:8080/"
    },
    "id": "Ge8B7Z3bTOwO",
    "outputId": "73ec0be7-4b2e-4d4b-f9b2-dc87462d6417"
   },
   "outputs": [
    {
     "data": {
      "text/plain": [
       "Id                    0\n",
       "OwnerUserId       14454\n",
       "CreationDate          0\n",
       "ClosedDate      1208257\n",
       "Score                 0\n",
       "Title                 0\n",
       "Body                  0\n",
       "dtype: int64"
      ]
     },
     "execution_count": 7,
     "metadata": {},
     "output_type": "execute_result"
    }
   ],
   "source": [
    "qdf.isnull().sum()"
   ]
  },
  {
   "cell_type": "code",
   "execution_count": 8,
   "metadata": {
    "colab": {
     "base_uri": "https://localhost:8080/"
    },
    "id": "RtwBZrwCTmZV",
    "outputId": "ac485c70-1950-49b1-e0ec-f5f5a4f9e13e"
   },
   "outputs": [
    {
     "data": {
      "text/plain": [
       "95.57362033070298"
      ]
     },
     "execution_count": 8,
     "metadata": {},
     "output_type": "execute_result"
    }
   ],
   "source": [
    "#Calculating the missing value in Closed Date\n",
    "100.0*(qdf.ClosedDate.isnull().sum())/len(qdf)"
   ]
  },
  {
   "cell_type": "markdown",
   "metadata": {
    "id": "XWJP8SttT1wI"
   },
   "source": [
    "**95 % **of closed date is missing so we can drop Closed Date column"
   ]
  },
  {
   "cell_type": "code",
   "execution_count": 9,
   "metadata": {
    "id": "cfwENuzzT6Bw"
   },
   "outputs": [],
   "source": [
    "#Dropping Body column as it is not needed for the Analysis\n",
    "qdf.drop(columns=[\"ClosedDate\",\"Body\"],axis=1,inplace=True)"
   ]
  },
  {
   "cell_type": "code",
   "execution_count": 10,
   "metadata": {
    "colab": {
     "base_uri": "https://localhost:8080/",
     "height": 112
    },
    "id": "BGZVarGFURYF",
    "outputId": "26c2bebd-1a4e-4ae0-905f-5f6e8bb0f927"
   },
   "outputs": [
    {
     "data": {
      "text/html": [
       "<div>\n",
       "<style scoped>\n",
       "    .dataframe tbody tr th:only-of-type {\n",
       "        vertical-align: middle;\n",
       "    }\n",
       "\n",
       "    .dataframe tbody tr th {\n",
       "        vertical-align: top;\n",
       "    }\n",
       "\n",
       "    .dataframe thead th {\n",
       "        text-align: right;\n",
       "    }\n",
       "</style>\n",
       "<table border=\"1\" class=\"dataframe\">\n",
       "  <thead>\n",
       "    <tr style=\"text-align: right;\">\n",
       "      <th></th>\n",
       "      <th>Id</th>\n",
       "      <th>OwnerUserId</th>\n",
       "      <th>CreationDate</th>\n",
       "      <th>Score</th>\n",
       "      <th>Title</th>\n",
       "    </tr>\n",
       "  </thead>\n",
       "  <tbody>\n",
       "    <tr>\n",
       "      <th>0</th>\n",
       "      <td>80</td>\n",
       "      <td>26.0</td>\n",
       "      <td>2008-08-01T13:57:07Z</td>\n",
       "      <td>26</td>\n",
       "      <td>SQLStatement.execute() - multiple queries in o...</td>\n",
       "    </tr>\n",
       "    <tr>\n",
       "      <th>1</th>\n",
       "      <td>90</td>\n",
       "      <td>58.0</td>\n",
       "      <td>2008-08-01T14:41:24Z</td>\n",
       "      <td>144</td>\n",
       "      <td>Good branching and merging tutorials for Torto...</td>\n",
       "    </tr>\n",
       "  </tbody>\n",
       "</table>\n",
       "</div>"
      ],
      "text/plain": [
       "   Id  OwnerUserId          CreationDate  Score  \\\n",
       "0  80         26.0  2008-08-01T13:57:07Z     26   \n",
       "1  90         58.0  2008-08-01T14:41:24Z    144   \n",
       "\n",
       "                                               Title  \n",
       "0  SQLStatement.execute() - multiple queries in o...  \n",
       "1  Good branching and merging tutorials for Torto...  "
      ]
     },
     "execution_count": 10,
     "metadata": {},
     "output_type": "execute_result"
    }
   ],
   "source": [
    "qdf.head(2)"
   ]
  },
  {
   "cell_type": "code",
   "execution_count": 11,
   "metadata": {
    "colab": {
     "base_uri": "https://localhost:8080/"
    },
    "id": "PEnfqZj_VIWz",
    "outputId": "85210a9a-56fb-4d05-d624-32fd21b910ae"
   },
   "outputs": [
    {
     "data": {
      "text/plain": [
       "Id                  0\n",
       "OwnerUserId     13200\n",
       "CreationDate        0\n",
       "ParentId            0\n",
       "Score               0\n",
       "Body                0\n",
       "dtype: int64"
      ]
     },
     "execution_count": 11,
     "metadata": {},
     "output_type": "execute_result"
    }
   ],
   "source": [
    "ansdf.isnull().sum()"
   ]
  },
  {
   "cell_type": "code",
   "execution_count": 12,
   "metadata": {
    "id": "QmBr4oNiVYHq"
   },
   "outputs": [],
   "source": [
    "missing_ownerid_ansdf=100.0*(ansdf.OwnerUserId.isnull().sum())/len(ansdf)"
   ]
  },
  {
   "cell_type": "code",
   "execution_count": 13,
   "metadata": {
    "colab": {
     "base_uri": "https://localhost:8080/"
    },
    "id": "BC513LotVrqY",
    "outputId": "a35e9f9d-5c13-4c83-9094-dfe1ba02c16b"
   },
   "outputs": [
    {
     "name": "stdout",
     "output_type": "stream",
     "text": [
      "Missing Percentage of OwnerUserID Column is :  0.6552442373254915\n"
     ]
    }
   ],
   "source": [
    "print('Missing Percentage of OwnerUserID Column is : ', missing_ownerid_ansdf)"
   ]
  },
  {
   "cell_type": "code",
   "execution_count": 14,
   "metadata": {
    "id": "PdnPCt0vV9sj"
   },
   "outputs": [],
   "source": [
    "#Dropping Rows in answer where owneruserid is null\n",
    "ansdf=ansdf[~ansdf[\"OwnerUserId\"].isnull()]"
   ]
  },
  {
   "cell_type": "code",
   "execution_count": 15,
   "metadata": {
    "colab": {
     "base_uri": "https://localhost:8080/"
    },
    "id": "PkEVnwunWIyP",
    "outputId": "e0b0ab56-fc06-4a2e-b310-cc2ca949e4e8"
   },
   "outputs": [
    {
     "data": {
      "text/plain": [
       "0"
      ]
     },
     "execution_count": 15,
     "metadata": {},
     "output_type": "execute_result"
    }
   ],
   "source": [
    "ansdf.OwnerUserId.isnull().sum()"
   ]
  },
  {
   "cell_type": "code",
   "execution_count": 16,
   "metadata": {
    "id": "plhRaG6UWTPj"
   },
   "outputs": [],
   "source": [
    "#Dropping Body Column in the Answer Dataset\n",
    "ansdf.drop(columns=\"Body\",axis=1,inplace=True)\n"
   ]
  },
  {
   "cell_type": "code",
   "execution_count": 17,
   "metadata": {
    "colab": {
     "base_uri": "https://localhost:8080/",
     "height": 112
    },
    "id": "FVYwBwb0WoSb",
    "outputId": "1519492f-6bfb-441a-b871-82dbfdd668b5"
   },
   "outputs": [
    {
     "data": {
      "text/html": [
       "<div>\n",
       "<style scoped>\n",
       "    .dataframe tbody tr th:only-of-type {\n",
       "        vertical-align: middle;\n",
       "    }\n",
       "\n",
       "    .dataframe tbody tr th {\n",
       "        vertical-align: top;\n",
       "    }\n",
       "\n",
       "    .dataframe thead th {\n",
       "        text-align: right;\n",
       "    }\n",
       "</style>\n",
       "<table border=\"1\" class=\"dataframe\">\n",
       "  <thead>\n",
       "    <tr style=\"text-align: right;\">\n",
       "      <th></th>\n",
       "      <th>Id</th>\n",
       "      <th>OwnerUserId</th>\n",
       "      <th>CreationDate</th>\n",
       "      <th>ParentId</th>\n",
       "      <th>Score</th>\n",
       "    </tr>\n",
       "  </thead>\n",
       "  <tbody>\n",
       "    <tr>\n",
       "      <th>0</th>\n",
       "      <td>92</td>\n",
       "      <td>61.0</td>\n",
       "      <td>2008-08-01T14:45:37Z</td>\n",
       "      <td>90</td>\n",
       "      <td>13</td>\n",
       "    </tr>\n",
       "    <tr>\n",
       "      <th>1</th>\n",
       "      <td>124</td>\n",
       "      <td>26.0</td>\n",
       "      <td>2008-08-01T16:09:47Z</td>\n",
       "      <td>80</td>\n",
       "      <td>12</td>\n",
       "    </tr>\n",
       "  </tbody>\n",
       "</table>\n",
       "</div>"
      ],
      "text/plain": [
       "    Id  OwnerUserId          CreationDate  ParentId  Score\n",
       "0   92         61.0  2008-08-01T14:45:37Z        90     13\n",
       "1  124         26.0  2008-08-01T16:09:47Z        80     12"
      ]
     },
     "execution_count": 17,
     "metadata": {},
     "output_type": "execute_result"
    }
   ],
   "source": [
    "ansdf.head(2)"
   ]
  },
  {
   "cell_type": "code",
   "execution_count": 18,
   "metadata": {
    "colab": {
     "base_uri": "https://localhost:8080/",
     "height": 112
    },
    "id": "56-S9MOjWyI0",
    "outputId": "ccae7868-a2bb-4d8e-b022-8b2212c0edaf"
   },
   "outputs": [
    {
     "data": {
      "text/html": [
       "<div>\n",
       "<style scoped>\n",
       "    .dataframe tbody tr th:only-of-type {\n",
       "        vertical-align: middle;\n",
       "    }\n",
       "\n",
       "    .dataframe tbody tr th {\n",
       "        vertical-align: top;\n",
       "    }\n",
       "\n",
       "    .dataframe thead th {\n",
       "        text-align: right;\n",
       "    }\n",
       "</style>\n",
       "<table border=\"1\" class=\"dataframe\">\n",
       "  <thead>\n",
       "    <tr style=\"text-align: right;\">\n",
       "      <th></th>\n",
       "      <th>id</th>\n",
       "      <th>display_name</th>\n",
       "      <th>creation_date</th>\n",
       "      <th>last_access_date</th>\n",
       "      <th>reputation</th>\n",
       "      <th>up_votes</th>\n",
       "      <th>down_votes</th>\n",
       "      <th>views</th>\n",
       "    </tr>\n",
       "  </thead>\n",
       "  <tbody>\n",
       "    <tr>\n",
       "      <th>0</th>\n",
       "      <td>26</td>\n",
       "      <td>Shawn</td>\n",
       "      <td>2008-08-01 12:18:14.52 UTC</td>\n",
       "      <td>2018-04-11 04:40:35.66 UTC</td>\n",
       "      <td>11820</td>\n",
       "      <td>565</td>\n",
       "      <td>67</td>\n",
       "      <td>3547</td>\n",
       "    </tr>\n",
       "    <tr>\n",
       "      <th>1</th>\n",
       "      <td>26</td>\n",
       "      <td>Shawn</td>\n",
       "      <td>2008-08-01 12:18:14.52 UTC</td>\n",
       "      <td>2018-04-11 04:40:35.66 UTC</td>\n",
       "      <td>11820</td>\n",
       "      <td>565</td>\n",
       "      <td>67</td>\n",
       "      <td>3547</td>\n",
       "    </tr>\n",
       "  </tbody>\n",
       "</table>\n",
       "</div>"
      ],
      "text/plain": [
       "   id display_name               creation_date            last_access_date  \\\n",
       "0  26        Shawn  2008-08-01 12:18:14.52 UTC  2018-04-11 04:40:35.66 UTC   \n",
       "1  26        Shawn  2008-08-01 12:18:14.52 UTC  2018-04-11 04:40:35.66 UTC   \n",
       "\n",
       "   reputation  up_votes  down_votes  views  \n",
       "0       11820       565          67   3547  \n",
       "1       11820       565          67   3547  "
      ]
     },
     "execution_count": 18,
     "metadata": {},
     "output_type": "execute_result"
    }
   ],
   "source": [
    "#Dropping the unnamed column in users dataset\n",
    "usersdf.drop(columns=\"Unnamed: 0\",axis=1,inplace=True)\n",
    "usersdf.head(2)"
   ]
  },
  {
   "cell_type": "code",
   "execution_count": 19,
   "metadata": {
    "colab": {
     "base_uri": "https://localhost:8080/",
     "height": 112
    },
    "id": "ty6PXRDQXCLy",
    "outputId": "b79e7a97-f7d6-45b3-ef41-cf416bf3344b"
   },
   "outputs": [
    {
     "data": {
      "text/html": [
       "<div>\n",
       "<style scoped>\n",
       "    .dataframe tbody tr th:only-of-type {\n",
       "        vertical-align: middle;\n",
       "    }\n",
       "\n",
       "    .dataframe tbody tr th {\n",
       "        vertical-align: top;\n",
       "    }\n",
       "\n",
       "    .dataframe thead th {\n",
       "        text-align: right;\n",
       "    }\n",
       "</style>\n",
       "<table border=\"1\" class=\"dataframe\">\n",
       "  <thead>\n",
       "    <tr style=\"text-align: right;\">\n",
       "      <th></th>\n",
       "      <th>id</th>\n",
       "      <th>last_access_date</th>\n",
       "      <th>reputation</th>\n",
       "      <th>up_votes</th>\n",
       "      <th>down_votes</th>\n",
       "      <th>views</th>\n",
       "    </tr>\n",
       "  </thead>\n",
       "  <tbody>\n",
       "    <tr>\n",
       "      <th>0</th>\n",
       "      <td>26</td>\n",
       "      <td>2018-04-11 04:40:35.66 UTC</td>\n",
       "      <td>11820</td>\n",
       "      <td>565</td>\n",
       "      <td>67</td>\n",
       "      <td>3547</td>\n",
       "    </tr>\n",
       "    <tr>\n",
       "      <th>1</th>\n",
       "      <td>26</td>\n",
       "      <td>2018-04-11 04:40:35.66 UTC</td>\n",
       "      <td>11820</td>\n",
       "      <td>565</td>\n",
       "      <td>67</td>\n",
       "      <td>3547</td>\n",
       "    </tr>\n",
       "  </tbody>\n",
       "</table>\n",
       "</div>"
      ],
      "text/plain": [
       "   id            last_access_date  reputation  up_votes  down_votes  views\n",
       "0  26  2018-04-11 04:40:35.66 UTC       11820       565          67   3547\n",
       "1  26  2018-04-11 04:40:35.66 UTC       11820       565          67   3547"
      ]
     },
     "execution_count": 19,
     "metadata": {},
     "output_type": "execute_result"
    }
   ],
   "source": [
    "#dropping Creation Date as its not needed for the analysis\n",
    "usersdf.drop(columns=[\"creation_date\",\"display_name\"],axis=1,inplace=True)\n",
    "usersdf.head(2)"
   ]
  },
  {
   "cell_type": "code",
   "execution_count": 20,
   "metadata": {
    "colab": {
     "base_uri": "https://localhost:8080/"
    },
    "id": "IMS4HyUGXa7R",
    "outputId": "d70b1427-9899-4634-d82e-49a9fdd7eafe"
   },
   "outputs": [
    {
     "name": "stdout",
     "output_type": "stream",
     "text": [
      "Duplicated id of 26 in users dataset  27\n"
     ]
    }
   ],
   "source": [
    "#Duplicates in users Dataset\n",
    "print(\"Duplicated id of 26 in users dataset \",len(usersdf[usersdf.id==26]))"
   ]
  },
  {
   "cell_type": "code",
   "execution_count": 21,
   "metadata": {
    "id": "hrBhRGCSX8K8"
   },
   "outputs": [],
   "source": [
    "#Dropping Duplicated Rows in ID \n",
    "usersdf.drop_duplicates(subset=\"id\",inplace=True)"
   ]
  },
  {
   "cell_type": "code",
   "execution_count": 22,
   "metadata": {
    "colab": {
     "base_uri": "https://localhost:8080/"
    },
    "id": "DfKZjv5nYH_v",
    "outputId": "c902dcc7-5ff1-4cbf-8d30-f9578b4c7a84"
   },
   "outputs": [
    {
     "name": "stdout",
     "output_type": "stream",
     "text": [
      "Duplicated id  users dataset  False\n"
     ]
    }
   ],
   "source": [
    "print(\"Duplicated id  users dataset \", usersdf.id.duplicated().any())"
   ]
  },
  {
   "cell_type": "code",
   "execution_count": 23,
   "metadata": {
    "colab": {
     "base_uri": "https://localhost:8080/"
    },
    "id": "AeJYXL4AYMzh",
    "outputId": "a125e706-811b-4d5b-8e96-bda141c47644"
   },
   "outputs": [
    {
     "name": "stdout",
     "output_type": "stream",
     "text": [
      "<class 'pandas.core.frame.DataFrame'>\n",
      "RangeIndex: 3750994 entries, 0 to 3750993\n",
      "Data columns (total 2 columns):\n",
      " #   Column  Dtype \n",
      "---  ------  ----- \n",
      " 0   Id      int64 \n",
      " 1   Tag     object\n",
      "dtypes: int64(1), object(1)\n",
      "memory usage: 57.2+ MB\n"
     ]
    }
   ],
   "source": [
    "tagsdf.info()"
   ]
  },
  {
   "cell_type": "code",
   "execution_count": 24,
   "metadata": {
    "id": "x5p5yJNlZMlx"
   },
   "outputs": [],
   "source": [
    "tagsdf[\"Tag\"]=tagsdf[\"Tag\"].astype(str)"
   ]
  },
  {
   "cell_type": "code",
   "execution_count": 25,
   "metadata": {
    "id": "TGqV_x0eZOkx"
   },
   "outputs": [],
   "source": [
    "#Merging Tags into one column by splitting by space\n",
    "tags_grouped=tagsdf.groupby('Id')['Tag'].apply(' '.join).reset_index()"
   ]
  },
  {
   "cell_type": "code",
   "execution_count": 26,
   "metadata": {
    "colab": {
     "base_uri": "https://localhost:8080/",
     "height": 112
    },
    "id": "qVigrjJnZeWv",
    "outputId": "42b6ccb2-e5e9-4004-8fe2-009720fb01ec"
   },
   "outputs": [
    {
     "data": {
      "text/html": [
       "<div>\n",
       "<style scoped>\n",
       "    .dataframe tbody tr th:only-of-type {\n",
       "        vertical-align: middle;\n",
       "    }\n",
       "\n",
       "    .dataframe tbody tr th {\n",
       "        vertical-align: top;\n",
       "    }\n",
       "\n",
       "    .dataframe thead th {\n",
       "        text-align: right;\n",
       "    }\n",
       "</style>\n",
       "<table border=\"1\" class=\"dataframe\">\n",
       "  <thead>\n",
       "    <tr style=\"text-align: right;\">\n",
       "      <th></th>\n",
       "      <th>Id</th>\n",
       "      <th>Tag</th>\n",
       "    </tr>\n",
       "  </thead>\n",
       "  <tbody>\n",
       "    <tr>\n",
       "      <th>0</th>\n",
       "      <td>80</td>\n",
       "      <td>flex actionscript-3 air</td>\n",
       "    </tr>\n",
       "    <tr>\n",
       "      <th>1</th>\n",
       "      <td>90</td>\n",
       "      <td>svn tortoisesvn branch branching-and-merging</td>\n",
       "    </tr>\n",
       "  </tbody>\n",
       "</table>\n",
       "</div>"
      ],
      "text/plain": [
       "   Id                                           Tag\n",
       "0  80                       flex actionscript-3 air\n",
       "1  90  svn tortoisesvn branch branching-and-merging"
      ]
     },
     "execution_count": 26,
     "metadata": {},
     "output_type": "execute_result"
    }
   ],
   "source": [
    "tags_grouped.head(2)"
   ]
  },
  {
   "cell_type": "code",
   "execution_count": 27,
   "metadata": {
    "colab": {
     "base_uri": "https://localhost:8080/"
    },
    "id": "H8XhwAv2Zlsr",
    "outputId": "6d604958-3e64-4d9d-ccee-6a63ac2bd9b2"
   },
   "outputs": [
    {
     "data": {
      "text/plain": [
       "count     1264216\n",
       "unique     685700\n",
       "top       android\n",
       "freq         9323\n",
       "Name: Tag, dtype: object"
      ]
     },
     "execution_count": 27,
     "metadata": {},
     "output_type": "execute_result"
    }
   ],
   "source": [
    "tags_grouped[\"Tag\"].describe()"
   ]
  },
  {
   "cell_type": "code",
   "execution_count": 28,
   "metadata": {
    "id": "-zx7QoqdbL9M"
   },
   "outputs": [],
   "source": [
    "#Datetime conversion for Date columns in all the Dataset\n",
    "qdf[\"CreationDate\"]=pd.to_datetime(qdf[\"CreationDate\"])\n",
    "ansdf[\"CreationDate\"]=pd.to_datetime(ansdf[\"CreationDate\"])\n",
    "usersdf[\"last_access_date\"]=pd.to_datetime(usersdf[\"last_access_date\"])"
   ]
  },
  {
   "cell_type": "markdown",
   "metadata": {
    "id": "mk9krzNzb3xK"
   },
   "source": [
    "Merging the Datasets"
   ]
  },
  {
   "cell_type": "code",
   "execution_count": 29,
   "metadata": {
    "id": "GxW1nDkgb5-D"
   },
   "outputs": [],
   "source": [
    "merged_table=pd.merge(qdf,tags_grouped,on=[\"Id\",\"Id\"],how=\"outer\")"
   ]
  },
  {
   "cell_type": "code",
   "execution_count": 30,
   "metadata": {
    "colab": {
     "base_uri": "https://localhost:8080/",
     "height": 112
    },
    "id": "K-UgZOjJa_5y",
    "outputId": "b704892c-c9cb-4769-e92f-d2adee4eecbd"
   },
   "outputs": [
    {
     "data": {
      "text/html": [
       "<div>\n",
       "<style scoped>\n",
       "    .dataframe tbody tr th:only-of-type {\n",
       "        vertical-align: middle;\n",
       "    }\n",
       "\n",
       "    .dataframe tbody tr th {\n",
       "        vertical-align: top;\n",
       "    }\n",
       "\n",
       "    .dataframe thead th {\n",
       "        text-align: right;\n",
       "    }\n",
       "</style>\n",
       "<table border=\"1\" class=\"dataframe\">\n",
       "  <thead>\n",
       "    <tr style=\"text-align: right;\">\n",
       "      <th></th>\n",
       "      <th>Id</th>\n",
       "      <th>OwnerUserId</th>\n",
       "      <th>CreationDate</th>\n",
       "      <th>Score</th>\n",
       "      <th>Title</th>\n",
       "      <th>Tag</th>\n",
       "    </tr>\n",
       "  </thead>\n",
       "  <tbody>\n",
       "    <tr>\n",
       "      <th>0</th>\n",
       "      <td>80</td>\n",
       "      <td>26.0</td>\n",
       "      <td>2008-08-01 13:57:07+00:00</td>\n",
       "      <td>26</td>\n",
       "      <td>SQLStatement.execute() - multiple queries in o...</td>\n",
       "      <td>flex actionscript-3 air</td>\n",
       "    </tr>\n",
       "    <tr>\n",
       "      <th>1</th>\n",
       "      <td>90</td>\n",
       "      <td>58.0</td>\n",
       "      <td>2008-08-01 14:41:24+00:00</td>\n",
       "      <td>144</td>\n",
       "      <td>Good branching and merging tutorials for Torto...</td>\n",
       "      <td>svn tortoisesvn branch branching-and-merging</td>\n",
       "    </tr>\n",
       "  </tbody>\n",
       "</table>\n",
       "</div>"
      ],
      "text/plain": [
       "   Id  OwnerUserId              CreationDate  Score  \\\n",
       "0  80         26.0 2008-08-01 13:57:07+00:00     26   \n",
       "1  90         58.0 2008-08-01 14:41:24+00:00    144   \n",
       "\n",
       "                                               Title  \\\n",
       "0  SQLStatement.execute() - multiple queries in o...   \n",
       "1  Good branching and merging tutorials for Torto...   \n",
       "\n",
       "                                            Tag  \n",
       "0                       flex actionscript-3 air  \n",
       "1  svn tortoisesvn branch branching-and-merging  "
      ]
     },
     "execution_count": 30,
     "metadata": {},
     "output_type": "execute_result"
    }
   ],
   "source": [
    "merged_table.head(2)"
   ]
  },
  {
   "cell_type": "code",
   "execution_count": 31,
   "metadata": {
    "colab": {
     "base_uri": "https://localhost:8080/"
    },
    "id": "QfZTnaTdc5ka",
    "outputId": "18c701bc-67e5-47b1-fc05-aba9cb9b6aaa"
   },
   "outputs": [
    {
     "data": {
      "text/plain": [
       "0"
      ]
     },
     "execution_count": 31,
     "metadata": {},
     "output_type": "execute_result"
    }
   ],
   "source": [
    "len(merged_table[merged_table.Tag == None])"
   ]
  },
  {
   "cell_type": "code",
   "execution_count": 32,
   "metadata": {
    "colab": {
     "base_uri": "https://localhost:8080/"
    },
    "id": "ScJtkib3dSEy",
    "outputId": "c248183e-d638-4a46-8108-e4fcda7b4886"
   },
   "outputs": [
    {
     "data": {
      "text/plain": [
       "(1264216, 6)"
      ]
     },
     "execution_count": 32,
     "metadata": {},
     "output_type": "execute_result"
    }
   ],
   "source": [
    "merged_table.shape"
   ]
  },
  {
   "cell_type": "code",
   "execution_count": 33,
   "metadata": {
    "colab": {
     "base_uri": "https://localhost:8080/",
     "height": 300
    },
    "id": "UvtFsg1edWr0",
    "outputId": "baf35517-21cb-4ef2-ace1-87edc3385b62"
   },
   "outputs": [
    {
     "data": {
      "text/html": [
       "<div>\n",
       "<style scoped>\n",
       "    .dataframe tbody tr th:only-of-type {\n",
       "        vertical-align: middle;\n",
       "    }\n",
       "\n",
       "    .dataframe tbody tr th {\n",
       "        vertical-align: top;\n",
       "    }\n",
       "\n",
       "    .dataframe thead th {\n",
       "        text-align: right;\n",
       "    }\n",
       "</style>\n",
       "<table border=\"1\" class=\"dataframe\">\n",
       "  <thead>\n",
       "    <tr style=\"text-align: right;\">\n",
       "      <th></th>\n",
       "      <th>Id</th>\n",
       "      <th>OwnerUserId</th>\n",
       "      <th>Score</th>\n",
       "    </tr>\n",
       "  </thead>\n",
       "  <tbody>\n",
       "    <tr>\n",
       "      <th>count</th>\n",
       "      <td>1.264216e+06</td>\n",
       "      <td>1.249762e+06</td>\n",
       "      <td>1.264216e+06</td>\n",
       "    </tr>\n",
       "    <tr>\n",
       "      <th>mean</th>\n",
       "      <td>2.132745e+07</td>\n",
       "      <td>2.155177e+06</td>\n",
       "      <td>1.781537e+00</td>\n",
       "    </tr>\n",
       "    <tr>\n",
       "      <th>std</th>\n",
       "      <td>1.151445e+07</td>\n",
       "      <td>1.801265e+06</td>\n",
       "      <td>1.366389e+01</td>\n",
       "    </tr>\n",
       "    <tr>\n",
       "      <th>min</th>\n",
       "      <td>8.000000e+01</td>\n",
       "      <td>1.000000e+00</td>\n",
       "      <td>-7.300000e+01</td>\n",
       "    </tr>\n",
       "    <tr>\n",
       "      <th>25%</th>\n",
       "      <td>1.142598e+07</td>\n",
       "      <td>6.589110e+05</td>\n",
       "      <td>0.000000e+00</td>\n",
       "    </tr>\n",
       "    <tr>\n",
       "      <th>50%</th>\n",
       "      <td>2.172542e+07</td>\n",
       "      <td>1.611830e+06</td>\n",
       "      <td>0.000000e+00</td>\n",
       "    </tr>\n",
       "    <tr>\n",
       "      <th>75%</th>\n",
       "      <td>3.154542e+07</td>\n",
       "      <td>3.353792e+06</td>\n",
       "      <td>1.000000e+00</td>\n",
       "    </tr>\n",
       "    <tr>\n",
       "      <th>max</th>\n",
       "      <td>4.014338e+07</td>\n",
       "      <td>7.046594e+06</td>\n",
       "      <td>5.190000e+03</td>\n",
       "    </tr>\n",
       "  </tbody>\n",
       "</table>\n",
       "</div>"
      ],
      "text/plain": [
       "                 Id   OwnerUserId         Score\n",
       "count  1.264216e+06  1.249762e+06  1.264216e+06\n",
       "mean   2.132745e+07  2.155177e+06  1.781537e+00\n",
       "std    1.151445e+07  1.801265e+06  1.366389e+01\n",
       "min    8.000000e+01  1.000000e+00 -7.300000e+01\n",
       "25%    1.142598e+07  6.589110e+05  0.000000e+00\n",
       "50%    2.172542e+07  1.611830e+06  0.000000e+00\n",
       "75%    3.154542e+07  3.353792e+06  1.000000e+00\n",
       "max    4.014338e+07  7.046594e+06  5.190000e+03"
      ]
     },
     "execution_count": 33,
     "metadata": {},
     "output_type": "execute_result"
    }
   ],
   "source": [
    "merged_table.describe()"
   ]
  },
  {
   "cell_type": "code",
   "execution_count": 34,
   "metadata": {
    "id": "P4ljCfAKdgG3"
   },
   "outputs": [],
   "source": [
    "#Changing the Column name OwnerUserid to q_uesrid and Score to q_score and id to q_id\n",
    "merged_table.rename(columns={\"OwnerUserId\": \"q_userid\",\"Score\":\"q_score\",\"Id\":\"q_Id\",\"Title\":\"q_Title\",\"CreationDate\":\"q_CreationDate\"},inplace=True)"
   ]
  },
  {
   "cell_type": "code",
   "execution_count": 35,
   "metadata": {
    "colab": {
     "base_uri": "https://localhost:8080/",
     "height": 112
    },
    "id": "T2_-tIobeI7_",
    "outputId": "4549d857-0846-44fe-8943-0fea8dddf0f0"
   },
   "outputs": [
    {
     "data": {
      "text/html": [
       "<div>\n",
       "<style scoped>\n",
       "    .dataframe tbody tr th:only-of-type {\n",
       "        vertical-align: middle;\n",
       "    }\n",
       "\n",
       "    .dataframe tbody tr th {\n",
       "        vertical-align: top;\n",
       "    }\n",
       "\n",
       "    .dataframe thead th {\n",
       "        text-align: right;\n",
       "    }\n",
       "</style>\n",
       "<table border=\"1\" class=\"dataframe\">\n",
       "  <thead>\n",
       "    <tr style=\"text-align: right;\">\n",
       "      <th></th>\n",
       "      <th>q_Id</th>\n",
       "      <th>q_userid</th>\n",
       "      <th>q_CreationDate</th>\n",
       "      <th>q_score</th>\n",
       "      <th>q_Title</th>\n",
       "      <th>Tag</th>\n",
       "    </tr>\n",
       "  </thead>\n",
       "  <tbody>\n",
       "    <tr>\n",
       "      <th>0</th>\n",
       "      <td>80</td>\n",
       "      <td>26.0</td>\n",
       "      <td>2008-08-01 13:57:07+00:00</td>\n",
       "      <td>26</td>\n",
       "      <td>SQLStatement.execute() - multiple queries in o...</td>\n",
       "      <td>flex actionscript-3 air</td>\n",
       "    </tr>\n",
       "    <tr>\n",
       "      <th>1</th>\n",
       "      <td>90</td>\n",
       "      <td>58.0</td>\n",
       "      <td>2008-08-01 14:41:24+00:00</td>\n",
       "      <td>144</td>\n",
       "      <td>Good branching and merging tutorials for Torto...</td>\n",
       "      <td>svn tortoisesvn branch branching-and-merging</td>\n",
       "    </tr>\n",
       "  </tbody>\n",
       "</table>\n",
       "</div>"
      ],
      "text/plain": [
       "   q_Id  q_userid            q_CreationDate  q_score  \\\n",
       "0    80      26.0 2008-08-01 13:57:07+00:00       26   \n",
       "1    90      58.0 2008-08-01 14:41:24+00:00      144   \n",
       "\n",
       "                                             q_Title  \\\n",
       "0  SQLStatement.execute() - multiple queries in o...   \n",
       "1  Good branching and merging tutorials for Torto...   \n",
       "\n",
       "                                            Tag  \n",
       "0                       flex actionscript-3 air  \n",
       "1  svn tortoisesvn branch branching-and-merging  "
      ]
     },
     "execution_count": 35,
     "metadata": {},
     "output_type": "execute_result"
    }
   ],
   "source": [
    "merged_table.head(2)"
   ]
  },
  {
   "cell_type": "code",
   "execution_count": 36,
   "metadata": {
    "colab": {
     "base_uri": "https://localhost:8080/",
     "height": 112
    },
    "id": "df5W8Z2Web7m",
    "outputId": "bd6b117f-f9a2-4615-a077-0c71774541df"
   },
   "outputs": [
    {
     "data": {
      "text/html": [
       "<div>\n",
       "<style scoped>\n",
       "    .dataframe tbody tr th:only-of-type {\n",
       "        vertical-align: middle;\n",
       "    }\n",
       "\n",
       "    .dataframe tbody tr th {\n",
       "        vertical-align: top;\n",
       "    }\n",
       "\n",
       "    .dataframe thead th {\n",
       "        text-align: right;\n",
       "    }\n",
       "</style>\n",
       "<table border=\"1\" class=\"dataframe\">\n",
       "  <thead>\n",
       "    <tr style=\"text-align: right;\">\n",
       "      <th></th>\n",
       "      <th>Id</th>\n",
       "      <th>OwnerUserId</th>\n",
       "      <th>CreationDate</th>\n",
       "      <th>ParentId</th>\n",
       "      <th>Score</th>\n",
       "    </tr>\n",
       "  </thead>\n",
       "  <tbody>\n",
       "    <tr>\n",
       "      <th>0</th>\n",
       "      <td>92</td>\n",
       "      <td>61.0</td>\n",
       "      <td>2008-08-01 14:45:37+00:00</td>\n",
       "      <td>90</td>\n",
       "      <td>13</td>\n",
       "    </tr>\n",
       "    <tr>\n",
       "      <th>1</th>\n",
       "      <td>124</td>\n",
       "      <td>26.0</td>\n",
       "      <td>2008-08-01 16:09:47+00:00</td>\n",
       "      <td>80</td>\n",
       "      <td>12</td>\n",
       "    </tr>\n",
       "  </tbody>\n",
       "</table>\n",
       "</div>"
      ],
      "text/plain": [
       "    Id  OwnerUserId              CreationDate  ParentId  Score\n",
       "0   92         61.0 2008-08-01 14:45:37+00:00        90     13\n",
       "1  124         26.0 2008-08-01 16:09:47+00:00        80     12"
      ]
     },
     "execution_count": 36,
     "metadata": {},
     "output_type": "execute_result"
    }
   ],
   "source": [
    "ansdf.head(2)"
   ]
  },
  {
   "cell_type": "code",
   "execution_count": 37,
   "metadata": {
    "id": "lkrIxyF0fZwm"
   },
   "outputs": [],
   "source": [
    "#Renaming Columns Id to a_id and OwnerUserid to a_userid ,CreationDate to a_CreationDate,Score to a_Score\n",
    "ansdf.rename(columns={\"Id\":\"a_Id\",\"OwnerUserId\":\"a_userid\",\"CreationDate\":\"a_CreationDate\",\"Score\":\"a_Score\",\"ParentId\":\"q_Id\"},inplace=True)"
   ]
  },
  {
   "cell_type": "code",
   "execution_count": 38,
   "metadata": {
    "colab": {
     "base_uri": "https://localhost:8080/",
     "height": 112
    },
    "id": "Yo-PQCO2gLx9",
    "outputId": "4f309171-ac62-45a6-c5c5-c2e1937ac442"
   },
   "outputs": [
    {
     "data": {
      "text/html": [
       "<div>\n",
       "<style scoped>\n",
       "    .dataframe tbody tr th:only-of-type {\n",
       "        vertical-align: middle;\n",
       "    }\n",
       "\n",
       "    .dataframe tbody tr th {\n",
       "        vertical-align: top;\n",
       "    }\n",
       "\n",
       "    .dataframe thead th {\n",
       "        text-align: right;\n",
       "    }\n",
       "</style>\n",
       "<table border=\"1\" class=\"dataframe\">\n",
       "  <thead>\n",
       "    <tr style=\"text-align: right;\">\n",
       "      <th></th>\n",
       "      <th>a_Id</th>\n",
       "      <th>a_userid</th>\n",
       "      <th>a_CreationDate</th>\n",
       "      <th>q_Id</th>\n",
       "      <th>a_Score</th>\n",
       "    </tr>\n",
       "  </thead>\n",
       "  <tbody>\n",
       "    <tr>\n",
       "      <th>0</th>\n",
       "      <td>92</td>\n",
       "      <td>61.0</td>\n",
       "      <td>2008-08-01 14:45:37+00:00</td>\n",
       "      <td>90</td>\n",
       "      <td>13</td>\n",
       "    </tr>\n",
       "    <tr>\n",
       "      <th>1</th>\n",
       "      <td>124</td>\n",
       "      <td>26.0</td>\n",
       "      <td>2008-08-01 16:09:47+00:00</td>\n",
       "      <td>80</td>\n",
       "      <td>12</td>\n",
       "    </tr>\n",
       "  </tbody>\n",
       "</table>\n",
       "</div>"
      ],
      "text/plain": [
       "   a_Id  a_userid            a_CreationDate  q_Id  a_Score\n",
       "0    92      61.0 2008-08-01 14:45:37+00:00    90       13\n",
       "1   124      26.0 2008-08-01 16:09:47+00:00    80       12"
      ]
     },
     "execution_count": 38,
     "metadata": {},
     "output_type": "execute_result"
    }
   ],
   "source": [
    "ansdf.head(2)"
   ]
  },
  {
   "cell_type": "code",
   "execution_count": 39,
   "metadata": {
    "colab": {
     "base_uri": "https://localhost:8080/"
    },
    "id": "Nkpvc3-vgxKl",
    "outputId": "33673b16-400a-41a6-83fc-e45be2f4dbed"
   },
   "outputs": [
    {
     "data": {
      "text/plain": [
       "False"
      ]
     },
     "execution_count": 39,
     "metadata": {},
     "output_type": "execute_result"
    }
   ],
   "source": [
    "merged_table[\"q_Id\"].duplicated().any()\n"
   ]
  },
  {
   "cell_type": "code",
   "execution_count": 40,
   "metadata": {
    "colab": {
     "base_uri": "https://localhost:8080/"
    },
    "id": "S6OAWCEcjupy",
    "outputId": "59dfd566-fbd0-47ed-eef9-1c854b46f049"
   },
   "outputs": [
    {
     "data": {
      "text/plain": [
       "(1264216, 6)"
      ]
     },
     "execution_count": 40,
     "metadata": {},
     "output_type": "execute_result"
    }
   ],
   "source": [
    "merged_table.shape"
   ]
  },
  {
   "cell_type": "code",
   "execution_count": 41,
   "metadata": {
    "id": "fc-Y9IXHgOHl"
   },
   "outputs": [],
   "source": [
    "#Merging answer and Question\n",
    "merged_q_a=pd.merge(merged_table,ansdf,on=[\"q_Id\",\"q_Id\"],how=\"inner\")"
   ]
  },
  {
   "cell_type": "code",
   "execution_count": 42,
   "metadata": {
    "colab": {
     "base_uri": "https://localhost:8080/",
     "height": 146
    },
    "id": "BrmqXuWyjPbm",
    "outputId": "b5d18dca-bb8a-4919-b307-42c83b56fd65"
   },
   "outputs": [
    {
     "data": {
      "text/html": [
       "<div>\n",
       "<style scoped>\n",
       "    .dataframe tbody tr th:only-of-type {\n",
       "        vertical-align: middle;\n",
       "    }\n",
       "\n",
       "    .dataframe tbody tr th {\n",
       "        vertical-align: top;\n",
       "    }\n",
       "\n",
       "    .dataframe thead th {\n",
       "        text-align: right;\n",
       "    }\n",
       "</style>\n",
       "<table border=\"1\" class=\"dataframe\">\n",
       "  <thead>\n",
       "    <tr style=\"text-align: right;\">\n",
       "      <th></th>\n",
       "      <th>q_Id</th>\n",
       "      <th>q_userid</th>\n",
       "      <th>q_CreationDate</th>\n",
       "      <th>q_score</th>\n",
       "      <th>q_Title</th>\n",
       "      <th>Tag</th>\n",
       "      <th>a_Id</th>\n",
       "      <th>a_userid</th>\n",
       "      <th>a_CreationDate</th>\n",
       "      <th>a_Score</th>\n",
       "    </tr>\n",
       "  </thead>\n",
       "  <tbody>\n",
       "    <tr>\n",
       "      <th>0</th>\n",
       "      <td>80</td>\n",
       "      <td>26.0</td>\n",
       "      <td>2008-08-01 13:57:07+00:00</td>\n",
       "      <td>26</td>\n",
       "      <td>SQLStatement.execute() - multiple queries in o...</td>\n",
       "      <td>flex actionscript-3 air</td>\n",
       "      <td>124</td>\n",
       "      <td>26.0</td>\n",
       "      <td>2008-08-01 16:09:47+00:00</td>\n",
       "      <td>12</td>\n",
       "    </tr>\n",
       "    <tr>\n",
       "      <th>1</th>\n",
       "      <td>80</td>\n",
       "      <td>26.0</td>\n",
       "      <td>2008-08-01 13:57:07+00:00</td>\n",
       "      <td>26</td>\n",
       "      <td>SQLStatement.execute() - multiple queries in o...</td>\n",
       "      <td>flex actionscript-3 air</td>\n",
       "      <td>10008</td>\n",
       "      <td>1109.0</td>\n",
       "      <td>2008-08-13 16:09:09+00:00</td>\n",
       "      <td>6</td>\n",
       "    </tr>\n",
       "  </tbody>\n",
       "</table>\n",
       "</div>"
      ],
      "text/plain": [
       "   q_Id  q_userid            q_CreationDate  q_score  \\\n",
       "0    80      26.0 2008-08-01 13:57:07+00:00       26   \n",
       "1    80      26.0 2008-08-01 13:57:07+00:00       26   \n",
       "\n",
       "                                             q_Title                      Tag  \\\n",
       "0  SQLStatement.execute() - multiple queries in o...  flex actionscript-3 air   \n",
       "1  SQLStatement.execute() - multiple queries in o...  flex actionscript-3 air   \n",
       "\n",
       "    a_Id  a_userid            a_CreationDate  a_Score  \n",
       "0    124      26.0 2008-08-01 16:09:47+00:00       12  \n",
       "1  10008    1109.0 2008-08-13 16:09:09+00:00        6  "
      ]
     },
     "execution_count": 42,
     "metadata": {},
     "output_type": "execute_result"
    }
   ],
   "source": [
    "merged_q_a.head(2)"
   ]
  },
  {
   "cell_type": "code",
   "execution_count": 43,
   "metadata": {
    "colab": {
     "base_uri": "https://localhost:8080/"
    },
    "id": "lvqZLhjTjZcU",
    "outputId": "e224f27d-d6b9-4a7f-fdf8-b590ecb204ee"
   },
   "outputs": [
    {
     "data": {
      "text/plain": [
       "True"
      ]
     },
     "execution_count": 43,
     "metadata": {},
     "output_type": "execute_result"
    }
   ],
   "source": [
    "merged_q_a[\"q_Id\"].duplicated().any()"
   ]
  },
  {
   "cell_type": "code",
   "execution_count": 44,
   "metadata": {
    "colab": {
     "base_uri": "https://localhost:8080/"
    },
    "id": "LcuSPSZ_jzst",
    "outputId": "29a81b47-4745-4e25-e9af-6e64dae51b25"
   },
   "outputs": [
    {
     "data": {
      "text/plain": [
       "(2001316, 10)"
      ]
     },
     "execution_count": 44,
     "metadata": {},
     "output_type": "execute_result"
    }
   ],
   "source": [
    "merged_q_a.shape\n"
   ]
  },
  {
   "cell_type": "code",
   "execution_count": 45,
   "metadata": {
    "colab": {
     "base_uri": "https://localhost:8080/",
     "height": 112
    },
    "id": "IBJHGCAukWVw",
    "outputId": "643e3ad6-507c-41ed-b573-5529cda95d9a"
   },
   "outputs": [
    {
     "data": {
      "text/html": [
       "<div>\n",
       "<style scoped>\n",
       "    .dataframe tbody tr th:only-of-type {\n",
       "        vertical-align: middle;\n",
       "    }\n",
       "\n",
       "    .dataframe tbody tr th {\n",
       "        vertical-align: top;\n",
       "    }\n",
       "\n",
       "    .dataframe thead th {\n",
       "        text-align: right;\n",
       "    }\n",
       "</style>\n",
       "<table border=\"1\" class=\"dataframe\">\n",
       "  <thead>\n",
       "    <tr style=\"text-align: right;\">\n",
       "      <th></th>\n",
       "      <th>id</th>\n",
       "      <th>last_access_date</th>\n",
       "      <th>reputation</th>\n",
       "      <th>up_votes</th>\n",
       "      <th>down_votes</th>\n",
       "      <th>views</th>\n",
       "    </tr>\n",
       "  </thead>\n",
       "  <tbody>\n",
       "    <tr>\n",
       "      <th>0</th>\n",
       "      <td>26</td>\n",
       "      <td>2018-04-11 04:40:35.660000+00:00</td>\n",
       "      <td>11820</td>\n",
       "      <td>565</td>\n",
       "      <td>67</td>\n",
       "      <td>3547</td>\n",
       "    </tr>\n",
       "    <tr>\n",
       "      <th>27</th>\n",
       "      <td>1109</td>\n",
       "      <td>2019-08-31 11:39:52.280000+00:00</td>\n",
       "      <td>116072</td>\n",
       "      <td>457</td>\n",
       "      <td>136</td>\n",
       "      <td>6905</td>\n",
       "    </tr>\n",
       "  </tbody>\n",
       "</table>\n",
       "</div>"
      ],
      "text/plain": [
       "      id                 last_access_date  reputation  up_votes  down_votes  \\\n",
       "0     26 2018-04-11 04:40:35.660000+00:00       11820       565          67   \n",
       "27  1109 2019-08-31 11:39:52.280000+00:00      116072       457         136   \n",
       "\n",
       "    views  \n",
       "0    3547  \n",
       "27   6905  "
      ]
     },
     "execution_count": 45,
     "metadata": {},
     "output_type": "execute_result"
    }
   ],
   "source": [
    "usersdf.head(2)"
   ]
  },
  {
   "cell_type": "code",
   "execution_count": 46,
   "metadata": {
    "id": "EEgBtNeWkfcT"
   },
   "outputs": [],
   "source": [
    "usersdf.rename(columns={\"id\":\"userid\"},inplace=True)"
   ]
  },
  {
   "cell_type": "code",
   "execution_count": null,
   "metadata": {
    "id": "aiHVd2LqHggg"
   },
   "outputs": [],
   "source": []
  },
  {
   "cell_type": "code",
   "execution_count": 47,
   "metadata": {
    "colab": {
     "base_uri": "https://localhost:8080/",
     "height": 112
    },
    "id": "m_0SlslXzQ6S",
    "outputId": "6d748730-b0c9-4c40-eea5-09773ca6b752"
   },
   "outputs": [
    {
     "data": {
      "text/html": [
       "<div>\n",
       "<style scoped>\n",
       "    .dataframe tbody tr th:only-of-type {\n",
       "        vertical-align: middle;\n",
       "    }\n",
       "\n",
       "    .dataframe tbody tr th {\n",
       "        vertical-align: top;\n",
       "    }\n",
       "\n",
       "    .dataframe thead th {\n",
       "        text-align: right;\n",
       "    }\n",
       "</style>\n",
       "<table border=\"1\" class=\"dataframe\">\n",
       "  <thead>\n",
       "    <tr style=\"text-align: right;\">\n",
       "      <th></th>\n",
       "      <th>userid</th>\n",
       "      <th>last_access_date</th>\n",
       "      <th>reputation</th>\n",
       "      <th>up_votes</th>\n",
       "      <th>down_votes</th>\n",
       "      <th>views</th>\n",
       "    </tr>\n",
       "  </thead>\n",
       "  <tbody>\n",
       "    <tr>\n",
       "      <th>0</th>\n",
       "      <td>26</td>\n",
       "      <td>2018-04-11 04:40:35.660000+00:00</td>\n",
       "      <td>11820</td>\n",
       "      <td>565</td>\n",
       "      <td>67</td>\n",
       "      <td>3547</td>\n",
       "    </tr>\n",
       "    <tr>\n",
       "      <th>27</th>\n",
       "      <td>1109</td>\n",
       "      <td>2019-08-31 11:39:52.280000+00:00</td>\n",
       "      <td>116072</td>\n",
       "      <td>457</td>\n",
       "      <td>136</td>\n",
       "      <td>6905</td>\n",
       "    </tr>\n",
       "  </tbody>\n",
       "</table>\n",
       "</div>"
      ],
      "text/plain": [
       "    userid                 last_access_date  reputation  up_votes  down_votes  \\\n",
       "0       26 2018-04-11 04:40:35.660000+00:00       11820       565          67   \n",
       "27    1109 2019-08-31 11:39:52.280000+00:00      116072       457         136   \n",
       "\n",
       "    views  \n",
       "0    3547  \n",
       "27   6905  "
      ]
     },
     "execution_count": 47,
     "metadata": {},
     "output_type": "execute_result"
    }
   ],
   "source": [
    "usersdf.head(2)"
   ]
  },
  {
   "cell_type": "code",
   "execution_count": 48,
   "metadata": {
    "colab": {
     "base_uri": "https://localhost:8080/"
    },
    "id": "Sb0x1Xeqlayf",
    "outputId": "207f1665-ec27-4aad-8561-00114aa27748"
   },
   "outputs": [
    {
     "data": {
      "text/plain": [
       "False"
      ]
     },
     "execution_count": 48,
     "metadata": {},
     "output_type": "execute_result"
    }
   ],
   "source": [
    "usersdf.userid.duplicated().any()"
   ]
  },
  {
   "cell_type": "code",
   "execution_count": 49,
   "metadata": {
    "id": "hJkhLmNHkB4i"
   },
   "outputs": [],
   "source": [
    "#Merging User table as well\n",
    "merged_whole=pd.merge(merged_q_a,usersdf,left_on=\"a_userid\",right_on=\"userid\",how=\"inner\")"
   ]
  },
  {
   "cell_type": "code",
   "execution_count": 50,
   "metadata": {
    "colab": {
     "base_uri": "https://localhost:8080/",
     "height": 236
    },
    "id": "zKh8vQEOlwge",
    "outputId": "70550c57-30b6-4879-9bb1-941baea8e67c"
   },
   "outputs": [
    {
     "data": {
      "text/html": [
       "<div>\n",
       "<style scoped>\n",
       "    .dataframe tbody tr th:only-of-type {\n",
       "        vertical-align: middle;\n",
       "    }\n",
       "\n",
       "    .dataframe tbody tr th {\n",
       "        vertical-align: top;\n",
       "    }\n",
       "\n",
       "    .dataframe thead th {\n",
       "        text-align: right;\n",
       "    }\n",
       "</style>\n",
       "<table border=\"1\" class=\"dataframe\">\n",
       "  <thead>\n",
       "    <tr style=\"text-align: right;\">\n",
       "      <th></th>\n",
       "      <th>q_Id</th>\n",
       "      <th>q_userid</th>\n",
       "      <th>q_CreationDate</th>\n",
       "      <th>q_score</th>\n",
       "      <th>q_Title</th>\n",
       "      <th>Tag</th>\n",
       "      <th>a_Id</th>\n",
       "      <th>a_userid</th>\n",
       "      <th>a_CreationDate</th>\n",
       "      <th>a_Score</th>\n",
       "      <th>userid</th>\n",
       "      <th>last_access_date</th>\n",
       "      <th>reputation</th>\n",
       "      <th>up_votes</th>\n",
       "      <th>down_votes</th>\n",
       "      <th>views</th>\n",
       "    </tr>\n",
       "  </thead>\n",
       "  <tbody>\n",
       "    <tr>\n",
       "      <th>0</th>\n",
       "      <td>80</td>\n",
       "      <td>26.0</td>\n",
       "      <td>2008-08-01 13:57:07+00:00</td>\n",
       "      <td>26</td>\n",
       "      <td>SQLStatement.execute() - multiple queries in o...</td>\n",
       "      <td>flex actionscript-3 air</td>\n",
       "      <td>124</td>\n",
       "      <td>26.0</td>\n",
       "      <td>2008-08-01 16:09:47+00:00</td>\n",
       "      <td>12</td>\n",
       "      <td>26</td>\n",
       "      <td>2018-04-11 04:40:35.660000+00:00</td>\n",
       "      <td>11820</td>\n",
       "      <td>565</td>\n",
       "      <td>67</td>\n",
       "      <td>3547</td>\n",
       "    </tr>\n",
       "    <tr>\n",
       "      <th>1</th>\n",
       "      <td>580</td>\n",
       "      <td>91.0</td>\n",
       "      <td>2008-08-02 23:30:59+00:00</td>\n",
       "      <td>21</td>\n",
       "      <td>Deploying SQL Server Databases from Test to Live</td>\n",
       "      <td>sql-server sql-server-2005 deployment release-...</td>\n",
       "      <td>1464</td>\n",
       "      <td>26.0</td>\n",
       "      <td>2008-08-04 18:00:50+00:00</td>\n",
       "      <td>5</td>\n",
       "      <td>26</td>\n",
       "      <td>2018-04-11 04:40:35.660000+00:00</td>\n",
       "      <td>11820</td>\n",
       "      <td>565</td>\n",
       "      <td>67</td>\n",
       "      <td>3547</td>\n",
       "    </tr>\n",
       "  </tbody>\n",
       "</table>\n",
       "</div>"
      ],
      "text/plain": [
       "   q_Id  q_userid            q_CreationDate  q_score  \\\n",
       "0    80      26.0 2008-08-01 13:57:07+00:00       26   \n",
       "1   580      91.0 2008-08-02 23:30:59+00:00       21   \n",
       "\n",
       "                                             q_Title  \\\n",
       "0  SQLStatement.execute() - multiple queries in o...   \n",
       "1   Deploying SQL Server Databases from Test to Live   \n",
       "\n",
       "                                                 Tag  a_Id  a_userid  \\\n",
       "0                            flex actionscript-3 air   124      26.0   \n",
       "1  sql-server sql-server-2005 deployment release-...  1464      26.0   \n",
       "\n",
       "             a_CreationDate  a_Score  userid                 last_access_date  \\\n",
       "0 2008-08-01 16:09:47+00:00       12      26 2018-04-11 04:40:35.660000+00:00   \n",
       "1 2008-08-04 18:00:50+00:00        5      26 2018-04-11 04:40:35.660000+00:00   \n",
       "\n",
       "   reputation  up_votes  down_votes  views  \n",
       "0       11820       565          67   3547  \n",
       "1       11820       565          67   3547  "
      ]
     },
     "execution_count": 50,
     "metadata": {},
     "output_type": "execute_result"
    }
   ],
   "source": [
    "merged_whole.head(2)"
   ]
  },
  {
   "cell_type": "code",
   "execution_count": 51,
   "metadata": {
    "colab": {
     "base_uri": "https://localhost:8080/"
    },
    "id": "qQ4y-fJnlo4Q",
    "outputId": "93a32306-72f2-4fb6-dfcc-100e09c364a3"
   },
   "outputs": [
    {
     "data": {
      "text/plain": [
       "(1990480, 16)"
      ]
     },
     "execution_count": 51,
     "metadata": {},
     "output_type": "execute_result"
    }
   ],
   "source": [
    "merged_whole.shape"
   ]
  },
  {
   "cell_type": "code",
   "execution_count": 52,
   "metadata": {
    "colab": {
     "base_uri": "https://localhost:8080/",
     "height": 320
    },
    "id": "6InVK9WymM7T",
    "outputId": "81bbe5bb-0799-4ff2-8d88-4648dc7cc4b2"
   },
   "outputs": [
    {
     "data": {
      "text/html": [
       "<div>\n",
       "<style scoped>\n",
       "    .dataframe tbody tr th:only-of-type {\n",
       "        vertical-align: middle;\n",
       "    }\n",
       "\n",
       "    .dataframe tbody tr th {\n",
       "        vertical-align: top;\n",
       "    }\n",
       "\n",
       "    .dataframe thead th {\n",
       "        text-align: right;\n",
       "    }\n",
       "</style>\n",
       "<table border=\"1\" class=\"dataframe\">\n",
       "  <thead>\n",
       "    <tr style=\"text-align: right;\">\n",
       "      <th></th>\n",
       "      <th>q_Id</th>\n",
       "      <th>q_userid</th>\n",
       "      <th>q_score</th>\n",
       "      <th>a_Id</th>\n",
       "      <th>a_userid</th>\n",
       "      <th>a_Score</th>\n",
       "      <th>userid</th>\n",
       "      <th>reputation</th>\n",
       "      <th>up_votes</th>\n",
       "      <th>down_votes</th>\n",
       "      <th>views</th>\n",
       "    </tr>\n",
       "  </thead>\n",
       "  <tbody>\n",
       "    <tr>\n",
       "      <th>count</th>\n",
       "      <td>1.990480e+06</td>\n",
       "      <td>1.960156e+06</td>\n",
       "      <td>1.990480e+06</td>\n",
       "      <td>1.990480e+06</td>\n",
       "      <td>1.990480e+06</td>\n",
       "      <td>1.990480e+06</td>\n",
       "      <td>1.990480e+06</td>\n",
       "      <td>1.990480e+06</td>\n",
       "      <td>1.990480e+06</td>\n",
       "      <td>1.990480e+06</td>\n",
       "      <td>1.990480e+06</td>\n",
       "    </tr>\n",
       "    <tr>\n",
       "      <th>mean</th>\n",
       "      <td>1.809171e+07</td>\n",
       "      <td>1.813723e+06</td>\n",
       "      <td>5.654644e+00</td>\n",
       "      <td>1.916351e+07</td>\n",
       "      <td>1.480737e+06</td>\n",
       "      <td>2.485415e+00</td>\n",
       "      <td>1.480737e+06</td>\n",
       "      <td>4.545504e+04</td>\n",
       "      <td>1.539702e+03</td>\n",
       "      <td>8.212407e+02</td>\n",
       "      <td>9.450821e+03</td>\n",
       "    </tr>\n",
       "    <tr>\n",
       "      <th>std</th>\n",
       "      <td>1.167883e+07</td>\n",
       "      <td>1.698687e+06</td>\n",
       "      <td>4.671906e+01</td>\n",
       "      <td>1.167345e+07</td>\n",
       "      <td>1.543848e+06</td>\n",
       "      <td>1.596865e+01</td>\n",
       "      <td>1.543848e+06</td>\n",
       "      <td>1.226378e+05</td>\n",
       "      <td>3.494248e+03</td>\n",
       "      <td>4.199035e+03</td>\n",
       "      <td>7.877572e+04</td>\n",
       "    </tr>\n",
       "    <tr>\n",
       "      <th>min</th>\n",
       "      <td>8.000000e+01</td>\n",
       "      <td>1.000000e+00</td>\n",
       "      <td>-7.300000e+01</td>\n",
       "      <td>9.200000e+01</td>\n",
       "      <td>1.000000e+00</td>\n",
       "      <td>-4.200000e+01</td>\n",
       "      <td>1.000000e+00</td>\n",
       "      <td>1.000000e+00</td>\n",
       "      <td>0.000000e+00</td>\n",
       "      <td>0.000000e+00</td>\n",
       "      <td>0.000000e+00</td>\n",
       "    </tr>\n",
       "    <tr>\n",
       "      <th>25%</th>\n",
       "      <td>7.715652e+06</td>\n",
       "      <td>4.408440e+05</td>\n",
       "      <td>0.000000e+00</td>\n",
       "      <td>8.876039e+06</td>\n",
       "      <td>2.797618e+05</td>\n",
       "      <td>0.000000e+00</td>\n",
       "      <td>2.797618e+05</td>\n",
       "      <td>9.310000e+02</td>\n",
       "      <td>5.800000e+01</td>\n",
       "      <td>2.000000e+00</td>\n",
       "      <td>1.090000e+02</td>\n",
       "    </tr>\n",
       "    <tr>\n",
       "      <th>50%</th>\n",
       "      <td>1.712833e+07</td>\n",
       "      <td>1.235303e+06</td>\n",
       "      <td>1.000000e+00</td>\n",
       "      <td>1.866768e+07</td>\n",
       "      <td>9.494760e+05</td>\n",
       "      <td>1.000000e+00</td>\n",
       "      <td>9.494760e+05</td>\n",
       "      <td>5.042000e+03</td>\n",
       "      <td>3.530000e+02</td>\n",
       "      <td>1.800000e+01</td>\n",
       "      <td>5.290000e+02</td>\n",
       "    </tr>\n",
       "    <tr>\n",
       "      <th>75%</th>\n",
       "      <td>2.804313e+07</td>\n",
       "      <td>2.784556e+06</td>\n",
       "      <td>3.000000e+00</td>\n",
       "      <td>2.929020e+07</td>\n",
       "      <td>2.183668e+06</td>\n",
       "      <td>2.000000e+00</td>\n",
       "      <td>2.183668e+06</td>\n",
       "      <td>2.806100e+04</td>\n",
       "      <td>1.470000e+03</td>\n",
       "      <td>1.490000e+02</td>\n",
       "      <td>2.675000e+03</td>\n",
       "    </tr>\n",
       "    <tr>\n",
       "      <th>max</th>\n",
       "      <td>4.014319e+07</td>\n",
       "      <td>7.046594e+06</td>\n",
       "      <td>5.190000e+03</td>\n",
       "      <td>4.014339e+07</td>\n",
       "      <td>7.045028e+06</td>\n",
       "      <td>5.718000e+03</td>\n",
       "      <td>7.045028e+06</td>\n",
       "      <td>1.128126e+06</td>\n",
       "      <td>1.005200e+05</td>\n",
       "      <td>7.495500e+04</td>\n",
       "      <td>1.835157e+06</td>\n",
       "    </tr>\n",
       "  </tbody>\n",
       "</table>\n",
       "</div>"
      ],
      "text/plain": [
       "               q_Id      q_userid       q_score          a_Id      a_userid  \\\n",
       "count  1.990480e+06  1.960156e+06  1.990480e+06  1.990480e+06  1.990480e+06   \n",
       "mean   1.809171e+07  1.813723e+06  5.654644e+00  1.916351e+07  1.480737e+06   \n",
       "std    1.167883e+07  1.698687e+06  4.671906e+01  1.167345e+07  1.543848e+06   \n",
       "min    8.000000e+01  1.000000e+00 -7.300000e+01  9.200000e+01  1.000000e+00   \n",
       "25%    7.715652e+06  4.408440e+05  0.000000e+00  8.876039e+06  2.797618e+05   \n",
       "50%    1.712833e+07  1.235303e+06  1.000000e+00  1.866768e+07  9.494760e+05   \n",
       "75%    2.804313e+07  2.784556e+06  3.000000e+00  2.929020e+07  2.183668e+06   \n",
       "max    4.014319e+07  7.046594e+06  5.190000e+03  4.014339e+07  7.045028e+06   \n",
       "\n",
       "            a_Score        userid    reputation      up_votes    down_votes  \\\n",
       "count  1.990480e+06  1.990480e+06  1.990480e+06  1.990480e+06  1.990480e+06   \n",
       "mean   2.485415e+00  1.480737e+06  4.545504e+04  1.539702e+03  8.212407e+02   \n",
       "std    1.596865e+01  1.543848e+06  1.226378e+05  3.494248e+03  4.199035e+03   \n",
       "min   -4.200000e+01  1.000000e+00  1.000000e+00  0.000000e+00  0.000000e+00   \n",
       "25%    0.000000e+00  2.797618e+05  9.310000e+02  5.800000e+01  2.000000e+00   \n",
       "50%    1.000000e+00  9.494760e+05  5.042000e+03  3.530000e+02  1.800000e+01   \n",
       "75%    2.000000e+00  2.183668e+06  2.806100e+04  1.470000e+03  1.490000e+02   \n",
       "max    5.718000e+03  7.045028e+06  1.128126e+06  1.005200e+05  7.495500e+04   \n",
       "\n",
       "              views  \n",
       "count  1.990480e+06  \n",
       "mean   9.450821e+03  \n",
       "std    7.877572e+04  \n",
       "min    0.000000e+00  \n",
       "25%    1.090000e+02  \n",
       "50%    5.290000e+02  \n",
       "75%    2.675000e+03  \n",
       "max    1.835157e+06  "
      ]
     },
     "execution_count": 52,
     "metadata": {},
     "output_type": "execute_result"
    }
   ],
   "source": [
    "merged_whole.describe()"
   ]
  },
  {
   "cell_type": "markdown",
   "metadata": {
    "id": "q6idgteszenC"
   },
   "source": [
    "**Data Analysis**"
   ]
  },
  {
   "cell_type": "markdown",
   "metadata": {
    "id": "YfNVCEz57Igy"
   },
   "source": [
    "**3.While a user raises a question, Stack Overflow wants to provide some suggestions to the users to get their queries answered quickly.**\n",
    "\n"
   ]
  },
  {
   "cell_type": "markdown",
   "metadata": {
    "id": "Co32UWsOzieI"
   },
   "source": [
    "***Analysis of Top 25 Trending Tags this will help us to understand the active community of tags so that we can suggest the active community tags to the user depending upon the question ***"
   ]
  },
  {
   "cell_type": "code",
   "execution_count": null,
   "metadata": {
    "id": "GkCDhVffzmwn"
   },
   "outputs": [],
   "source": [
    "from collections import Counter"
   ]
  },
  {
   "cell_type": "code",
   "execution_count": null,
   "metadata": {
    "id": "4qWy3MpWzguR"
   },
   "outputs": [],
   "source": [
    "tags = list (merged_whole['Tag'].unique())\n",
    "all_tags = []\n",
    "for tag in tags:\n",
    "    all_tags += tag.split(' ')"
   ]
  },
  {
   "cell_type": "code",
   "execution_count": null,
   "metadata": {
    "id": "OzqKYS3zz-K0"
   },
   "outputs": [],
   "source": [
    "count_tags = Counter(all_tags)\n",
    "tags = pd.DataFrame([list(count_tags.keys()), list(count_tags.values())])\n",
    "tags = tags.transpose()\n",
    "tags.columns = ['tag', 'count']\n",
    "tags = tags.sort_values(by='count', ascending=False)"
   ]
  },
  {
   "cell_type": "code",
   "execution_count": null,
   "metadata": {
    "colab": {
     "base_uri": "https://localhost:8080/",
     "height": 165
    },
    "id": "mk-4zYzTsvTb",
    "outputId": "4353ba36-9bb0-4529-f1ee-bf3faf27e04e"
   },
   "outputs": [],
   "source": [
    "tags.dtypes"
   ]
  },
  {
   "cell_type": "markdown",
   "metadata": {
    "id": "HFy_Mllj0paX"
   },
   "source": [
    "**Popular Tags in Datascience**"
   ]
  },
  {
   "cell_type": "code",
   "execution_count": 57,
   "metadata": {
    "id": "CQgThYh80suW"
   },
   "outputs": [],
   "source": [
    "Datascience_list=['python', 'r', 'matlab', 'sas', 'excel', 'sql']\n",
    "for i in Datascience_list :\n",
    "  x = []\n",
    "  y = []\n",
    "  for tag in Datascience_list:\n",
    "    index = list (tags['tag']).index(tag)\n",
    "    x.append(tag)\n",
    "    y.append(list (tags['count'])[index])"
   ]
  },
  {
   "cell_type": "code",
   "execution_count": 58,
   "metadata": {
    "colab": {
     "base_uri": "https://localhost:8080/",
     "height": 606
    },
    "id": "U2AZSm4C0zWG",
    "outputId": "88005e9d-951e-48d7-ddc5-cff3c8ac6857"
   },
   "outputs": [
    {
     "data": {
      "image/png": "[encoded data removed]",
      "text/plain": [
       "<Figure size 720x720 with 1 Axes>"
      ]
     },
     "metadata": {
      "needs_background": "light"
     },
     "output_type": "display_data"
    }
   ],
   "source": [
    "plt.bar(x, y)\n",
    "plt.ylabel('Count')\n",
    "plt.xlabel('Tags')\n",
    "#plt.title('Popular Data Science Tags')\n",
    "plt.show()"
   ]
  },
  {
   "cell_type": "markdown",
   "metadata": {
    "id": "BPM3Yb1o08WL"
   },
   "source": [
    "***Python is more popular in Datascience tags than sql as it is a general programming so once the user asks questions in python Stack overflow can suggest the user to tag the python tag using Auto tagging feature depending upon the question for getting the response quickly ***"
   ]
  },
  {
   "cell_type": "markdown",
   "metadata": {
    "id": "AiXtbaBX1Usy"
   },
   "source": [
    "**Filtering the Datset with respect to Datascience tags**"
   ]
  },
  {
   "cell_type": "code",
   "execution_count": 59,
   "metadata": {
    "id": "nvqhfmwj1aZs"
   },
   "outputs": [],
   "source": [
    "Datascience=['python','r' ,'matlab', 'sas', 'excel', 'sql']\n",
    "def filter_datascience(tags):\n",
    "    \"\"\"Function to check if tag is in most common tag list\"\"\"\n",
    "    tags_filtered = []  \n",
    "    for i in range(0, len(tags)):\n",
    "      for j in range(i,len(Datascience)):\n",
    "        if tags[i] == Datascience[j]:\n",
    "            tags_filtered.append(tags[i])\n",
    "    return ' '.join([str(x) for x in tags_filtered])\n",
    "     "
   ]
  },
  {
   "cell_type": "code",
   "execution_count": 60,
   "metadata": {
    "colab": {
     "base_uri": "https://localhost:8080/"
    },
    "id": "1RVPtLKaPdpu",
    "outputId": "70463eff-5aa5-4bc2-da07-a207a210bb65"
   },
   "outputs": [
    {
     "data": {
      "text/plain": [
       "15701"
      ]
     },
     "execution_count": 60,
     "metadata": {},
     "output_type": "execute_result"
    }
   ],
   "source": [
    "len(tagsdf[tagsdf.Tag == 'r'])"
   ]
  },
  {
   "cell_type": "code",
   "execution_count": 61,
   "metadata": {},
   "outputs": [
    {
     "name": "stdout",
     "output_type": "stream",
     "text": [
      "Defaulting to user installation because normal site-packages is not writeable\n",
      "Requirement already satisfied: mysql-connector in ./.local/lib/python3.7/site-packages (2.2.9)\n"
     ]
    }
   ],
   "source": [
    "! pip3 install mysql-connector"
   ]
  },
  {
   "cell_type": "code",
   "execution_count": 62,
   "metadata": {},
   "outputs": [],
   "source": [
    "import mysql.connector"
   ]
  },
  {
   "cell_type": "code",
   "execution_count": 63,
   "metadata": {
    "id": "-zZuYLWd5cGb"
   },
   "outputs": [],
   "source": [
    "merged_DS=merged_whole.copy()"
   ]
  },
  {
   "cell_type": "code",
   "execution_count": 64,
   "metadata": {
    "colab": {
     "base_uri": "https://localhost:8080/"
    },
    "id": "UsF34UPOQiiE",
    "outputId": "be449968-feaa-4047-f7a9-e968fffea6aa"
   },
   "outputs": [
    {
     "data": {
      "text/plain": [
       "4205"
      ]
     },
     "execution_count": 64,
     "metadata": {},
     "output_type": "execute_result"
    }
   ],
   "source": [
    "len(merged_whole[merged_whole.Tag == 'r'])"
   ]
  },
  {
   "cell_type": "code",
   "execution_count": 65,
   "metadata": {
    "colab": {
     "base_uri": "https://localhost:8080/",
     "height": 236
    },
    "id": "S1Nik1dn8GXI",
    "outputId": "e7b9f587-f516-410d-d8f8-d12a4724d3fe"
   },
   "outputs": [
    {
     "data": {
      "text/html": [
       "<div>\n",
       "<style scoped>\n",
       "    .dataframe tbody tr th:only-of-type {\n",
       "        vertical-align: middle;\n",
       "    }\n",
       "\n",
       "    .dataframe tbody tr th {\n",
       "        vertical-align: top;\n",
       "    }\n",
       "\n",
       "    .dataframe thead th {\n",
       "        text-align: right;\n",
       "    }\n",
       "</style>\n",
       "<table border=\"1\" class=\"dataframe\">\n",
       "  <thead>\n",
       "    <tr style=\"text-align: right;\">\n",
       "      <th></th>\n",
       "      <th>q_Id</th>\n",
       "      <th>q_userid</th>\n",
       "      <th>q_CreationDate</th>\n",
       "      <th>q_score</th>\n",
       "      <th>q_Title</th>\n",
       "      <th>Tag</th>\n",
       "      <th>a_Id</th>\n",
       "      <th>a_userid</th>\n",
       "      <th>a_CreationDate</th>\n",
       "      <th>a_Score</th>\n",
       "      <th>userid</th>\n",
       "      <th>last_access_date</th>\n",
       "      <th>reputation</th>\n",
       "      <th>up_votes</th>\n",
       "      <th>down_votes</th>\n",
       "      <th>views</th>\n",
       "    </tr>\n",
       "  </thead>\n",
       "  <tbody>\n",
       "    <tr>\n",
       "      <th>0</th>\n",
       "      <td>80</td>\n",
       "      <td>26.0</td>\n",
       "      <td>2008-08-01 13:57:07+00:00</td>\n",
       "      <td>26</td>\n",
       "      <td>SQLStatement.execute() - multiple queries in o...</td>\n",
       "      <td>flex actionscript-3 air</td>\n",
       "      <td>124</td>\n",
       "      <td>26.0</td>\n",
       "      <td>2008-08-01 16:09:47+00:00</td>\n",
       "      <td>12</td>\n",
       "      <td>26</td>\n",
       "      <td>2018-04-11 04:40:35.660000+00:00</td>\n",
       "      <td>11820</td>\n",
       "      <td>565</td>\n",
       "      <td>67</td>\n",
       "      <td>3547</td>\n",
       "    </tr>\n",
       "    <tr>\n",
       "      <th>1</th>\n",
       "      <td>580</td>\n",
       "      <td>91.0</td>\n",
       "      <td>2008-08-02 23:30:59+00:00</td>\n",
       "      <td>21</td>\n",
       "      <td>Deploying SQL Server Databases from Test to Live</td>\n",
       "      <td>sql-server sql-server-2005 deployment release-...</td>\n",
       "      <td>1464</td>\n",
       "      <td>26.0</td>\n",
       "      <td>2008-08-04 18:00:50+00:00</td>\n",
       "      <td>5</td>\n",
       "      <td>26</td>\n",
       "      <td>2018-04-11 04:40:35.660000+00:00</td>\n",
       "      <td>11820</td>\n",
       "      <td>565</td>\n",
       "      <td>67</td>\n",
       "      <td>3547</td>\n",
       "    </tr>\n",
       "  </tbody>\n",
       "</table>\n",
       "</div>"
      ],
      "text/plain": [
       "   q_Id  q_userid            q_CreationDate  q_score  \\\n",
       "0    80      26.0 2008-08-01 13:57:07+00:00       26   \n",
       "1   580      91.0 2008-08-02 23:30:59+00:00       21   \n",
       "\n",
       "                                             q_Title  \\\n",
       "0  SQLStatement.execute() - multiple queries in o...   \n",
       "1   Deploying SQL Server Databases from Test to Live   \n",
       "\n",
       "                                                 Tag  a_Id  a_userid  \\\n",
       "0                            flex actionscript-3 air   124      26.0   \n",
       "1  sql-server sql-server-2005 deployment release-...  1464      26.0   \n",
       "\n",
       "             a_CreationDate  a_Score  userid                 last_access_date  \\\n",
       "0 2008-08-01 16:09:47+00:00       12      26 2018-04-11 04:40:35.660000+00:00   \n",
       "1 2008-08-04 18:00:50+00:00        5      26 2018-04-11 04:40:35.660000+00:00   \n",
       "\n",
       "   reputation  up_votes  down_votes  views  \n",
       "0       11820       565          67   3547  \n",
       "1       11820       565          67   3547  "
      ]
     },
     "execution_count": 65,
     "metadata": {},
     "output_type": "execute_result"
    }
   ],
   "source": [
    "merged_DS.head(2)"
   ]
  },
  {
   "cell_type": "code",
   "execution_count": 66,
   "metadata": {
    "id": "BKtI95-l0hWz"
   },
   "outputs": [],
   "source": [
    "merged_DS[\"Tags\"]=merged_DS.Tag.apply(lambda x : x.split(\" \"))\n",
    "#merged_DS.head(3)\n",
    "\n",
    "merged_DS['Tags']=merged_DS.Tags.apply(lambda x: filter_datascience(x))\n",
    "merged_DS['Tags'] = merged_DS['Tags'].apply(lambda x: x if len(x) >0 else None)"
   ]
  },
  {
   "cell_type": "code",
   "execution_count": 67,
   "metadata": {
    "colab": {
     "base_uri": "https://localhost:8080/",
     "height": 350
    },
    "id": "2agjWP_O2Ni8",
    "outputId": "f585e057-936f-48ed-da46-dfabc51692aa"
   },
   "outputs": [
    {
     "data": {
      "text/html": [
       "<div>\n",
       "<style scoped>\n",
       "    .dataframe tbody tr th:only-of-type {\n",
       "        vertical-align: middle;\n",
       "    }\n",
       "\n",
       "    .dataframe tbody tr th {\n",
       "        vertical-align: top;\n",
       "    }\n",
       "\n",
       "    .dataframe thead th {\n",
       "        text-align: right;\n",
       "    }\n",
       "</style>\n",
       "<table border=\"1\" class=\"dataframe\">\n",
       "  <thead>\n",
       "    <tr style=\"text-align: right;\">\n",
       "      <th></th>\n",
       "      <th>q_Id</th>\n",
       "      <th>q_userid</th>\n",
       "      <th>q_CreationDate</th>\n",
       "      <th>q_score</th>\n",
       "      <th>q_Title</th>\n",
       "      <th>Tag</th>\n",
       "      <th>a_Id</th>\n",
       "      <th>a_userid</th>\n",
       "      <th>a_CreationDate</th>\n",
       "      <th>a_Score</th>\n",
       "      <th>userid</th>\n",
       "      <th>last_access_date</th>\n",
       "      <th>reputation</th>\n",
       "      <th>up_votes</th>\n",
       "      <th>down_votes</th>\n",
       "      <th>views</th>\n",
       "      <th>Tags</th>\n",
       "    </tr>\n",
       "  </thead>\n",
       "  <tbody>\n",
       "    <tr>\n",
       "      <th>6</th>\n",
       "      <td>252230</td>\n",
       "      <td>28004.0</td>\n",
       "      <td>2008-10-31 00:17:40+00:00</td>\n",
       "      <td>4</td>\n",
       "      <td>Stored procedures or inline queries?</td>\n",
       "      <td>sql stored-procedures subsonic</td>\n",
       "      <td>252595</td>\n",
       "      <td>26.0</td>\n",
       "      <td>2008-10-31 04:27:08+00:00</td>\n",
       "      <td>0</td>\n",
       "      <td>26</td>\n",
       "      <td>2018-04-11 04:40:35.660000+00:00</td>\n",
       "      <td>11820</td>\n",
       "      <td>565</td>\n",
       "      <td>67</td>\n",
       "      <td>3547</td>\n",
       "      <td>sql</td>\n",
       "    </tr>\n",
       "    <tr>\n",
       "      <th>21</th>\n",
       "      <td>1990020</td>\n",
       "      <td>242085.0</td>\n",
       "      <td>2010-01-01 23:29:24+00:00</td>\n",
       "      <td>2</td>\n",
       "      <td>SQL statement - update on two tables</td>\n",
       "      <td>sql sql-server</td>\n",
       "      <td>1990040</td>\n",
       "      <td>26.0</td>\n",
       "      <td>2010-01-01 23:36:57+00:00</td>\n",
       "      <td>1</td>\n",
       "      <td>26</td>\n",
       "      <td>2018-04-11 04:40:35.660000+00:00</td>\n",
       "      <td>11820</td>\n",
       "      <td>565</td>\n",
       "      <td>67</td>\n",
       "      <td>3547</td>\n",
       "      <td>sql</td>\n",
       "    </tr>\n",
       "    <tr>\n",
       "      <th>105</th>\n",
       "      <td>120</td>\n",
       "      <td>83.0</td>\n",
       "      <td>2008-08-01 15:50:08+00:00</td>\n",
       "      <td>21</td>\n",
       "      <td>ASP.NET Site Maps</td>\n",
       "      <td>sql asp.net sitemap</td>\n",
       "      <td>124363</td>\n",
       "      <td>12734.0</td>\n",
       "      <td>2008-09-23 22:41:11+00:00</td>\n",
       "      <td>9</td>\n",
       "      <td>12734</td>\n",
       "      <td>2019-08-29 19:59:10.743000+00:00</td>\n",
       "      <td>695</td>\n",
       "      <td>35</td>\n",
       "      <td>0</td>\n",
       "      <td>105</td>\n",
       "      <td>sql</td>\n",
       "    </tr>\n",
       "    <tr>\n",
       "      <th>113</th>\n",
       "      <td>1068900</td>\n",
       "      <td>NaN</td>\n",
       "      <td>2009-07-01 12:29:25+00:00</td>\n",
       "      <td>2</td>\n",
       "      <td>Keep code in separate file</td>\n",
       "      <td>php sql mysql</td>\n",
       "      <td>1068927</td>\n",
       "      <td>50.0</td>\n",
       "      <td>2009-07-01 12:34:48+00:00</td>\n",
       "      <td>1</td>\n",
       "      <td>50</td>\n",
       "      <td>2019-08-26 23:37:44.843000+00:00</td>\n",
       "      <td>8525</td>\n",
       "      <td>814</td>\n",
       "      <td>50</td>\n",
       "      <td>1731</td>\n",
       "      <td>sql</td>\n",
       "    </tr>\n",
       "  </tbody>\n",
       "</table>\n",
       "</div>"
      ],
      "text/plain": [
       "        q_Id  q_userid            q_CreationDate  q_score  \\\n",
       "6     252230   28004.0 2008-10-31 00:17:40+00:00        4   \n",
       "21   1990020  242085.0 2010-01-01 23:29:24+00:00        2   \n",
       "105      120      83.0 2008-08-01 15:50:08+00:00       21   \n",
       "113  1068900       NaN 2009-07-01 12:29:25+00:00        2   \n",
       "\n",
       "                                  q_Title                             Tag  \\\n",
       "6    Stored procedures or inline queries?  sql stored-procedures subsonic   \n",
       "21   SQL statement - update on two tables                  sql sql-server   \n",
       "105                     ASP.NET Site Maps             sql asp.net sitemap   \n",
       "113            Keep code in separate file                   php sql mysql   \n",
       "\n",
       "        a_Id  a_userid            a_CreationDate  a_Score  userid  \\\n",
       "6     252595      26.0 2008-10-31 04:27:08+00:00        0      26   \n",
       "21   1990040      26.0 2010-01-01 23:36:57+00:00        1      26   \n",
       "105   124363   12734.0 2008-09-23 22:41:11+00:00        9   12734   \n",
       "113  1068927      50.0 2009-07-01 12:34:48+00:00        1      50   \n",
       "\n",
       "                    last_access_date  reputation  up_votes  down_votes  views  \\\n",
       "6   2018-04-11 04:40:35.660000+00:00       11820       565          67   3547   \n",
       "21  2018-04-11 04:40:35.660000+00:00       11820       565          67   3547   \n",
       "105 2019-08-29 19:59:10.743000+00:00         695        35           0    105   \n",
       "113 2019-08-26 23:37:44.843000+00:00        8525       814          50   1731   \n",
       "\n",
       "    Tags  \n",
       "6    sql  \n",
       "21   sql  \n",
       "105  sql  \n",
       "113  sql  "
      ]
     },
     "execution_count": 67,
     "metadata": {},
     "output_type": "execute_result"
    }
   ],
   "source": [
    "# Drop rows that contain None in Tags column\n",
    "merged_DS.dropna(subset=['Tags'], inplace=True)\n",
    "merged_DS.head(4)\n"
   ]
  },
  {
   "cell_type": "code",
   "execution_count": 68,
   "metadata": {
    "colab": {
     "base_uri": "https://localhost:8080/"
    },
    "id": "R0VPdMJTlSRI",
    "outputId": "582e9417-fb6e-46c3-84af-213be8f0d084"
   },
   "outputs": [
    {
     "data": {
      "text/plain": [
       "(210361, 17)"
      ]
     },
     "execution_count": 68,
     "metadata": {},
     "output_type": "execute_result"
    }
   ],
   "source": [
    "merged_DS.shape"
   ]
  },
  {
   "cell_type": "code",
   "execution_count": 69,
   "metadata": {
    "id": "ZvfTavyE8crc"
   },
   "outputs": [],
   "source": [
    "#Splitting only Tag and QID\n",
    "tag_fg = merged_DS[[\"Tags\",\"q_Id\",\"Tag\"]]\n"
   ]
  },
  {
   "cell_type": "code",
   "execution_count": 70,
   "metadata": {
    "colab": {
     "base_uri": "https://localhost:8080/"
    },
    "id": "LMAaA8Go-d-q",
    "outputId": "e47b6272-272b-4027-ff5b-78f8be065f01"
   },
   "outputs": [
    {
     "data": {
      "text/plain": [
       "(210361, 17)"
      ]
     },
     "execution_count": 70,
     "metadata": {},
     "output_type": "execute_result"
    }
   ],
   "source": [
    "merged_DS.shape"
   ]
  },
  {
   "cell_type": "code",
   "execution_count": 71,
   "metadata": {
    "colab": {
     "base_uri": "https://localhost:8080/"
    },
    "id": "HsFf6OOF-KWo",
    "outputId": "619e5897-bb29-42a5-8ad7-4b4e28433fb9"
   },
   "outputs": [
    {
     "data": {
      "text/plain": [
       "(210361, 3)"
      ]
     },
     "execution_count": 71,
     "metadata": {},
     "output_type": "execute_result"
    }
   ],
   "source": [
    "tag_fg.shape"
   ]
  },
  {
   "cell_type": "code",
   "execution_count": 72,
   "metadata": {
    "colab": {
     "base_uri": "https://localhost:8080/"
    },
    "id": "qt1t_-gb-Nwk",
    "outputId": "54f95d4f-547c-4629-defc-6703d01c0599"
   },
   "outputs": [
    {
     "name": "stderr",
     "output_type": "stream",
     "text": [
      "/home/ec2-user/.local/lib/python3.7/site-packages/ipykernel_launcher.py:1: SettingWithCopyWarning: \n",
      "A value is trying to be set on a copy of a slice from a DataFrame\n",
      "\n",
      "See the caveats in the documentation: https://pandas.pydata.org/pandas-docs/stable/user_guide/indexing.html#returning-a-view-versus-a-copy\n",
      "  \"\"\"Entry point for launching an IPython kernel.\n"
     ]
    }
   ],
   "source": [
    "tag_fg.drop_duplicates(subset=\"q_Id\",inplace=True)"
   ]
  },
  {
   "cell_type": "code",
   "execution_count": 73,
   "metadata": {
    "colab": {
     "base_uri": "https://localhost:8080/"
    },
    "id": "2GeQtFk89Wub",
    "outputId": "bf3cd8d9-cd90-4f3c-fc07-6ae3719e74cf"
   },
   "outputs": [
    {
     "data": {
      "text/plain": [
       "False"
      ]
     },
     "execution_count": 73,
     "metadata": {},
     "output_type": "execute_result"
    }
   ],
   "source": [
    "tag_fg[\"q_Id\"].duplicated().any()"
   ]
  },
  {
   "cell_type": "code",
   "execution_count": 74,
   "metadata": {
    "colab": {
     "base_uri": "https://localhost:8080/"
    },
    "id": "Xtgymp1f_YDw",
    "outputId": "f657b8c8-fd20-4c57-9f49-24679bf5108c"
   },
   "outputs": [
    {
     "data": {
      "text/plain": [
       "(115093, 3)"
      ]
     },
     "execution_count": 74,
     "metadata": {},
     "output_type": "execute_result"
    }
   ],
   "source": [
    "tag_fg.shape"
   ]
  },
  {
   "cell_type": "code",
   "execution_count": 75,
   "metadata": {
    "colab": {
     "base_uri": "https://localhost:8080/",
     "height": 592
    },
    "id": "UO_JtjhjFCku",
    "outputId": "5f5e67ff-7c7f-466d-d8b2-6a4866cbed09"
   },
   "outputs": [
    {
     "data": {
      "image/png": "[encoded data removed]",
      "text/plain": [
       "<Figure size 720x720 with 1 Axes>"
      ]
     },
     "metadata": {
      "needs_background": "light"
     },
     "output_type": "display_data"
    }
   ],
   "source": [
    "tag_fg.Tags.value_counts()[:6].plot.barh()\n",
    "plt.title=\"Top Datascience Tagged Question\""
   ]
  },
  {
   "cell_type": "code",
   "execution_count": 76,
   "metadata": {
    "colab": {
     "base_uri": "https://localhost:8080/"
    },
    "id": "ET6mUqCCI6ZS",
    "outputId": "22dedfdd-d843-4c86-a1d3-d4ba1ed80e48"
   },
   "outputs": [
    {
     "data": {
      "text/plain": [
       "Tags\n",
       "python              54278\n",
       "sql                 32810\n",
       "r                   12775\n",
       "excel                8161\n",
       "matlab               5242\n",
       "sas                   551\n",
       "python sql            337\n",
       "python excel          263\n",
       "sql excel             161\n",
       "python matlab         139\n",
       "python r              118\n",
       "r excel                56\n",
       "sql sas                51\n",
       "excel matlab           38\n",
       "r matlab               37\n",
       "sql r                  30\n",
       "r sas                  17\n",
       "excel sas               9\n",
       "python sas              4\n",
       "python r excel          4\n",
       "sql matlab              3\n",
       "python sql excel        2\n",
       "python r matlab         2\n",
       "excel r                 1\n",
       "sql excel sas           1\n",
       "sql r excel             1\n",
       "sql r sas               1\n",
       "r excel matlab          1\n",
       "dtype: int64"
      ]
     },
     "execution_count": 76,
     "metadata": {},
     "output_type": "execute_result"
    }
   ],
   "source": [
    "tag_fg.groupby('Tags').size().sort_values(ascending=False)"
   ]
  },
  {
   "cell_type": "markdown",
   "metadata": {
    "id": "uZtYCPqpGR5e"
   },
   "source": [
    "**From the above graph we can infer that the most popular tag in the questions is the Datascience is Python and then sql**"
   ]
  },
  {
   "cell_type": "code",
   "execution_count": 81,
   "metadata": {},
   "outputs": [
    {
     "name": "stdout",
     "output_type": "stream",
     "text": [
      "[('demo', 'Divya'), ('demo', 'Divya'), ('demo', 'Divya')]\n"
     ]
    }
   ],
   "source": [
    "# Connector object\n",
    "dbc = mysql.connector.connect(\n",
    "host = \"test-instance.cw59yln8cdg6.us-east-1.rds.amazonaws.com\",user = \"admin\",passwd = \"admin123\",port = 3306,database = \"stackoverflow\")\n",
    "# Defining the cursor object\n",
    "cur = dbc.cursor()\n",
    "name=\"Divya\"\n",
    "image=\"demo\"\n",
    "# Inserting the values into columns\n",
    "sql = \"INSERT INTO demo(image, name) VALUES (%s, %s)\"\n",
    "val = (image,name)\n",
    "cur.execute(sql, val)\n",
    "dbc.commit()\n",
    "# Read the stored values from RDS\n",
    "cur.execute(\"SELECT image,name FROM demo\")\n",
    "result = cur.fetchall()\n",
    "# Displaying the results\n",
    "print(result)"
   ]
  },
  {
   "cell_type": "code",
   "execution_count": 78,
   "metadata": {},
   "outputs": [
    {
     "name": "stdout",
     "output_type": "stream",
     "text": [
      "Defaulting to user installation because normal site-packages is not writeable\n",
      "Requirement already satisfied: sqlalchemy in ./.local/lib/python3.7/site-packages (1.3.23)\n",
      "Note: you may need to restart the kernel to use updated packages.\n"
     ]
    }
   ],
   "source": [
    "pip install sqlalchemy"
   ]
  },
  {
   "cell_type": "code",
   "execution_count": 83,
   "metadata": {},
   "outputs": [],
   "source": [
    "import sqlalchemy"
   ]
  },
  {
   "cell_type": "markdown",
   "metadata": {},
   "source": [
    "### Inserting tag_fg EDA Data to RDS"
   ]
  },
  {
   "cell_type": "code",
   "execution_count": 84,
   "metadata": {},
   "outputs": [],
   "source": [
    "host=\"test-instance.cw59yln8cdg6.us-east-1.rds.amazonaws.com\"\n",
    "port=3306\n",
    "dbname=\"stackoverflow\"\n",
    "user=\"admin\"\n",
    "password=\"admin123\" #now they make you add numbers..."
   ]
  },
  {
   "cell_type": "code",
   "execution_count": 85,
   "metadata": {},
   "outputs": [],
   "source": [
    "database_connection = sqlalchemy.create_engine('mysql+mysqlconnector://{0}:{1}@{2}/{3}'\n",
    "            .format(user, password,host, dbname)).connect()"
   ]
  },
  {
   "cell_type": "code",
   "execution_count": 86,
   "metadata": {},
   "outputs": [],
   "source": [
    "tag_fg.to_sql(con=database_connection, name=\"tag_fg\", if_exists='replace',chunksize=100, index=False)"
   ]
  },
  {
   "cell_type": "code",
   "execution_count": 87,
   "metadata": {},
   "outputs": [],
   "source": [
    "# Creating SQL query to use together with database_connection in next line\n",
    "\n",
    "sql_query='''\n",
    "SELECT * FROM tag_fg limit 3\n",
    "'''"
   ]
  },
  {
   "cell_type": "code",
   "execution_count": 88,
   "metadata": {},
   "outputs": [],
   "source": [
    "tag_data=pd.read_sql(sql_query,con=database_connection)"
   ]
  },
  {
   "cell_type": "code",
   "execution_count": 89,
   "metadata": {},
   "outputs": [
    {
     "data": {
      "text/html": [
       "<div>\n",
       "<style scoped>\n",
       "    .dataframe tbody tr th:only-of-type {\n",
       "        vertical-align: middle;\n",
       "    }\n",
       "\n",
       "    .dataframe tbody tr th {\n",
       "        vertical-align: top;\n",
       "    }\n",
       "\n",
       "    .dataframe thead th {\n",
       "        text-align: right;\n",
       "    }\n",
       "</style>\n",
       "<table border=\"1\" class=\"dataframe\">\n",
       "  <thead>\n",
       "    <tr style=\"text-align: right;\">\n",
       "      <th></th>\n",
       "      <th>Tags</th>\n",
       "      <th>q_Id</th>\n",
       "      <th>Tag</th>\n",
       "    </tr>\n",
       "  </thead>\n",
       "  <tbody>\n",
       "    <tr>\n",
       "      <th>0</th>\n",
       "      <td>sql</td>\n",
       "      <td>252230</td>\n",
       "      <td>sql stored-procedures subsonic</td>\n",
       "    </tr>\n",
       "    <tr>\n",
       "      <th>1</th>\n",
       "      <td>sql</td>\n",
       "      <td>1990020</td>\n",
       "      <td>sql sql-server</td>\n",
       "    </tr>\n",
       "  </tbody>\n",
       "</table>\n",
       "</div>"
      ],
      "text/plain": [
       "  Tags     q_Id                             Tag\n",
       "0  sql   252230  sql stored-procedures subsonic\n",
       "1  sql  1990020                  sql sql-server"
      ]
     },
     "execution_count": 89,
     "metadata": {},
     "output_type": "execute_result"
    }
   ],
   "source": [
    "tag_data.head(2)"
   ]
  },
  {
   "cell_type": "markdown",
   "metadata": {
    "id": "uLWu3gbEV6CO"
   },
   "source": [
    "**What are the scoring of Data Science related tags in Questions?**\n",
    "We can suggest these questions the top score question related to tags to the users depending on the ratings"
   ]
  },
  {
   "cell_type": "code",
   "execution_count": 90,
   "metadata": {
    "colab": {
     "base_uri": "https://localhost:8080/"
    },
    "id": "knDGWI4SQ5Rp",
    "outputId": "4f0f468e-1601-42e7-ba55-03bfc378fd1f"
   },
   "outputs": [
    {
     "data": {
      "text/plain": [
       "(666, 2)"
      ]
     },
     "execution_count": 90,
     "metadata": {},
     "output_type": "execute_result"
    }
   ],
   "source": [
    "tag_rate = merged_DS[['Tags', 'q_score']].drop_duplicates().reset_index(drop=True)\n",
    "tag_rate.shape"
   ]
  },
  {
   "cell_type": "code",
   "execution_count": 92,
   "metadata": {
    "colab": {
     "base_uri": "https://localhost:8080/",
     "height": 118,
     "referenced_widgets": [
      "98616a7e9a5c47849b72d2776bb6fc62",
      "3d2ad37d0d0f49c7af673c8d44b6a6b9",
      "919b4738671e4c3f963bbb5f0e5375ef",
      "2200b51783ef49b38c12780003bc183a",
      "d3e9fff2d07c4845b58cd9424827c2c8",
      "91cc73b7bafa49e09a6b96841078f78e",
      "ada04f0aaab747dba2c556d0d68d791e",
      "7f9a24bbe0e44788b54e6264289001bf"
     ]
    },
    "id": "-o9_m4Ifge_k",
    "outputId": "3ef4fea1-3b5f-4c0b-b700-d09e6324ce83"
   },
   "outputs": [],
   "source": [
    "tagRate = {}\n",
    "for i in range(len(tag_rate['Tags'])):\n",
    "    for tag in tag_rate['Tags'][i].split(','):\n",
    "        try:\n",
    "            tagRate[tag].append(tag_rate['q_score'][i])\n",
    "        except Exception:\n",
    "            tagRate[tag] = [tag_rate['q_score'][i]]"
   ]
  },
  {
   "cell_type": "code",
   "execution_count": 93,
   "metadata": {
    "id": "xzQS5IVtgrh-"
   },
   "outputs": [],
   "source": [
    "tagRateAvg = {}\n",
    "for key in list(tagRate.keys()):\n",
    "    tagRateAvg[key] = np.average(tagRate[key])"
   ]
  },
  {
   "cell_type": "code",
   "execution_count": 94,
   "metadata": {
    "id": "30nQqutfguJp"
   },
   "outputs": [],
   "source": [
    "tagRateAvg = pd.DataFrame([list(tagRateAvg.keys()), list(tagRateAvg.values())])\n",
    "tagRateAvg = tagRateAvg.transpose()\n",
    "tagRateAvg.columns = ['Tags', 'q_score']\n",
    "tagRateAvg = tagRateAvg.sort_values('q_score')"
   ]
  },
  {
   "cell_type": "code",
   "execution_count": 95,
   "metadata": {
    "id": "Wk9gGGK6S142"
   },
   "outputs": [],
   "source": [
    "data_science = ['python', 'r', 'matlab', 'sas', 'excel', 'sql']\n",
    "x = []\n",
    "y = []\n",
    "for tag in data_science:\n",
    "    index = list(tagRateAvg['Tags']).index(tag)\n",
    "    x.append(tag)\n",
    "    y.append(list(tagRateAvg['q_score'])[index])"
   ]
  },
  {
   "cell_type": "code",
   "execution_count": 96,
   "metadata": {
    "colab": {
     "base_uri": "https://localhost:8080/",
     "height": 606
    },
    "id": "0QV80hcHS_vi",
    "outputId": "b5d59759-a192-49a3-bca6-e13ce0b08bef"
   },
   "outputs": [
    {
     "data": {
      "image/png": "[encoded data removed]",
      "text/plain": [
       "<Figure size 720x720 with 1 Axes>"
      ]
     },
     "metadata": {
      "needs_background": "light"
     },
     "output_type": "display_data"
    }
   ],
   "source": [
    "plt.bar(x, y)\n",
    "plt.ylabel('Average Rating')\n",
    "plt.xlabel('Tag')\n",
    "plt.title='Scoring of Data Science Tags'\n",
    "plt.show()"
   ]
  },
  {
   "cell_type": "markdown",
   "metadata": {
    "id": "6Kz5iDrRWY6E"
   },
   "source": [
    "From the above graph we can see that **Python** and **R** got the high scores but when most popular tags Python and SQL were highest . **R** scored higher than **SQL**."
   ]
  },
  {
   "cell_type": "code",
   "execution_count": 97,
   "metadata": {
    "colab": {
     "base_uri": "https://localhost:8080/",
     "height": 624
    },
    "id": "k8suqwxGWBTK",
    "outputId": "e5167cd5-b96a-4d24-fb3b-868e6dd4cbab"
   },
   "outputs": [
    {
     "data": {
      "text/plain": [
       "Text(0.5, 1.0, 'excel')"
      ]
     },
     "execution_count": 97,
     "metadata": {},
     "output_type": "execute_result"
    },
    {
     "data": {
      "image/png": "[encoded data removed]",
      "text/plain": [
       "<Figure size 720x720 with 6 Axes>"
      ]
     },
     "metadata": {
      "needs_background": "light"
     },
     "output_type": "display_data"
    }
   ],
   "source": [
    "fig, ax = plt.subplots(2, 3)\n",
    "ax[0][0].plot(tagRate['python'])\n",
    "ax[0][0].set_title('python')\n",
    "\n",
    "ax[0][1].plot(tagRate['r'])\n",
    "ax[0][1].set_title('r')\n",
    "\n",
    "ax[0][2].plot(tagRate['sql'])\n",
    "ax[0][2].set_title('sql')\n",
    "\n",
    "ax[1][0].plot(tagRate['matlab'])\n",
    "ax[1][0].set_title('matlab')\n",
    "\n",
    "ax[1][1].plot(tagRate['sas'])\n",
    "ax[1][1].set_title('sas')\n",
    "\n",
    "ax[1][2].plot(tagRate['excel'])\n",
    "ax[1][2].set_title('excel')"
   ]
  },
  {
   "cell_type": "markdown",
   "metadata": {
    "id": "EkYjS13vWVL7"
   },
   "source": [
    "From the above python has lot of questions we can see that python and SQl has most questions. SAS has the least questions but still R scored well than SQL.Stack overflow should focus more on Python,R and SQL SME . \n",
    "MatLab,SAS  has negative scoring as well ."
   ]
  },
  {
   "cell_type": "markdown",
   "metadata": {
    "id": "yPHZfBP8bXcW"
   },
   "source": [
    "**What are the scoring of Data Science related tags in Answers?**"
   ]
  },
  {
   "cell_type": "code",
   "execution_count": 108,
   "metadata": {
    "colab": {
     "base_uri": "https://localhost:8080/"
    },
    "id": "ov4_nmLPbu3l",
    "outputId": "0f2df2e5-d646-4b10-9759-1ce4ac547297"
   },
   "outputs": [
    {
     "data": {
      "text/plain": [
       "(793, 2)"
      ]
     },
     "execution_count": 108,
     "metadata": {},
     "output_type": "execute_result"
    }
   ],
   "source": [
    "tag_rateans = merged_DS[['Tags', 'a_Score']].drop_duplicates().reset_index(drop=True)\n",
    "tag_rateans.shape"
   ]
  },
  {
   "cell_type": "code",
   "execution_count": 109,
   "metadata": {},
   "outputs": [
    {
     "data": {
      "text/html": [
       "<div>\n",
       "<style scoped>\n",
       "    .dataframe tbody tr th:only-of-type {\n",
       "        vertical-align: middle;\n",
       "    }\n",
       "\n",
       "    .dataframe tbody tr th {\n",
       "        vertical-align: top;\n",
       "    }\n",
       "\n",
       "    .dataframe thead th {\n",
       "        text-align: right;\n",
       "    }\n",
       "</style>\n",
       "<table border=\"1\" class=\"dataframe\">\n",
       "  <thead>\n",
       "    <tr style=\"text-align: right;\">\n",
       "      <th></th>\n",
       "      <th>Tags</th>\n",
       "      <th>a_Score</th>\n",
       "    </tr>\n",
       "  </thead>\n",
       "  <tbody>\n",
       "    <tr>\n",
       "      <th>0</th>\n",
       "      <td>sql</td>\n",
       "      <td>0</td>\n",
       "    </tr>\n",
       "    <tr>\n",
       "      <th>1</th>\n",
       "      <td>sql</td>\n",
       "      <td>1</td>\n",
       "    </tr>\n",
       "  </tbody>\n",
       "</table>\n",
       "</div>"
      ],
      "text/plain": [
       "  Tags  a_Score\n",
       "0  sql        0\n",
       "1  sql        1"
      ]
     },
     "execution_count": 109,
     "metadata": {},
     "output_type": "execute_result"
    }
   ],
   "source": [
    "tag_rateans.head(2)"
   ]
  },
  {
   "cell_type": "code",
   "execution_count": 110,
   "metadata": {
    "colab": {
     "base_uri": "https://localhost:8080/",
     "height": 118,
     "referenced_widgets": [
      "bc3f57b5a52746888f6667c7dee1bfd9",
      "60ff7bd931a6438db2552a95e4578a27",
      "672076325bd946019708a612652c6a0d",
      "aaed4873098542fcbff17ba60296d6fe",
      "286c306a64ef48d6af966a89b5ed84f0",
      "e88c0236f4134cf49fe32db161d10e82",
      "f7e62236fc1240f899e5222f850c92ca",
      "586e4eb1e1ba4e098ae3159383ad57d4"
     ]
    },
    "id": "mjlpEfgHcf8s",
    "outputId": "eeeb13db-ac05-4dd9-e91a-757278743d08"
   },
   "outputs": [],
   "source": [
    "tagRate = {}\n",
    "for i in (range(len(tag_rateans['Tags']))):\n",
    "    for tag in tag_rateans['Tags'][i].split(','):\n",
    "        try:\n",
    "            tagRate[tag].append(tag_rateans['a_Score'][i])\n",
    "        except Exception:\n",
    "            tagRate[tag] = [tag_rateans['a_Score'][i]]"
   ]
  },
  {
   "cell_type": "code",
   "execution_count": 111,
   "metadata": {
    "id": "fN9w7cbecti3"
   },
   "outputs": [],
   "source": [
    "tagRateAvg = {}\n",
    "for key in list(tagRate.keys()):\n",
    "    tagRateAvg[key] = np.average(tagRate[key])"
   ]
  },
  {
   "cell_type": "code",
   "execution_count": 112,
   "metadata": {
    "id": "XArcGy5Fcx03"
   },
   "outputs": [],
   "source": [
    "tagRateAvg = pd.DataFrame([list(tagRateAvg.keys()), list(tagRateAvg.values())])\n",
    "tagRateAvg = tagRateAvg.transpose()\n",
    "tagRateAvg.columns = ['Tags', 'a_Score']\n",
    "tagRateAvg = tagRateAvg.sort_values('a_Score')"
   ]
  },
  {
   "cell_type": "code",
   "execution_count": 113,
   "metadata": {
    "id": "2tu5j2RTbY2Q"
   },
   "outputs": [],
   "source": [
    "data_science = ['python', 'r', 'matlab', 'sas', 'excel', 'sql']\n",
    "x = []\n",
    "y = []\n",
    "for tag in data_science:\n",
    "    index = list(tagRateAvg['Tags']).index(tag)\n",
    "    x.append(tag)\n",
    "    y.append(list(tagRateAvg['a_Score'])[index])"
   ]
  },
  {
   "cell_type": "code",
   "execution_count": 114,
   "metadata": {
    "colab": {
     "base_uri": "https://localhost:8080/",
     "height": 606
    },
    "id": "QvCwVWmec7so",
    "outputId": "e72107b5-d331-46f2-ac32-64e2a7852e00"
   },
   "outputs": [
    {
     "data": {
      "image/png": "[encoded data removed]",
      "text/plain": [
       "<Figure size 720x720 with 1 Axes>"
      ]
     },
     "metadata": {
      "needs_background": "light"
     },
     "output_type": "display_data"
    }
   ],
   "source": [
    "plt.bar(x, y)\n",
    "plt.ylabel('Average Rating')\n",
    "plt.xlabel('Tag')\n",
    "#plt.title('Scoring of Data Science Tags')\n",
    "plt.show()"
   ]
  },
  {
   "cell_type": "markdown",
   "metadata": {
    "id": "37gLUJGkdcpe"
   },
   "source": [
    "**Python and SQL has highest score in answers**"
   ]
  },
  {
   "cell_type": "code",
   "execution_count": 115,
   "metadata": {
    "colab": {
     "base_uri": "https://localhost:8080/",
     "height": 624
    },
    "id": "xsAiUn6adHgB",
    "outputId": "4b72862c-3614-409f-bf07-252389b9ad97"
   },
   "outputs": [
    {
     "data": {
      "text/plain": [
       "Text(0.5, 1.0, 'excel')"
      ]
     },
     "execution_count": 115,
     "metadata": {},
     "output_type": "execute_result"
    },
    {
     "data": {
      "image/png": "[encoded data removed]",
      "text/plain": [
       "<Figure size 720x720 with 6 Axes>"
      ]
     },
     "metadata": {
      "needs_background": "light"
     },
     "output_type": "display_data"
    }
   ],
   "source": [
    "fig, ax = plt.subplots(2, 3)\n",
    "ax[0][0].plot(tagRate['python'])\n",
    "ax[0][0].set_title('python')\n",
    "\n",
    "ax[0][1].plot(tagRate['r'])\n",
    "ax[0][1].set_title('r')\n",
    "\n",
    "ax[0][2].plot(tagRate['sql'])\n",
    "ax[0][2].set_title('sql')\n",
    "\n",
    "ax[1][0].plot(tagRate['matlab'])\n",
    "ax[1][0].set_title('matplotlib')\n",
    "\n",
    "ax[1][1].plot(tagRate['sas'])\n",
    "ax[1][1].set_title('sas')\n",
    "\n",
    "ax[1][2].plot(tagRate['excel'])\n",
    "ax[1][2].set_title('excel')"
   ]
  },
  {
   "cell_type": "markdown",
   "metadata": {
    "id": "SwJXvJVVizFQ"
   },
   "source": [
    "**Python and SQL has more answers and sas has less answers **"
   ]
  },
  {
   "cell_type": "markdown",
   "metadata": {
    "id": "g9au5LU7NeAp"
   },
   "source": [
    "**1.When a user raises a question with a data science tag ('python', 'r', 'matlab', 'sas', 'excel', 'sql'), then Stack Overflow sends the notification to the relevant users.**\n"
   ]
  },
  {
   "cell_type": "markdown",
   "metadata": {
    "id": "zMYadeSsNo6S"
   },
   "source": [
    "**We need to find the top users answering the questions with Datascience with top reputation tags so that the notification is sent to the experts in the respected tags so that the questions are answered by the experts**"
   ]
  },
  {
   "cell_type": "code",
   "execution_count": 116,
   "metadata": {
    "colab": {
     "base_uri": "https://localhost:8080/"
    },
    "id": "JwhfEZDjrzbe",
    "outputId": "c86edbea-d575-4c44-8cab-cd4eb2e4d830"
   },
   "outputs": [
    {
     "data": {
      "text/plain": [
       "count    4.654600e+05\n",
       "mean     1.977049e+03\n",
       "std      1.098895e+04\n",
       "min      1.000000e+00\n",
       "25%      6.600000e+01\n",
       "50%      3.530000e+02\n",
       "75%      1.165000e+03\n",
       "max      1.128126e+06\n",
       "Name: reputation, dtype: float64"
      ]
     },
     "execution_count": 116,
     "metadata": {},
     "output_type": "execute_result"
    }
   ],
   "source": [
    "#Analysing the usersdf by reputation as we need to find the top users with high reputation for Datascience tags.\n",
    "usersdf.reputation.describe()"
   ]
  },
  {
   "cell_type": "code",
   "execution_count": 117,
   "metadata": {
    "colab": {
     "base_uri": "https://localhost:8080/"
    },
    "id": "TewMScscRHAm",
    "outputId": "0661ec8e-8478-4231-ce21-a6d5d7352607"
   },
   "outputs": [
    {
     "data": {
      "text/plain": [
       "(465460, 6)"
      ]
     },
     "execution_count": 117,
     "metadata": {},
     "output_type": "execute_result"
    }
   ],
   "source": [
    "usersdf.shape"
   ]
  },
  {
   "cell_type": "code",
   "execution_count": 118,
   "metadata": {
    "colab": {
     "base_uri": "https://localhost:8080/"
    },
    "id": "2UPyNUyHvqKU",
    "outputId": "060e4879-a6fe-4bf1-8a96-cf99d8d06e11"
   },
   "outputs": [
    {
     "data": {
      "text/plain": [
       "1128126"
      ]
     },
     "execution_count": 118,
     "metadata": {},
     "output_type": "execute_result"
    }
   ],
   "source": [
    "usersdf.reputation.max()"
   ]
  },
  {
   "cell_type": "code",
   "execution_count": 119,
   "metadata": {
    "colab": {
     "base_uri": "https://localhost:8080/"
    },
    "id": "kYhLunytvt-Q",
    "outputId": "31c12b35-780c-431a-a31b-710c6da37db0"
   },
   "outputs": [
    {
     "data": {
      "text/plain": [
       "1"
      ]
     },
     "execution_count": 119,
     "metadata": {},
     "output_type": "execute_result"
    }
   ],
   "source": [
    "usersdf.reputation.min()"
   ]
  },
  {
   "cell_type": "code",
   "execution_count": 120,
   "metadata": {
    "colab": {
     "base_uri": "https://localhost:8080/"
    },
    "id": "1Ojqbfhbvw0U",
    "outputId": "3d076aff-a6bc-4aff-d59b-efc49ce79b14"
   },
   "outputs": [
    {
     "data": {
      "text/plain": [
       "353.0"
      ]
     },
     "execution_count": 120,
     "metadata": {},
     "output_type": "execute_result"
    }
   ],
   "source": [
    "usersdf.reputation.median()"
   ]
  },
  {
   "cell_type": "code",
   "execution_count": 121,
   "metadata": {
    "colab": {
     "base_uri": "https://localhost:8080/",
     "height": 293
    },
    "id": "EYD-XPwdv0y4",
    "outputId": "9b985476-947c-4e7b-d2d6-c620882417f6"
   },
   "outputs": [
    {
     "data": {
      "text/plain": [
       "<AxesSubplot:>"
      ]
     },
     "execution_count": 121,
     "metadata": {},
     "output_type": "execute_result"
    },
    {
     "data": {
      "image/png": "[encoded data removed]",
      "text/plain": [
       "<Figure size 720x720 with 1 Axes>"
      ]
     },
     "metadata": {
      "needs_background": "light"
     },
     "output_type": "display_data"
    }
   ],
   "source": [
    "usersdf.reputation.plot.box()"
   ]
  },
  {
   "cell_type": "markdown",
   "metadata": {
    "id": "JGUPTYeVOvwe"
   },
   "source": [
    "**Reputation is highly Skewed and contains lot of outliers we can standardize the dataset by filtering based on Quartile**"
   ]
  },
  {
   "cell_type": "markdown",
   "metadata": {
    "id": "H9dIi0l2gWZW"
   },
   "source": [
    "**Univariate Analysis of Reputation in Usersdf**"
   ]
  },
  {
   "cell_type": "code",
   "execution_count": 122,
   "metadata": {
    "id": "cUzAJW-ExD-F"
   },
   "outputs": [],
   "source": [
    "Q1 = np.percentile(usersdf.reputation, 25, interpolation = 'midpoint') "
   ]
  },
  {
   "cell_type": "code",
   "execution_count": 123,
   "metadata": {
    "id": "PbJ4JtcwymZE"
   },
   "outputs": [],
   "source": [
    "Q3 = np.percentile(usersdf.reputation, 75, interpolation = 'midpoint') "
   ]
  },
  {
   "cell_type": "code",
   "execution_count": 124,
   "metadata": {
    "colab": {
     "base_uri": "https://localhost:8080/"
    },
    "id": "GSKePe2Wy3R9",
    "outputId": "b5bdadba-632f-4540-b920-4bc8a483a34d"
   },
   "outputs": [
    {
     "name": "stdout",
     "output_type": "stream",
     "text": [
      "Reputation Quartile in the users dataset IQR : 1099.0\n"
     ]
    }
   ],
   "source": [
    "IQR=Q3-Q1\n",
    "print(\"Reputation Quartile in the users dataset IQR :\",IQR)"
   ]
  },
  {
   "cell_type": "code",
   "execution_count": 125,
   "metadata": {
    "colab": {
     "base_uri": "https://localhost:8080/",
     "height": 355
    },
    "id": "uO1jPeq60z6g",
    "outputId": "e6f1a084-08e4-4682-9aa9-cbbfd3779d8b"
   },
   "outputs": [
    {
     "data": {
      "image/png": "[encoded data removed]",
      "text/plain": [
       "<Figure size 720x720 with 16 Axes>"
      ]
     },
     "metadata": {
      "needs_background": "light"
     },
     "output_type": "display_data"
    }
   ],
   "source": [
    "#Analysing the filtered dataset of only Datascience tags Merged_DS is the filtered DS related to Datascience\n",
    "merged_DS.hist(bins=15, color='steelblue', edgecolor='black', linewidth=1.0,\n",
    "           xlabelsize=8, ylabelsize=8, grid=False)    \n",
    "plt.tight_layout(rect=(0, 0, 1.2, 1.2))"
   ]
  },
  {
   "cell_type": "code",
   "execution_count": 126,
   "metadata": {
    "colab": {
     "base_uri": "https://localhost:8080/"
    },
    "id": "lWG2CwnCg8mv",
    "outputId": "239dbfeb-df93-47c0-9318-cd173a3d151f"
   },
   "outputs": [
    {
     "data": {
      "text/plain": [
       "count    2.103610e+05\n",
       "mean     6.443569e+04\n",
       "std      1.474824e+05\n",
       "min      1.000000e+00\n",
       "25%      1.361000e+03\n",
       "50%      8.450000e+03\n",
       "75%      4.869800e+04\n",
       "max      1.128126e+06\n",
       "Name: reputation, dtype: float64"
      ]
     },
     "execution_count": 126,
     "metadata": {},
     "output_type": "execute_result"
    }
   ],
   "source": [
    "merged_DS.reputation.describe()"
   ]
  },
  {
   "cell_type": "code",
   "execution_count": 127,
   "metadata": {
    "colab": {
     "base_uri": "https://localhost:8080/",
     "height": 295
    },
    "id": "7UcmrzTk4HP1",
    "outputId": "f53c46be-8119-4a45-b40b-ac5699f2eba6"
   },
   "outputs": [
    {
     "data": {
      "text/plain": [
       "<AxesSubplot:ylabel='Frequency'>"
      ]
     },
     "execution_count": 127,
     "metadata": {},
     "output_type": "execute_result"
    },
    {
     "data": {
      "image/png": "[encoded data removed]",
      "text/plain": [
       "<Figure size 720x720 with 1 Axes>"
      ]
     },
     "metadata": {
      "needs_background": "light"
     },
     "output_type": "display_data"
    }
   ],
   "source": [
    "merged_DS[\"reputation\"].plot.hist(bins=20)"
   ]
  },
  {
   "cell_type": "markdown",
   "metadata": {
    "id": "DH3PMVIU8kd1"
   },
   "source": [
    "**Reputation is skewed which we can standardize using the IQR filtering**"
   ]
  },
  {
   "cell_type": "code",
   "execution_count": 128,
   "metadata": {
    "colab": {
     "base_uri": "https://localhost:8080/",
     "height": 293
    },
    "id": "Fov74I4Hgvnl",
    "outputId": "ddd5be9d-6218-468b-8c55-a41999c35410"
   },
   "outputs": [
    {
     "data": {
      "text/plain": [
       "<AxesSubplot:>"
      ]
     },
     "execution_count": 128,
     "metadata": {},
     "output_type": "execute_result"
    },
    {
     "data": {
      "image/png": "[encoded data removed]",
      "text/plain": [
       "<Figure size 720x720 with 1 Axes>"
      ]
     },
     "metadata": {
      "needs_background": "light"
     },
     "output_type": "display_data"
    }
   ],
   "source": [
    "merged_DS[\"reputation\"].plot.box()"
   ]
  },
  {
   "cell_type": "markdown",
   "metadata": {
    "id": "YzA0aAEMhDpX"
   },
   "source": [
    "**The reputation is totally Skewed in the Datascience Filtered Set so we need to Standardize and will be filtering only the users with reputation in the Quartlie to get maximum reach of the question when it is posted to float it to the respected SME in the tags**"
   ]
  },
  {
   "cell_type": "code",
   "execution_count": 129,
   "metadata": {
    "id": "zjaGoJmg1hYz"
   },
   "outputs": [],
   "source": [
    "# Computing IQR in Datascience Filetered Set\n",
    "Q1 = merged_DS['reputation'].quantile(0.25)\n",
    "Q3 = merged_DS['reputation'].quantile(0.75)\n",
    "IQR = Q3 - Q1\n",
    "\n",
    "# Filtering Values between Q1-1.5IQR and Q3+1.5IQR\n",
    "filtered = merged_DS.query('(@Q1 - 1.5 * @IQR) <= reputation <= (@Q3 + 1.5 * @IQR)')"
   ]
  },
  {
   "cell_type": "code",
   "execution_count": 130,
   "metadata": {
    "colab": {
     "base_uri": "https://localhost:8080/",
     "height": 349
    },
    "id": "2vf5FQLn14bD",
    "outputId": "b0ad56f9-ea95-4ce8-9a5c-58069b43e0ee"
   },
   "outputs": [
    {
     "data": {
      "text/plain": [
       "<AxesSubplot:>"
      ]
     },
     "execution_count": 130,
     "metadata": {},
     "output_type": "execute_result"
    },
    {
     "data": {
      "image/png": "[encoded data removed]",
      "text/plain": [
       "<Figure size 720x720 with 1 Axes>"
      ]
     },
     "metadata": {
      "needs_background": "light"
     },
     "output_type": "display_data"
    }
   ],
   "source": [
    "# Ploting the result to check the difference\n",
    "merged_DS.join(filtered, rsuffix='_filtered').boxplot()"
   ]
  },
  {
   "cell_type": "code",
   "execution_count": 131,
   "metadata": {
    "colab": {
     "base_uri": "https://localhost:8080/",
     "height": 282
    },
    "id": "m6VI_dT02flp",
    "outputId": "e3018073-bb52-4e4f-9031-05517acd9232"
   },
   "outputs": [
    {
     "data": {
      "text/plain": [
       "<AxesSubplot:>"
      ]
     },
     "execution_count": 131,
     "metadata": {},
     "output_type": "execute_result"
    },
    {
     "data": {
      "image/png": "[encoded data removed]",
      "text/plain": [
       "<Figure size 720x720 with 1 Axes>"
      ]
     },
     "metadata": {
      "needs_background": "light"
     },
     "output_type": "display_data"
    }
   ],
   "source": [
    "filtered.reputation.plot.box()"
   ]
  },
  {
   "cell_type": "code",
   "execution_count": 133,
   "metadata": {
    "colab": {
     "base_uri": "https://localhost:8080/",
     "height": 298
    },
    "id": "6nziSr7q4Wxq",
    "outputId": "fb0b66e5-2b09-4b30-b035-2a1e4cb849f5"
   },
   "outputs": [
    {
     "data": {
      "text/plain": [
       "<AxesSubplot:ylabel='Frequency'>"
      ]
     },
     "execution_count": 133,
     "metadata": {},
     "output_type": "execute_result"
    },
    {
     "data": {
      "image/png": "[encoded data removed]",
      "text/plain": [
       "<Figure size 720x720 with 1 Axes>"
      ]
     },
     "metadata": {
      "needs_background": "light"
     },
     "output_type": "display_data"
    }
   ],
   "source": [
    "filtered.reputation.plot.hist(bins=20)\n",
    "#plt.title(\"Distribution of Reputation after Standardization\")"
   ]
  },
  {
   "cell_type": "code",
   "execution_count": 134,
   "metadata": {
    "colab": {
     "base_uri": "https://localhost:8080/"
    },
    "id": "kU-Erf632jQv",
    "outputId": "afe46071-fe8e-4941-c062-ca4557803108"
   },
   "outputs": [
    {
     "data": {
      "text/plain": [
       "(181204, 17)"
      ]
     },
     "execution_count": 134,
     "metadata": {},
     "output_type": "execute_result"
    }
   ],
   "source": [
    "filtered.shape"
   ]
  },
  {
   "cell_type": "markdown",
   "metadata": {
    "id": "YiN7QM_khlBP"
   },
   "source": [
    "**Grouping the Users with respect to tags for filtering for the notification when a question is posted with Datascience tags**"
   ]
  },
  {
   "cell_type": "code",
   "execution_count": 135,
   "metadata": {
    "id": "cE_KS7jUVv6H"
   },
   "outputs": [],
   "source": [
    "q_expert = filtered[[\"a_userid\",\"reputation\",\"Tags\"]]"
   ]
  },
  {
   "cell_type": "markdown",
   "metadata": {
    "id": "urnfMa9Hjj4Q"
   },
   "source": [
    "**we will use q_expert dataset as DB for sending the notification to relevant users who answer the relevant tags when a question is posted with the tags**"
   ]
  },
  {
   "cell_type": "code",
   "execution_count": 136,
   "metadata": {
    "colab": {
     "base_uri": "https://localhost:8080/"
    },
    "id": "6d25CYu_ckdG",
    "outputId": "7f0f5583-2b9a-424f-ca74-ee3a40acc7a2"
   },
   "outputs": [
    {
     "name": "stderr",
     "output_type": "stream",
     "text": [
      "/home/ec2-user/.local/lib/python3.7/site-packages/ipykernel_launcher.py:1: SettingWithCopyWarning: \n",
      "A value is trying to be set on a copy of a slice from a DataFrame\n",
      "\n",
      "See the caveats in the documentation: https://pandas.pydata.org/pandas-docs/stable/user_guide/indexing.html#returning-a-view-versus-a-copy\n",
      "  \"\"\"Entry point for launching an IPython kernel.\n"
     ]
    }
   ],
   "source": [
    "q_expert.sort_values(by=\"reputation\",ascending=False,inplace=True)"
   ]
  },
  {
   "cell_type": "code",
   "execution_count": 137,
   "metadata": {
    "colab": {
     "base_uri": "https://localhost:8080/",
     "height": 206
    },
    "id": "s_Wn3JJJqyVL",
    "outputId": "baa18345-f281-4b57-d8a2-d7a575c034d4"
   },
   "outputs": [
    {
     "data": {
      "text/html": [
       "<div>\n",
       "<style scoped>\n",
       "    .dataframe tbody tr th:only-of-type {\n",
       "        vertical-align: middle;\n",
       "    }\n",
       "\n",
       "    .dataframe tbody tr th {\n",
       "        vertical-align: top;\n",
       "    }\n",
       "\n",
       "    .dataframe thead th {\n",
       "        text-align: right;\n",
       "    }\n",
       "</style>\n",
       "<table border=\"1\" class=\"dataframe\">\n",
       "  <thead>\n",
       "    <tr style=\"text-align: right;\">\n",
       "      <th></th>\n",
       "      <th>a_userid</th>\n",
       "      <th>reputation</th>\n",
       "      <th>Tags</th>\n",
       "    </tr>\n",
       "  </thead>\n",
       "  <tbody>\n",
       "    <tr>\n",
       "      <th>27190</th>\n",
       "      <td>2688.0</td>\n",
       "      <td>119702</td>\n",
       "      <td>sql</td>\n",
       "    </tr>\n",
       "    <tr>\n",
       "      <th>81169</th>\n",
       "      <td>14637.0</td>\n",
       "      <td>119365</td>\n",
       "      <td>python</td>\n",
       "    </tr>\n",
       "    <tr>\n",
       "      <th>81088</th>\n",
       "      <td>14637.0</td>\n",
       "      <td>119365</td>\n",
       "      <td>r</td>\n",
       "    </tr>\n",
       "    <tr>\n",
       "      <th>81158</th>\n",
       "      <td>14637.0</td>\n",
       "      <td>119365</td>\n",
       "      <td>python</td>\n",
       "    </tr>\n",
       "    <tr>\n",
       "      <th>81159</th>\n",
       "      <td>14637.0</td>\n",
       "      <td>119365</td>\n",
       "      <td>python</td>\n",
       "    </tr>\n",
       "  </tbody>\n",
       "</table>\n",
       "</div>"
      ],
      "text/plain": [
       "       a_userid  reputation    Tags\n",
       "27190    2688.0      119702     sql\n",
       "81169   14637.0      119365  python\n",
       "81088   14637.0      119365       r\n",
       "81158   14637.0      119365  python\n",
       "81159   14637.0      119365  python"
      ]
     },
     "execution_count": 137,
     "metadata": {},
     "output_type": "execute_result"
    }
   ],
   "source": [
    "q_expert.head(5)"
   ]
  },
  {
   "cell_type": "code",
   "execution_count": 138,
   "metadata": {
    "colab": {
     "base_uri": "https://localhost:8080/"
    },
    "id": "0JBGDKIHrXk3",
    "outputId": "0c537f2a-14d9-4823-a512-3a9238bd340a"
   },
   "outputs": [
    {
     "data": {
      "text/plain": [
       "(181204, 3)"
      ]
     },
     "execution_count": 138,
     "metadata": {},
     "output_type": "execute_result"
    }
   ],
   "source": [
    "q_expert.shape"
   ]
  },
  {
   "cell_type": "code",
   "execution_count": 139,
   "metadata": {
    "colab": {
     "base_uri": "https://localhost:8080/"
    },
    "id": "grYLVH2Yq5sL",
    "outputId": "670cadd2-e20b-44bc-b5b1-af67c7a8dd53"
   },
   "outputs": [
    {
     "name": "stderr",
     "output_type": "stream",
     "text": [
      "/home/ec2-user/.local/lib/python3.7/site-packages/ipykernel_launcher.py:1: SettingWithCopyWarning: \n",
      "A value is trying to be set on a copy of a slice from a DataFrame\n",
      "\n",
      "See the caveats in the documentation: https://pandas.pydata.org/pandas-docs/stable/user_guide/indexing.html#returning-a-view-versus-a-copy\n",
      "  \"\"\"Entry point for launching an IPython kernel.\n"
     ]
    }
   ],
   "source": [
    "q_expert.drop_duplicates(subset=[\"a_userid\",\"Tags\"],inplace=True)"
   ]
  },
  {
   "cell_type": "code",
   "execution_count": 140,
   "metadata": {
    "colab": {
     "base_uri": "https://localhost:8080/",
     "height": 206
    },
    "id": "7K7G7b8grQmF",
    "outputId": "57a69ca7-1bc2-4b58-88f3-655ea4b69733"
   },
   "outputs": [
    {
     "data": {
      "text/html": [
       "<div>\n",
       "<style scoped>\n",
       "    .dataframe tbody tr th:only-of-type {\n",
       "        vertical-align: middle;\n",
       "    }\n",
       "\n",
       "    .dataframe tbody tr th {\n",
       "        vertical-align: top;\n",
       "    }\n",
       "\n",
       "    .dataframe thead th {\n",
       "        text-align: right;\n",
       "    }\n",
       "</style>\n",
       "<table border=\"1\" class=\"dataframe\">\n",
       "  <thead>\n",
       "    <tr style=\"text-align: right;\">\n",
       "      <th></th>\n",
       "      <th>a_userid</th>\n",
       "      <th>reputation</th>\n",
       "      <th>Tags</th>\n",
       "    </tr>\n",
       "  </thead>\n",
       "  <tbody>\n",
       "    <tr>\n",
       "      <th>27190</th>\n",
       "      <td>2688.0</td>\n",
       "      <td>119702</td>\n",
       "      <td>sql</td>\n",
       "    </tr>\n",
       "    <tr>\n",
       "      <th>81169</th>\n",
       "      <td>14637.0</td>\n",
       "      <td>119365</td>\n",
       "      <td>python</td>\n",
       "    </tr>\n",
       "    <tr>\n",
       "      <th>81088</th>\n",
       "      <td>14637.0</td>\n",
       "      <td>119365</td>\n",
       "      <td>r</td>\n",
       "    </tr>\n",
       "    <tr>\n",
       "      <th>81063</th>\n",
       "      <td>14637.0</td>\n",
       "      <td>119365</td>\n",
       "      <td>sql</td>\n",
       "    </tr>\n",
       "    <tr>\n",
       "      <th>788958</th>\n",
       "      <td>569436.0</td>\n",
       "      <td>119301</td>\n",
       "      <td>sql</td>\n",
       "    </tr>\n",
       "  </tbody>\n",
       "</table>\n",
       "</div>"
      ],
      "text/plain": [
       "        a_userid  reputation    Tags\n",
       "27190     2688.0      119702     sql\n",
       "81169    14637.0      119365  python\n",
       "81088    14637.0      119365       r\n",
       "81063    14637.0      119365     sql\n",
       "788958  569436.0      119301     sql"
      ]
     },
     "execution_count": 140,
     "metadata": {},
     "output_type": "execute_result"
    }
   ],
   "source": [
    "q_expert.head(5)"
   ]
  },
  {
   "cell_type": "code",
   "execution_count": 141,
   "metadata": {
    "id": "vWqEmLO7rSn7"
   },
   "outputs": [],
   "source": [
    "df1=q_expert.groupby(\"Tags\")[\"a_userid\"].count()"
   ]
  },
  {
   "cell_type": "code",
   "execution_count": 142,
   "metadata": {
    "colab": {
     "base_uri": "https://localhost:8080/",
     "height": 370
    },
    "id": "J8d9n8d5QC2L",
    "outputId": "7744b389-7728-484c-86b2-6be41d13e9bb"
   },
   "outputs": [
    {
     "data": {
      "text/plain": [
       "<AxesSubplot:xlabel='Tags'>"
      ]
     },
     "execution_count": 142,
     "metadata": {},
     "output_type": "execute_result"
    },
    {
     "data": {
      "image/png": "[encoded data removed]",
      "text/plain": [
       "<Figure size 720x720 with 1 Axes>"
      ]
     },
     "metadata": {
      "needs_background": "light"
     },
     "output_type": "display_data"
    }
   ],
   "source": [
    "df1.plot.bar()"
   ]
  },
  {
   "cell_type": "code",
   "execution_count": 143,
   "metadata": {
    "id": "48JWCctYRV6a"
   },
   "outputs": [],
   "source": [
    "expert_users=q_expert.groupby(\"Tags\")[\"a_userid\"]"
   ]
  },
  {
   "cell_type": "code",
   "execution_count": 145,
   "metadata": {
    "colab": {
     "base_uri": "https://localhost:8080/",
     "height": 281
    },
    "id": "jE7vNPRuQkTF",
    "outputId": "8f221af8-df85-4d14-ab37-48c3d0649869"
   },
   "outputs": [
    {
     "data": {
      "image/png": "[encoded data removed]",
      "text/plain": [
       "<Figure size 720x720 with 1 Axes>"
      ]
     },
     "metadata": {
      "needs_background": "light"
     },
     "output_type": "display_data"
    }
   ],
   "source": [
    "#Filtering the Top 10 Tags with the count of experts\n",
    "expert_users.count().sort_values(ascending=False)[:10].plot.barh()\n",
    "#plt.title(\"Expert Users for top 10 Tags\")\n",
    "plt.xlabel=\"User\"\n",
    "plt.show()"
   ]
  },
  {
   "cell_type": "code",
   "execution_count": 146,
   "metadata": {
    "id": "u0xhxbeaich9"
   },
   "outputs": [],
   "source": [
    "expert_users=pd.DataFrame(q_expert.groupby(\"Tags\")[\"a_userid\"])"
   ]
  },
  {
   "cell_type": "code",
   "execution_count": 147,
   "metadata": {
    "colab": {
     "base_uri": "https://localhost:8080/"
    },
    "id": "YIKXR15uig9n",
    "outputId": "f39f1d82-f36a-4522-81aa-d1dc4b7e83b6"
   },
   "outputs": [
    {
     "data": {
      "text/plain": [
       "(28, 2)"
      ]
     },
     "execution_count": 147,
     "metadata": {},
     "output_type": "execute_result"
    }
   ],
   "source": [
    "expert_users.shape"
   ]
  },
  {
   "cell_type": "code",
   "execution_count": 148,
   "metadata": {
    "colab": {
     "base_uri": "https://localhost:8080/",
     "height": 206
    },
    "id": "eqfErAXRipYv",
    "outputId": "702e9494-a044-4790-cfab-72375d118697"
   },
   "outputs": [
    {
     "data": {
      "text/html": [
       "<div>\n",
       "<style scoped>\n",
       "    .dataframe tbody tr th:only-of-type {\n",
       "        vertical-align: middle;\n",
       "    }\n",
       "\n",
       "    .dataframe tbody tr th {\n",
       "        vertical-align: top;\n",
       "    }\n",
       "\n",
       "    .dataframe thead th {\n",
       "        text-align: right;\n",
       "    }\n",
       "</style>\n",
       "<table border=\"1\" class=\"dataframe\">\n",
       "  <thead>\n",
       "    <tr style=\"text-align: right;\">\n",
       "      <th></th>\n",
       "      <th>0</th>\n",
       "      <th>1</th>\n",
       "    </tr>\n",
       "  </thead>\n",
       "  <tbody>\n",
       "    <tr>\n",
       "      <th>0</th>\n",
       "      <td>excel</td>\n",
       "      <td>236222       59303.0\n",
       "58603         6819.0\n",
       "8274...</td>\n",
       "    </tr>\n",
       "    <tr>\n",
       "      <th>1</th>\n",
       "      <td>excel matlab</td>\n",
       "      <td>425954       97160.0\n",
       "1474645    2586922.0\n",
       "1632...</td>\n",
       "    </tr>\n",
       "    <tr>\n",
       "      <th>2</th>\n",
       "      <td>excel r</td>\n",
       "      <td>371464    134830.0\n",
       "277959     37751.0\n",
       "713092  ...</td>\n",
       "    </tr>\n",
       "    <tr>\n",
       "      <th>3</th>\n",
       "      <td>excel sas</td>\n",
       "      <td>1275340    1623007.0\n",
       "1504733    2734437.0\n",
       "3927...</td>\n",
       "    </tr>\n",
       "    <tr>\n",
       "      <th>4</th>\n",
       "      <td>matlab</td>\n",
       "      <td>425956       97160.0\n",
       "117631       44330.0\n",
       "7865...</td>\n",
       "    </tr>\n",
       "  </tbody>\n",
       "</table>\n",
       "</div>"
      ],
      "text/plain": [
       "              0                                                  1\n",
       "0         excel  236222       59303.0\n",
       "58603         6819.0\n",
       "8274...\n",
       "1  excel matlab  425954       97160.0\n",
       "1474645    2586922.0\n",
       "1632...\n",
       "2       excel r  371464    134830.0\n",
       "277959     37751.0\n",
       "713092  ...\n",
       "3     excel sas  1275340    1623007.0\n",
       "1504733    2734437.0\n",
       "3927...\n",
       "4        matlab  425956       97160.0\n",
       "117631       44330.0\n",
       "7865..."
      ]
     },
     "execution_count": 148,
     "metadata": {},
     "output_type": "execute_result"
    }
   ],
   "source": [
    "expert_users.head()"
   ]
  },
  {
   "cell_type": "markdown",
   "metadata": {
    "id": "GdAHc8aXtYHz"
   },
   "source": [
    "**Python and SQL tags has lot of SME and experts in Datascience world so when a question is raised with these tags the notifications can be sent to these users**"
   ]
  },
  {
   "cell_type": "markdown",
   "metadata": {},
   "source": [
    "### Inserting q_expert data to RDS"
   ]
  },
  {
   "cell_type": "code",
   "execution_count": 149,
   "metadata": {},
   "outputs": [],
   "source": [
    "q_expert.to_sql(con=database_connection, name=\"expert_users\", if_exists='replace',chunksize=100, index=False)"
   ]
  },
  {
   "cell_type": "code",
   "execution_count": 151,
   "metadata": {},
   "outputs": [],
   "source": [
    "# Creating SQL query to use together with database_connection in next line\n",
    "\n",
    "sql_query2='''\n",
    "SELECT * FROM expert_users limit 3\n",
    "'''"
   ]
  },
  {
   "cell_type": "code",
   "execution_count": 152,
   "metadata": {},
   "outputs": [],
   "source": [
    "expertuser_data=pd.read_sql(sql_query2,con=database_connection)"
   ]
  },
  {
   "cell_type": "code",
   "execution_count": 154,
   "metadata": {},
   "outputs": [
    {
     "data": {
      "text/html": [
       "<div>\n",
       "<style scoped>\n",
       "    .dataframe tbody tr th:only-of-type {\n",
       "        vertical-align: middle;\n",
       "    }\n",
       "\n",
       "    .dataframe tbody tr th {\n",
       "        vertical-align: top;\n",
       "    }\n",
       "\n",
       "    .dataframe thead th {\n",
       "        text-align: right;\n",
       "    }\n",
       "</style>\n",
       "<table border=\"1\" class=\"dataframe\">\n",
       "  <thead>\n",
       "    <tr style=\"text-align: right;\">\n",
       "      <th></th>\n",
       "      <th>a_userid</th>\n",
       "      <th>reputation</th>\n",
       "      <th>Tags</th>\n",
       "    </tr>\n",
       "  </thead>\n",
       "  <tbody>\n",
       "    <tr>\n",
       "      <th>0</th>\n",
       "      <td>2688.0</td>\n",
       "      <td>119702</td>\n",
       "      <td>sql</td>\n",
       "    </tr>\n",
       "    <tr>\n",
       "      <th>1</th>\n",
       "      <td>14637.0</td>\n",
       "      <td>119365</td>\n",
       "      <td>python</td>\n",
       "    </tr>\n",
       "  </tbody>\n",
       "</table>\n",
       "</div>"
      ],
      "text/plain": [
       "   a_userid  reputation    Tags\n",
       "0    2688.0      119702     sql\n",
       "1   14637.0      119365  python"
      ]
     },
     "execution_count": 154,
     "metadata": {},
     "output_type": "execute_result"
    }
   ],
   "source": [
    "expertuser_data.head(2)"
   ]
  },
  {
   "cell_type": "markdown",
   "metadata": {
    "id": "bUehkpdI484Q"
   },
   "source": [
    "**Multivariate Analysis of each feature**"
   ]
  },
  {
   "cell_type": "code",
   "execution_count": 155,
   "metadata": {
    "id": "CB-bw-5Uz7uA"
   },
   "outputs": [],
   "source": [
    "import seaborn as sns"
   ]
  },
  {
   "cell_type": "code",
   "execution_count": 156,
   "metadata": {
    "colab": {
     "base_uri": "https://localhost:8080/",
     "height": 418
    },
    "id": "aT-nFyyl2Lwf",
    "outputId": "1cc95ec3-2005-4ea8-fbfc-977170ad998b"
   },
   "outputs": [
    {
     "data": {
      "image/png": "[encoded data removed]",
      "text/plain": [
       "<Figure size 720x432 with 2 Axes>"
      ]
     },
     "metadata": {
      "needs_background": "light"
     },
     "output_type": "display_data"
    }
   ],
   "source": [
    "# Correlation Matrix Heatmap\n",
    "ff=filtered[[\"reputation\",\"a_Score\",\"q_score\",\"up_votes\",\"down_votes\",\"views\"]]\n",
    "f, ax = plt.subplots(figsize=(10, 6))\n",
    "corr = ff.corr()\n",
    "hm = sns.heatmap(round(corr,2), annot=True, ax=ax, cmap=\"coolwarm\",fmt='.2f',\n",
    "                 linewidths=.05)\n",
    "f.subplots_adjust(top=0.93)\n",
    "t= f.suptitle('Datascience Stack overflow Correlation', fontsize=14)"
   ]
  },
  {
   "cell_type": "markdown",
   "metadata": {
    "id": "bwwr-D3i6Tko"
   },
   "source": [
    "1.It seems like Up_votes and reputation has positive correlation of 0.56. \n",
    "2.Down_votes vs reputation has 0.24 positive correlation.\n",
    "3.Views vs reputation has 0.67 positive correlation. "
   ]
  },
  {
   "cell_type": "markdown",
   "metadata": {
    "id": "SAXPE5wgTS6Z"
   },
   "source": [
    "**2.When a user provides a data science tag ('python', 'r', 'matlab', 'sas', 'excel', 'sql') to their question, then Stack Overflow should come up with the expected approximate time to get it answered.**"
   ]
  },
  {
   "cell_type": "code",
   "execution_count": 157,
   "metadata": {
    "colab": {
     "base_uri": "https://localhost:8080/",
     "height": 112
    },
    "id": "S2MVUXM3TNjR",
    "outputId": "7ad30442-204c-4a20-de76-54509c3b7afa"
   },
   "outputs": [
    {
     "data": {
      "text/html": [
       "<div>\n",
       "<style scoped>\n",
       "    .dataframe tbody tr th:only-of-type {\n",
       "        vertical-align: middle;\n",
       "    }\n",
       "\n",
       "    .dataframe tbody tr th {\n",
       "        vertical-align: top;\n",
       "    }\n",
       "\n",
       "    .dataframe thead th {\n",
       "        text-align: right;\n",
       "    }\n",
       "</style>\n",
       "<table border=\"1\" class=\"dataframe\">\n",
       "  <thead>\n",
       "    <tr style=\"text-align: right;\">\n",
       "      <th></th>\n",
       "      <th>q_CreationDate</th>\n",
       "      <th>a_CreationDate</th>\n",
       "      <th>Tag</th>\n",
       "    </tr>\n",
       "  </thead>\n",
       "  <tbody>\n",
       "    <tr>\n",
       "      <th>6</th>\n",
       "      <td>2008-10-31 00:17:40+00:00</td>\n",
       "      <td>2008-10-31 04:27:08+00:00</td>\n",
       "      <td>sql stored-procedures subsonic</td>\n",
       "    </tr>\n",
       "    <tr>\n",
       "      <th>21</th>\n",
       "      <td>2010-01-01 23:29:24+00:00</td>\n",
       "      <td>2010-01-01 23:36:57+00:00</td>\n",
       "      <td>sql sql-server</td>\n",
       "    </tr>\n",
       "  </tbody>\n",
       "</table>\n",
       "</div>"
      ],
      "text/plain": [
       "              q_CreationDate            a_CreationDate  \\\n",
       "6  2008-10-31 00:17:40+00:00 2008-10-31 04:27:08+00:00   \n",
       "21 2010-01-01 23:29:24+00:00 2010-01-01 23:36:57+00:00   \n",
       "\n",
       "                               Tag  \n",
       "6   sql stored-procedures subsonic  \n",
       "21                  sql sql-server  "
      ]
     },
     "execution_count": 157,
     "metadata": {},
     "output_type": "execute_result"
    }
   ],
   "source": [
    "#Analysing Datetime stamps of Questions Created time and answer created time.\n",
    "time_qa = merged_DS[['q_CreationDate', 'a_CreationDate',\"Tag\"]]\n",
    "time_qa.head(2)"
   ]
  },
  {
   "cell_type": "code",
   "execution_count": 158,
   "metadata": {
    "colab": {
     "base_uri": "https://localhost:8080/",
     "height": 216
    },
    "id": "1EkCmmy3TpFn",
    "outputId": "ed8dad77-04a8-4607-8150-fe971bcb266f"
   },
   "outputs": [
    {
     "name": "stderr",
     "output_type": "stream",
     "text": [
      "/home/ec2-user/.local/lib/python3.7/site-packages/ipykernel_launcher.py:3: SettingWithCopyWarning: \n",
      "A value is trying to be set on a copy of a slice from a DataFrame.\n",
      "Try using .loc[row_indexer,col_indexer] = value instead\n",
      "\n",
      "See the caveats in the documentation: https://pandas.pydata.org/pandas-docs/stable/user_guide/indexing.html#returning-a-view-versus-a-copy\n",
      "  This is separate from the ipykernel package so we can avoid doing imports until\n"
     ]
    },
    {
     "data": {
      "text/html": [
       "<div>\n",
       "<style scoped>\n",
       "    .dataframe tbody tr th:only-of-type {\n",
       "        vertical-align: middle;\n",
       "    }\n",
       "\n",
       "    .dataframe tbody tr th {\n",
       "        vertical-align: top;\n",
       "    }\n",
       "\n",
       "    .dataframe thead th {\n",
       "        text-align: right;\n",
       "    }\n",
       "</style>\n",
       "<table border=\"1\" class=\"dataframe\">\n",
       "  <thead>\n",
       "    <tr style=\"text-align: right;\">\n",
       "      <th></th>\n",
       "      <th>q_CreationDate</th>\n",
       "      <th>a_CreationDate</th>\n",
       "      <th>Tag</th>\n",
       "      <th>diff</th>\n",
       "    </tr>\n",
       "  </thead>\n",
       "  <tbody>\n",
       "    <tr>\n",
       "      <th>6</th>\n",
       "      <td>2008-10-31 00:17:40+00:00</td>\n",
       "      <td>2008-10-31 04:27:08+00:00</td>\n",
       "      <td>sql stored-procedures subsonic</td>\n",
       "      <td>0 days 04:09:28</td>\n",
       "    </tr>\n",
       "    <tr>\n",
       "      <th>21</th>\n",
       "      <td>2010-01-01 23:29:24+00:00</td>\n",
       "      <td>2010-01-01 23:36:57+00:00</td>\n",
       "      <td>sql sql-server</td>\n",
       "      <td>0 days 00:07:33</td>\n",
       "    </tr>\n",
       "  </tbody>\n",
       "</table>\n",
       "</div>"
      ],
      "text/plain": [
       "              q_CreationDate            a_CreationDate  \\\n",
       "6  2008-10-31 00:17:40+00:00 2008-10-31 04:27:08+00:00   \n",
       "21 2010-01-01 23:29:24+00:00 2010-01-01 23:36:57+00:00   \n",
       "\n",
       "                               Tag            diff  \n",
       "6   sql stored-procedures subsonic 0 days 04:09:28  \n",
       "21                  sql sql-server 0 days 00:07:33  "
      ]
     },
     "execution_count": 158,
     "metadata": {},
     "output_type": "execute_result"
    }
   ],
   "source": [
    "#Diffrence between First answer time and Question Created Date\n",
    "import datetime\n",
    "time_qa['diff'] = abs(time_qa['a_CreationDate'] - time_qa['q_CreationDate'])\n",
    "time_qa.head(2)"
   ]
  },
  {
   "cell_type": "code",
   "execution_count": 159,
   "metadata": {
    "colab": {
     "base_uri": "https://localhost:8080/"
    },
    "id": "nK5soMSzVIku",
    "outputId": "5c273c5e-1193-405d-c828-2699e90e52c8"
   },
   "outputs": [
    {
     "name": "stderr",
     "output_type": "stream",
     "text": [
      "/home/ec2-user/.local/lib/python3.7/site-packages/ipykernel_launcher.py:1: SettingWithCopyWarning: \n",
      "A value is trying to be set on a copy of a slice from a DataFrame\n",
      "\n",
      "See the caveats in the documentation: https://pandas.pydata.org/pandas-docs/stable/user_guide/indexing.html#returning-a-view-versus-a-copy\n",
      "  \"\"\"Entry point for launching an IPython kernel.\n"
     ]
    }
   ],
   "source": [
    "time_qa.sort_values(\"diff\",ascending=True,inplace=True)"
   ]
  },
  {
   "cell_type": "code",
   "execution_count": 160,
   "metadata": {
    "colab": {
     "base_uri": "https://localhost:8080/"
    },
    "id": "QyyzxN3EWalY",
    "outputId": "01823c4f-3912-4b0a-8699-42ad7bc9e771"
   },
   "outputs": [
    {
     "name": "stderr",
     "output_type": "stream",
     "text": [
      "/home/ec2-user/.local/lib/python3.7/site-packages/ipykernel_launcher.py:2: SettingWithCopyWarning: \n",
      "A value is trying to be set on a copy of a slice from a DataFrame.\n",
      "Try using .loc[row_indexer,col_indexer] = value instead\n",
      "\n",
      "See the caveats in the documentation: https://pandas.pydata.org/pandas-docs/stable/user_guide/indexing.html#returning-a-view-versus-a-copy\n",
      "  \n"
     ]
    }
   ],
   "source": [
    "#Changing the datatype of diff to epoch time in seconds\n",
    "time_qa[\"diff_epoch\"]=time_qa[\"diff\"].astype('int64')//1e9"
   ]
  },
  {
   "cell_type": "code",
   "execution_count": 161,
   "metadata": {
    "id": "bZ6sm9RpjjsN"
   },
   "outputs": [],
   "source": [
    "# Computing IQR for filtering the response time\n",
    "Q1 = time_qa['diff_epoch'].quantile(0.25)\n",
    "Q3 = time_qa['diff_epoch'].quantile(0.75)\n",
    "IQR = Q3 - Q1\n",
    "\n",
    "# Filtering Values between Q1-1.5IQR and Q3+1.5IQR\n",
    "filtered_timeqa = time_qa.query('(@Q1 - 1.5 * @IQR) <= diff_epoch <= (@Q3 + 1.5 * @IQR)')"
   ]
  },
  {
   "cell_type": "code",
   "execution_count": 162,
   "metadata": {
    "colab": {
     "base_uri": "https://localhost:8080/",
     "height": 143
    },
    "id": "VjOZ4TJU_W9K",
    "outputId": "ea6e106c-6e71-4554-dc64-a0424285ef03"
   },
   "outputs": [
    {
     "data": {
      "text/html": [
       "<div>\n",
       "<style scoped>\n",
       "    .dataframe tbody tr th:only-of-type {\n",
       "        vertical-align: middle;\n",
       "    }\n",
       "\n",
       "    .dataframe tbody tr th {\n",
       "        vertical-align: top;\n",
       "    }\n",
       "\n",
       "    .dataframe thead th {\n",
       "        text-align: right;\n",
       "    }\n",
       "</style>\n",
       "<table border=\"1\" class=\"dataframe\">\n",
       "  <thead>\n",
       "    <tr style=\"text-align: right;\">\n",
       "      <th></th>\n",
       "      <th>q_CreationDate</th>\n",
       "      <th>a_CreationDate</th>\n",
       "      <th>Tag</th>\n",
       "      <th>diff</th>\n",
       "      <th>diff_epoch</th>\n",
       "    </tr>\n",
       "  </thead>\n",
       "  <tbody>\n",
       "    <tr>\n",
       "      <th>694421</th>\n",
       "      <td>2013-11-12 18:34:55+00:00</td>\n",
       "      <td>2013-11-12 18:34:55+00:00</td>\n",
       "      <td>python dictionary</td>\n",
       "      <td>0 days</td>\n",
       "      <td>0.0</td>\n",
       "    </tr>\n",
       "    <tr>\n",
       "      <th>1307699</th>\n",
       "      <td>2015-08-17 19:21:34+00:00</td>\n",
       "      <td>2015-08-17 19:21:34+00:00</td>\n",
       "      <td>python decorator introspection python-decorators</td>\n",
       "      <td>0 days</td>\n",
       "      <td>0.0</td>\n",
       "    </tr>\n",
       "  </tbody>\n",
       "</table>\n",
       "</div>"
      ],
      "text/plain": [
       "                   q_CreationDate            a_CreationDate  \\\n",
       "694421  2013-11-12 18:34:55+00:00 2013-11-12 18:34:55+00:00   \n",
       "1307699 2015-08-17 19:21:34+00:00 2015-08-17 19:21:34+00:00   \n",
       "\n",
       "                                                      Tag   diff  diff_epoch  \n",
       "694421                                  python dictionary 0 days         0.0  \n",
       "1307699  python decorator introspection python-decorators 0 days         0.0  "
      ]
     },
     "execution_count": 162,
     "metadata": {},
     "output_type": "execute_result"
    }
   ],
   "source": [
    "filtered_timeqa.head(2)"
   ]
  },
  {
   "cell_type": "code",
   "execution_count": 163,
   "metadata": {
    "colab": {
     "base_uri": "https://localhost:8080/"
    },
    "id": "9Rhq8E3E-vQu",
    "outputId": "355d9827-af8e-4da3-c06e-3e9f044d8f4e"
   },
   "outputs": [
    {
     "name": "stdout",
     "output_type": "stream",
     "text": [
      "The mean time for the question to be answered in hrs  0.26305555555555554\n"
     ]
    }
   ],
   "source": [
    "print(\"The mean time for the question to be answered in hrs \",(filtered_timeqa[\"diff_epoch\"].median())/3600.0)"
   ]
  },
  {
   "cell_type": "code",
   "execution_count": 164,
   "metadata": {
    "colab": {
     "base_uri": "https://localhost:8080/"
    },
    "id": "MvvDtQj4-OP3",
    "outputId": "206acf4b-660f-473e-ba5f-027037f1cbcd"
   },
   "outputs": [
    {
     "name": "stdout",
     "output_type": "stream",
     "text": [
      "The max time that takes for a question to be answered in Hrs 7.600833333333333\n"
     ]
    }
   ],
   "source": [
    "print(\"The max time that takes for a question to be answered in Hrs\",(filtered_timeqa[\"diff_epoch\"].max())/3600.0)"
   ]
  },
  {
   "cell_type": "code",
   "execution_count": 165,
   "metadata": {
    "colab": {
     "base_uri": "https://localhost:8080/"
    },
    "id": "T2CY0VSiivRW",
    "outputId": "4b1e23ba-310e-4173-dfb5-203817cef9a7"
   },
   "outputs": [
    {
     "name": "stdout",
     "output_type": "stream",
     "text": [
      "The average time response between the question and answer time in Hrs  0.7839478963749795\n"
     ]
    }
   ],
   "source": [
    "print(\"The average time response between the question and answer time in Hrs \",np.average(filtered_timeqa[\"diff_epoch\"])/3600.0)"
   ]
  },
  {
   "cell_type": "code",
   "execution_count": 166,
   "metadata": {
    "colab": {
     "base_uri": "https://localhost:8080/"
    },
    "id": "BGYfBEQOW1_o",
    "outputId": "24dc0108-35b7-496f-8feb-dbe4acfce2f1"
   },
   "outputs": [
    {
     "data": {
      "text/plain": [
       "count    168891.000000\n",
       "mean       2822.212427\n",
       "std        4622.171777\n",
       "min           0.000000\n",
       "25%         389.000000\n",
       "50%         947.000000\n",
       "75%        2817.000000\n",
       "max       27363.000000\n",
       "Name: diff_epoch, dtype: float64"
      ]
     },
     "execution_count": 166,
     "metadata": {},
     "output_type": "execute_result"
    }
   ],
   "source": [
    "filtered_timeqa[\"diff_epoch\"].describe()"
   ]
  },
  {
   "cell_type": "markdown",
   "metadata": {
    "id": "WKeuV3Qo2baX"
   },
   "source": [
    "**No of tags tagged in questions and its impact in response time ?**"
   ]
  },
  {
   "cell_type": "code",
   "execution_count": 167,
   "metadata": {
    "colab": {
     "base_uri": "https://localhost:8080/",
     "height": 206
    },
    "id": "5wvKfyR0nOxM",
    "outputId": "878fab26-2e92-419e-9c71-6ecc26a22376"
   },
   "outputs": [
    {
     "data": {
      "text/html": [
       "<div>\n",
       "<style scoped>\n",
       "    .dataframe tbody tr th:only-of-type {\n",
       "        vertical-align: middle;\n",
       "    }\n",
       "\n",
       "    .dataframe tbody tr th {\n",
       "        vertical-align: top;\n",
       "    }\n",
       "\n",
       "    .dataframe thead th {\n",
       "        text-align: right;\n",
       "    }\n",
       "</style>\n",
       "<table border=\"1\" class=\"dataframe\">\n",
       "  <thead>\n",
       "    <tr style=\"text-align: right;\">\n",
       "      <th></th>\n",
       "      <th>Tag</th>\n",
       "      <th>q_CreationDate</th>\n",
       "      <th>a_CreationDate</th>\n",
       "      <th>diff</th>\n",
       "    </tr>\n",
       "  </thead>\n",
       "  <tbody>\n",
       "    <tr>\n",
       "      <th>0</th>\n",
       "      <td>sql stored-procedures subsonic</td>\n",
       "      <td>2008-10-31 00:17:40+00:00</td>\n",
       "      <td>2008-10-31 04:27:08+00:00</td>\n",
       "      <td>0 days 04:09:28</td>\n",
       "    </tr>\n",
       "    <tr>\n",
       "      <th>1</th>\n",
       "      <td>sql sql-server</td>\n",
       "      <td>2010-01-01 23:29:24+00:00</td>\n",
       "      <td>2010-01-01 23:36:57+00:00</td>\n",
       "      <td>0 days 00:07:33</td>\n",
       "    </tr>\n",
       "    <tr>\n",
       "      <th>2</th>\n",
       "      <td>sql asp.net sitemap</td>\n",
       "      <td>2008-08-01 15:50:08+00:00</td>\n",
       "      <td>2008-09-23 22:41:11+00:00</td>\n",
       "      <td>53 days 06:51:03</td>\n",
       "    </tr>\n",
       "    <tr>\n",
       "      <th>3</th>\n",
       "      <td>php sql mysql</td>\n",
       "      <td>2009-07-01 12:29:25+00:00</td>\n",
       "      <td>2009-07-01 12:34:48+00:00</td>\n",
       "      <td>0 days 00:05:23</td>\n",
       "    </tr>\n",
       "    <tr>\n",
       "      <th>4</th>\n",
       "      <td>php mysql html sql forms</td>\n",
       "      <td>2011-10-15 02:49:19+00:00</td>\n",
       "      <td>2011-10-15 02:57:29+00:00</td>\n",
       "      <td>0 days 00:08:10</td>\n",
       "    </tr>\n",
       "  </tbody>\n",
       "</table>\n",
       "</div>"
      ],
      "text/plain": [
       "                              Tag            q_CreationDate  \\\n",
       "0  sql stored-procedures subsonic 2008-10-31 00:17:40+00:00   \n",
       "1                  sql sql-server 2010-01-01 23:29:24+00:00   \n",
       "2             sql asp.net sitemap 2008-08-01 15:50:08+00:00   \n",
       "3                   php sql mysql 2009-07-01 12:29:25+00:00   \n",
       "4        php mysql html sql forms 2011-10-15 02:49:19+00:00   \n",
       "\n",
       "             a_CreationDate             diff  \n",
       "0 2008-10-31 04:27:08+00:00  0 days 04:09:28  \n",
       "1 2010-01-01 23:36:57+00:00  0 days 00:07:33  \n",
       "2 2008-09-23 22:41:11+00:00 53 days 06:51:03  \n",
       "3 2009-07-01 12:34:48+00:00  0 days 00:05:23  \n",
       "4 2011-10-15 02:57:29+00:00  0 days 00:08:10  "
      ]
     },
     "execution_count": 167,
     "metadata": {},
     "output_type": "execute_result"
    }
   ],
   "source": [
    "tag_rate = merged_DS[['Tag', 'q_CreationDate', 'a_CreationDate']].drop_duplicates().reset_index(drop=True)\n",
    "tag_rate['diff'] = abs(tag_rate['q_CreationDate'] - tag_rate['a_CreationDate'])\n",
    "tag_rate.head()"
   ]
  },
  {
   "cell_type": "code",
   "execution_count": 168,
   "metadata": {
    "colab": {
     "base_uri": "https://localhost:8080/"
    },
    "id": "XFXyWauroZUU",
    "outputId": "cfee1354-ed1a-41d4-8cef-ca29ff55bec1"
   },
   "outputs": [
    {
     "name": "stdout",
     "output_type": "stream",
     "text": [
      "<class 'pandas.core.frame.DataFrame'>\n",
      "RangeIndex: 210245 entries, 0 to 210244\n",
      "Data columns (total 4 columns):\n",
      " #   Column          Non-Null Count   Dtype              \n",
      "---  ------          --------------   -----              \n",
      " 0   Tag             210245 non-null  object             \n",
      " 1   q_CreationDate  210245 non-null  datetime64[ns, UTC]\n",
      " 2   a_CreationDate  210245 non-null  datetime64[ns, UTC]\n",
      " 3   diff            210245 non-null  timedelta64[ns]    \n",
      "dtypes: datetime64[ns, UTC](2), object(1), timedelta64[ns](1)\n",
      "memory usage: 6.4+ MB\n"
     ]
    }
   ],
   "source": [
    "tag_rate.info()"
   ]
  },
  {
   "cell_type": "code",
   "execution_count": 169,
   "metadata": {
    "colab": {
     "base_uri": "https://localhost:8080/",
     "height": 112
    },
    "id": "Fts7d3zkqMtW",
    "outputId": "694be61e-551b-4d26-ff44-38597086fd81"
   },
   "outputs": [
    {
     "data": {
      "text/html": [
       "<div>\n",
       "<style scoped>\n",
       "    .dataframe tbody tr th:only-of-type {\n",
       "        vertical-align: middle;\n",
       "    }\n",
       "\n",
       "    .dataframe tbody tr th {\n",
       "        vertical-align: top;\n",
       "    }\n",
       "\n",
       "    .dataframe thead th {\n",
       "        text-align: right;\n",
       "    }\n",
       "</style>\n",
       "<table border=\"1\" class=\"dataframe\">\n",
       "  <thead>\n",
       "    <tr style=\"text-align: right;\">\n",
       "      <th></th>\n",
       "      <th>Tag</th>\n",
       "      <th>q_CreationDate</th>\n",
       "      <th>a_CreationDate</th>\n",
       "      <th>diff</th>\n",
       "    </tr>\n",
       "  </thead>\n",
       "  <tbody>\n",
       "    <tr>\n",
       "      <th>0</th>\n",
       "      <td>sql stored-procedures subsonic</td>\n",
       "      <td>2008-10-31 00:17:40+00:00</td>\n",
       "      <td>2008-10-31 04:27:08+00:00</td>\n",
       "      <td>0 days 04:09:28</td>\n",
       "    </tr>\n",
       "    <tr>\n",
       "      <th>1</th>\n",
       "      <td>sql sql-server</td>\n",
       "      <td>2010-01-01 23:29:24+00:00</td>\n",
       "      <td>2010-01-01 23:36:57+00:00</td>\n",
       "      <td>0 days 00:07:33</td>\n",
       "    </tr>\n",
       "  </tbody>\n",
       "</table>\n",
       "</div>"
      ],
      "text/plain": [
       "                              Tag            q_CreationDate  \\\n",
       "0  sql stored-procedures subsonic 2008-10-31 00:17:40+00:00   \n",
       "1                  sql sql-server 2010-01-01 23:29:24+00:00   \n",
       "\n",
       "             a_CreationDate            diff  \n",
       "0 2008-10-31 04:27:08+00:00 0 days 04:09:28  \n",
       "1 2010-01-01 23:36:57+00:00 0 days 00:07:33  "
      ]
     },
     "execution_count": 169,
     "metadata": {},
     "output_type": "execute_result"
    }
   ],
   "source": [
    "tag_rate.head(2)"
   ]
  },
  {
   "cell_type": "code",
   "execution_count": 170,
   "metadata": {
    "id": "T6YQFT_8xLlv"
   },
   "outputs": [],
   "source": [
    "tag_rate[\"diffint\"]=tag_rate[\"diff\"].astype('timedelta64[s]').astype(int)"
   ]
  },
  {
   "cell_type": "code",
   "execution_count": 171,
   "metadata": {
    "colab": {
     "base_uri": "https://localhost:8080/"
    },
    "id": "PXcUpkR3x3RT",
    "outputId": "1b7a23f1-a685-4aa3-e356-373b44767faa"
   },
   "outputs": [
    {
     "name": "stdout",
     "output_type": "stream",
     "text": [
      "<class 'pandas.core.frame.DataFrame'>\n",
      "RangeIndex: 210245 entries, 0 to 210244\n",
      "Data columns (total 5 columns):\n",
      " #   Column          Non-Null Count   Dtype              \n",
      "---  ------          --------------   -----              \n",
      " 0   Tag             210245 non-null  object             \n",
      " 1   q_CreationDate  210245 non-null  datetime64[ns, UTC]\n",
      " 2   a_CreationDate  210245 non-null  datetime64[ns, UTC]\n",
      " 3   diff            210245 non-null  timedelta64[ns]    \n",
      " 4   diffint         210245 non-null  int64              \n",
      "dtypes: datetime64[ns, UTC](2), int64(1), object(1), timedelta64[ns](1)\n",
      "memory usage: 8.0+ MB\n"
     ]
    }
   ],
   "source": [
    "tag_rate.info()"
   ]
  },
  {
   "cell_type": "code",
   "execution_count": 172,
   "metadata": {
    "colab": {
     "base_uri": "https://localhost:8080/",
     "height": 112
    },
    "id": "8ScIlBt0xXrN",
    "outputId": "8f9a9f3f-8c1f-4cea-f270-0706bf2d086f"
   },
   "outputs": [
    {
     "data": {
      "text/html": [
       "<div>\n",
       "<style scoped>\n",
       "    .dataframe tbody tr th:only-of-type {\n",
       "        vertical-align: middle;\n",
       "    }\n",
       "\n",
       "    .dataframe tbody tr th {\n",
       "        vertical-align: top;\n",
       "    }\n",
       "\n",
       "    .dataframe thead th {\n",
       "        text-align: right;\n",
       "    }\n",
       "</style>\n",
       "<table border=\"1\" class=\"dataframe\">\n",
       "  <thead>\n",
       "    <tr style=\"text-align: right;\">\n",
       "      <th></th>\n",
       "      <th>Tag</th>\n",
       "      <th>q_CreationDate</th>\n",
       "      <th>a_CreationDate</th>\n",
       "      <th>diff</th>\n",
       "      <th>diffint</th>\n",
       "    </tr>\n",
       "  </thead>\n",
       "  <tbody>\n",
       "    <tr>\n",
       "      <th>0</th>\n",
       "      <td>sql stored-procedures subsonic</td>\n",
       "      <td>2008-10-31 00:17:40+00:00</td>\n",
       "      <td>2008-10-31 04:27:08+00:00</td>\n",
       "      <td>0 days 04:09:28</td>\n",
       "      <td>14968</td>\n",
       "    </tr>\n",
       "    <tr>\n",
       "      <th>1</th>\n",
       "      <td>sql sql-server</td>\n",
       "      <td>2010-01-01 23:29:24+00:00</td>\n",
       "      <td>2010-01-01 23:36:57+00:00</td>\n",
       "      <td>0 days 00:07:33</td>\n",
       "      <td>453</td>\n",
       "    </tr>\n",
       "  </tbody>\n",
       "</table>\n",
       "</div>"
      ],
      "text/plain": [
       "                              Tag            q_CreationDate  \\\n",
       "0  sql stored-procedures subsonic 2008-10-31 00:17:40+00:00   \n",
       "1                  sql sql-server 2010-01-01 23:29:24+00:00   \n",
       "\n",
       "             a_CreationDate            diff  diffint  \n",
       "0 2008-10-31 04:27:08+00:00 0 days 04:09:28    14968  \n",
       "1 2010-01-01 23:36:57+00:00 0 days 00:07:33      453  "
      ]
     },
     "execution_count": 172,
     "metadata": {},
     "output_type": "execute_result"
    }
   ],
   "source": [
    "tag_rate.head(2)"
   ]
  },
  {
   "cell_type": "code",
   "execution_count": 175,
   "metadata": {
    "colab": {
     "base_uri": "https://localhost:8080/",
     "height": 118,
     "referenced_widgets": [
      "9105b53c174746db9ed01f954dca38b4",
      "235af1da75184b4daf6880fe0f526257",
      "4e23459941cb4c6aa83ded20eef6e41c",
      "764ea6702a474b9ca75c28e1aa48c34e",
      "ae322d1b841c4cb1a012c0da18af710d",
      "db237b6dfae44cb78a77a1a6caffa4e7",
      "6fdd6f34d81c4af6895fba3de9ba4eb5",
      "9ff540d819084a6092d67afcea50bac1"
     ]
    },
    "id": "W60WQq9qnOlZ",
    "outputId": "60af48ee-b925-4a20-b975-748b327f8c2a"
   },
   "outputs": [],
   "source": [
    "AnsRate = {}\n",
    "for i in (range(len(tag_rate['Tag']))):\n",
    "    for tag in tag_rate['Tag'][i].split(','):\n",
    "        try:\n",
    "            AnsRate[tag].append(tag_rate['diffint'][i])\n",
    "        except Exception:\n",
    "            AnsRate[tag] = [tag_rate['diffint'][i]]"
   ]
  },
  {
   "cell_type": "code",
   "execution_count": 176,
   "metadata": {
    "id": "pohe1WLKnyiO"
   },
   "outputs": [],
   "source": [
    "tagRateAvg = {}\n",
    "for key in list(AnsRate.keys()):\n",
    "    tagRateAvg[key] = np.average(AnsRate[key])"
   ]
  },
  {
   "cell_type": "code",
   "execution_count": 177,
   "metadata": {
    "id": "JEcrqdeSyhLf"
   },
   "outputs": [],
   "source": [
    "tagRateAvg = pd.DataFrame([list(tagRateAvg.keys()), list(tagRateAvg.values())])\n",
    "tagRateAvg = tagRateAvg.transpose()\n",
    "tagRateAvg.columns = ['Tag', 'diffint']\n",
    "tagRateAvg = tagRateAvg.sort_values('diffint')"
   ]
  },
  {
   "cell_type": "code",
   "execution_count": 178,
   "metadata": {
    "id": "2R_er8F4ysr8"
   },
   "outputs": [],
   "source": [
    "data_science = ['python', 'r', 'matlab', 'sas', 'excel', 'sql']\n",
    "x = []\n",
    "y = []\n",
    "for tag in data_science:\n",
    "    index = list(tagRateAvg['Tag']).index(tag)\n",
    "    x.append(tag)\n",
    "    y.append(list(tagRateAvg['diffint'])[index])"
   ]
  },
  {
   "cell_type": "code",
   "execution_count": 179,
   "metadata": {
    "colab": {
     "base_uri": "https://localhost:8080/",
     "height": 616
    },
    "id": "ZcyvS8Gcy1MQ",
    "outputId": "1bbc510e-12b5-4bd4-9cbf-9f0f3dc5c8cf"
   },
   "outputs": [
    {
     "ename": "TypeError",
     "evalue": "'str' object is not callable",
     "output_type": "error",
     "traceback": [
      "\u001b[0;31m---------------------------------------------------------------------------\u001b[0m",
      "\u001b[0;31mTypeError\u001b[0m                                 Traceback (most recent call last)",
      "\u001b[0;32m<ipython-input-179-4b47e9a78b8f>\u001b[0m in \u001b[0;36m<module>\u001b[0;34m\u001b[0m\n\u001b[1;32m      1\u001b[0m \u001b[0mplt\u001b[0m\u001b[0;34m.\u001b[0m\u001b[0mbar\u001b[0m\u001b[0;34m(\u001b[0m\u001b[0mx\u001b[0m\u001b[0;34m,\u001b[0m \u001b[0my\u001b[0m\u001b[0;34m)\u001b[0m\u001b[0;34m\u001b[0m\u001b[0;34m\u001b[0m\u001b[0m\n\u001b[1;32m      2\u001b[0m \u001b[0mplt\u001b[0m\u001b[0;34m.\u001b[0m\u001b[0mylabel\u001b[0m\u001b[0;34m(\u001b[0m\u001b[0;34m'Average Time taken to Respond/Answer'\u001b[0m\u001b[0;34m)\u001b[0m\u001b[0;34m\u001b[0m\u001b[0;34m\u001b[0m\u001b[0m\n\u001b[0;32m----> 3\u001b[0;31m \u001b[0mplt\u001b[0m\u001b[0;34m.\u001b[0m\u001b[0mxlabel\u001b[0m\u001b[0;34m(\u001b[0m\u001b[0;34m'Tag'\u001b[0m\u001b[0;34m)\u001b[0m\u001b[0;34m\u001b[0m\u001b[0;34m\u001b[0m\u001b[0m\n\u001b[0m\u001b[1;32m      4\u001b[0m \u001b[0;31m#plt.title('Active/Inactive Community in Data Science')\u001b[0m\u001b[0;34m\u001b[0m\u001b[0;34m\u001b[0m\u001b[0;34m\u001b[0m\u001b[0m\n\u001b[1;32m      5\u001b[0m \u001b[0mplt\u001b[0m\u001b[0;34m.\u001b[0m\u001b[0mshow\u001b[0m\u001b[0;34m(\u001b[0m\u001b[0;34m)\u001b[0m\u001b[0;34m\u001b[0m\u001b[0;34m\u001b[0m\u001b[0m\n",
      "\u001b[0;31mTypeError\u001b[0m: 'str' object is not callable"
     ]
    },
    {
     "data": {
      "image/png": "[encoded data removed]",
      "text/plain": [
       "<Figure size 720x720 with 1 Axes>"
      ]
     },
     "metadata": {
      "needs_background": "light"
     },
     "output_type": "display_data"
    }
   ],
   "source": [
    "plt.bar(x, y)\n",
    "plt.ylabel('Average Time taken to Respond/Answer')\n",
    "plt.xlabel('Tag')\n",
    "#plt.title('Active/Inactive Community in Data Science')\n",
    "plt.show()"
   ]
  },
  {
   "cell_type": "markdown",
   "metadata": {
    "id": "csnVMWUL2H-U"
   },
   "source": [
    "**by the above graph Python and SQL tags have good average response time for the questions**"
   ]
  },
  {
   "cell_type": "code",
   "execution_count": 181,
   "metadata": {
    "id": "euVyowHGqNpI"
   },
   "outputs": [],
   "source": [
    "tag_countdf=merged_DS[[\"q_Id\",\"Tag\",\"a_Id\",\"q_CreationDate\",\"a_CreationDate\",\"Tags\"]]"
   ]
  },
  {
   "cell_type": "code",
   "execution_count": 182,
   "metadata": {
    "colab": {
     "base_uri": "https://localhost:8080/"
    },
    "id": "vSmgwTihqfBy",
    "outputId": "5eff2319-3dd2-42ba-8edb-addf7c029c3c"
   },
   "outputs": [
    {
     "data": {
      "text/plain": [
       "(210361, 6)"
      ]
     },
     "execution_count": 182,
     "metadata": {},
     "output_type": "execute_result"
    }
   ],
   "source": [
    "tag_countdf.shape"
   ]
  },
  {
   "cell_type": "code",
   "execution_count": 183,
   "metadata": {
    "colab": {
     "base_uri": "https://localhost:8080/"
    },
    "id": "sLPXZfImqkDd",
    "outputId": "85d3ddba-0b6c-4db4-f366-b4c2941d606e"
   },
   "outputs": [
    {
     "name": "stderr",
     "output_type": "stream",
     "text": [
      "/home/ec2-user/.local/lib/python3.7/site-packages/ipykernel_launcher.py:1: SettingWithCopyWarning: \n",
      "A value is trying to be set on a copy of a slice from a DataFrame.\n",
      "Try using .loc[row_indexer,col_indexer] = value instead\n",
      "\n",
      "See the caveats in the documentation: https://pandas.pydata.org/pandas-docs/stable/user_guide/indexing.html#returning-a-view-versus-a-copy\n",
      "  \"\"\"Entry point for launching an IPython kernel.\n"
     ]
    }
   ],
   "source": [
    "tag_countdf[\"tag_count\"]=tag_countdf[\"Tag\"].apply(lambda text: len(text.split(\" \")))"
   ]
  },
  {
   "cell_type": "code",
   "execution_count": 184,
   "metadata": {
    "colab": {
     "base_uri": "https://localhost:8080/",
     "height": 206
    },
    "id": "vOGdkcwJqzkw",
    "outputId": "f2c9ec5b-bdf6-4177-ec00-25e4af7f6bec"
   },
   "outputs": [
    {
     "data": {
      "text/html": [
       "<div>\n",
       "<style scoped>\n",
       "    .dataframe tbody tr th:only-of-type {\n",
       "        vertical-align: middle;\n",
       "    }\n",
       "\n",
       "    .dataframe tbody tr th {\n",
       "        vertical-align: top;\n",
       "    }\n",
       "\n",
       "    .dataframe thead th {\n",
       "        text-align: right;\n",
       "    }\n",
       "</style>\n",
       "<table border=\"1\" class=\"dataframe\">\n",
       "  <thead>\n",
       "    <tr style=\"text-align: right;\">\n",
       "      <th></th>\n",
       "      <th>q_Id</th>\n",
       "      <th>Tag</th>\n",
       "      <th>a_Id</th>\n",
       "      <th>q_CreationDate</th>\n",
       "      <th>a_CreationDate</th>\n",
       "      <th>Tags</th>\n",
       "      <th>tag_count</th>\n",
       "    </tr>\n",
       "  </thead>\n",
       "  <tbody>\n",
       "    <tr>\n",
       "      <th>6</th>\n",
       "      <td>252230</td>\n",
       "      <td>sql stored-procedures subsonic</td>\n",
       "      <td>252595</td>\n",
       "      <td>2008-10-31 00:17:40+00:00</td>\n",
       "      <td>2008-10-31 04:27:08+00:00</td>\n",
       "      <td>sql</td>\n",
       "      <td>3</td>\n",
       "    </tr>\n",
       "    <tr>\n",
       "      <th>21</th>\n",
       "      <td>1990020</td>\n",
       "      <td>sql sql-server</td>\n",
       "      <td>1990040</td>\n",
       "      <td>2010-01-01 23:29:24+00:00</td>\n",
       "      <td>2010-01-01 23:36:57+00:00</td>\n",
       "      <td>sql</td>\n",
       "      <td>2</td>\n",
       "    </tr>\n",
       "    <tr>\n",
       "      <th>105</th>\n",
       "      <td>120</td>\n",
       "      <td>sql asp.net sitemap</td>\n",
       "      <td>124363</td>\n",
       "      <td>2008-08-01 15:50:08+00:00</td>\n",
       "      <td>2008-09-23 22:41:11+00:00</td>\n",
       "      <td>sql</td>\n",
       "      <td>3</td>\n",
       "    </tr>\n",
       "    <tr>\n",
       "      <th>113</th>\n",
       "      <td>1068900</td>\n",
       "      <td>php sql mysql</td>\n",
       "      <td>1068927</td>\n",
       "      <td>2009-07-01 12:29:25+00:00</td>\n",
       "      <td>2009-07-01 12:34:48+00:00</td>\n",
       "      <td>sql</td>\n",
       "      <td>3</td>\n",
       "    </tr>\n",
       "    <tr>\n",
       "      <th>127</th>\n",
       "      <td>7775440</td>\n",
       "      <td>php mysql html sql forms</td>\n",
       "      <td>7775483</td>\n",
       "      <td>2011-10-15 02:49:19+00:00</td>\n",
       "      <td>2011-10-15 02:57:29+00:00</td>\n",
       "      <td>sql</td>\n",
       "      <td>5</td>\n",
       "    </tr>\n",
       "  </tbody>\n",
       "</table>\n",
       "</div>"
      ],
      "text/plain": [
       "        q_Id                             Tag     a_Id  \\\n",
       "6     252230  sql stored-procedures subsonic   252595   \n",
       "21   1990020                  sql sql-server  1990040   \n",
       "105      120             sql asp.net sitemap   124363   \n",
       "113  1068900                   php sql mysql  1068927   \n",
       "127  7775440        php mysql html sql forms  7775483   \n",
       "\n",
       "               q_CreationDate            a_CreationDate Tags  tag_count  \n",
       "6   2008-10-31 00:17:40+00:00 2008-10-31 04:27:08+00:00  sql          3  \n",
       "21  2010-01-01 23:29:24+00:00 2010-01-01 23:36:57+00:00  sql          2  \n",
       "105 2008-08-01 15:50:08+00:00 2008-09-23 22:41:11+00:00  sql          3  \n",
       "113 2009-07-01 12:29:25+00:00 2009-07-01 12:34:48+00:00  sql          3  \n",
       "127 2011-10-15 02:49:19+00:00 2011-10-15 02:57:29+00:00  sql          5  "
      ]
     },
     "execution_count": 184,
     "metadata": {},
     "output_type": "execute_result"
    }
   ],
   "source": [
    "tag_countdf.head()"
   ]
  },
  {
   "cell_type": "code",
   "execution_count": 185,
   "metadata": {
    "id": "d3a8YsNfsyy4"
   },
   "outputs": [],
   "source": [
    "#dropping duplicates Questions \n",
    "ff=tag_countdf.drop_duplicates(subset=\"q_Id\")"
   ]
  },
  {
   "cell_type": "code",
   "execution_count": 187,
   "metadata": {
    "colab": {
     "base_uri": "https://localhost:8080/",
     "height": 602
    },
    "id": "g0dQn3W_tKUK",
    "outputId": "908c3e67-d3d1-41ae-d7d8-c4505bdd3bdf"
   },
   "outputs": [
    {
     "ename": "TypeError",
     "evalue": "'str' object is not callable",
     "output_type": "error",
     "traceback": [
      "\u001b[0;31m---------------------------------------------------------------------------\u001b[0m",
      "\u001b[0;31mTypeError\u001b[0m                                 Traceback (most recent call last)",
      "\u001b[0;32m<ipython-input-187-d7e75c483426>\u001b[0m in \u001b[0;36m<module>\u001b[0;34m\u001b[0m\n\u001b[1;32m      1\u001b[0m \u001b[0mff\u001b[0m\u001b[0;34m.\u001b[0m\u001b[0mgroupby\u001b[0m\u001b[0;34m(\u001b[0m\u001b[0;34m\"tag_count\"\u001b[0m\u001b[0;34m)\u001b[0m\u001b[0;34m[\u001b[0m\u001b[0;34m\"q_Id\"\u001b[0m\u001b[0;34m]\u001b[0m\u001b[0;34m.\u001b[0m\u001b[0mcount\u001b[0m\u001b[0;34m(\u001b[0m\u001b[0;34m)\u001b[0m\u001b[0;34m.\u001b[0m\u001b[0mplot\u001b[0m\u001b[0;34m.\u001b[0m\u001b[0mbar\u001b[0m\u001b[0;34m(\u001b[0m\u001b[0;34m)\u001b[0m\u001b[0;34m\u001b[0m\u001b[0;34m\u001b[0m\u001b[0m\n\u001b[0;32m----> 2\u001b[0;31m \u001b[0mplt\u001b[0m\u001b[0;34m.\u001b[0m\u001b[0mxlabel\u001b[0m\u001b[0;34m(\u001b[0m\u001b[0;34m\"No of Tags\"\u001b[0m\u001b[0;34m)\u001b[0m\u001b[0;34m\u001b[0m\u001b[0;34m\u001b[0m\u001b[0m\n\u001b[0m\u001b[1;32m      3\u001b[0m \u001b[0mplt\u001b[0m\u001b[0;34m.\u001b[0m\u001b[0mylabel\u001b[0m\u001b[0;34m(\u001b[0m\u001b[0;34m\"No of Questions\"\u001b[0m\u001b[0;34m)\u001b[0m\u001b[0;34m\u001b[0m\u001b[0;34m\u001b[0m\u001b[0m\n\u001b[1;32m      4\u001b[0m \u001b[0;31m#plt.title=\"No of Tags vs No of Questions\"\u001b[0m\u001b[0;34m\u001b[0m\u001b[0;34m\u001b[0m\u001b[0;34m\u001b[0m\u001b[0m\n\u001b[1;32m      5\u001b[0m \u001b[0mplt\u001b[0m\u001b[0;34m.\u001b[0m\u001b[0mshow\u001b[0m\u001b[0;34m(\u001b[0m\u001b[0;34m)\u001b[0m\u001b[0;34m\u001b[0m\u001b[0;34m\u001b[0m\u001b[0m\n",
      "\u001b[0;31mTypeError\u001b[0m: 'str' object is not callable"
     ]
    },
    {
     "data": {
      "image/png": "[encoded data removed]",
      "text/plain": [
       "<Figure size 720x720 with 1 Axes>"
      ]
     },
     "metadata": {
      "needs_background": "light"
     },
     "output_type": "display_data"
    }
   ],
   "source": [
    "ff.groupby(\"tag_count\")[\"q_Id\"].count().plot.bar()\n",
    "plt.xlabel(\"No of Tags\")\n",
    "plt.ylabel(\"No of Questions\")\n",
    "#plt.title=\"No of Tags vs No of Questions\"\n",
    "plt.show()"
   ]
  },
  {
   "cell_type": "markdown",
   "metadata": {
    "id": "f7TgbKIytsk4"
   },
   "source": [
    "**The above graph shows that mostly the questions are tagged with 3 Tags**"
   ]
  },
  {
   "cell_type": "markdown",
   "metadata": {
    "id": "4C6hMwzWX6pG"
   },
   "source": [
    "**Is there any influence on no of Tag counts and response time?**"
   ]
  },
  {
   "cell_type": "code",
   "execution_count": 188,
   "metadata": {
    "colab": {
     "base_uri": "https://localhost:8080/"
    },
    "id": "563HaWtKuF5e",
    "outputId": "21ee1c15-a64a-461d-a602-37852b7f4370"
   },
   "outputs": [
    {
     "name": "stderr",
     "output_type": "stream",
     "text": [
      "/home/ec2-user/.local/lib/python3.7/site-packages/ipykernel_launcher.py:1: SettingWithCopyWarning: \n",
      "A value is trying to be set on a copy of a slice from a DataFrame.\n",
      "Try using .loc[row_indexer,col_indexer] = value instead\n",
      "\n",
      "See the caveats in the documentation: https://pandas.pydata.org/pandas-docs/stable/user_guide/indexing.html#returning-a-view-versus-a-copy\n",
      "  \"\"\"Entry point for launching an IPython kernel.\n"
     ]
    }
   ],
   "source": [
    "ff[\"diffint\"]=(ff[\"a_CreationDate\"] - ff[\"q_CreationDate\"]).astype('timedelta64[s]').astype(int)"
   ]
  },
  {
   "cell_type": "code",
   "execution_count": 189,
   "metadata": {
    "colab": {
     "base_uri": "https://localhost:8080/",
     "height": 112
    },
    "id": "uhp1B_dOuxKv",
    "outputId": "2a55ee99-a06e-45ca-a2c1-3a06d9c72462"
   },
   "outputs": [
    {
     "data": {
      "text/html": [
       "<div>\n",
       "<style scoped>\n",
       "    .dataframe tbody tr th:only-of-type {\n",
       "        vertical-align: middle;\n",
       "    }\n",
       "\n",
       "    .dataframe tbody tr th {\n",
       "        vertical-align: top;\n",
       "    }\n",
       "\n",
       "    .dataframe thead th {\n",
       "        text-align: right;\n",
       "    }\n",
       "</style>\n",
       "<table border=\"1\" class=\"dataframe\">\n",
       "  <thead>\n",
       "    <tr style=\"text-align: right;\">\n",
       "      <th></th>\n",
       "      <th>q_Id</th>\n",
       "      <th>Tag</th>\n",
       "      <th>a_Id</th>\n",
       "      <th>q_CreationDate</th>\n",
       "      <th>a_CreationDate</th>\n",
       "      <th>Tags</th>\n",
       "      <th>tag_count</th>\n",
       "      <th>diffint</th>\n",
       "    </tr>\n",
       "  </thead>\n",
       "  <tbody>\n",
       "    <tr>\n",
       "      <th>6</th>\n",
       "      <td>252230</td>\n",
       "      <td>sql stored-procedures subsonic</td>\n",
       "      <td>252595</td>\n",
       "      <td>2008-10-31 00:17:40+00:00</td>\n",
       "      <td>2008-10-31 04:27:08+00:00</td>\n",
       "      <td>sql</td>\n",
       "      <td>3</td>\n",
       "      <td>14968</td>\n",
       "    </tr>\n",
       "    <tr>\n",
       "      <th>21</th>\n",
       "      <td>1990020</td>\n",
       "      <td>sql sql-server</td>\n",
       "      <td>1990040</td>\n",
       "      <td>2010-01-01 23:29:24+00:00</td>\n",
       "      <td>2010-01-01 23:36:57+00:00</td>\n",
       "      <td>sql</td>\n",
       "      <td>2</td>\n",
       "      <td>453</td>\n",
       "    </tr>\n",
       "  </tbody>\n",
       "</table>\n",
       "</div>"
      ],
      "text/plain": [
       "       q_Id                             Tag     a_Id  \\\n",
       "6    252230  sql stored-procedures subsonic   252595   \n",
       "21  1990020                  sql sql-server  1990040   \n",
       "\n",
       "              q_CreationDate            a_CreationDate Tags  tag_count  \\\n",
       "6  2008-10-31 00:17:40+00:00 2008-10-31 04:27:08+00:00  sql          3   \n",
       "21 2010-01-01 23:29:24+00:00 2010-01-01 23:36:57+00:00  sql          2   \n",
       "\n",
       "    diffint  \n",
       "6     14968  \n",
       "21      453  "
      ]
     },
     "execution_count": 189,
     "metadata": {},
     "output_type": "execute_result"
    }
   ],
   "source": [
    "ff.head(2)"
   ]
  },
  {
   "cell_type": "code",
   "execution_count": 190,
   "metadata": {
    "colab": {
     "base_uri": "https://localhost:8080/",
     "height": 418
    },
    "id": "wF6oF2xmzCy-",
    "outputId": "54ca9e66-98ca-4820-f13f-dd6db7db83d0"
   },
   "outputs": [
    {
     "data": {
      "image/png": "[encoded data removed]",
      "text/plain": [
       "<Figure size 720x432 with 2 Axes>"
      ]
     },
     "metadata": {
      "needs_background": "light"
     },
     "output_type": "display_data"
    }
   ],
   "source": [
    "ff1=ff[[\"diffint\",\"tag_count\"]]\n",
    "f, ax = plt.subplots(figsize=(10, 6))\n",
    "corr = ff1.corr()\n",
    "hm = sns.heatmap(round(corr,2), annot=True, ax=ax, cmap=\"coolwarm\",fmt='.2f',\n",
    "                 linewidths=.05)\n",
    "f.subplots_adjust(top=0.93)\n",
    "t= f.suptitle('Datascience TagCount vs Response Time', fontsize=14)"
   ]
  },
  {
   "cell_type": "markdown",
   "metadata": {
    "id": "v_Aw0tlE0ZqK"
   },
   "source": [
    "***There is no correlation on response time and Tag Counts by above graph but lets see more in depth data dive on these ***"
   ]
  },
  {
   "cell_type": "markdown",
   "metadata": {
    "id": "R1xyHiShVabd"
   },
   "source": [
    "**Average Response Time by Tags?**"
   ]
  },
  {
   "cell_type": "code",
   "execution_count": 191,
   "metadata": {
    "colab": {
     "base_uri": "https://localhost:8080/"
    },
    "id": "LPXoodkJT1JT",
    "outputId": "1a55019e-d85c-484e-f28d-128e808902ce"
   },
   "outputs": [
    {
     "data": {
      "text/plain": [
       "count    1.150930e+05\n",
       "mean     1.414887e+06\n",
       "std      9.466870e+06\n",
       "min     -2.136800e+04\n",
       "25%      5.000000e+02\n",
       "50%      1.639000e+03\n",
       "75%      9.964000e+03\n",
       "max      2.255267e+08\n",
       "Name: diffint, dtype: float64"
      ]
     },
     "execution_count": 191,
     "metadata": {},
     "output_type": "execute_result"
    }
   ],
   "source": [
    "ff.diffint.describe()"
   ]
  },
  {
   "cell_type": "code",
   "execution_count": 192,
   "metadata": {
    "colab": {
     "base_uri": "https://localhost:8080/",
     "height": 619
    },
    "id": "7vbryUIbYwHf",
    "outputId": "70f68448-8513-413c-958f-7a945c7d7427"
   },
   "outputs": [
    {
     "data": {
      "text/plain": [
       "<AxesSubplot:>"
      ]
     },
     "execution_count": 192,
     "metadata": {},
     "output_type": "execute_result"
    },
    {
     "data": {
      "image/png": "[encoded data removed]",
      "text/plain": [
       "<Figure size 720x720 with 1 Axes>"
      ]
     },
     "metadata": {
      "needs_background": "light"
     },
     "output_type": "display_data"
    }
   ],
   "source": [
    "ff.diffint.plot.box()"
   ]
  },
  {
   "cell_type": "markdown",
   "metadata": {
    "id": "9rYDJn02YlYq"
   },
   "source": [
    "**The response time is highly skewed so taking only the quartiles and filtering the dataset**"
   ]
  },
  {
   "cell_type": "code",
   "execution_count": 193,
   "metadata": {
    "id": "8i77RdRhUBLY"
   },
   "outputs": [],
   "source": [
    "# Computing IQR\n",
    "Q1 = ff['diffint'].quantile(0.25)\n",
    "Q3 = ff['diffint'].quantile(0.75)\n",
    "IQR = Q3 - Q1\n",
    "\n",
    "# Filtering Values between Q1-1.5IQR and Q3+1.5IQR\n",
    "filtered = ff.query('(@Q1 - 1.5 * @IQR) <= diffint <= (@Q3 + 1.5 * @IQR)')"
   ]
  },
  {
   "cell_type": "code",
   "execution_count": 194,
   "metadata": {
    "colab": {
     "base_uri": "https://localhost:8080/",
     "height": 609
    },
    "id": "USPGKLAXURNt",
    "outputId": "14358117-8daa-4a1e-fb6a-a115b28a87d7"
   },
   "outputs": [
    {
     "data": {
      "text/plain": [
       "<AxesSubplot:>"
      ]
     },
     "execution_count": 194,
     "metadata": {},
     "output_type": "execute_result"
    },
    {
     "data": {
      "image/png": "[encoded data removed]",
      "text/plain": [
       "<Figure size 720x720 with 1 Axes>"
      ]
     },
     "metadata": {
      "needs_background": "light"
     },
     "output_type": "display_data"
    }
   ],
   "source": [
    "filtered.diffint.plot.box()"
   ]
  },
  {
   "cell_type": "code",
   "execution_count": 195,
   "metadata": {
    "colab": {
     "base_uri": "https://localhost:8080/",
     "height": 609
    },
    "id": "Uj5LkbtSScrp",
    "outputId": "d6a41d9d-bddc-4ca5-8ec0-fe6388c0d03a"
   },
   "outputs": [
    {
     "data": {
      "text/plain": [
       "<AxesSubplot:ylabel='Tags'>"
      ]
     },
     "execution_count": 195,
     "metadata": {},
     "output_type": "execute_result"
    },
    {
     "data": {
      "image/png": "[encoded data removed]",
      "text/plain": [
       "<Figure size 720x720 with 1 Axes>"
      ]
     },
     "metadata": {
      "needs_background": "light"
     },
     "output_type": "display_data"
    }
   ],
   "source": [
    "filtered.groupby(\"Tags\")[\"diffint\"].median().sort_values(ascending=False).plot.barh()"
   ]
  },
  {
   "cell_type": "markdown",
   "metadata": {
    "id": "-2mdF0tAVlKS"
   },
   "source": [
    "**By above graph we can infer that sql excel sas ,sql , python has combination has less response time .SQl matlab combination has taken large time to respond.so better that users can tag popular tags to getter response quickly.The response time depends on the tags attached **"
   ]
  },
  {
   "cell_type": "markdown",
   "metadata": {
    "id": "uuJ0K8t1Zzgf"
   },
   "source": [
    "***No of Tags vs Average response Time ***"
   ]
  },
  {
   "cell_type": "code",
   "execution_count": 196,
   "metadata": {
    "colab": {
     "base_uri": "https://localhost:8080/",
     "height": 619
    },
    "id": "X50T3fu1V5Po",
    "outputId": "8d3724dd-73b0-43d7-a902-7500abafd971"
   },
   "outputs": [
    {
     "data": {
      "text/plain": [
       "<AxesSubplot:xlabel='tag_count'>"
      ]
     },
     "execution_count": 196,
     "metadata": {},
     "output_type": "execute_result"
    },
    {
     "data": {
      "image/png": "[encoded data removed]",
      "text/plain": [
       "<Figure size 720x720 with 1 Axes>"
      ]
     },
     "metadata": {
      "needs_background": "light"
     },
     "output_type": "display_data"
    }
   ],
   "source": [
    "filtered.groupby(\"tag_count\")[\"diffint\"].median().plot.bar()"
   ]
  },
  {
   "cell_type": "markdown",
   "metadata": {
    "id": "LJVCXXktZ90h"
   },
   "source": [
    "**From the above graph we can infer that the questions having only one tag are answered quickly as the median response time is less when it is compared with 2 or 3 or 4 **"
   ]
  },
  {
   "cell_type": "markdown",
   "metadata": {},
   "source": [
    "## Inserting filtered dataframe in RDS for the EDA"
   ]
  },
  {
   "cell_type": "code",
   "execution_count": 197,
   "metadata": {},
   "outputs": [
    {
     "name": "stderr",
     "output_type": "stream",
     "text": [
      "/home/ec2-user/.local/lib/python3.7/site-packages/pandas/io/sql.py:1422: UserWarning: The provided table name 'ResponseTime' is not found exactly as such in the database after writing the table, possibly due to case sensitivity issues. Consider using lower case table names.\n",
      "  warnings.warn(msg, UserWarning)\n"
     ]
    }
   ],
   "source": [
    "filtered.to_sql(con=database_connection, name=\"ResponseTime\", if_exists='replace',chunksize=100, index=False)"
   ]
  },
  {
   "cell_type": "code",
   "execution_count": 198,
   "metadata": {},
   "outputs": [],
   "source": [
    "# Creating SQL query to use together with database_connection in next line\n",
    "\n",
    "sql_query='''\n",
    "SELECT * FROM ResponseTime limit 3\n",
    "'''"
   ]
  },
  {
   "cell_type": "code",
   "execution_count": 199,
   "metadata": {},
   "outputs": [],
   "source": [
    "responsetime_data=pd.read_sql(sql_query,con=database_connection)"
   ]
  },
  {
   "cell_type": "code",
   "execution_count": 200,
   "metadata": {},
   "outputs": [
    {
     "data": {
      "text/html": [
       "<div>\n",
       "<style scoped>\n",
       "    .dataframe tbody tr th:only-of-type {\n",
       "        vertical-align: middle;\n",
       "    }\n",
       "\n",
       "    .dataframe tbody tr th {\n",
       "        vertical-align: top;\n",
       "    }\n",
       "\n",
       "    .dataframe thead th {\n",
       "        text-align: right;\n",
       "    }\n",
       "</style>\n",
       "<table border=\"1\" class=\"dataframe\">\n",
       "  <thead>\n",
       "    <tr style=\"text-align: right;\">\n",
       "      <th></th>\n",
       "      <th>q_Id</th>\n",
       "      <th>Tag</th>\n",
       "      <th>a_Id</th>\n",
       "      <th>q_CreationDate</th>\n",
       "      <th>a_CreationDate</th>\n",
       "      <th>Tags</th>\n",
       "      <th>tag_count</th>\n",
       "      <th>diffint</th>\n",
       "    </tr>\n",
       "  </thead>\n",
       "  <tbody>\n",
       "    <tr>\n",
       "      <th>0</th>\n",
       "      <td>252230</td>\n",
       "      <td>sql stored-procedures subsonic</td>\n",
       "      <td>252595</td>\n",
       "      <td>2008-10-31 00:17:40</td>\n",
       "      <td>2008-10-31 04:27:08</td>\n",
       "      <td>sql</td>\n",
       "      <td>3</td>\n",
       "      <td>14968</td>\n",
       "    </tr>\n",
       "    <tr>\n",
       "      <th>1</th>\n",
       "      <td>1990020</td>\n",
       "      <td>sql sql-server</td>\n",
       "      <td>1990040</td>\n",
       "      <td>2010-01-01 23:29:24</td>\n",
       "      <td>2010-01-01 23:36:57</td>\n",
       "      <td>sql</td>\n",
       "      <td>2</td>\n",
       "      <td>453</td>\n",
       "    </tr>\n",
       "    <tr>\n",
       "      <th>2</th>\n",
       "      <td>1068900</td>\n",
       "      <td>php sql mysql</td>\n",
       "      <td>1068927</td>\n",
       "      <td>2009-07-01 12:29:25</td>\n",
       "      <td>2009-07-01 12:34:48</td>\n",
       "      <td>sql</td>\n",
       "      <td>3</td>\n",
       "      <td>323</td>\n",
       "    </tr>\n",
       "  </tbody>\n",
       "</table>\n",
       "</div>"
      ],
      "text/plain": [
       "      q_Id                             Tag     a_Id      q_CreationDate  \\\n",
       "0   252230  sql stored-procedures subsonic   252595 2008-10-31 00:17:40   \n",
       "1  1990020                  sql sql-server  1990040 2010-01-01 23:29:24   \n",
       "2  1068900                   php sql mysql  1068927 2009-07-01 12:29:25   \n",
       "\n",
       "       a_CreationDate Tags  tag_count  diffint  \n",
       "0 2008-10-31 04:27:08  sql          3    14968  \n",
       "1 2010-01-01 23:36:57  sql          2      453  \n",
       "2 2009-07-01 12:34:48  sql          3      323  "
      ]
     },
     "execution_count": 200,
     "metadata": {},
     "output_type": "execute_result"
    }
   ],
   "source": [
    "##fetching tha data from RDS\n",
    "responsetime_data.head(3)"
   ]
  },
  {
   "cell_type": "code",
   "execution_count": null,
   "metadata": {},
   "outputs": [],
   "source": []
  }
 ],
 "metadata": {
  "colab": {
   "collapsed_sections": [],
   "name": "SatckOverflowCaseStudy.ipynb",
   "provenance": []
  },
  "kernelspec": {
   "display_name": "Python 3",
   "language": "python",
   "name": "python3"
  },
  "language_info": {
   "codemirror_mode": {
    "name": "ipython",
    "version": 3
   },
   "file_extension": ".py",
   "mimetype": "text/x-python",
   "name": "python",
   "nbconvert_exporter": "python",
   "pygments_lexer": "ipython3",
   "version": "3.7.9"
  },
  "widgets": {
   "application/vnd.jupyter.widget-state+json": {
    "2200b51783ef49b38c12780003bc183a": {
     "model_module": "@jupyter-widgets/controls",
     "model_name": "HTMLModel",
     "state": {
      "_dom_classes": [],
      "_model_module": "@jupyter-widgets/controls",
      "_model_module_version": "1.5.0",
      "_model_name": "HTMLModel",
      "_view_count": null,
      "_view_module": "@jupyter-widgets/controls",
      "_view_module_version": "1.5.0",
      "_view_name": "HTMLView",
      "description": "",
      "description_tooltip": null,
      "layout": "IPY_MODEL_7f9a24bbe0e44788b54e6264289001bf",
      "placeholder": "​",
      "style": "IPY_MODEL_ada04f0aaab747dba2c556d0d68d791e",
      "value": " 666/666 [00:08&lt;00:00, 78.07it/s]"
     }
    },
    "235af1da75184b4daf6880fe0f526257": {
     "model_module": "@jupyter-widgets/base",
     "model_name": "LayoutModel",
     "state": {
      "_model_module": "@jupyter-widgets/base",
      "_model_module_version": "1.2.0",
      "_model_name": "LayoutModel",
      "_view_count": null,
      "_view_module": "@jupyter-widgets/base",
      "_view_module_version": "1.2.0",
      "_view_name": "LayoutView",
      "align_content": null,
      "align_items": null,
      "align_self": null,
      "border": null,
      "bottom": null,
      "display": null,
      "flex": null,
      "flex_flow": null,
      "grid_area": null,
      "grid_auto_columns": null,
      "grid_auto_flow": null,
      "grid_auto_rows": null,
      "grid_column": null,
      "grid_gap": null,
      "grid_row": null,
      "grid_template_areas": null,
      "grid_template_columns": null,
      "grid_template_rows": null,
      "height": null,
      "justify_content": null,
      "justify_items": null,
      "left": null,
      "margin": null,
      "max_height": null,
      "max_width": null,
      "min_height": null,
      "min_width": null,
      "object_fit": null,
      "object_position": null,
      "order": null,
      "overflow": null,
      "overflow_x": null,
      "overflow_y": null,
      "padding": null,
      "right": null,
      "top": null,
      "visibility": null,
      "width": null
     }
    },
    "286c306a64ef48d6af966a89b5ed84f0": {
     "model_module": "@jupyter-widgets/controls",
     "model_name": "ProgressStyleModel",
     "state": {
      "_model_module": "@jupyter-widgets/controls",
      "_model_module_version": "1.5.0",
      "_model_name": "ProgressStyleModel",
      "_view_count": null,
      "_view_module": "@jupyter-widgets/base",
      "_view_module_version": "1.2.0",
      "_view_name": "StyleView",
      "bar_color": null,
      "description_width": "initial"
     }
    },
    "3d2ad37d0d0f49c7af673c8d44b6a6b9": {
     "model_module": "@jupyter-widgets/base",
     "model_name": "LayoutModel",
     "state": {
      "_model_module": "@jupyter-widgets/base",
      "_model_module_version": "1.2.0",
      "_model_name": "LayoutModel",
      "_view_count": null,
      "_view_module": "@jupyter-widgets/base",
      "_view_module_version": "1.2.0",
      "_view_name": "LayoutView",
      "align_content": null,
      "align_items": null,
      "align_self": null,
      "border": null,
      "bottom": null,
      "display": null,
      "flex": null,
      "flex_flow": null,
      "grid_area": null,
      "grid_auto_columns": null,
      "grid_auto_flow": null,
      "grid_auto_rows": null,
      "grid_column": null,
      "grid_gap": null,
      "grid_row": null,
      "grid_template_areas": null,
      "grid_template_columns": null,
      "grid_template_rows": null,
      "height": null,
      "justify_content": null,
      "justify_items": null,
      "left": null,
      "margin": null,
      "max_height": null,
      "max_width": null,
      "min_height": null,
      "min_width": null,
      "object_fit": null,
      "object_position": null,
      "order": null,
      "overflow": null,
      "overflow_x": null,
      "overflow_y": null,
      "padding": null,
      "right": null,
      "top": null,
      "visibility": null,
      "width": null
     }
    },
    "4e23459941cb4c6aa83ded20eef6e41c": {
     "model_module": "@jupyter-widgets/controls",
     "model_name": "FloatProgressModel",
     "state": {
      "_dom_classes": [],
      "_model_module": "@jupyter-widgets/controls",
      "_model_module_version": "1.5.0",
      "_model_name": "FloatProgressModel",
      "_view_count": null,
      "_view_module": "@jupyter-widgets/controls",
      "_view_module_version": "1.5.0",
      "_view_name": "ProgressView",
      "bar_style": "success",
      "description": "100%",
      "description_tooltip": null,
      "layout": "IPY_MODEL_db237b6dfae44cb78a77a1a6caffa4e7",
      "max": 210245,
      "min": 0,
      "orientation": "horizontal",
      "style": "IPY_MODEL_ae322d1b841c4cb1a012c0da18af710d",
      "value": 210245
     }
    },
    "586e4eb1e1ba4e098ae3159383ad57d4": {
     "model_module": "@jupyter-widgets/base",
     "model_name": "LayoutModel",
     "state": {
      "_model_module": "@jupyter-widgets/base",
      "_model_module_version": "1.2.0",
      "_model_name": "LayoutModel",
      "_view_count": null,
      "_view_module": "@jupyter-widgets/base",
      "_view_module_version": "1.2.0",
      "_view_name": "LayoutView",
      "align_content": null,
      "align_items": null,
      "align_self": null,
      "border": null,
      "bottom": null,
      "display": null,
      "flex": null,
      "flex_flow": null,
      "grid_area": null,
      "grid_auto_columns": null,
      "grid_auto_flow": null,
      "grid_auto_rows": null,
      "grid_column": null,
      "grid_gap": null,
      "grid_row": null,
      "grid_template_areas": null,
      "grid_template_columns": null,
      "grid_template_rows": null,
      "height": null,
      "justify_content": null,
      "justify_items": null,
      "left": null,
      "margin": null,
      "max_height": null,
      "max_width": null,
      "min_height": null,
      "min_width": null,
      "object_fit": null,
      "object_position": null,
      "order": null,
      "overflow": null,
      "overflow_x": null,
      "overflow_y": null,
      "padding": null,
      "right": null,
      "top": null,
      "visibility": null,
      "width": null
     }
    },
    "60ff7bd931a6438db2552a95e4578a27": {
     "model_module": "@jupyter-widgets/base",
     "model_name": "LayoutModel",
     "state": {
      "_model_module": "@jupyter-widgets/base",
      "_model_module_version": "1.2.0",
      "_model_name": "LayoutModel",
      "_view_count": null,
      "_view_module": "@jupyter-widgets/base",
      "_view_module_version": "1.2.0",
      "_view_name": "LayoutView",
      "align_content": null,
      "align_items": null,
      "align_self": null,
      "border": null,
      "bottom": null,
      "display": null,
      "flex": null,
      "flex_flow": null,
      "grid_area": null,
      "grid_auto_columns": null,
      "grid_auto_flow": null,
      "grid_auto_rows": null,
      "grid_column": null,
      "grid_gap": null,
      "grid_row": null,
      "grid_template_areas": null,
      "grid_template_columns": null,
      "grid_template_rows": null,
      "height": null,
      "justify_content": null,
      "justify_items": null,
      "left": null,
      "margin": null,
      "max_height": null,
      "max_width": null,
      "min_height": null,
      "min_width": null,
      "object_fit": null,
      "object_position": null,
      "order": null,
      "overflow": null,
      "overflow_x": null,
      "overflow_y": null,
      "padding": null,
      "right": null,
      "top": null,
      "visibility": null,
      "width": null
     }
    },
    "672076325bd946019708a612652c6a0d": {
     "model_module": "@jupyter-widgets/controls",
     "model_name": "FloatProgressModel",
     "state": {
      "_dom_classes": [],
      "_model_module": "@jupyter-widgets/controls",
      "_model_module_version": "1.5.0",
      "_model_name": "FloatProgressModel",
      "_view_count": null,
      "_view_module": "@jupyter-widgets/controls",
      "_view_module_version": "1.5.0",
      "_view_name": "ProgressView",
      "bar_style": "success",
      "description": "100%",
      "description_tooltip": null,
      "layout": "IPY_MODEL_e88c0236f4134cf49fe32db161d10e82",
      "max": 793,
      "min": 0,
      "orientation": "horizontal",
      "style": "IPY_MODEL_286c306a64ef48d6af966a89b5ed84f0",
      "value": 793
     }
    },
    "6fdd6f34d81c4af6895fba3de9ba4eb5": {
     "model_module": "@jupyter-widgets/controls",
     "model_name": "DescriptionStyleModel",
     "state": {
      "_model_module": "@jupyter-widgets/controls",
      "_model_module_version": "1.5.0",
      "_model_name": "DescriptionStyleModel",
      "_view_count": null,
      "_view_module": "@jupyter-widgets/base",
      "_view_module_version": "1.2.0",
      "_view_name": "StyleView",
      "description_width": ""
     }
    },
    "764ea6702a474b9ca75c28e1aa48c34e": {
     "model_module": "@jupyter-widgets/controls",
     "model_name": "HTMLModel",
     "state": {
      "_dom_classes": [],
      "_model_module": "@jupyter-widgets/controls",
      "_model_module_version": "1.5.0",
      "_model_name": "HTMLModel",
      "_view_count": null,
      "_view_module": "@jupyter-widgets/controls",
      "_view_module_version": "1.5.0",
      "_view_name": "HTMLView",
      "description": "",
      "description_tooltip": null,
      "layout": "IPY_MODEL_9ff540d819084a6092d67afcea50bac1",
      "placeholder": "​",
      "style": "IPY_MODEL_6fdd6f34d81c4af6895fba3de9ba4eb5",
      "value": " 210245/210245 [1:03:24&lt;00:00, 55.26it/s]"
     }
    },
    "7f9a24bbe0e44788b54e6264289001bf": {
     "model_module": "@jupyter-widgets/base",
     "model_name": "LayoutModel",
     "state": {
      "_model_module": "@jupyter-widgets/base",
      "_model_module_version": "1.2.0",
      "_model_name": "LayoutModel",
      "_view_count": null,
      "_view_module": "@jupyter-widgets/base",
      "_view_module_version": "1.2.0",
      "_view_name": "LayoutView",
      "align_content": null,
      "align_items": null,
      "align_self": null,
      "border": null,
      "bottom": null,
      "display": null,
      "flex": null,
      "flex_flow": null,
      "grid_area": null,
      "grid_auto_columns": null,
      "grid_auto_flow": null,
      "grid_auto_rows": null,
      "grid_column": null,
      "grid_gap": null,
      "grid_row": null,
      "grid_template_areas": null,
      "grid_template_columns": null,
      "grid_template_rows": null,
      "height": null,
      "justify_content": null,
      "justify_items": null,
      "left": null,
      "margin": null,
      "max_height": null,
      "max_width": null,
      "min_height": null,
      "min_width": null,
      "object_fit": null,
      "object_position": null,
      "order": null,
      "overflow": null,
      "overflow_x": null,
      "overflow_y": null,
      "padding": null,
      "right": null,
      "top": null,
      "visibility": null,
      "width": null
     }
    },
    "9105b53c174746db9ed01f954dca38b4": {
     "model_module": "@jupyter-widgets/controls",
     "model_name": "HBoxModel",
     "state": {
      "_dom_classes": [],
      "_model_module": "@jupyter-widgets/controls",
      "_model_module_version": "1.5.0",
      "_model_name": "HBoxModel",
      "_view_count": null,
      "_view_module": "@jupyter-widgets/controls",
      "_view_module_version": "1.5.0",
      "_view_name": "HBoxView",
      "box_style": "",
      "children": [
       "IPY_MODEL_4e23459941cb4c6aa83ded20eef6e41c",
       "IPY_MODEL_764ea6702a474b9ca75c28e1aa48c34e"
      ],
      "layout": "IPY_MODEL_235af1da75184b4daf6880fe0f526257"
     }
    },
    "919b4738671e4c3f963bbb5f0e5375ef": {
     "model_module": "@jupyter-widgets/controls",
     "model_name": "FloatProgressModel",
     "state": {
      "_dom_classes": [],
      "_model_module": "@jupyter-widgets/controls",
      "_model_module_version": "1.5.0",
      "_model_name": "FloatProgressModel",
      "_view_count": null,
      "_view_module": "@jupyter-widgets/controls",
      "_view_module_version": "1.5.0",
      "_view_name": "ProgressView",
      "bar_style": "success",
      "description": "100%",
      "description_tooltip": null,
      "layout": "IPY_MODEL_91cc73b7bafa49e09a6b96841078f78e",
      "max": 666,
      "min": 0,
      "orientation": "horizontal",
      "style": "IPY_MODEL_d3e9fff2d07c4845b58cd9424827c2c8",
      "value": 666
     }
    },
    "91cc73b7bafa49e09a6b96841078f78e": {
     "model_module": "@jupyter-widgets/base",
     "model_name": "LayoutModel",
     "state": {
      "_model_module": "@jupyter-widgets/base",
      "_model_module_version": "1.2.0",
      "_model_name": "LayoutModel",
      "_view_count": null,
      "_view_module": "@jupyter-widgets/base",
      "_view_module_version": "1.2.0",
      "_view_name": "LayoutView",
      "align_content": null,
      "align_items": null,
      "align_self": null,
      "border": null,
      "bottom": null,
      "display": null,
      "flex": null,
      "flex_flow": null,
      "grid_area": null,
      "grid_auto_columns": null,
      "grid_auto_flow": null,
      "grid_auto_rows": null,
      "grid_column": null,
      "grid_gap": null,
      "grid_row": null,
      "grid_template_areas": null,
      "grid_template_columns": null,
      "grid_template_rows": null,
      "height": null,
      "justify_content": null,
      "justify_items": null,
      "left": null,
      "margin": null,
      "max_height": null,
      "max_width": null,
      "min_height": null,
      "min_width": null,
      "object_fit": null,
      "object_position": null,
      "order": null,
      "overflow": null,
      "overflow_x": null,
      "overflow_y": null,
      "padding": null,
      "right": null,
      "top": null,
      "visibility": null,
      "width": null
     }
    },
    "98616a7e9a5c47849b72d2776bb6fc62": {
     "model_module": "@jupyter-widgets/controls",
     "model_name": "HBoxModel",
     "state": {
      "_dom_classes": [],
      "_model_module": "@jupyter-widgets/controls",
      "_model_module_version": "1.5.0",
      "_model_name": "HBoxModel",
      "_view_count": null,
      "_view_module": "@jupyter-widgets/controls",
      "_view_module_version": "1.5.0",
      "_view_name": "HBoxView",
      "box_style": "",
      "children": [
       "IPY_MODEL_919b4738671e4c3f963bbb5f0e5375ef",
       "IPY_MODEL_2200b51783ef49b38c12780003bc183a"
      ],
      "layout": "IPY_MODEL_3d2ad37d0d0f49c7af673c8d44b6a6b9"
     }
    },
    "9ff540d819084a6092d67afcea50bac1": {
     "model_module": "@jupyter-widgets/base",
     "model_name": "LayoutModel",
     "state": {
      "_model_module": "@jupyter-widgets/base",
      "_model_module_version": "1.2.0",
      "_model_name": "LayoutModel",
      "_view_count": null,
      "_view_module": "@jupyter-widgets/base",
      "_view_module_version": "1.2.0",
      "_view_name": "LayoutView",
      "align_content": null,
      "align_items": null,
      "align_self": null,
      "border": null,
      "bottom": null,
      "display": null,
      "flex": null,
      "flex_flow": null,
      "grid_area": null,
      "grid_auto_columns": null,
      "grid_auto_flow": null,
      "grid_auto_rows": null,
      "grid_column": null,
      "grid_gap": null,
      "grid_row": null,
      "grid_template_areas": null,
      "grid_template_columns": null,
      "grid_template_rows": null,
      "height": null,
      "justify_content": null,
      "justify_items": null,
      "left": null,
      "margin": null,
      "max_height": null,
      "max_width": null,
      "min_height": null,
      "min_width": null,
      "object_fit": null,
      "object_position": null,
      "order": null,
      "overflow": null,
      "overflow_x": null,
      "overflow_y": null,
      "padding": null,
      "right": null,
      "top": null,
      "visibility": null,
      "width": null
     }
    },
    "aaed4873098542fcbff17ba60296d6fe": {
     "model_module": "@jupyter-widgets/controls",
     "model_name": "HTMLModel",
     "state": {
      "_dom_classes": [],
      "_model_module": "@jupyter-widgets/controls",
      "_model_module_version": "1.5.0",
      "_model_name": "HTMLModel",
      "_view_count": null,
      "_view_module": "@jupyter-widgets/controls",
      "_view_module_version": "1.5.0",
      "_view_name": "HTMLView",
      "description": "",
      "description_tooltip": null,
      "layout": "IPY_MODEL_586e4eb1e1ba4e098ae3159383ad57d4",
      "placeholder": "​",
      "style": "IPY_MODEL_f7e62236fc1240f899e5222f850c92ca",
      "value": " 793/793 [00:13&lt;00:00, 58.28it/s]"
     }
    },
    "ada04f0aaab747dba2c556d0d68d791e": {
     "model_module": "@jupyter-widgets/controls",
     "model_name": "DescriptionStyleModel",
     "state": {
      "_model_module": "@jupyter-widgets/controls",
      "_model_module_version": "1.5.0",
      "_model_name": "DescriptionStyleModel",
      "_view_count": null,
      "_view_module": "@jupyter-widgets/base",
      "_view_module_version": "1.2.0",
      "_view_name": "StyleView",
      "description_width": ""
     }
    },
    "ae322d1b841c4cb1a012c0da18af710d": {
     "model_module": "@jupyter-widgets/controls",
     "model_name": "ProgressStyleModel",
     "state": {
      "_model_module": "@jupyter-widgets/controls",
      "_model_module_version": "1.5.0",
      "_model_name": "ProgressStyleModel",
      "_view_count": null,
      "_view_module": "@jupyter-widgets/base",
      "_view_module_version": "1.2.0",
      "_view_name": "StyleView",
      "bar_color": null,
      "description_width": "initial"
     }
    },
    "bc3f57b5a52746888f6667c7dee1bfd9": {
     "model_module": "@jupyter-widgets/controls",
     "model_name": "HBoxModel",
     "state": {
      "_dom_classes": [],
      "_model_module": "@jupyter-widgets/controls",
      "_model_module_version": "1.5.0",
      "_model_name": "HBoxModel",
      "_view_count": null,
      "_view_module": "@jupyter-widgets/controls",
      "_view_module_version": "1.5.0",
      "_view_name": "HBoxView",
      "box_style": "",
      "children": [
       "IPY_MODEL_672076325bd946019708a612652c6a0d",
       "IPY_MODEL_aaed4873098542fcbff17ba60296d6fe"
      ],
      "layout": "IPY_MODEL_60ff7bd931a6438db2552a95e4578a27"
     }
    },
    "d3e9fff2d07c4845b58cd9424827c2c8": {
     "model_module": "@jupyter-widgets/controls",
     "model_name": "ProgressStyleModel",
     "state": {
      "_model_module": "@jupyter-widgets/controls",
      "_model_module_version": "1.5.0",
      "_model_name": "ProgressStyleModel",
      "_view_count": null,
      "_view_module": "@jupyter-widgets/base",
      "_view_module_version": "1.2.0",
      "_view_name": "StyleView",
      "bar_color": null,
      "description_width": "initial"
     }
    },
    "db237b6dfae44cb78a77a1a6caffa4e7": {
     "model_module": "@jupyter-widgets/base",
     "model_name": "LayoutModel",
     "state": {
      "_model_module": "@jupyter-widgets/base",
      "_model_module_version": "1.2.0",
      "_model_name": "LayoutModel",
      "_view_count": null,
      "_view_module": "@jupyter-widgets/base",
      "_view_module_version": "1.2.0",
      "_view_name": "LayoutView",
      "align_content": null,
      "align_items": null,
      "align_self": null,
      "border": null,
      "bottom": null,
      "display": null,
      "flex": null,
      "flex_flow": null,
      "grid_area": null,
      "grid_auto_columns": null,
      "grid_auto_flow": null,
      "grid_auto_rows": null,
      "grid_column": null,
      "grid_gap": null,
      "grid_row": null,
      "grid_template_areas": null,
      "grid_template_columns": null,
      "grid_template_rows": null,
      "height": null,
      "justify_content": null,
      "justify_items": null,
      "left": null,
      "margin": null,
      "max_height": null,
      "max_width": null,
      "min_height": null,
      "min_width": null,
      "object_fit": null,
      "object_position": null,
      "order": null,
      "overflow": null,
      "overflow_x": null,
      "overflow_y": null,
      "padding": null,
      "right": null,
      "top": null,
      "visibility": null,
      "width": null
     }
    },
    "e88c0236f4134cf49fe32db161d10e82": {
     "model_module": "@jupyter-widgets/base",
     "model_name": "LayoutModel",
     "state": {
      "_model_module": "@jupyter-widgets/base",
      "_model_module_version": "1.2.0",
      "_model_name": "LayoutModel",
      "_view_count": null,
      "_view_module": "@jupyter-widgets/base",
      "_view_module_version": "1.2.0",
      "_view_name": "LayoutView",
      "align_content": null,
      "align_items": null,
      "align_self": null,
      "border": null,
      "bottom": null,
      "display": null,
      "flex": null,
      "flex_flow": null,
      "grid_area": null,
      "grid_auto_columns": null,
      "grid_auto_flow": null,
      "grid_auto_rows": null,
      "grid_column": null,
      "grid_gap": null,
      "grid_row": null,
      "grid_template_areas": null,
      "grid_template_columns": null,
      "grid_template_rows": null,
      "height": null,
      "justify_content": null,
      "justify_items": null,
      "left": null,
      "margin": null,
      "max_height": null,
      "max_width": null,
      "min_height": null,
      "min_width": null,
      "object_fit": null,
      "object_position": null,
      "order": null,
      "overflow": null,
      "overflow_x": null,
      "overflow_y": null,
      "padding": null,
      "right": null,
      "top": null,
      "visibility": null,
      "width": null
     }
    },
    "f7e62236fc1240f899e5222f850c92ca": {
     "model_module": "@jupyter-widgets/controls",
     "model_name": "DescriptionStyleModel",
     "state": {
      "_model_module": "@jupyter-widgets/controls",
      "_model_module_version": "1.5.0",
      "_model_name": "DescriptionStyleModel",
      "_view_count": null,
      "_view_module": "@jupyter-widgets/base",
      "_view_module_version": "1.2.0",
      "_view_name": "StyleView",
      "description_width": ""
     }
    }
   }
  }
 },
 "nbformat": 4,
 "nbformat_minor": 1
}
