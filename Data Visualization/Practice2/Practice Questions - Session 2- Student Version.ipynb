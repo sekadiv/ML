{
 "cells": [
  {
   "cell_type": "code",
   "execution_count": 2,
   "metadata": {},
   "outputs": [],
   "source": [
    "#Import all the necessary libraries here\n",
    "import numpy as np\n",
    "import pandas as pd\n",
    "import seaborn as sns\n",
    "import matplotlib.pyplot as plt"
   ]
  },
  {
   "cell_type": "markdown",
   "metadata": {},
   "source": [
    "# Footwear\n",
    "The given dataset contains the profits generated(in %) by all the suppliers of a footwear company in 4 major cities of India - Delhi, Mumbai, Jaipur and Hyderabad. The company wants to invest more money in the city that is showing the most promise. Analyse the dataset and answer the following questions."
   ]
  },
  {
   "cell_type": "code",
   "execution_count": 3,
   "metadata": {},
   "outputs": [],
   "source": [
    "#loading data\n",
    "df=pd.read_csv(\"Footwear_v2.csv\")"
   ]
  },
  {
   "cell_type": "code",
   "execution_count": 4,
   "metadata": {},
   "outputs": [
    {
     "data": {
      "text/html": [
       "<div>\n",
       "<style scoped>\n",
       "    .dataframe tbody tr th:only-of-type {\n",
       "        vertical-align: middle;\n",
       "    }\n",
       "\n",
       "    .dataframe tbody tr th {\n",
       "        vertical-align: top;\n",
       "    }\n",
       "\n",
       "    .dataframe thead th {\n",
       "        text-align: right;\n",
       "    }\n",
       "</style>\n",
       "<table border=\"1\" class=\"dataframe\">\n",
       "  <thead>\n",
       "    <tr style=\"text-align: right;\">\n",
       "      <th></th>\n",
       "      <th>Supplier</th>\n",
       "      <th>Delhi</th>\n",
       "      <th>Mumbai</th>\n",
       "      <th>Jaipur</th>\n",
       "      <th>Hyderabad</th>\n",
       "    </tr>\n",
       "  </thead>\n",
       "  <tbody>\n",
       "    <tr>\n",
       "      <th>0</th>\n",
       "      <td>Supplier 1</td>\n",
       "      <td>4.57%</td>\n",
       "      <td>4.18%</td>\n",
       "      <td>7.90%</td>\n",
       "      <td>8.54%</td>\n",
       "    </tr>\n",
       "    <tr>\n",
       "      <th>1</th>\n",
       "      <td>supplier 2</td>\n",
       "      <td>2.60%</td>\n",
       "      <td>1.88%</td>\n",
       "      <td>8.99%</td>\n",
       "      <td>9.23%</td>\n",
       "    </tr>\n",
       "    <tr>\n",
       "      <th>2</th>\n",
       "      <td>supplier 3</td>\n",
       "      <td>2.26%</td>\n",
       "      <td>7.48%</td>\n",
       "      <td>6.71%</td>\n",
       "      <td>7.84%</td>\n",
       "    </tr>\n",
       "    <tr>\n",
       "      <th>3</th>\n",
       "      <td>supplier 4</td>\n",
       "      <td>6.47%</td>\n",
       "      <td>6.70%</td>\n",
       "      <td>7.94%</td>\n",
       "      <td>9.89%</td>\n",
       "    </tr>\n",
       "    <tr>\n",
       "      <th>4</th>\n",
       "      <td>supplier 5</td>\n",
       "      <td>6.82%</td>\n",
       "      <td>1.17%</td>\n",
       "      <td>8.54%</td>\n",
       "      <td>5.67%</td>\n",
       "    </tr>\n",
       "  </tbody>\n",
       "</table>\n",
       "</div>"
      ],
      "text/plain": [
       "     Supplier  Delhi Mumbai Jaipur Hyderabad\n",
       "0  Supplier 1  4.57%  4.18%  7.90%     8.54%\n",
       "1  supplier 2  2.60%  1.88%  8.99%     9.23%\n",
       "2  supplier 3  2.26%  7.48%  6.71%     7.84%\n",
       "3  supplier 4  6.47%  6.70%  7.94%     9.89%\n",
       "4  supplier 5  6.82%  1.17%  8.54%     5.67%"
      ]
     },
     "execution_count": 4,
     "metadata": {},
     "output_type": "execute_result"
    }
   ],
   "source": [
    "df.head()"
   ]
  },
  {
   "cell_type": "code",
   "execution_count": 5,
   "metadata": {},
   "outputs": [],
   "source": [
    "def cleaner(string):\n",
    "    clean_str=\"\".join(filter(lambda x: (x in \"0123456789.\"), string))\n",
    "    return float(clean_str)\n",
    "df['Delhi']=df['Delhi'].apply(cleaner)"
   ]
  },
  {
   "cell_type": "code",
   "execution_count": 6,
   "metadata": {},
   "outputs": [],
   "source": [
    "df['Mumbai']=df['Mumbai'].apply(cleaner)"
   ]
  },
  {
   "cell_type": "code",
   "execution_count": 7,
   "metadata": {},
   "outputs": [],
   "source": [
    "df['Jaipur']=df['Jaipur'].apply(cleaner)"
   ]
  },
  {
   "cell_type": "code",
   "execution_count": 8,
   "metadata": {},
   "outputs": [],
   "source": [
    "df['Hyderabad']=df['Hyderabad'].apply(cleaner)"
   ]
  },
  {
   "cell_type": "code",
   "execution_count": 9,
   "metadata": {},
   "outputs": [
    {
     "data": {
      "text/html": [
       "<div>\n",
       "<style scoped>\n",
       "    .dataframe tbody tr th:only-of-type {\n",
       "        vertical-align: middle;\n",
       "    }\n",
       "\n",
       "    .dataframe tbody tr th {\n",
       "        vertical-align: top;\n",
       "    }\n",
       "\n",
       "    .dataframe thead th {\n",
       "        text-align: right;\n",
       "    }\n",
       "</style>\n",
       "<table border=\"1\" class=\"dataframe\">\n",
       "  <thead>\n",
       "    <tr style=\"text-align: right;\">\n",
       "      <th></th>\n",
       "      <th>Delhi</th>\n",
       "      <th>Mumbai</th>\n",
       "      <th>Jaipur</th>\n",
       "      <th>Hyderabad</th>\n",
       "    </tr>\n",
       "  </thead>\n",
       "  <tbody>\n",
       "    <tr>\n",
       "      <th>count</th>\n",
       "      <td>30.000000</td>\n",
       "      <td>30.000000</td>\n",
       "      <td>30.000000</td>\n",
       "      <td>30.000000</td>\n",
       "    </tr>\n",
       "    <tr>\n",
       "      <th>mean</th>\n",
       "      <td>6.324000</td>\n",
       "      <td>4.555000</td>\n",
       "      <td>7.695667</td>\n",
       "      <td>7.727667</td>\n",
       "    </tr>\n",
       "    <tr>\n",
       "      <th>std</th>\n",
       "      <td>2.095982</td>\n",
       "      <td>2.519117</td>\n",
       "      <td>1.586503</td>\n",
       "      <td>2.477642</td>\n",
       "    </tr>\n",
       "    <tr>\n",
       "      <th>min</th>\n",
       "      <td>2.260000</td>\n",
       "      <td>0.290000</td>\n",
       "      <td>3.400000</td>\n",
       "      <td>1.370000</td>\n",
       "    </tr>\n",
       "    <tr>\n",
       "      <th>25%</th>\n",
       "      <td>5.237500</td>\n",
       "      <td>2.432500</td>\n",
       "      <td>7.017500</td>\n",
       "      <td>6.110000</td>\n",
       "    </tr>\n",
       "    <tr>\n",
       "      <th>50%</th>\n",
       "      <td>6.000000</td>\n",
       "      <td>4.020000</td>\n",
       "      <td>7.920000</td>\n",
       "      <td>8.305000</td>\n",
       "    </tr>\n",
       "    <tr>\n",
       "      <th>75%</th>\n",
       "      <td>6.782500</td>\n",
       "      <td>6.335000</td>\n",
       "      <td>8.980000</td>\n",
       "      <td>9.135000</td>\n",
       "    </tr>\n",
       "    <tr>\n",
       "      <th>max</th>\n",
       "      <td>11.960000</td>\n",
       "      <td>9.850000</td>\n",
       "      <td>9.870000</td>\n",
       "      <td>12.310000</td>\n",
       "    </tr>\n",
       "  </tbody>\n",
       "</table>\n",
       "</div>"
      ],
      "text/plain": [
       "           Delhi     Mumbai     Jaipur  Hyderabad\n",
       "count  30.000000  30.000000  30.000000  30.000000\n",
       "mean    6.324000   4.555000   7.695667   7.727667\n",
       "std     2.095982   2.519117   1.586503   2.477642\n",
       "min     2.260000   0.290000   3.400000   1.370000\n",
       "25%     5.237500   2.432500   7.017500   6.110000\n",
       "50%     6.000000   4.020000   7.920000   8.305000\n",
       "75%     6.782500   6.335000   8.980000   9.135000\n",
       "max    11.960000   9.850000   9.870000  12.310000"
      ]
     },
     "execution_count": 9,
     "metadata": {},
     "output_type": "execute_result"
    }
   ],
   "source": [
    "df.describe()"
   ]
  },
  {
   "cell_type": "code",
   "execution_count": 11,
   "metadata": {},
   "outputs": [
    {
     "data": {
      "text/plain": [
       "1.7689999999999984"
      ]
     },
     "execution_count": 11,
     "metadata": {},
     "output_type": "execute_result"
    }
   ],
   "source": [
    "df['Delhi'].mean()-df[\"Mumbai\"].mean()"
   ]
  },
  {
   "cell_type": "markdown",
   "metadata": {},
   "source": [
    "## 1. Average\n",
    "Q1)The absolute difference in the average profit percentages of Delhi and Mumbai comes out to be approximately ____\n",
    "\n",
    "a) 1.67\n",
    "\n",
    "b) 1.57\n",
    "\n",
    "c) 1.77\n",
    "\n",
    "d) 1.47\n"
   ]
  },
  {
   "cell_type": "code",
   "execution_count": null,
   "metadata": {},
   "outputs": [],
   "source": []
  },
  {
   "cell_type": "code",
   "execution_count": null,
   "metadata": {},
   "outputs": [],
   "source": [
    "#Your code here\n"
   ]
  },
  {
   "cell_type": "markdown",
   "metadata": {},
   "source": [
    "## 2. Invest More\n",
    "Q2) Which city amongst the four should the company invest more money in?\n",
    "\n",
    "Hint: You need to see which city is showing most consistency in profits\n",
    "\n",
    "a) Delhi\n",
    "\n",
    "b) Mumbai\n",
    "\n",
    "c) Jaipur\n",
    "\n",
    "d) Hyderabad\n",
    "\n"
   ]
  },
  {
   "cell_type": "code",
   "execution_count": 13,
   "metadata": {},
   "outputs": [
    {
     "data": {
      "image/png": "[encoded data removed]",
      "text/plain": [
       "<Figure size 432x288 with 1 Axes>"
      ]
     },
     "metadata": {
      "needs_background": "light"
     },
     "output_type": "display_data"
    }
   ],
   "source": [
    "#Your code here\n",
    "sns.barplot(data=df)\n",
    "plt.show()\n",
    "\n"
   ]
  },
  {
   "cell_type": "code",
   "execution_count": 16,
   "metadata": {},
   "outputs": [
    {
     "data": {
      "text/plain": [
       "<AxesSubplot:ylabel='Frequency'>"
      ]
     },
     "execution_count": 16,
     "metadata": {},
     "output_type": "execute_result"
    },
    {
     "data": {
      "image/png": "[encoded data removed]",
      "text/plain": [
       "<Figure size 432x288 with 1 Axes>"
      ]
     },
     "metadata": {
      "needs_background": "light"
     },
     "output_type": "display_data"
    }
   ],
   "source": [
    "df.plot.hist(bins=10)"
   ]
  },
  {
   "cell_type": "code",
   "execution_count": 17,
   "metadata": {},
   "outputs": [
    {
     "data": {
      "text/plain": [
       "<AxesSubplot:>"
      ]
     },
     "execution_count": 17,
     "metadata": {},
     "output_type": "execute_result"
    },
    {
     "data": {
      "image/png": "[encoded data removed]",
      "text/plain": [
       "<Figure size 432x288 with 1 Axes>"
      ]
     },
     "metadata": {
      "needs_background": "light"
     },
     "output_type": "display_data"
    }
   ],
   "source": [
    "df.plot.box()"
   ]
  },
  {
   "cell_type": "code",
   "execution_count": 18,
   "metadata": {},
   "outputs": [
    {
     "data": {
      "text/plain": [
       "<AxesSubplot:>"
      ]
     },
     "execution_count": 18,
     "metadata": {},
     "output_type": "execute_result"
    },
    {
     "data": {
      "image/png": "[encoded data removed]",
      "text/plain": [
       "<Figure size 432x288 with 1 Axes>"
      ]
     },
     "metadata": {
      "needs_background": "light"
     },
     "output_type": "display_data"
    }
   ],
   "source": [
    "sub_df=df[['Delhi', 'Mumbai', 'Jaipur', 'Hyderabad']]\n",
    "\n",
    "sub_df.boxplot()"
   ]
  },
  {
   "cell_type": "code",
   "execution_count": null,
   "metadata": {},
   "outputs": [],
   "source": []
  },
  {
   "cell_type": "code",
   "execution_count": null,
   "metadata": {},
   "outputs": [],
   "source": []
  },
  {
   "cell_type": "code",
   "execution_count": null,
   "metadata": {},
   "outputs": [],
   "source": []
  },
  {
   "cell_type": "code",
   "execution_count": null,
   "metadata": {},
   "outputs": [],
   "source": []
  },
  {
   "cell_type": "code",
   "execution_count": null,
   "metadata": {},
   "outputs": [],
   "source": []
  },
  {
   "cell_type": "code",
   "execution_count": null,
   "metadata": {},
   "outputs": [],
   "source": []
  },
  {
   "cell_type": "markdown",
   "metadata": {},
   "source": [
    "# Crypto Currencies"
   ]
  },
  {
   "cell_type": "markdown",
   "metadata": {},
   "source": [
    "The following datasets contain the prices of some popular cryptocurrencies such as bitcoin, litecoin, ethereum, monero, neo, quantum and ripple.Now, you would like to know how the prices of these currencies vary with each other.\n",
    "\n",
    "The datasets containing their price values over several days is mentioned. The attributes are as follows:\n",
    "\n",
    "- Date - The date of trading\n",
    "- Open - Opening Price\n",
    "- High - Highest Price\n",
    "- Low - Lowest Price\n",
    "- Close - Closing Price\n",
    "-  Volume - Total Volume\n",
    "- Market Cap- Market Capitalisation\n",
    "\n",
    "\n"
   ]
  },
  {
   "cell_type": "code",
   "execution_count": 50,
   "metadata": {},
   "outputs": [
    {
     "data": {
      "text/html": [
       "<div>\n",
       "<style scoped>\n",
       "    .dataframe tbody tr th:only-of-type {\n",
       "        vertical-align: middle;\n",
       "    }\n",
       "\n",
       "    .dataframe tbody tr th {\n",
       "        vertical-align: top;\n",
       "    }\n",
       "\n",
       "    .dataframe thead th {\n",
       "        text-align: right;\n",
       "    }\n",
       "</style>\n",
       "<table border=\"1\" class=\"dataframe\">\n",
       "  <thead>\n",
       "    <tr style=\"text-align: right;\">\n",
       "      <th></th>\n",
       "      <th>Date</th>\n",
       "      <th>Open</th>\n",
       "      <th>High</th>\n",
       "      <th>Low</th>\n",
       "      <th>Close</th>\n",
       "      <th>Volume</th>\n",
       "      <th>Market Cap</th>\n",
       "      <th>Coin Type</th>\n",
       "    </tr>\n",
       "  </thead>\n",
       "  <tbody>\n",
       "    <tr>\n",
       "      <th>0</th>\n",
       "      <td>Nov 07, 2017</td>\n",
       "      <td>7023.10</td>\n",
       "      <td>7253.32</td>\n",
       "      <td>7023.10</td>\n",
       "      <td>7144.38</td>\n",
       "      <td>2,326,340,000</td>\n",
       "      <td>117,056,000,000</td>\n",
       "      <td>BitCoin</td>\n",
       "    </tr>\n",
       "    <tr>\n",
       "      <th>1</th>\n",
       "      <td>Nov 06, 2017</td>\n",
       "      <td>7403.22</td>\n",
       "      <td>7445.77</td>\n",
       "      <td>7007.31</td>\n",
       "      <td>7022.76</td>\n",
       "      <td>3,111,900,000</td>\n",
       "      <td>123,379,000,000</td>\n",
       "      <td>BitCoin</td>\n",
       "    </tr>\n",
       "    <tr>\n",
       "      <th>2</th>\n",
       "      <td>Nov 05, 2017</td>\n",
       "      <td>7404.52</td>\n",
       "      <td>7617.48</td>\n",
       "      <td>7333.19</td>\n",
       "      <td>7407.41</td>\n",
       "      <td>2,380,410,000</td>\n",
       "      <td>123,388,000,000</td>\n",
       "      <td>BitCoin</td>\n",
       "    </tr>\n",
       "    <tr>\n",
       "      <th>3</th>\n",
       "      <td>Nov 04, 2017</td>\n",
       "      <td>7164.48</td>\n",
       "      <td>7492.86</td>\n",
       "      <td>7031.28</td>\n",
       "      <td>7379.95</td>\n",
       "      <td>2,483,800,000</td>\n",
       "      <td>119,376,000,000</td>\n",
       "      <td>BitCoin</td>\n",
       "    </tr>\n",
       "    <tr>\n",
       "      <th>4</th>\n",
       "      <td>Nov 03, 2017</td>\n",
       "      <td>7087.53</td>\n",
       "      <td>7461.29</td>\n",
       "      <td>7002.94</td>\n",
       "      <td>7207.76</td>\n",
       "      <td>3,369,860,000</td>\n",
       "      <td>118,084,000,000</td>\n",
       "      <td>BitCoin</td>\n",
       "    </tr>\n",
       "  </tbody>\n",
       "</table>\n",
       "</div>"
      ],
      "text/plain": [
       "           Date     Open     High      Low    Close         Volume  \\\n",
       "0  Nov 07, 2017  7023.10  7253.32  7023.10  7144.38  2,326,340,000   \n",
       "1  Nov 06, 2017  7403.22  7445.77  7007.31  7022.76  3,111,900,000   \n",
       "2  Nov 05, 2017  7404.52  7617.48  7333.19  7407.41  2,380,410,000   \n",
       "3  Nov 04, 2017  7164.48  7492.86  7031.28  7379.95  2,483,800,000   \n",
       "4  Nov 03, 2017  7087.53  7461.29  7002.94  7207.76  3,369,860,000   \n",
       "\n",
       "        Market Cap Coin Type  \n",
       "0  117,056,000,000   BitCoin  \n",
       "1  123,379,000,000   BitCoin  \n",
       "2  123,388,000,000   BitCoin  \n",
       "3  119,376,000,000   BitCoin  \n",
       "4  118,084,000,000   BitCoin  "
      ]
     },
     "execution_count": 50,
     "metadata": {},
     "output_type": "execute_result"
    }
   ],
   "source": [
    "df2=pd.read_csv(\"bitcoin_price.csv\")\n",
    "df2[\"Coin Type\"]=\"BitCoin\"\n",
    "df2.head()"
   ]
  },
  {
   "cell_type": "code",
   "execution_count": 52,
   "metadata": {},
   "outputs": [
    {
     "data": {
      "text/html": [
       "<div>\n",
       "<style scoped>\n",
       "    .dataframe tbody tr th:only-of-type {\n",
       "        vertical-align: middle;\n",
       "    }\n",
       "\n",
       "    .dataframe tbody tr th {\n",
       "        vertical-align: top;\n",
       "    }\n",
       "\n",
       "    .dataframe thead th {\n",
       "        text-align: right;\n",
       "    }\n",
       "</style>\n",
       "<table border=\"1\" class=\"dataframe\">\n",
       "  <thead>\n",
       "    <tr style=\"text-align: right;\">\n",
       "      <th></th>\n",
       "      <th>Date</th>\n",
       "      <th>Open</th>\n",
       "      <th>High</th>\n",
       "      <th>Low</th>\n",
       "      <th>Close</th>\n",
       "      <th>Volume</th>\n",
       "      <th>Market Cap</th>\n",
       "      <th>Coin Type</th>\n",
       "    </tr>\n",
       "  </thead>\n",
       "  <tbody>\n",
       "    <tr>\n",
       "      <th>0</th>\n",
       "      <td>Nov 07, 2017</td>\n",
       "      <td>298.570000</td>\n",
       "      <td>304.840000</td>\n",
       "      <td>290.770000</td>\n",
       "      <td>294.660000</td>\n",
       "      <td>5407,66,000</td>\n",
       "      <td>28,533,300,000</td>\n",
       "      <td>Ethereum</td>\n",
       "    </tr>\n",
       "    <tr>\n",
       "      <th>1</th>\n",
       "      <td>Nov 06, 2017</td>\n",
       "      <td>296.430000</td>\n",
       "      <td>305.420000</td>\n",
       "      <td>293.720000</td>\n",
       "      <td>298.890000</td>\n",
       "      <td>5793,59,000</td>\n",
       "      <td>28,322,700,000</td>\n",
       "      <td>Ethereum</td>\n",
       "    </tr>\n",
       "    <tr>\n",
       "      <th>2</th>\n",
       "      <td>Nov 05, 2017</td>\n",
       "      <td>300.040000</td>\n",
       "      <td>301.370000</td>\n",
       "      <td>295.120000</td>\n",
       "      <td>296.260000</td>\n",
       "      <td>3376,58,000</td>\n",
       "      <td>28,661,500,000</td>\n",
       "      <td>Ethereum</td>\n",
       "    </tr>\n",
       "    <tr>\n",
       "      <th>3</th>\n",
       "      <td>Nov 04, 2017</td>\n",
       "      <td>305.480000</td>\n",
       "      <td>305.480000</td>\n",
       "      <td>295.800000</td>\n",
       "      <td>300.470000</td>\n",
       "      <td>4164,79,000</td>\n",
       "      <td>29,175,300,000</td>\n",
       "      <td>Ethereum</td>\n",
       "    </tr>\n",
       "    <tr>\n",
       "      <th>4</th>\n",
       "      <td>Nov 03, 2017</td>\n",
       "      <td>288.500000</td>\n",
       "      <td>308.310000</td>\n",
       "      <td>287.690000</td>\n",
       "      <td>305.710000</td>\n",
       "      <td>6463,40,000</td>\n",
       "      <td>27,547,400,000</td>\n",
       "      <td>Ethereum</td>\n",
       "    </tr>\n",
       "    <tr>\n",
       "      <th>...</th>\n",
       "      <td>...</td>\n",
       "      <td>...</td>\n",
       "      <td>...</td>\n",
       "      <td>...</td>\n",
       "      <td>...</td>\n",
       "      <td>...</td>\n",
       "      <td>...</td>\n",
       "      <td>...</td>\n",
       "    </tr>\n",
       "    <tr>\n",
       "      <th>819</th>\n",
       "      <td>Aug 11, 2015</td>\n",
       "      <td>0.708087</td>\n",
       "      <td>1.130000</td>\n",
       "      <td>0.663235</td>\n",
       "      <td>1.070000</td>\n",
       "      <td>14,63,100</td>\n",
       "      <td>427,96,500</td>\n",
       "      <td>Ethereum</td>\n",
       "    </tr>\n",
       "    <tr>\n",
       "      <th>820</th>\n",
       "      <td>Aug 10, 2015</td>\n",
       "      <td>0.713989</td>\n",
       "      <td>0.729854</td>\n",
       "      <td>0.636546</td>\n",
       "      <td>0.708448</td>\n",
       "      <td>4,05,283</td>\n",
       "      <td>431,30,000</td>\n",
       "      <td>Ethereum</td>\n",
       "    </tr>\n",
       "    <tr>\n",
       "      <th>821</th>\n",
       "      <td>Aug 09, 2015</td>\n",
       "      <td>0.706136</td>\n",
       "      <td>0.879810</td>\n",
       "      <td>0.629191</td>\n",
       "      <td>0.701897</td>\n",
       "      <td>5,32,170</td>\n",
       "      <td>426,37,600</td>\n",
       "      <td>Ethereum</td>\n",
       "    </tr>\n",
       "    <tr>\n",
       "      <th>822</th>\n",
       "      <td>Aug 08, 2015</td>\n",
       "      <td>2.790000</td>\n",
       "      <td>2.800000</td>\n",
       "      <td>0.714725</td>\n",
       "      <td>0.753325</td>\n",
       "      <td>6,74,188</td>\n",
       "      <td>1679,11,000</td>\n",
       "      <td>Ethereum</td>\n",
       "    </tr>\n",
       "    <tr>\n",
       "      <th>823</th>\n",
       "      <td>Aug 07, 2015</td>\n",
       "      <td>2.830000</td>\n",
       "      <td>3.540000</td>\n",
       "      <td>2.520000</td>\n",
       "      <td>2.770000</td>\n",
       "      <td>1,64,329</td>\n",
       "      <td>-</td>\n",
       "      <td>Ethereum</td>\n",
       "    </tr>\n",
       "  </tbody>\n",
       "</table>\n",
       "<p>824 rows × 8 columns</p>\n",
       "</div>"
      ],
      "text/plain": [
       "             Date        Open        High         Low       Close  \\\n",
       "0    Nov 07, 2017  298.570000  304.840000  290.770000  294.660000   \n",
       "1    Nov 06, 2017  296.430000  305.420000  293.720000  298.890000   \n",
       "2    Nov 05, 2017  300.040000  301.370000  295.120000  296.260000   \n",
       "3    Nov 04, 2017  305.480000  305.480000  295.800000  300.470000   \n",
       "4    Nov 03, 2017  288.500000  308.310000  287.690000  305.710000   \n",
       "..            ...         ...         ...         ...         ...   \n",
       "819  Aug 11, 2015    0.708087    1.130000    0.663235    1.070000   \n",
       "820  Aug 10, 2015    0.713989    0.729854    0.636546    0.708448   \n",
       "821  Aug 09, 2015    0.706136    0.879810    0.629191    0.701897   \n",
       "822  Aug 08, 2015    2.790000    2.800000    0.714725    0.753325   \n",
       "823  Aug 07, 2015    2.830000    3.540000    2.520000    2.770000   \n",
       "\n",
       "          Volume      Market Cap Coin Type  \n",
       "0    5407,66,000  28,533,300,000  Ethereum  \n",
       "1    5793,59,000  28,322,700,000  Ethereum  \n",
       "2    3376,58,000  28,661,500,000  Ethereum  \n",
       "3    4164,79,000  29,175,300,000  Ethereum  \n",
       "4    6463,40,000  27,547,400,000  Ethereum  \n",
       "..           ...             ...       ...  \n",
       "819    14,63,100      427,96,500  Ethereum  \n",
       "820     4,05,283      431,30,000  Ethereum  \n",
       "821     5,32,170      426,37,600  Ethereum  \n",
       "822     6,74,188     1679,11,000  Ethereum  \n",
       "823     1,64,329               -  Ethereum  \n",
       "\n",
       "[824 rows x 8 columns]"
      ]
     },
     "execution_count": 52,
     "metadata": {},
     "output_type": "execute_result"
    }
   ],
   "source": [
    "df3=pd.read_csv(\"ethereum_price.csv\")\n",
    "df3[\"Coin Type\"]=\"Ethereum\"\n",
    "df3"
   ]
  },
  {
   "cell_type": "code",
   "execution_count": 53,
   "metadata": {},
   "outputs": [
    {
     "data": {
      "text/html": [
       "<div>\n",
       "<style scoped>\n",
       "    .dataframe tbody tr th:only-of-type {\n",
       "        vertical-align: middle;\n",
       "    }\n",
       "\n",
       "    .dataframe tbody tr th {\n",
       "        vertical-align: top;\n",
       "    }\n",
       "\n",
       "    .dataframe thead th {\n",
       "        text-align: right;\n",
       "    }\n",
       "</style>\n",
       "<table border=\"1\" class=\"dataframe\">\n",
       "  <thead>\n",
       "    <tr style=\"text-align: right;\">\n",
       "      <th></th>\n",
       "      <th>Date</th>\n",
       "      <th>Open</th>\n",
       "      <th>High</th>\n",
       "      <th>Low</th>\n",
       "      <th>Close</th>\n",
       "      <th>Volume</th>\n",
       "      <th>Market Cap</th>\n",
       "      <th>Coin Type</th>\n",
       "    </tr>\n",
       "  </thead>\n",
       "  <tbody>\n",
       "    <tr>\n",
       "      <th>0</th>\n",
       "      <td>Nov 07, 2017</td>\n",
       "      <td>54.99</td>\n",
       "      <td>63.81</td>\n",
       "      <td>54.99</td>\n",
       "      <td>61.30</td>\n",
       "      <td>402,670,000</td>\n",
       "      <td>2,953,400,000</td>\n",
       "      <td>Litecoin</td>\n",
       "    </tr>\n",
       "    <tr>\n",
       "      <th>1</th>\n",
       "      <td>Nov 06, 2017</td>\n",
       "      <td>54.76</td>\n",
       "      <td>56.17</td>\n",
       "      <td>53.95</td>\n",
       "      <td>55.17</td>\n",
       "      <td>133,918,000</td>\n",
       "      <td>2,940,380,000</td>\n",
       "      <td>Litecoin</td>\n",
       "    </tr>\n",
       "    <tr>\n",
       "      <th>2</th>\n",
       "      <td>Nov 05, 2017</td>\n",
       "      <td>55.03</td>\n",
       "      <td>55.48</td>\n",
       "      <td>54.63</td>\n",
       "      <td>54.75</td>\n",
       "      <td>84,302,000</td>\n",
       "      <td>2,953,940,000</td>\n",
       "      <td>Litecoin</td>\n",
       "    </tr>\n",
       "    <tr>\n",
       "      <th>3</th>\n",
       "      <td>Nov 04, 2017</td>\n",
       "      <td>56.22</td>\n",
       "      <td>56.37</td>\n",
       "      <td>54.94</td>\n",
       "      <td>55.04</td>\n",
       "      <td>83,633,100</td>\n",
       "      <td>3,016,940,000</td>\n",
       "      <td>Litecoin</td>\n",
       "    </tr>\n",
       "    <tr>\n",
       "      <th>4</th>\n",
       "      <td>Nov 03, 2017</td>\n",
       "      <td>54.58</td>\n",
       "      <td>56.29</td>\n",
       "      <td>54.28</td>\n",
       "      <td>56.18</td>\n",
       "      <td>150,030,000</td>\n",
       "      <td>2,928,260,000</td>\n",
       "      <td>Litecoin</td>\n",
       "    </tr>\n",
       "  </tbody>\n",
       "</table>\n",
       "</div>"
      ],
      "text/plain": [
       "           Date   Open   High    Low  Close       Volume     Market Cap  \\\n",
       "0  Nov 07, 2017  54.99  63.81  54.99  61.30  402,670,000  2,953,400,000   \n",
       "1  Nov 06, 2017  54.76  56.17  53.95  55.17  133,918,000  2,940,380,000   \n",
       "2  Nov 05, 2017  55.03  55.48  54.63  54.75   84,302,000  2,953,940,000   \n",
       "3  Nov 04, 2017  56.22  56.37  54.94  55.04   83,633,100  3,016,940,000   \n",
       "4  Nov 03, 2017  54.58  56.29  54.28  56.18  150,030,000  2,928,260,000   \n",
       "\n",
       "  Coin Type  \n",
       "0  Litecoin  \n",
       "1  Litecoin  \n",
       "2  Litecoin  \n",
       "3  Litecoin  \n",
       "4  Litecoin  "
      ]
     },
     "execution_count": 53,
     "metadata": {},
     "output_type": "execute_result"
    }
   ],
   "source": [
    "df4=pd.read_csv(\"litecoin_price.csv\")\n",
    "df4[\"Coin Type\"]=\"Litecoin\"\n",
    "df4.head()"
   ]
  },
  {
   "cell_type": "code",
   "execution_count": 54,
   "metadata": {},
   "outputs": [],
   "source": [
    "df5=pd.read_csv(\"monero_price.csv\")\n",
    "df5[\"Coin Type\"]=\"Monero\""
   ]
  },
  {
   "cell_type": "code",
   "execution_count": 55,
   "metadata": {},
   "outputs": [],
   "source": [
    "df6=pd.read_csv(\"neo_price.csv\")\n",
    "df6[\"Coin Type\"]=\"Neo\""
   ]
  },
  {
   "cell_type": "code",
   "execution_count": 56,
   "metadata": {},
   "outputs": [],
   "source": [
    "df7=pd.read_csv(\"qtum_price.csv\")\n",
    "df7[\"Coin Type\"]=\"Qtum\""
   ]
  },
  {
   "cell_type": "code",
   "execution_count": 57,
   "metadata": {},
   "outputs": [
    {
     "data": {
      "text/html": [
       "<div>\n",
       "<style scoped>\n",
       "    .dataframe tbody tr th:only-of-type {\n",
       "        vertical-align: middle;\n",
       "    }\n",
       "\n",
       "    .dataframe tbody tr th {\n",
       "        vertical-align: top;\n",
       "    }\n",
       "\n",
       "    .dataframe thead th {\n",
       "        text-align: right;\n",
       "    }\n",
       "</style>\n",
       "<table border=\"1\" class=\"dataframe\">\n",
       "  <thead>\n",
       "    <tr style=\"text-align: right;\">\n",
       "      <th></th>\n",
       "      <th>Date</th>\n",
       "      <th>Open</th>\n",
       "      <th>High</th>\n",
       "      <th>Low</th>\n",
       "      <th>Close</th>\n",
       "      <th>Volume</th>\n",
       "      <th>Market Cap</th>\n",
       "      <th>Coin Type</th>\n",
       "    </tr>\n",
       "  </thead>\n",
       "  <tbody>\n",
       "    <tr>\n",
       "      <th>0</th>\n",
       "      <td>Nov 07, 2017</td>\n",
       "      <td>0.205103</td>\n",
       "      <td>0.211375</td>\n",
       "      <td>0.203978</td>\n",
       "      <td>0.210354</td>\n",
       "      <td>114,073,000</td>\n",
       "      <td>7,902,920,000</td>\n",
       "      <td>Ripple</td>\n",
       "    </tr>\n",
       "    <tr>\n",
       "      <th>1</th>\n",
       "      <td>Nov 06, 2017</td>\n",
       "      <td>0.201967</td>\n",
       "      <td>0.208662</td>\n",
       "      <td>0.201410</td>\n",
       "      <td>0.205990</td>\n",
       "      <td>102,233,000</td>\n",
       "      <td>7,782,080,000</td>\n",
       "      <td>Ripple</td>\n",
       "    </tr>\n",
       "    <tr>\n",
       "      <th>2</th>\n",
       "      <td>Nov 05, 2017</td>\n",
       "      <td>0.203274</td>\n",
       "      <td>0.205124</td>\n",
       "      <td>0.201117</td>\n",
       "      <td>0.202055</td>\n",
       "      <td>46,959,000</td>\n",
       "      <td>7,832,450,000</td>\n",
       "      <td>Ripple</td>\n",
       "    </tr>\n",
       "    <tr>\n",
       "      <th>3</th>\n",
       "      <td>Nov 04, 2017</td>\n",
       "      <td>0.208083</td>\n",
       "      <td>0.208479</td>\n",
       "      <td>0.202133</td>\n",
       "      <td>0.203750</td>\n",
       "      <td>74,013,200</td>\n",
       "      <td>8,017,770,000</td>\n",
       "      <td>Ripple</td>\n",
       "    </tr>\n",
       "    <tr>\n",
       "      <th>4</th>\n",
       "      <td>Nov 03, 2017</td>\n",
       "      <td>0.206205</td>\n",
       "      <td>0.228026</td>\n",
       "      <td>0.201728</td>\n",
       "      <td>0.208133</td>\n",
       "      <td>373,402,000</td>\n",
       "      <td>7,945,410,000</td>\n",
       "      <td>Ripple</td>\n",
       "    </tr>\n",
       "  </tbody>\n",
       "</table>\n",
       "</div>"
      ],
      "text/plain": [
       "           Date      Open      High       Low     Close       Volume  \\\n",
       "0  Nov 07, 2017  0.205103  0.211375  0.203978  0.210354  114,073,000   \n",
       "1  Nov 06, 2017  0.201967  0.208662  0.201410  0.205990  102,233,000   \n",
       "2  Nov 05, 2017  0.203274  0.205124  0.201117  0.202055   46,959,000   \n",
       "3  Nov 04, 2017  0.208083  0.208479  0.202133  0.203750   74,013,200   \n",
       "4  Nov 03, 2017  0.206205  0.228026  0.201728  0.208133  373,402,000   \n",
       "\n",
       "      Market Cap Coin Type  \n",
       "0  7,902,920,000    Ripple  \n",
       "1  7,782,080,000    Ripple  \n",
       "2  7,832,450,000    Ripple  \n",
       "3  8,017,770,000    Ripple  \n",
       "4  7,945,410,000    Ripple  "
      ]
     },
     "execution_count": 57,
     "metadata": {},
     "output_type": "execute_result"
    }
   ],
   "source": [
    "df8=pd.read_csv(\"ripple_price.csv\")\n",
    "df8[\"Coin Type\"]=\"Ripple\"\n",
    "df8.head()"
   ]
  },
  {
   "cell_type": "code",
   "execution_count": 58,
   "metadata": {},
   "outputs": [
    {
     "data": {
      "text/html": [
       "<div>\n",
       "<style scoped>\n",
       "    .dataframe tbody tr th:only-of-type {\n",
       "        vertical-align: middle;\n",
       "    }\n",
       "\n",
       "    .dataframe tbody tr th {\n",
       "        vertical-align: top;\n",
       "    }\n",
       "\n",
       "    .dataframe thead th {\n",
       "        text-align: right;\n",
       "    }\n",
       "</style>\n",
       "<table border=\"1\" class=\"dataframe\">\n",
       "  <thead>\n",
       "    <tr style=\"text-align: right;\">\n",
       "      <th></th>\n",
       "      <th>Date</th>\n",
       "      <th>Open</th>\n",
       "      <th>High</th>\n",
       "      <th>Low</th>\n",
       "      <th>Close</th>\n",
       "      <th>Volume</th>\n",
       "      <th>Market Cap</th>\n",
       "      <th>Coin Type</th>\n",
       "    </tr>\n",
       "  </thead>\n",
       "  <tbody>\n",
       "    <tr>\n",
       "      <th>0</th>\n",
       "      <td>Nov 07, 2017</td>\n",
       "      <td>7023.100000</td>\n",
       "      <td>7253.320000</td>\n",
       "      <td>7023.100000</td>\n",
       "      <td>7144.380000</td>\n",
       "      <td>2,326,340,000</td>\n",
       "      <td>117,056,000,000</td>\n",
       "      <td>BitCoin</td>\n",
       "    </tr>\n",
       "    <tr>\n",
       "      <th>1</th>\n",
       "      <td>Nov 06, 2017</td>\n",
       "      <td>7403.220000</td>\n",
       "      <td>7445.770000</td>\n",
       "      <td>7007.310000</td>\n",
       "      <td>7022.760000</td>\n",
       "      <td>3,111,900,000</td>\n",
       "      <td>123,379,000,000</td>\n",
       "      <td>BitCoin</td>\n",
       "    </tr>\n",
       "    <tr>\n",
       "      <th>2</th>\n",
       "      <td>Nov 05, 2017</td>\n",
       "      <td>7404.520000</td>\n",
       "      <td>7617.480000</td>\n",
       "      <td>7333.190000</td>\n",
       "      <td>7407.410000</td>\n",
       "      <td>2,380,410,000</td>\n",
       "      <td>123,388,000,000</td>\n",
       "      <td>BitCoin</td>\n",
       "    </tr>\n",
       "    <tr>\n",
       "      <th>3</th>\n",
       "      <td>Nov 04, 2017</td>\n",
       "      <td>7164.480000</td>\n",
       "      <td>7492.860000</td>\n",
       "      <td>7031.280000</td>\n",
       "      <td>7379.950000</td>\n",
       "      <td>2,483,800,000</td>\n",
       "      <td>119,376,000,000</td>\n",
       "      <td>BitCoin</td>\n",
       "    </tr>\n",
       "    <tr>\n",
       "      <th>4</th>\n",
       "      <td>Nov 03, 2017</td>\n",
       "      <td>7087.530000</td>\n",
       "      <td>7461.290000</td>\n",
       "      <td>7002.940000</td>\n",
       "      <td>7207.760000</td>\n",
       "      <td>3,369,860,000</td>\n",
       "      <td>118,084,000,000</td>\n",
       "      <td>BitCoin</td>\n",
       "    </tr>\n",
       "    <tr>\n",
       "      <th>...</th>\n",
       "      <td>...</td>\n",
       "      <td>...</td>\n",
       "      <td>...</td>\n",
       "      <td>...</td>\n",
       "      <td>...</td>\n",
       "      <td>...</td>\n",
       "      <td>...</td>\n",
       "      <td>...</td>\n",
       "    </tr>\n",
       "    <tr>\n",
       "      <th>1552</th>\n",
       "      <td>Aug 08, 2013</td>\n",
       "      <td>0.004397</td>\n",
       "      <td>0.004424</td>\n",
       "      <td>0.004175</td>\n",
       "      <td>0.004254</td>\n",
       "      <td>-</td>\n",
       "      <td>34,372,500</td>\n",
       "      <td>Ripple</td>\n",
       "    </tr>\n",
       "    <tr>\n",
       "      <th>1553</th>\n",
       "      <td>Aug 07, 2013</td>\n",
       "      <td>0.004669</td>\n",
       "      <td>0.004682</td>\n",
       "      <td>0.004333</td>\n",
       "      <td>0.004417</td>\n",
       "      <td>-</td>\n",
       "      <td>36,503,500</td>\n",
       "      <td>Ripple</td>\n",
       "    </tr>\n",
       "    <tr>\n",
       "      <th>1554</th>\n",
       "      <td>Aug 06, 2013</td>\n",
       "      <td>0.005637</td>\n",
       "      <td>0.005661</td>\n",
       "      <td>0.004629</td>\n",
       "      <td>0.004680</td>\n",
       "      <td>-</td>\n",
       "      <td>44,067,600</td>\n",
       "      <td>Ripple</td>\n",
       "    </tr>\n",
       "    <tr>\n",
       "      <th>1555</th>\n",
       "      <td>Aug 05, 2013</td>\n",
       "      <td>0.005875</td>\n",
       "      <td>0.005980</td>\n",
       "      <td>0.005613</td>\n",
       "      <td>0.005613</td>\n",
       "      <td>-</td>\n",
       "      <td>45,928,400</td>\n",
       "      <td>Ripple</td>\n",
       "    </tr>\n",
       "    <tr>\n",
       "      <th>1556</th>\n",
       "      <td>Aug 04, 2013</td>\n",
       "      <td>0.005874</td>\n",
       "      <td>0.005927</td>\n",
       "      <td>0.005874</td>\n",
       "      <td>0.005882</td>\n",
       "      <td>-</td>\n",
       "      <td>45,921,000</td>\n",
       "      <td>Ripple</td>\n",
       "    </tr>\n",
       "  </tbody>\n",
       "</table>\n",
       "<p>7550 rows × 8 columns</p>\n",
       "</div>"
      ],
      "text/plain": [
       "              Date         Open         High          Low        Close  \\\n",
       "0     Nov 07, 2017  7023.100000  7253.320000  7023.100000  7144.380000   \n",
       "1     Nov 06, 2017  7403.220000  7445.770000  7007.310000  7022.760000   \n",
       "2     Nov 05, 2017  7404.520000  7617.480000  7333.190000  7407.410000   \n",
       "3     Nov 04, 2017  7164.480000  7492.860000  7031.280000  7379.950000   \n",
       "4     Nov 03, 2017  7087.530000  7461.290000  7002.940000  7207.760000   \n",
       "...            ...          ...          ...          ...          ...   \n",
       "1552  Aug 08, 2013     0.004397     0.004424     0.004175     0.004254   \n",
       "1553  Aug 07, 2013     0.004669     0.004682     0.004333     0.004417   \n",
       "1554  Aug 06, 2013     0.005637     0.005661     0.004629     0.004680   \n",
       "1555  Aug 05, 2013     0.005875     0.005980     0.005613     0.005613   \n",
       "1556  Aug 04, 2013     0.005874     0.005927     0.005874     0.005882   \n",
       "\n",
       "             Volume       Market Cap Coin Type  \n",
       "0     2,326,340,000  117,056,000,000   BitCoin  \n",
       "1     3,111,900,000  123,379,000,000   BitCoin  \n",
       "2     2,380,410,000  123,388,000,000   BitCoin  \n",
       "3     2,483,800,000  119,376,000,000   BitCoin  \n",
       "4     3,369,860,000  118,084,000,000   BitCoin  \n",
       "...             ...              ...       ...  \n",
       "1552              -       34,372,500    Ripple  \n",
       "1553              -       36,503,500    Ripple  \n",
       "1554              -       44,067,600    Ripple  \n",
       "1555              -       45,928,400    Ripple  \n",
       "1556              -       45,921,000    Ripple  \n",
       "\n",
       "[7550 rows x 8 columns]"
      ]
     },
     "execution_count": 58,
     "metadata": {},
     "output_type": "execute_result"
    }
   ],
   "source": [
    "cryptodf= pd.concat([df2,df3,df4,df5,df6,df7,df8],axis=0)\n",
    "cryptodf"
   ]
  },
  {
   "cell_type": "code",
   "execution_count": 59,
   "metadata": {},
   "outputs": [
    {
     "data": {
      "text/plain": [
       "0      2017-11-07\n",
       "1      2017-11-06\n",
       "2      2017-11-05\n",
       "3      2017-11-04\n",
       "4      2017-11-03\n",
       "          ...    \n",
       "1552   2013-08-08\n",
       "1553   2013-08-07\n",
       "1554   2013-08-06\n",
       "1555   2013-08-05\n",
       "1556   2013-08-04\n",
       "Name: Date, Length: 7550, dtype: datetime64[ns]"
      ]
     },
     "execution_count": 59,
     "metadata": {},
     "output_type": "execute_result"
    }
   ],
   "source": [
    "pd.to_datetime(cryptodf.Date)"
   ]
  },
  {
   "cell_type": "code",
   "execution_count": 43,
   "metadata": {},
   "outputs": [
    {
     "data": {
      "text/html": [
       "<div>\n",
       "<style scoped>\n",
       "    .dataframe tbody tr th:only-of-type {\n",
       "        vertical-align: middle;\n",
       "    }\n",
       "\n",
       "    .dataframe tbody tr th {\n",
       "        vertical-align: top;\n",
       "    }\n",
       "\n",
       "    .dataframe thead th {\n",
       "        text-align: right;\n",
       "    }\n",
       "</style>\n",
       "<table border=\"1\" class=\"dataframe\">\n",
       "  <thead>\n",
       "    <tr style=\"text-align: right;\">\n",
       "      <th></th>\n",
       "      <th>Date</th>\n",
       "      <th>Open</th>\n",
       "      <th>High</th>\n",
       "      <th>Low</th>\n",
       "      <th>Close</th>\n",
       "      <th>Volume</th>\n",
       "      <th>Market Cap</th>\n",
       "      <th>Coin Type</th>\n",
       "    </tr>\n",
       "  </thead>\n",
       "  <tbody>\n",
       "    <tr>\n",
       "      <th>0</th>\n",
       "      <td>Nov 07 2017</td>\n",
       "      <td>7023.10</td>\n",
       "      <td>7253.32</td>\n",
       "      <td>7023.10</td>\n",
       "      <td>7144.38</td>\n",
       "      <td>2,326,340,000</td>\n",
       "      <td>117,056,000,000</td>\n",
       "      <td>BitCoin</td>\n",
       "    </tr>\n",
       "    <tr>\n",
       "      <th>1</th>\n",
       "      <td>Nov 06 2017</td>\n",
       "      <td>7403.22</td>\n",
       "      <td>7445.77</td>\n",
       "      <td>7007.31</td>\n",
       "      <td>7022.76</td>\n",
       "      <td>3,111,900,000</td>\n",
       "      <td>123,379,000,000</td>\n",
       "      <td>BitCoin</td>\n",
       "    </tr>\n",
       "    <tr>\n",
       "      <th>2</th>\n",
       "      <td>Nov 05 2017</td>\n",
       "      <td>7404.52</td>\n",
       "      <td>7617.48</td>\n",
       "      <td>7333.19</td>\n",
       "      <td>7407.41</td>\n",
       "      <td>2,380,410,000</td>\n",
       "      <td>123,388,000,000</td>\n",
       "      <td>BitCoin</td>\n",
       "    </tr>\n",
       "    <tr>\n",
       "      <th>3</th>\n",
       "      <td>Nov 04 2017</td>\n",
       "      <td>7164.48</td>\n",
       "      <td>7492.86</td>\n",
       "      <td>7031.28</td>\n",
       "      <td>7379.95</td>\n",
       "      <td>2,483,800,000</td>\n",
       "      <td>119,376,000,000</td>\n",
       "      <td>BitCoin</td>\n",
       "    </tr>\n",
       "    <tr>\n",
       "      <th>4</th>\n",
       "      <td>Nov 03 2017</td>\n",
       "      <td>7087.53</td>\n",
       "      <td>7461.29</td>\n",
       "      <td>7002.94</td>\n",
       "      <td>7207.76</td>\n",
       "      <td>3,369,860,000</td>\n",
       "      <td>118,084,000,000</td>\n",
       "      <td>BitCoin</td>\n",
       "    </tr>\n",
       "  </tbody>\n",
       "</table>\n",
       "</div>"
      ],
      "text/plain": [
       "          Date     Open     High      Low    Close         Volume  \\\n",
       "0  Nov 07 2017  7023.10  7253.32  7023.10  7144.38  2,326,340,000   \n",
       "1  Nov 06 2017  7403.22  7445.77  7007.31  7022.76  3,111,900,000   \n",
       "2  Nov 05 2017  7404.52  7617.48  7333.19  7407.41  2,380,410,000   \n",
       "3  Nov 04 2017  7164.48  7492.86  7031.28  7379.95  2,483,800,000   \n",
       "4  Nov 03 2017  7087.53  7461.29  7002.94  7207.76  3,369,860,000   \n",
       "\n",
       "        Market Cap Coin Type  \n",
       "0  117,056,000,000   BitCoin  \n",
       "1  123,379,000,000   BitCoin  \n",
       "2  123,388,000,000   BitCoin  \n",
       "3  119,376,000,000   BitCoin  \n",
       "4  118,084,000,000   BitCoin  "
      ]
     },
     "execution_count": 43,
     "metadata": {},
     "output_type": "execute_result"
    }
   ],
   "source": [
    "df2.Date=df2.Date.apply(lambda x : x.replace(\",\",\"\"))\n",
    "df2.head()"
   ]
  },
  {
   "cell_type": "code",
   "execution_count": 45,
   "metadata": {},
   "outputs": [
    {
     "data": {
      "text/plain": [
       "0      2017-11-07\n",
       "1      2017-11-06\n",
       "2      2017-11-05\n",
       "3      2017-11-04\n",
       "4      2017-11-03\n",
       "          ...    \n",
       "1650   2013-05-02\n",
       "1651   2013-05-01\n",
       "1652   2013-04-30\n",
       "1653   2013-04-29\n",
       "1654   2013-04-28\n",
       "Name: Date, Length: 1655, dtype: datetime64[ns]"
      ]
     },
     "execution_count": 45,
     "metadata": {},
     "output_type": "execute_result"
    }
   ],
   "source": [
    "pd.to_datetime(df2.Date)"
   ]
  },
  {
   "cell_type": "code",
   "execution_count": 66,
   "metadata": {},
   "outputs": [
    {
     "ename": "TypeError",
     "evalue": "'(0       7144.380000\n1       7022.760000\n2       7407.410000\n3       7379.950000\n4       7207.760000\n           ...     \n1552       0.004254\n1553       0.004417\n1554       0.004680\n1555       0.005613\n1556       0.005882\nName: Close, Length: 7550, dtype: float64, 0       Nov 07, 2017\n1       Nov 06, 2017\n2       Nov 05, 2017\n3       Nov 04, 2017\n4       Nov 03, 2017\n            ...     \n1552    Aug 08, 2013\n1553    Aug 07, 2013\n1554    Aug 06, 2013\n1555    Aug 05, 2013\n1556    Aug 04, 2013\nName: Date, Length: 7550, dtype: object)' is an invalid key",
     "output_type": "error",
     "traceback": [
      "\u001b[1;31m---------------------------------------------------------------------------\u001b[0m",
      "\u001b[1;31mTypeError\u001b[0m                                 Traceback (most recent call last)",
      "\u001b[1;32m<ipython-input-66-920d90c00881>\u001b[0m in \u001b[0;36m<module>\u001b[1;34m\u001b[0m\n\u001b[1;32m----> 1\u001b[1;33m \u001b[0mcryptodf\u001b[0m\u001b[1;33m[\u001b[0m\u001b[0mcryptodf\u001b[0m\u001b[1;33m.\u001b[0m\u001b[0mClose\u001b[0m\u001b[1;33m,\u001b[0m\u001b[0mcryptodf\u001b[0m\u001b[1;33m.\u001b[0m\u001b[0mDate\u001b[0m\u001b[1;33m]\u001b[0m\u001b[1;33m\u001b[0m\u001b[1;33m\u001b[0m\u001b[0m\n\u001b[0m",
      "\u001b[1;32m~\\Anaconda3\\lib\\site-packages\\pandas\\core\\frame.py\u001b[0m in \u001b[0;36m__getitem__\u001b[1;34m(self, key)\u001b[0m\n\u001b[0;32m   2900\u001b[0m             \u001b[1;32mif\u001b[0m \u001b[0mself\u001b[0m\u001b[1;33m.\u001b[0m\u001b[0mcolumns\u001b[0m\u001b[1;33m.\u001b[0m\u001b[0mnlevels\u001b[0m \u001b[1;33m>\u001b[0m \u001b[1;36m1\u001b[0m\u001b[1;33m:\u001b[0m\u001b[1;33m\u001b[0m\u001b[1;33m\u001b[0m\u001b[0m\n\u001b[0;32m   2901\u001b[0m                 \u001b[1;32mreturn\u001b[0m \u001b[0mself\u001b[0m\u001b[1;33m.\u001b[0m\u001b[0m_getitem_multilevel\u001b[0m\u001b[1;33m(\u001b[0m\u001b[0mkey\u001b[0m\u001b[1;33m)\u001b[0m\u001b[1;33m\u001b[0m\u001b[1;33m\u001b[0m\u001b[0m\n\u001b[1;32m-> 2902\u001b[1;33m             \u001b[0mindexer\u001b[0m \u001b[1;33m=\u001b[0m \u001b[0mself\u001b[0m\u001b[1;33m.\u001b[0m\u001b[0mcolumns\u001b[0m\u001b[1;33m.\u001b[0m\u001b[0mget_loc\u001b[0m\u001b[1;33m(\u001b[0m\u001b[0mkey\u001b[0m\u001b[1;33m)\u001b[0m\u001b[1;33m\u001b[0m\u001b[1;33m\u001b[0m\u001b[0m\n\u001b[0m\u001b[0;32m   2903\u001b[0m             \u001b[1;32mif\u001b[0m \u001b[0mis_integer\u001b[0m\u001b[1;33m(\u001b[0m\u001b[0mindexer\u001b[0m\u001b[1;33m)\u001b[0m\u001b[1;33m:\u001b[0m\u001b[1;33m\u001b[0m\u001b[1;33m\u001b[0m\u001b[0m\n\u001b[0;32m   2904\u001b[0m                 \u001b[0mindexer\u001b[0m \u001b[1;33m=\u001b[0m \u001b[1;33m[\u001b[0m\u001b[0mindexer\u001b[0m\u001b[1;33m]\u001b[0m\u001b[1;33m\u001b[0m\u001b[1;33m\u001b[0m\u001b[0m\n",
      "\u001b[1;32m~\\Anaconda3\\lib\\site-packages\\pandas\\core\\indexes\\base.py\u001b[0m in \u001b[0;36mget_loc\u001b[1;34m(self, key, method, tolerance)\u001b[0m\n\u001b[0;32m   2893\u001b[0m             \u001b[0mcasted_key\u001b[0m \u001b[1;33m=\u001b[0m \u001b[0mself\u001b[0m\u001b[1;33m.\u001b[0m\u001b[0m_maybe_cast_indexer\u001b[0m\u001b[1;33m(\u001b[0m\u001b[0mkey\u001b[0m\u001b[1;33m)\u001b[0m\u001b[1;33m\u001b[0m\u001b[1;33m\u001b[0m\u001b[0m\n\u001b[0;32m   2894\u001b[0m             \u001b[1;32mtry\u001b[0m\u001b[1;33m:\u001b[0m\u001b[1;33m\u001b[0m\u001b[1;33m\u001b[0m\u001b[0m\n\u001b[1;32m-> 2895\u001b[1;33m                 \u001b[1;32mreturn\u001b[0m \u001b[0mself\u001b[0m\u001b[1;33m.\u001b[0m\u001b[0m_engine\u001b[0m\u001b[1;33m.\u001b[0m\u001b[0mget_loc\u001b[0m\u001b[1;33m(\u001b[0m\u001b[0mcasted_key\u001b[0m\u001b[1;33m)\u001b[0m\u001b[1;33m\u001b[0m\u001b[1;33m\u001b[0m\u001b[0m\n\u001b[0m\u001b[0;32m   2896\u001b[0m             \u001b[1;32mexcept\u001b[0m \u001b[0mKeyError\u001b[0m \u001b[1;32mas\u001b[0m \u001b[0merr\u001b[0m\u001b[1;33m:\u001b[0m\u001b[1;33m\u001b[0m\u001b[1;33m\u001b[0m\u001b[0m\n\u001b[0;32m   2897\u001b[0m                 \u001b[1;32mraise\u001b[0m \u001b[0mKeyError\u001b[0m\u001b[1;33m(\u001b[0m\u001b[0mkey\u001b[0m\u001b[1;33m)\u001b[0m \u001b[1;32mfrom\u001b[0m \u001b[0merr\u001b[0m\u001b[1;33m\u001b[0m\u001b[1;33m\u001b[0m\u001b[0m\n",
      "\u001b[1;32mpandas\\_libs\\index.pyx\u001b[0m in \u001b[0;36mpandas._libs.index.IndexEngine.get_loc\u001b[1;34m()\u001b[0m\n",
      "\u001b[1;32mpandas\\_libs\\index.pyx\u001b[0m in \u001b[0;36mpandas._libs.index.IndexEngine.get_loc\u001b[1;34m()\u001b[0m\n",
      "\u001b[1;31mTypeError\u001b[0m: '(0       7144.380000\n1       7022.760000\n2       7407.410000\n3       7379.950000\n4       7207.760000\n           ...     \n1552       0.004254\n1553       0.004417\n1554       0.004680\n1555       0.005613\n1556       0.005882\nName: Close, Length: 7550, dtype: float64, 0       Nov 07, 2017\n1       Nov 06, 2017\n2       Nov 05, 2017\n3       Nov 04, 2017\n4       Nov 03, 2017\n            ...     \n1552    Aug 08, 2013\n1553    Aug 07, 2013\n1554    Aug 06, 2013\n1555    Aug 05, 2013\n1556    Aug 04, 2013\nName: Date, Length: 7550, dtype: object)' is an invalid key"
     ]
    }
   ],
   "source": [
    "cryptodf[cryptodf.Close,cryptodf.Date]"
   ]
  },
  {
   "cell_type": "code",
   "execution_count": 60,
   "metadata": {},
   "outputs": [
    {
     "data": {
      "image/png": "[encoded data removed]",
      "text/plain": [
       "<Figure size 720x720 with 20 Axes>"
      ]
     },
     "metadata": {
      "needs_background": "light"
     },
     "output_type": "display_data"
    }
   ],
   "source": [
    "sns.pairplot(cryptodf)\n",
    "plt.show()"
   ]
  },
  {
   "cell_type": "markdown",
   "metadata": {},
   "source": [
    "## 1. Correct Statements\n",
    "Q1) Combine all the datasets by merging on the date column and create a dataframe with only the closing prices for all the currencies. Next, create a pair plot with all these columns and choose the correct statements from the given ones:\n",
    "\n",
    "I)There is a good trend between litecoin and monero, one increases as the other\n",
    "\n",
    "II)There is a weak trend between bitcoin and neo.\n",
    "\n",
    "a)I\n",
    "\n",
    "b)II\n",
    "\n",
    "c)Both I and II\n",
    "\n",
    "d)None of the above.\n"
   ]
  },
  {
   "cell_type": "code",
   "execution_count": null,
   "metadata": {},
   "outputs": [],
   "source": [
    "#Your code here\n"
   ]
  },
  {
   "cell_type": "markdown",
   "metadata": {},
   "source": [
    "## Heatmap\n",
    "Q2)As mentioned earlier, Heat Maps are predominantly utilised for analysing Correlation Matrix. A high positive correlation (values near 1) means a good positive trend - if one increases, then the other also increases. A negative correlation on the other hand(values near -1) indicate good negative trend - if one increases, then the other decreases. A value near 0 indicates no correlation, as in one variable doesn’t affect the other. \n",
    "\n",
    "\n",
    "a)Ethereum and Quantum have high correlation \n",
    "\n",
    "b)Neo and Bitcoin have pretty low correlation\n",
    "\n",
    "c)Ethereum has similar correlation with litecoin and neo\n",
    "\n"
   ]
  },
  {
   "cell_type": "code",
   "execution_count": null,
   "metadata": {},
   "outputs": [],
   "source": [
    "#Your code here\n"
   ]
  },
  {
   "cell_type": "code",
   "execution_count": null,
   "metadata": {},
   "outputs": [],
   "source": []
  }
 ],
 "metadata": {
  "kernelspec": {
   "display_name": "Python 3",
   "language": "python",
   "name": "python3"
  },
  "language_info": {
   "codemirror_mode": {
    "name": "ipython",
    "version": 3
   },
   "file_extension": ".py",
   "mimetype": "text/x-python",
   "name": "python",
   "nbconvert_exporter": "python",
   "pygments_lexer": "ipython3",
   "version": "3.8.5"
  }
 },
 "nbformat": 4,
 "nbformat_minor": 2
}
