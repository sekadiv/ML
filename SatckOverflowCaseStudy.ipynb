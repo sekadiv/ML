{
  "nbformat": 4,
  "nbformat_minor": 0,
  "metadata": {
    "colab": {
      "name": "SatckOverflowCaseStudy.ipynb",
      "provenance": [],
      "collapsed_sections": [],
      "authorship_tag": "ABX9TyNUGcfkJnkI3XzOnA8TUW40",
      "include_colab_link": true
    },
    "kernelspec": {
      "name": "python3",
      "display_name": "Python 3"
    },
    "widgets": {
      "application/vnd.jupyter.widget-state+json": {
        "98616a7e9a5c47849b72d2776bb6fc62": {
          "model_module": "@jupyter-widgets/controls",
          "model_name": "HBoxModel",
          "state": {
            "_view_name": "HBoxView",
            "_dom_classes": [],
            "_model_name": "HBoxModel",
            "_view_module": "@jupyter-widgets/controls",
            "_model_module_version": "1.5.0",
            "_view_count": null,
            "_view_module_version": "1.5.0",
            "box_style": "",
            "layout": "IPY_MODEL_3d2ad37d0d0f49c7af673c8d44b6a6b9",
            "_model_module": "@jupyter-widgets/controls",
            "children": [
              "IPY_MODEL_919b4738671e4c3f963bbb5f0e5375ef",
              "IPY_MODEL_2200b51783ef49b38c12780003bc183a"
            ]
          }
        },
        "3d2ad37d0d0f49c7af673c8d44b6a6b9": {
          "model_module": "@jupyter-widgets/base",
          "model_name": "LayoutModel",
          "state": {
            "_view_name": "LayoutView",
            "grid_template_rows": null,
            "right": null,
            "justify_content": null,
            "_view_module": "@jupyter-widgets/base",
            "overflow": null,
            "_model_module_version": "1.2.0",
            "_view_count": null,
            "flex_flow": null,
            "width": null,
            "min_width": null,
            "border": null,
            "align_items": null,
            "bottom": null,
            "_model_module": "@jupyter-widgets/base",
            "top": null,
            "grid_column": null,
            "overflow_y": null,
            "overflow_x": null,
            "grid_auto_flow": null,
            "grid_area": null,
            "grid_template_columns": null,
            "flex": null,
            "_model_name": "LayoutModel",
            "justify_items": null,
            "grid_row": null,
            "max_height": null,
            "align_content": null,
            "visibility": null,
            "align_self": null,
            "height": null,
            "min_height": null,
            "padding": null,
            "grid_auto_rows": null,
            "grid_gap": null,
            "max_width": null,
            "order": null,
            "_view_module_version": "1.2.0",
            "grid_template_areas": null,
            "object_position": null,
            "object_fit": null,
            "grid_auto_columns": null,
            "margin": null,
            "display": null,
            "left": null
          }
        },
        "919b4738671e4c3f963bbb5f0e5375ef": {
          "model_module": "@jupyter-widgets/controls",
          "model_name": "FloatProgressModel",
          "state": {
            "_view_name": "ProgressView",
            "style": "IPY_MODEL_d3e9fff2d07c4845b58cd9424827c2c8",
            "_dom_classes": [],
            "description": "100%",
            "_model_name": "FloatProgressModel",
            "bar_style": "success",
            "max": 666,
            "_view_module": "@jupyter-widgets/controls",
            "_model_module_version": "1.5.0",
            "value": 666,
            "_view_count": null,
            "_view_module_version": "1.5.0",
            "orientation": "horizontal",
            "min": 0,
            "description_tooltip": null,
            "_model_module": "@jupyter-widgets/controls",
            "layout": "IPY_MODEL_91cc73b7bafa49e09a6b96841078f78e"
          }
        },
        "2200b51783ef49b38c12780003bc183a": {
          "model_module": "@jupyter-widgets/controls",
          "model_name": "HTMLModel",
          "state": {
            "_view_name": "HTMLView",
            "style": "IPY_MODEL_ada04f0aaab747dba2c556d0d68d791e",
            "_dom_classes": [],
            "description": "",
            "_model_name": "HTMLModel",
            "placeholder": "​",
            "_view_module": "@jupyter-widgets/controls",
            "_model_module_version": "1.5.0",
            "value": " 666/666 [00:08&lt;00:00, 78.07it/s]",
            "_view_count": null,
            "_view_module_version": "1.5.0",
            "description_tooltip": null,
            "_model_module": "@jupyter-widgets/controls",
            "layout": "IPY_MODEL_7f9a24bbe0e44788b54e6264289001bf"
          }
        },
        "d3e9fff2d07c4845b58cd9424827c2c8": {
          "model_module": "@jupyter-widgets/controls",
          "model_name": "ProgressStyleModel",
          "state": {
            "_view_name": "StyleView",
            "_model_name": "ProgressStyleModel",
            "description_width": "initial",
            "_view_module": "@jupyter-widgets/base",
            "_model_module_version": "1.5.0",
            "_view_count": null,
            "_view_module_version": "1.2.0",
            "bar_color": null,
            "_model_module": "@jupyter-widgets/controls"
          }
        },
        "91cc73b7bafa49e09a6b96841078f78e": {
          "model_module": "@jupyter-widgets/base",
          "model_name": "LayoutModel",
          "state": {
            "_view_name": "LayoutView",
            "grid_template_rows": null,
            "right": null,
            "justify_content": null,
            "_view_module": "@jupyter-widgets/base",
            "overflow": null,
            "_model_module_version": "1.2.0",
            "_view_count": null,
            "flex_flow": null,
            "width": null,
            "min_width": null,
            "border": null,
            "align_items": null,
            "bottom": null,
            "_model_module": "@jupyter-widgets/base",
            "top": null,
            "grid_column": null,
            "overflow_y": null,
            "overflow_x": null,
            "grid_auto_flow": null,
            "grid_area": null,
            "grid_template_columns": null,
            "flex": null,
            "_model_name": "LayoutModel",
            "justify_items": null,
            "grid_row": null,
            "max_height": null,
            "align_content": null,
            "visibility": null,
            "align_self": null,
            "height": null,
            "min_height": null,
            "padding": null,
            "grid_auto_rows": null,
            "grid_gap": null,
            "max_width": null,
            "order": null,
            "_view_module_version": "1.2.0",
            "grid_template_areas": null,
            "object_position": null,
            "object_fit": null,
            "grid_auto_columns": null,
            "margin": null,
            "display": null,
            "left": null
          }
        },
        "ada04f0aaab747dba2c556d0d68d791e": {
          "model_module": "@jupyter-widgets/controls",
          "model_name": "DescriptionStyleModel",
          "state": {
            "_view_name": "StyleView",
            "_model_name": "DescriptionStyleModel",
            "description_width": "",
            "_view_module": "@jupyter-widgets/base",
            "_model_module_version": "1.5.0",
            "_view_count": null,
            "_view_module_version": "1.2.0",
            "_model_module": "@jupyter-widgets/controls"
          }
        },
        "7f9a24bbe0e44788b54e6264289001bf": {
          "model_module": "@jupyter-widgets/base",
          "model_name": "LayoutModel",
          "state": {
            "_view_name": "LayoutView",
            "grid_template_rows": null,
            "right": null,
            "justify_content": null,
            "_view_module": "@jupyter-widgets/base",
            "overflow": null,
            "_model_module_version": "1.2.0",
            "_view_count": null,
            "flex_flow": null,
            "width": null,
            "min_width": null,
            "border": null,
            "align_items": null,
            "bottom": null,
            "_model_module": "@jupyter-widgets/base",
            "top": null,
            "grid_column": null,
            "overflow_y": null,
            "overflow_x": null,
            "grid_auto_flow": null,
            "grid_area": null,
            "grid_template_columns": null,
            "flex": null,
            "_model_name": "LayoutModel",
            "justify_items": null,
            "grid_row": null,
            "max_height": null,
            "align_content": null,
            "visibility": null,
            "align_self": null,
            "height": null,
            "min_height": null,
            "padding": null,
            "grid_auto_rows": null,
            "grid_gap": null,
            "max_width": null,
            "order": null,
            "_view_module_version": "1.2.0",
            "grid_template_areas": null,
            "object_position": null,
            "object_fit": null,
            "grid_auto_columns": null,
            "margin": null,
            "display": null,
            "left": null
          }
        },
        "bc3f57b5a52746888f6667c7dee1bfd9": {
          "model_module": "@jupyter-widgets/controls",
          "model_name": "HBoxModel",
          "state": {
            "_view_name": "HBoxView",
            "_dom_classes": [],
            "_model_name": "HBoxModel",
            "_view_module": "@jupyter-widgets/controls",
            "_model_module_version": "1.5.0",
            "_view_count": null,
            "_view_module_version": "1.5.0",
            "box_style": "",
            "layout": "IPY_MODEL_60ff7bd931a6438db2552a95e4578a27",
            "_model_module": "@jupyter-widgets/controls",
            "children": [
              "IPY_MODEL_672076325bd946019708a612652c6a0d",
              "IPY_MODEL_aaed4873098542fcbff17ba60296d6fe"
            ]
          }
        },
        "60ff7bd931a6438db2552a95e4578a27": {
          "model_module": "@jupyter-widgets/base",
          "model_name": "LayoutModel",
          "state": {
            "_view_name": "LayoutView",
            "grid_template_rows": null,
            "right": null,
            "justify_content": null,
            "_view_module": "@jupyter-widgets/base",
            "overflow": null,
            "_model_module_version": "1.2.0",
            "_view_count": null,
            "flex_flow": null,
            "width": null,
            "min_width": null,
            "border": null,
            "align_items": null,
            "bottom": null,
            "_model_module": "@jupyter-widgets/base",
            "top": null,
            "grid_column": null,
            "overflow_y": null,
            "overflow_x": null,
            "grid_auto_flow": null,
            "grid_area": null,
            "grid_template_columns": null,
            "flex": null,
            "_model_name": "LayoutModel",
            "justify_items": null,
            "grid_row": null,
            "max_height": null,
            "align_content": null,
            "visibility": null,
            "align_self": null,
            "height": null,
            "min_height": null,
            "padding": null,
            "grid_auto_rows": null,
            "grid_gap": null,
            "max_width": null,
            "order": null,
            "_view_module_version": "1.2.0",
            "grid_template_areas": null,
            "object_position": null,
            "object_fit": null,
            "grid_auto_columns": null,
            "margin": null,
            "display": null,
            "left": null
          }
        },
        "672076325bd946019708a612652c6a0d": {
          "model_module": "@jupyter-widgets/controls",
          "model_name": "FloatProgressModel",
          "state": {
            "_view_name": "ProgressView",
            "style": "IPY_MODEL_286c306a64ef48d6af966a89b5ed84f0",
            "_dom_classes": [],
            "description": "100%",
            "_model_name": "FloatProgressModel",
            "bar_style": "success",
            "max": 793,
            "_view_module": "@jupyter-widgets/controls",
            "_model_module_version": "1.5.0",
            "value": 793,
            "_view_count": null,
            "_view_module_version": "1.5.0",
            "orientation": "horizontal",
            "min": 0,
            "description_tooltip": null,
            "_model_module": "@jupyter-widgets/controls",
            "layout": "IPY_MODEL_e88c0236f4134cf49fe32db161d10e82"
          }
        },
        "aaed4873098542fcbff17ba60296d6fe": {
          "model_module": "@jupyter-widgets/controls",
          "model_name": "HTMLModel",
          "state": {
            "_view_name": "HTMLView",
            "style": "IPY_MODEL_f7e62236fc1240f899e5222f850c92ca",
            "_dom_classes": [],
            "description": "",
            "_model_name": "HTMLModel",
            "placeholder": "​",
            "_view_module": "@jupyter-widgets/controls",
            "_model_module_version": "1.5.0",
            "value": " 793/793 [00:13&lt;00:00, 58.28it/s]",
            "_view_count": null,
            "_view_module_version": "1.5.0",
            "description_tooltip": null,
            "_model_module": "@jupyter-widgets/controls",
            "layout": "IPY_MODEL_586e4eb1e1ba4e098ae3159383ad57d4"
          }
        },
        "286c306a64ef48d6af966a89b5ed84f0": {
          "model_module": "@jupyter-widgets/controls",
          "model_name": "ProgressStyleModel",
          "state": {
            "_view_name": "StyleView",
            "_model_name": "ProgressStyleModel",
            "description_width": "initial",
            "_view_module": "@jupyter-widgets/base",
            "_model_module_version": "1.5.0",
            "_view_count": null,
            "_view_module_version": "1.2.0",
            "bar_color": null,
            "_model_module": "@jupyter-widgets/controls"
          }
        },
        "e88c0236f4134cf49fe32db161d10e82": {
          "model_module": "@jupyter-widgets/base",
          "model_name": "LayoutModel",
          "state": {
            "_view_name": "LayoutView",
            "grid_template_rows": null,
            "right": null,
            "justify_content": null,
            "_view_module": "@jupyter-widgets/base",
            "overflow": null,
            "_model_module_version": "1.2.0",
            "_view_count": null,
            "flex_flow": null,
            "width": null,
            "min_width": null,
            "border": null,
            "align_items": null,
            "bottom": null,
            "_model_module": "@jupyter-widgets/base",
            "top": null,
            "grid_column": null,
            "overflow_y": null,
            "overflow_x": null,
            "grid_auto_flow": null,
            "grid_area": null,
            "grid_template_columns": null,
            "flex": null,
            "_model_name": "LayoutModel",
            "justify_items": null,
            "grid_row": null,
            "max_height": null,
            "align_content": null,
            "visibility": null,
            "align_self": null,
            "height": null,
            "min_height": null,
            "padding": null,
            "grid_auto_rows": null,
            "grid_gap": null,
            "max_width": null,
            "order": null,
            "_view_module_version": "1.2.0",
            "grid_template_areas": null,
            "object_position": null,
            "object_fit": null,
            "grid_auto_columns": null,
            "margin": null,
            "display": null,
            "left": null
          }
        },
        "f7e62236fc1240f899e5222f850c92ca": {
          "model_module": "@jupyter-widgets/controls",
          "model_name": "DescriptionStyleModel",
          "state": {
            "_view_name": "StyleView",
            "_model_name": "DescriptionStyleModel",
            "description_width": "",
            "_view_module": "@jupyter-widgets/base",
            "_model_module_version": "1.5.0",
            "_view_count": null,
            "_view_module_version": "1.2.0",
            "_model_module": "@jupyter-widgets/controls"
          }
        },
        "586e4eb1e1ba4e098ae3159383ad57d4": {
          "model_module": "@jupyter-widgets/base",
          "model_name": "LayoutModel",
          "state": {
            "_view_name": "LayoutView",
            "grid_template_rows": null,
            "right": null,
            "justify_content": null,
            "_view_module": "@jupyter-widgets/base",
            "overflow": null,
            "_model_module_version": "1.2.0",
            "_view_count": null,
            "flex_flow": null,
            "width": null,
            "min_width": null,
            "border": null,
            "align_items": null,
            "bottom": null,
            "_model_module": "@jupyter-widgets/base",
            "top": null,
            "grid_column": null,
            "overflow_y": null,
            "overflow_x": null,
            "grid_auto_flow": null,
            "grid_area": null,
            "grid_template_columns": null,
            "flex": null,
            "_model_name": "LayoutModel",
            "justify_items": null,
            "grid_row": null,
            "max_height": null,
            "align_content": null,
            "visibility": null,
            "align_self": null,
            "height": null,
            "min_height": null,
            "padding": null,
            "grid_auto_rows": null,
            "grid_gap": null,
            "max_width": null,
            "order": null,
            "_view_module_version": "1.2.0",
            "grid_template_areas": null,
            "object_position": null,
            "object_fit": null,
            "grid_auto_columns": null,
            "margin": null,
            "display": null,
            "left": null
          }
        },
        "f5dcecc7505544f88e7fc25adfd63ab9": {
          "model_module": "@jupyter-widgets/controls",
          "model_name": "HBoxModel",
          "state": {
            "_view_name": "HBoxView",
            "_dom_classes": [],
            "_model_name": "HBoxModel",
            "_view_module": "@jupyter-widgets/controls",
            "_model_module_version": "1.5.0",
            "_view_count": null,
            "_view_module_version": "1.5.0",
            "box_style": "",
            "layout": "IPY_MODEL_f780e83b7b6f48b39902a34450708a08",
            "_model_module": "@jupyter-widgets/controls",
            "children": [
              "IPY_MODEL_26644606325f42948198fb508d95c779",
              "IPY_MODEL_8fe49a8973e84c8f9379687d67357107"
            ]
          }
        },
        "f780e83b7b6f48b39902a34450708a08": {
          "model_module": "@jupyter-widgets/base",
          "model_name": "LayoutModel",
          "state": {
            "_view_name": "LayoutView",
            "grid_template_rows": null,
            "right": null,
            "justify_content": null,
            "_view_module": "@jupyter-widgets/base",
            "overflow": null,
            "_model_module_version": "1.2.0",
            "_view_count": null,
            "flex_flow": null,
            "width": null,
            "min_width": null,
            "border": null,
            "align_items": null,
            "bottom": null,
            "_model_module": "@jupyter-widgets/base",
            "top": null,
            "grid_column": null,
            "overflow_y": null,
            "overflow_x": null,
            "grid_auto_flow": null,
            "grid_area": null,
            "grid_template_columns": null,
            "flex": null,
            "_model_name": "LayoutModel",
            "justify_items": null,
            "grid_row": null,
            "max_height": null,
            "align_content": null,
            "visibility": null,
            "align_self": null,
            "height": null,
            "min_height": null,
            "padding": null,
            "grid_auto_rows": null,
            "grid_gap": null,
            "max_width": null,
            "order": null,
            "_view_module_version": "1.2.0",
            "grid_template_areas": null,
            "object_position": null,
            "object_fit": null,
            "grid_auto_columns": null,
            "margin": null,
            "display": null,
            "left": null
          }
        },
        "26644606325f42948198fb508d95c779": {
          "model_module": "@jupyter-widgets/controls",
          "model_name": "FloatProgressModel",
          "state": {
            "_view_name": "ProgressView",
            "style": "IPY_MODEL_4dbb52f885254338a4220bb734c25ae8",
            "_dom_classes": [],
            "description": "100%",
            "_model_name": "FloatProgressModel",
            "bar_style": "success",
            "max": 210245,
            "_view_module": "@jupyter-widgets/controls",
            "_model_module_version": "1.5.0",
            "value": 210245,
            "_view_count": null,
            "_view_module_version": "1.5.0",
            "orientation": "horizontal",
            "min": 0,
            "description_tooltip": null,
            "_model_module": "@jupyter-widgets/controls",
            "layout": "IPY_MODEL_a94235ebf4194140b115c3b7e5618683"
          }
        },
        "8fe49a8973e84c8f9379687d67357107": {
          "model_module": "@jupyter-widgets/controls",
          "model_name": "HTMLModel",
          "state": {
            "_view_name": "HTMLView",
            "style": "IPY_MODEL_aa864c2768d94b0a822bc337411e36fe",
            "_dom_classes": [],
            "description": "",
            "_model_name": "HTMLModel",
            "placeholder": "​",
            "_view_module": "@jupyter-widgets/controls",
            "_model_module_version": "1.5.0",
            "value": " 210245/210245 [01:46&lt;00:00, 1965.43it/s]",
            "_view_count": null,
            "_view_module_version": "1.5.0",
            "description_tooltip": null,
            "_model_module": "@jupyter-widgets/controls",
            "layout": "IPY_MODEL_60cdeabcff1645dfb9236382765c35ca"
          }
        },
        "4dbb52f885254338a4220bb734c25ae8": {
          "model_module": "@jupyter-widgets/controls",
          "model_name": "ProgressStyleModel",
          "state": {
            "_view_name": "StyleView",
            "_model_name": "ProgressStyleModel",
            "description_width": "initial",
            "_view_module": "@jupyter-widgets/base",
            "_model_module_version": "1.5.0",
            "_view_count": null,
            "_view_module_version": "1.2.0",
            "bar_color": null,
            "_model_module": "@jupyter-widgets/controls"
          }
        },
        "a94235ebf4194140b115c3b7e5618683": {
          "model_module": "@jupyter-widgets/base",
          "model_name": "LayoutModel",
          "state": {
            "_view_name": "LayoutView",
            "grid_template_rows": null,
            "right": null,
            "justify_content": null,
            "_view_module": "@jupyter-widgets/base",
            "overflow": null,
            "_model_module_version": "1.2.0",
            "_view_count": null,
            "flex_flow": null,
            "width": null,
            "min_width": null,
            "border": null,
            "align_items": null,
            "bottom": null,
            "_model_module": "@jupyter-widgets/base",
            "top": null,
            "grid_column": null,
            "overflow_y": null,
            "overflow_x": null,
            "grid_auto_flow": null,
            "grid_area": null,
            "grid_template_columns": null,
            "flex": null,
            "_model_name": "LayoutModel",
            "justify_items": null,
            "grid_row": null,
            "max_height": null,
            "align_content": null,
            "visibility": null,
            "align_self": null,
            "height": null,
            "min_height": null,
            "padding": null,
            "grid_auto_rows": null,
            "grid_gap": null,
            "max_width": null,
            "order": null,
            "_view_module_version": "1.2.0",
            "grid_template_areas": null,
            "object_position": null,
            "object_fit": null,
            "grid_auto_columns": null,
            "margin": null,
            "display": null,
            "left": null
          }
        },
        "aa864c2768d94b0a822bc337411e36fe": {
          "model_module": "@jupyter-widgets/controls",
          "model_name": "DescriptionStyleModel",
          "state": {
            "_view_name": "StyleView",
            "_model_name": "DescriptionStyleModel",
            "description_width": "",
            "_view_module": "@jupyter-widgets/base",
            "_model_module_version": "1.5.0",
            "_view_count": null,
            "_view_module_version": "1.2.0",
            "_model_module": "@jupyter-widgets/controls"
          }
        },
        "60cdeabcff1645dfb9236382765c35ca": {
          "model_module": "@jupyter-widgets/base",
          "model_name": "LayoutModel",
          "state": {
            "_view_name": "LayoutView",
            "grid_template_rows": null,
            "right": null,
            "justify_content": null,
            "_view_module": "@jupyter-widgets/base",
            "overflow": null,
            "_model_module_version": "1.2.0",
            "_view_count": null,
            "flex_flow": null,
            "width": null,
            "min_width": null,
            "border": null,
            "align_items": null,
            "bottom": null,
            "_model_module": "@jupyter-widgets/base",
            "top": null,
            "grid_column": null,
            "overflow_y": null,
            "overflow_x": null,
            "grid_auto_flow": null,
            "grid_area": null,
            "grid_template_columns": null,
            "flex": null,
            "_model_name": "LayoutModel",
            "justify_items": null,
            "grid_row": null,
            "max_height": null,
            "align_content": null,
            "visibility": null,
            "align_self": null,
            "height": null,
            "min_height": null,
            "padding": null,
            "grid_auto_rows": null,
            "grid_gap": null,
            "max_width": null,
            "order": null,
            "_view_module_version": "1.2.0",
            "grid_template_areas": null,
            "object_position": null,
            "object_fit": null,
            "grid_auto_columns": null,
            "margin": null,
            "display": null,
            "left": null
          }
        }
      }
    }
  },
  "cells": [
    {
      "cell_type": "markdown",
      "metadata": {
        "id": "view-in-github",
        "colab_type": "text"
      },
      "source": [
        "<a href=\"https://colab.research.google.com/github/sekadiv/ML/blob/master/SatckOverflowCaseStudy.ipynb\" target=\"_parent\"><img src=\"https://colab.research.google.com/assets/colab-badge.svg\" alt=\"Open In Colab\"/></a>"
      ]
    },
    {
      "cell_type": "code",
      "metadata": {
        "colab": {
          "base_uri": "https://localhost:8080/"
        },
        "id": "I4hInMw38dHz",
        "outputId": "1b62726a-8b2a-44ab-d822-e3af9d5109d2"
      },
      "source": [
        "#mounting the GoogleDrive\r\n",
        "from google.colab import drive\r\n",
        "drive.mount('/content/gdrive')"
      ],
      "execution_count": 1,
      "outputs": [
        {
          "output_type": "stream",
          "text": [
            "Mounted at /content/gdrive\n"
          ],
          "name": "stdout"
        }
      ]
    },
    {
      "cell_type": "code",
      "metadata": {
        "id": "L9umjA2UGI6c"
      },
      "source": [
        "#Importing Necessary Libraries\r\n",
        "import pandas as pd\r\n",
        "import numpy as np\r\n",
        "import io\r\n",
        "import requests\r\n",
        "import matplotlib as mpl\r\n",
        "import matplotlib.pyplot as plt\r\n",
        "import random\r\n",
        "import os\r\n",
        "from tqdm import tqdm_notebook\r\n",
        "from collections import Counter\r\n",
        "%matplotlib inline\r\n",
        "plt.rcParams['figure.figsize'] = (10.0, 10.0)"
      ],
      "execution_count": 2,
      "outputs": []
    },
    {
      "cell_type": "code",
      "metadata": {
        "id": "ydhbQDCt-M7t"
      },
      "source": [
        "root_path = '/content/gdrive/MyDrive/Colab Notebooks/Copy of StackOverflowCS.ipynb'"
      ],
      "execution_count": 3,
      "outputs": []
    },
    {
      "cell_type": "code",
      "metadata": {
        "colab": {
          "base_uri": "https://localhost:8080/"
        },
        "id": "ryDUZWqf9COK",
        "outputId": "43b5664c-cccf-45e1-8077-a82cf8a88726"
      },
      "source": [
        "!wget https://stack-overflow-casestudy-datasets.s3.amazonaws.com/Questions.csv -P '/content/gdrive/MyDrive/Colab Notebooks/Copy of StackOverflowCS.ipynb'"
      ],
      "execution_count": 4,
      "outputs": [
        {
          "output_type": "stream",
          "text": [
            "--2021-02-22 04:49:29--  https://stack-overflow-casestudy-datasets.s3.amazonaws.com/Questions.csv\n",
            "Resolving stack-overflow-casestudy-datasets.s3.amazonaws.com (stack-overflow-casestudy-datasets.s3.amazonaws.com)... 52.217.70.180\n",
            "Connecting to stack-overflow-casestudy-datasets.s3.amazonaws.com (stack-overflow-casestudy-datasets.s3.amazonaws.com)|52.217.70.180|:443... connected.\n",
            "HTTP request sent, awaiting response... 200 OK\n",
            "Length: 1923682009 (1.8G) [text/csv]\n",
            "Saving to: ‘/content/gdrive/MyDrive/Colab Notebooks/Copy of StackOverflowCS.ipynb/Questions.csv’\n",
            "\n",
            "Questions.csv       100%[===================>]   1.79G  33.5MB/s    in 57s     \n",
            "\n",
            "2021-02-22 04:50:26 (32.4 MB/s) - ‘/content/gdrive/MyDrive/Colab Notebooks/Copy of StackOverflowCS.ipynb/Questions.csv’ saved [1923682009/1923682009]\n",
            "\n"
          ],
          "name": "stdout"
        }
      ]
    },
    {
      "cell_type": "code",
      "metadata": {
        "id": "T45g_Waf8wZy"
      },
      "source": [
        "qdf = pd.read_csv(os.path.join(root_path, 'Questions.csv'),encoding='latin-1')"
      ],
      "execution_count": 5,
      "outputs": []
    },
    {
      "cell_type": "code",
      "metadata": {
        "colab": {
          "base_uri": "https://localhost:8080/"
        },
        "id": "RJoqkO8bFAdV",
        "outputId": "eb83fa43-335d-4773-8085-f246f6403edb"
      },
      "source": [
        "!wget https://stack-overflow-casestudy-datasets.s3.amazonaws.com/Answers.csv -P '/content/gdrive/MyDrive/Colab Notebooks/Copy of StackOverflowCS.ipynb'\r\n",
        "!wget https://stack-overflow-casestudy-datasets.s3.amazonaws.com/Tags.csv -P '/content/gdrive/MyDrive/Colab Notebooks/Copy of StackOverflowCS.ipynb'\r\n",
        "!wget https://stack-overflow-casestudy-datasets.s3.amazonaws.com/Users.csv -P '/content/gdrive/MyDrive/Colab Notebooks/Copy of StackOverflowCS.ipynb'"
      ],
      "execution_count": 6,
      "outputs": [
        {
          "output_type": "stream",
          "text": [
            "--2021-02-22 04:51:13--  https://stack-overflow-casestudy-datasets.s3.amazonaws.com/Answers.csv\n",
            "Resolving stack-overflow-casestudy-datasets.s3.amazonaws.com (stack-overflow-casestudy-datasets.s3.amazonaws.com)... 52.216.96.219\n",
            "Connecting to stack-overflow-casestudy-datasets.s3.amazonaws.com (stack-overflow-casestudy-datasets.s3.amazonaws.com)|52.216.96.219|:443... connected.\n",
            "HTTP request sent, awaiting response... 200 OK\n",
            "Length: 1607914819 (1.5G) [text/csv]\n",
            "Saving to: ‘/content/gdrive/MyDrive/Colab Notebooks/Copy of StackOverflowCS.ipynb/Answers.csv’\n",
            "\n",
            "Answers.csv         100%[===================>]   1.50G  33.3MB/s    in 48s     \n",
            "\n",
            "2021-02-22 04:52:02 (31.9 MB/s) - ‘/content/gdrive/MyDrive/Colab Notebooks/Copy of StackOverflowCS.ipynb/Answers.csv’ saved [1607914819/1607914819]\n",
            "\n",
            "--2021-02-22 04:52:02--  https://stack-overflow-casestudy-datasets.s3.amazonaws.com/Tags.csv\n",
            "Resolving stack-overflow-casestudy-datasets.s3.amazonaws.com (stack-overflow-casestudy-datasets.s3.amazonaws.com)... 52.216.113.211\n",
            "Connecting to stack-overflow-casestudy-datasets.s3.amazonaws.com (stack-overflow-casestudy-datasets.s3.amazonaws.com)|52.216.113.211|:443... connected.\n",
            "HTTP request sent, awaiting response... 200 OK\n",
            "Length: 65475836 (62M) [text/csv]\n",
            "Saving to: ‘/content/gdrive/MyDrive/Colab Notebooks/Copy of StackOverflowCS.ipynb/Tags.csv’\n",
            "\n",
            "Tags.csv            100%[===================>]  62.44M  20.3MB/s    in 3.1s    \n",
            "\n",
            "2021-02-22 04:52:05 (20.3 MB/s) - ‘/content/gdrive/MyDrive/Colab Notebooks/Copy of StackOverflowCS.ipynb/Tags.csv’ saved [65475836/65475836]\n",
            "\n",
            "--2021-02-22 04:52:06--  https://stack-overflow-casestudy-datasets.s3.amazonaws.com/Users.csv\n",
            "Resolving stack-overflow-casestudy-datasets.s3.amazonaws.com (stack-overflow-casestudy-datasets.s3.amazonaws.com)... 52.217.12.12\n",
            "Connecting to stack-overflow-casestudy-datasets.s3.amazonaws.com (stack-overflow-casestudy-datasets.s3.amazonaws.com)|52.217.12.12|:443... connected.\n",
            "HTTP request sent, awaiting response... 200 OK\n",
            "Length: 192798009 (184M) [text/csv]\n",
            "Saving to: ‘/content/gdrive/MyDrive/Colab Notebooks/Copy of StackOverflowCS.ipynb/Users.csv’\n",
            "\n",
            "Users.csv           100%[===================>] 183.87M  29.0MB/s    in 7.2s    \n",
            "\n",
            "2021-02-22 04:52:13 (25.5 MB/s) - ‘/content/gdrive/MyDrive/Colab Notebooks/Copy of StackOverflowCS.ipynb/Users.csv’ saved [192798009/192798009]\n",
            "\n"
          ],
          "name": "stdout"
        }
      ]
    },
    {
      "cell_type": "code",
      "metadata": {
        "id": "X5p7UoJgF8Ye"
      },
      "source": [
        "ansdf = pd.read_csv(os.path.join(root_path, 'Answers.csv'),encoding='latin-1')\r\n",
        "tagsdf=pd.read_csv(os.path.join(root_path, 'Tags.csv'),encoding='latin-1')\r\n",
        "usersdf=pd.read_csv(os.path.join(root_path, 'Users.csv'),encoding='latin-1')"
      ],
      "execution_count": 7,
      "outputs": []
    },
    {
      "cell_type": "code",
      "metadata": {
        "id": "c652XP0QGWt4"
      },
      "source": [
        "#Loading the Datasets Directly from S3\r\n",
        "#question_file = 'https://stack-overflow-casestudy-datasets.s3.amazonaws.com/Questions.csv'        \r\n",
        "#qdf = pd.read_csv(question_file,encoding='latin-1')\r\n",
        "#answers_file='https://stack-overflow-casestudy-datasets.s3.amazonaws.com/Answers.csv'\r\n",
        "#ansdf=pd.read_csv(answers_file,encoding='latin-1')\r\n",
        "#tags_file=\"https://stack-overflow-casestudy-datasets.s3.amazonaws.com/Tags.csv\"\r\n",
        "#tagsdf=pd.read_csv(tags_file,encoding='latin-1')\r\n",
        "#users_file=\"https://stack-overflow-casestudy-datasets.s3.amazonaws.com/Users.csv\"\r\n",
        "#usersdf=pd.read_csv(users_file,encoding='latin-1')"
      ],
      "execution_count": null,
      "outputs": []
    },
    {
      "cell_type": "code",
      "metadata": {
        "colab": {
          "base_uri": "https://localhost:8080/",
          "height": 112
        },
        "id": "a_OHq0XiSmOB",
        "outputId": "4bf953e1-a9ae-435e-8d0f-56bad5f89314"
      },
      "source": [
        "qdf.head(2)"
      ],
      "execution_count": 8,
      "outputs": [
        {
          "output_type": "execute_result",
          "data": {
            "text/html": [
              "<div>\n",
              "<style scoped>\n",
              "    .dataframe tbody tr th:only-of-type {\n",
              "        vertical-align: middle;\n",
              "    }\n",
              "\n",
              "    .dataframe tbody tr th {\n",
              "        vertical-align: top;\n",
              "    }\n",
              "\n",
              "    .dataframe thead th {\n",
              "        text-align: right;\n",
              "    }\n",
              "</style>\n",
              "<table border=\"1\" class=\"dataframe\">\n",
              "  <thead>\n",
              "    <tr style=\"text-align: right;\">\n",
              "      <th></th>\n",
              "      <th>Id</th>\n",
              "      <th>OwnerUserId</th>\n",
              "      <th>CreationDate</th>\n",
              "      <th>ClosedDate</th>\n",
              "      <th>Score</th>\n",
              "      <th>Title</th>\n",
              "      <th>Body</th>\n",
              "    </tr>\n",
              "  </thead>\n",
              "  <tbody>\n",
              "    <tr>\n",
              "      <th>0</th>\n",
              "      <td>80</td>\n",
              "      <td>26.0</td>\n",
              "      <td>2008-08-01T13:57:07Z</td>\n",
              "      <td>NaN</td>\n",
              "      <td>26</td>\n",
              "      <td>SQLStatement.execute() - multiple queries in o...</td>\n",
              "      <td>&lt;p&gt;I've written a database generation script i...</td>\n",
              "    </tr>\n",
              "    <tr>\n",
              "      <th>1</th>\n",
              "      <td>90</td>\n",
              "      <td>58.0</td>\n",
              "      <td>2008-08-01T14:41:24Z</td>\n",
              "      <td>2012-12-26T03:45:49Z</td>\n",
              "      <td>144</td>\n",
              "      <td>Good branching and merging tutorials for Torto...</td>\n",
              "      <td>&lt;p&gt;Are there any really good tutorials explain...</td>\n",
              "    </tr>\n",
              "  </tbody>\n",
              "</table>\n",
              "</div>"
            ],
            "text/plain": [
              "   Id  ...                                               Body\n",
              "0  80  ...  <p>I've written a database generation script i...\n",
              "1  90  ...  <p>Are there any really good tutorials explain...\n",
              "\n",
              "[2 rows x 7 columns]"
            ]
          },
          "metadata": {
            "tags": []
          },
          "execution_count": 8
        }
      ]
    },
    {
      "cell_type": "code",
      "metadata": {
        "id": "wsT0ixxmSsyD",
        "colab": {
          "base_uri": "https://localhost:8080/",
          "height": 112
        },
        "outputId": "d05a460e-3137-4732-bff4-eedf13962b53"
      },
      "source": [
        "tagsdf.head(2)"
      ],
      "execution_count": 25,
      "outputs": [
        {
          "output_type": "execute_result",
          "data": {
            "text/html": [
              "<div>\n",
              "<style scoped>\n",
              "    .dataframe tbody tr th:only-of-type {\n",
              "        vertical-align: middle;\n",
              "    }\n",
              "\n",
              "    .dataframe tbody tr th {\n",
              "        vertical-align: top;\n",
              "    }\n",
              "\n",
              "    .dataframe thead th {\n",
              "        text-align: right;\n",
              "    }\n",
              "</style>\n",
              "<table border=\"1\" class=\"dataframe\">\n",
              "  <thead>\n",
              "    <tr style=\"text-align: right;\">\n",
              "      <th></th>\n",
              "      <th>Id</th>\n",
              "      <th>Tag</th>\n",
              "    </tr>\n",
              "  </thead>\n",
              "  <tbody>\n",
              "    <tr>\n",
              "      <th>0</th>\n",
              "      <td>80</td>\n",
              "      <td>flex</td>\n",
              "    </tr>\n",
              "    <tr>\n",
              "      <th>1</th>\n",
              "      <td>80</td>\n",
              "      <td>actionscript-3</td>\n",
              "    </tr>\n",
              "  </tbody>\n",
              "</table>\n",
              "</div>"
            ],
            "text/plain": [
              "   Id             Tag\n",
              "0  80            flex\n",
              "1  80  actionscript-3"
            ]
          },
          "metadata": {
            "tags": []
          },
          "execution_count": 25
        }
      ]
    },
    {
      "cell_type": "code",
      "metadata": {
        "colab": {
          "base_uri": "https://localhost:8080/",
          "height": 112
        },
        "id": "gGIFgMq_TGwl",
        "outputId": "98a0bc45-cac2-4b4f-b14d-5f23b403338a"
      },
      "source": [
        "ansdf.head(2)"
      ],
      "execution_count": 26,
      "outputs": [
        {
          "output_type": "execute_result",
          "data": {
            "text/html": [
              "<div>\n",
              "<style scoped>\n",
              "    .dataframe tbody tr th:only-of-type {\n",
              "        vertical-align: middle;\n",
              "    }\n",
              "\n",
              "    .dataframe tbody tr th {\n",
              "        vertical-align: top;\n",
              "    }\n",
              "\n",
              "    .dataframe thead th {\n",
              "        text-align: right;\n",
              "    }\n",
              "</style>\n",
              "<table border=\"1\" class=\"dataframe\">\n",
              "  <thead>\n",
              "    <tr style=\"text-align: right;\">\n",
              "      <th></th>\n",
              "      <th>Id</th>\n",
              "      <th>OwnerUserId</th>\n",
              "      <th>CreationDate</th>\n",
              "      <th>ParentId</th>\n",
              "      <th>Score</th>\n",
              "      <th>Body</th>\n",
              "    </tr>\n",
              "  </thead>\n",
              "  <tbody>\n",
              "    <tr>\n",
              "      <th>0</th>\n",
              "      <td>92</td>\n",
              "      <td>61.0</td>\n",
              "      <td>2008-08-01T14:45:37Z</td>\n",
              "      <td>90</td>\n",
              "      <td>13</td>\n",
              "      <td>&lt;p&gt;&lt;a href=\"http://svnbook.red-bean.com/\"&gt;Vers...</td>\n",
              "    </tr>\n",
              "    <tr>\n",
              "      <th>1</th>\n",
              "      <td>124</td>\n",
              "      <td>26.0</td>\n",
              "      <td>2008-08-01T16:09:47Z</td>\n",
              "      <td>80</td>\n",
              "      <td>12</td>\n",
              "      <td>&lt;p&gt;I wound up using this. It is a kind of a ha...</td>\n",
              "    </tr>\n",
              "  </tbody>\n",
              "</table>\n",
              "</div>"
            ],
            "text/plain": [
              "    Id  OwnerUserId  ... Score                                               Body\n",
              "0   92         61.0  ...    13  <p><a href=\"http://svnbook.red-bean.com/\">Vers...\n",
              "1  124         26.0  ...    12  <p>I wound up using this. It is a kind of a ha...\n",
              "\n",
              "[2 rows x 6 columns]"
            ]
          },
          "metadata": {
            "tags": []
          },
          "execution_count": 26
        }
      ]
    },
    {
      "cell_type": "code",
      "metadata": {
        "colab": {
          "base_uri": "https://localhost:8080/",
          "height": 112
        },
        "id": "Hn0BuH58TKBz",
        "outputId": "75d68ecc-95ba-4549-8f0e-650e5a904a33"
      },
      "source": [
        "usersdf.head(2)"
      ],
      "execution_count": null,
      "outputs": [
        {
          "output_type": "execute_result",
          "data": {
            "text/html": [
              "<div>\n",
              "<style scoped>\n",
              "    .dataframe tbody tr th:only-of-type {\n",
              "        vertical-align: middle;\n",
              "    }\n",
              "\n",
              "    .dataframe tbody tr th {\n",
              "        vertical-align: top;\n",
              "    }\n",
              "\n",
              "    .dataframe thead th {\n",
              "        text-align: right;\n",
              "    }\n",
              "</style>\n",
              "<table border=\"1\" class=\"dataframe\">\n",
              "  <thead>\n",
              "    <tr style=\"text-align: right;\">\n",
              "      <th></th>\n",
              "      <th>Unnamed: 0</th>\n",
              "      <th>id</th>\n",
              "      <th>display_name</th>\n",
              "      <th>creation_date</th>\n",
              "      <th>last_access_date</th>\n",
              "      <th>reputation</th>\n",
              "      <th>up_votes</th>\n",
              "      <th>down_votes</th>\n",
              "      <th>views</th>\n",
              "    </tr>\n",
              "  </thead>\n",
              "  <tbody>\n",
              "    <tr>\n",
              "      <th>0</th>\n",
              "      <td>0</td>\n",
              "      <td>26</td>\n",
              "      <td>Shawn</td>\n",
              "      <td>2008-08-01 12:18:14.52 UTC</td>\n",
              "      <td>2018-04-11 04:40:35.66 UTC</td>\n",
              "      <td>11820</td>\n",
              "      <td>565</td>\n",
              "      <td>67</td>\n",
              "      <td>3547</td>\n",
              "    </tr>\n",
              "    <tr>\n",
              "      <th>1</th>\n",
              "      <td>1</td>\n",
              "      <td>26</td>\n",
              "      <td>Shawn</td>\n",
              "      <td>2008-08-01 12:18:14.52 UTC</td>\n",
              "      <td>2018-04-11 04:40:35.66 UTC</td>\n",
              "      <td>11820</td>\n",
              "      <td>565</td>\n",
              "      <td>67</td>\n",
              "      <td>3547</td>\n",
              "    </tr>\n",
              "  </tbody>\n",
              "</table>\n",
              "</div>"
            ],
            "text/plain": [
              "   Unnamed: 0  id display_name  ... up_votes down_votes  views\n",
              "0           0  26        Shawn  ...      565         67   3547\n",
              "1           1  26        Shawn  ...      565         67   3547\n",
              "\n",
              "[2 rows x 9 columns]"
            ]
          },
          "metadata": {
            "tags": []
          },
          "execution_count": 6
        }
      ]
    },
    {
      "cell_type": "markdown",
      "metadata": {
        "id": "co2a0Q22TPze"
      },
      "source": [
        "**Data Cleaning**\r\n",
        "Removing Null Columns and Rows \r\n",
        "Removing unwanted Columns in the Dataset"
      ]
    },
    {
      "cell_type": "code",
      "metadata": {
        "colab": {
          "base_uri": "https://localhost:8080/"
        },
        "id": "Ge8B7Z3bTOwO",
        "outputId": "73ec0be7-4b2e-4d4b-f9b2-dc87462d6417"
      },
      "source": [
        "qdf.isnull().sum()"
      ],
      "execution_count": 9,
      "outputs": [
        {
          "output_type": "execute_result",
          "data": {
            "text/plain": [
              "Id                    0\n",
              "OwnerUserId       14454\n",
              "CreationDate          0\n",
              "ClosedDate      1208257\n",
              "Score                 0\n",
              "Title                 0\n",
              "Body                  0\n",
              "dtype: int64"
            ]
          },
          "metadata": {
            "tags": []
          },
          "execution_count": 9
        }
      ]
    },
    {
      "cell_type": "code",
      "metadata": {
        "colab": {
          "base_uri": "https://localhost:8080/"
        },
        "id": "RtwBZrwCTmZV",
        "outputId": "ac485c70-1950-49b1-e0ec-f5f5a4f9e13e"
      },
      "source": [
        "#Calculating the missing value in Closed Date\r\n",
        "100.0*(qdf.ClosedDate.isnull().sum())/len(qdf)"
      ],
      "execution_count": 10,
      "outputs": [
        {
          "output_type": "execute_result",
          "data": {
            "text/plain": [
              "95.57362033070298"
            ]
          },
          "metadata": {
            "tags": []
          },
          "execution_count": 10
        }
      ]
    },
    {
      "cell_type": "markdown",
      "metadata": {
        "id": "XWJP8SttT1wI"
      },
      "source": [
        "**95 % **of closed date is missing so we can drop Closed Date column"
      ]
    },
    {
      "cell_type": "code",
      "metadata": {
        "id": "cfwENuzzT6Bw"
      },
      "source": [
        "#Dropping Body column as it is not needed for the Analysis\r\n",
        "qdf.drop(columns=[\"ClosedDate\",\"Body\"],axis=1,inplace=True)"
      ],
      "execution_count": 11,
      "outputs": []
    },
    {
      "cell_type": "code",
      "metadata": {
        "colab": {
          "base_uri": "https://localhost:8080/",
          "height": 112
        },
        "id": "BGZVarGFURYF",
        "outputId": "26c2bebd-1a4e-4ae0-905f-5f6e8bb0f927"
      },
      "source": [
        "qdf.head(2)"
      ],
      "execution_count": 12,
      "outputs": [
        {
          "output_type": "execute_result",
          "data": {
            "text/html": [
              "<div>\n",
              "<style scoped>\n",
              "    .dataframe tbody tr th:only-of-type {\n",
              "        vertical-align: middle;\n",
              "    }\n",
              "\n",
              "    .dataframe tbody tr th {\n",
              "        vertical-align: top;\n",
              "    }\n",
              "\n",
              "    .dataframe thead th {\n",
              "        text-align: right;\n",
              "    }\n",
              "</style>\n",
              "<table border=\"1\" class=\"dataframe\">\n",
              "  <thead>\n",
              "    <tr style=\"text-align: right;\">\n",
              "      <th></th>\n",
              "      <th>Id</th>\n",
              "      <th>OwnerUserId</th>\n",
              "      <th>CreationDate</th>\n",
              "      <th>Score</th>\n",
              "      <th>Title</th>\n",
              "    </tr>\n",
              "  </thead>\n",
              "  <tbody>\n",
              "    <tr>\n",
              "      <th>0</th>\n",
              "      <td>80</td>\n",
              "      <td>26.0</td>\n",
              "      <td>2008-08-01T13:57:07Z</td>\n",
              "      <td>26</td>\n",
              "      <td>SQLStatement.execute() - multiple queries in o...</td>\n",
              "    </tr>\n",
              "    <tr>\n",
              "      <th>1</th>\n",
              "      <td>90</td>\n",
              "      <td>58.0</td>\n",
              "      <td>2008-08-01T14:41:24Z</td>\n",
              "      <td>144</td>\n",
              "      <td>Good branching and merging tutorials for Torto...</td>\n",
              "    </tr>\n",
              "  </tbody>\n",
              "</table>\n",
              "</div>"
            ],
            "text/plain": [
              "   Id  OwnerUserId  ... Score                                              Title\n",
              "0  80         26.0  ...    26  SQLStatement.execute() - multiple queries in o...\n",
              "1  90         58.0  ...   144  Good branching and merging tutorials for Torto...\n",
              "\n",
              "[2 rows x 5 columns]"
            ]
          },
          "metadata": {
            "tags": []
          },
          "execution_count": 12
        }
      ]
    },
    {
      "cell_type": "code",
      "metadata": {
        "colab": {
          "base_uri": "https://localhost:8080/"
        },
        "id": "PEnfqZj_VIWz",
        "outputId": "85210a9a-56fb-4d05-d624-32fd21b910ae"
      },
      "source": [
        "ansdf.isnull().sum()"
      ],
      "execution_count": 13,
      "outputs": [
        {
          "output_type": "execute_result",
          "data": {
            "text/plain": [
              "Id                  0\n",
              "OwnerUserId     13200\n",
              "CreationDate        0\n",
              "ParentId            0\n",
              "Score               0\n",
              "Body                0\n",
              "dtype: int64"
            ]
          },
          "metadata": {
            "tags": []
          },
          "execution_count": 13
        }
      ]
    },
    {
      "cell_type": "code",
      "metadata": {
        "id": "QmBr4oNiVYHq"
      },
      "source": [
        "missing_ownerid_ansdf=100.0*(ansdf.OwnerUserId.isnull().sum())/len(ansdf)"
      ],
      "execution_count": 14,
      "outputs": []
    },
    {
      "cell_type": "code",
      "metadata": {
        "colab": {
          "base_uri": "https://localhost:8080/"
        },
        "id": "BC513LotVrqY",
        "outputId": "a35e9f9d-5c13-4c83-9094-dfe1ba02c16b"
      },
      "source": [
        "print('Missing Percentage of OwnerUserID Column is : ', missing_ownerid_ansdf)"
      ],
      "execution_count": 15,
      "outputs": [
        {
          "output_type": "stream",
          "text": [
            "Missing Percentage of OwnerUserID Column is :  0.6552442373254915\n"
          ],
          "name": "stdout"
        }
      ]
    },
    {
      "cell_type": "code",
      "metadata": {
        "id": "PdnPCt0vV9sj"
      },
      "source": [
        "#Dropping Rows in answer where owneruserid is null\r\n",
        "ansdf=ansdf[~ansdf[\"OwnerUserId\"].isnull()]"
      ],
      "execution_count": 16,
      "outputs": []
    },
    {
      "cell_type": "code",
      "metadata": {
        "colab": {
          "base_uri": "https://localhost:8080/"
        },
        "id": "PkEVnwunWIyP",
        "outputId": "e0b0ab56-fc06-4a2e-b310-cc2ca949e4e8"
      },
      "source": [
        "ansdf.OwnerUserId.isnull().sum()"
      ],
      "execution_count": 17,
      "outputs": [
        {
          "output_type": "execute_result",
          "data": {
            "text/plain": [
              "0"
            ]
          },
          "metadata": {
            "tags": []
          },
          "execution_count": 17
        }
      ]
    },
    {
      "cell_type": "code",
      "metadata": {
        "id": "plhRaG6UWTPj"
      },
      "source": [
        "#Dropping Body Column in the Answer Dataset\r\n",
        "ansdf.drop(columns=\"Body\",axis=1,inplace=True)\r\n"
      ],
      "execution_count": 18,
      "outputs": []
    },
    {
      "cell_type": "code",
      "metadata": {
        "colab": {
          "base_uri": "https://localhost:8080/",
          "height": 112
        },
        "id": "FVYwBwb0WoSb",
        "outputId": "1519492f-6bfb-441a-b871-82dbfdd668b5"
      },
      "source": [
        "ansdf.head(2)"
      ],
      "execution_count": 19,
      "outputs": [
        {
          "output_type": "execute_result",
          "data": {
            "text/html": [
              "<div>\n",
              "<style scoped>\n",
              "    .dataframe tbody tr th:only-of-type {\n",
              "        vertical-align: middle;\n",
              "    }\n",
              "\n",
              "    .dataframe tbody tr th {\n",
              "        vertical-align: top;\n",
              "    }\n",
              "\n",
              "    .dataframe thead th {\n",
              "        text-align: right;\n",
              "    }\n",
              "</style>\n",
              "<table border=\"1\" class=\"dataframe\">\n",
              "  <thead>\n",
              "    <tr style=\"text-align: right;\">\n",
              "      <th></th>\n",
              "      <th>Id</th>\n",
              "      <th>OwnerUserId</th>\n",
              "      <th>CreationDate</th>\n",
              "      <th>ParentId</th>\n",
              "      <th>Score</th>\n",
              "    </tr>\n",
              "  </thead>\n",
              "  <tbody>\n",
              "    <tr>\n",
              "      <th>0</th>\n",
              "      <td>92</td>\n",
              "      <td>61.0</td>\n",
              "      <td>2008-08-01T14:45:37Z</td>\n",
              "      <td>90</td>\n",
              "      <td>13</td>\n",
              "    </tr>\n",
              "    <tr>\n",
              "      <th>1</th>\n",
              "      <td>124</td>\n",
              "      <td>26.0</td>\n",
              "      <td>2008-08-01T16:09:47Z</td>\n",
              "      <td>80</td>\n",
              "      <td>12</td>\n",
              "    </tr>\n",
              "  </tbody>\n",
              "</table>\n",
              "</div>"
            ],
            "text/plain": [
              "    Id  OwnerUserId          CreationDate  ParentId  Score\n",
              "0   92         61.0  2008-08-01T14:45:37Z        90     13\n",
              "1  124         26.0  2008-08-01T16:09:47Z        80     12"
            ]
          },
          "metadata": {
            "tags": []
          },
          "execution_count": 19
        }
      ]
    },
    {
      "cell_type": "code",
      "metadata": {
        "colab": {
          "base_uri": "https://localhost:8080/",
          "height": 112
        },
        "id": "56-S9MOjWyI0",
        "outputId": "ccae7868-a2bb-4d8e-b022-8b2212c0edaf"
      },
      "source": [
        "#Dropping the unnamed column in users dataset\r\n",
        "usersdf.drop(columns=\"Unnamed: 0\",axis=1,inplace=True)\r\n",
        "usersdf.head(2)"
      ],
      "execution_count": 19,
      "outputs": [
        {
          "output_type": "execute_result",
          "data": {
            "text/html": [
              "<div>\n",
              "<style scoped>\n",
              "    .dataframe tbody tr th:only-of-type {\n",
              "        vertical-align: middle;\n",
              "    }\n",
              "\n",
              "    .dataframe tbody tr th {\n",
              "        vertical-align: top;\n",
              "    }\n",
              "\n",
              "    .dataframe thead th {\n",
              "        text-align: right;\n",
              "    }\n",
              "</style>\n",
              "<table border=\"1\" class=\"dataframe\">\n",
              "  <thead>\n",
              "    <tr style=\"text-align: right;\">\n",
              "      <th></th>\n",
              "      <th>id</th>\n",
              "      <th>display_name</th>\n",
              "      <th>creation_date</th>\n",
              "      <th>last_access_date</th>\n",
              "      <th>reputation</th>\n",
              "      <th>up_votes</th>\n",
              "      <th>down_votes</th>\n",
              "      <th>views</th>\n",
              "    </tr>\n",
              "  </thead>\n",
              "  <tbody>\n",
              "    <tr>\n",
              "      <th>0</th>\n",
              "      <td>26</td>\n",
              "      <td>Shawn</td>\n",
              "      <td>2008-08-01 12:18:14.52 UTC</td>\n",
              "      <td>2018-04-11 04:40:35.66 UTC</td>\n",
              "      <td>11820</td>\n",
              "      <td>565</td>\n",
              "      <td>67</td>\n",
              "      <td>3547</td>\n",
              "    </tr>\n",
              "    <tr>\n",
              "      <th>1</th>\n",
              "      <td>26</td>\n",
              "      <td>Shawn</td>\n",
              "      <td>2008-08-01 12:18:14.52 UTC</td>\n",
              "      <td>2018-04-11 04:40:35.66 UTC</td>\n",
              "      <td>11820</td>\n",
              "      <td>565</td>\n",
              "      <td>67</td>\n",
              "      <td>3547</td>\n",
              "    </tr>\n",
              "  </tbody>\n",
              "</table>\n",
              "</div>"
            ],
            "text/plain": [
              "   id display_name               creation_date  ... up_votes  down_votes  views\n",
              "0  26        Shawn  2008-08-01 12:18:14.52 UTC  ...      565          67   3547\n",
              "1  26        Shawn  2008-08-01 12:18:14.52 UTC  ...      565          67   3547\n",
              "\n",
              "[2 rows x 8 columns]"
            ]
          },
          "metadata": {
            "tags": []
          },
          "execution_count": 19
        }
      ]
    },
    {
      "cell_type": "code",
      "metadata": {
        "colab": {
          "base_uri": "https://localhost:8080/",
          "height": 112
        },
        "id": "ty6PXRDQXCLy",
        "outputId": "b79e7a97-f7d6-45b3-ef41-cf416bf3344b"
      },
      "source": [
        "#dropping Creation Date as its not needed for the analysis\r\n",
        "usersdf.drop(columns=[\"creation_date\",\"display_name\"],axis=1,inplace=True)\r\n",
        "usersdf.head(2)"
      ],
      "execution_count": 20,
      "outputs": [
        {
          "output_type": "execute_result",
          "data": {
            "text/html": [
              "<div>\n",
              "<style scoped>\n",
              "    .dataframe tbody tr th:only-of-type {\n",
              "        vertical-align: middle;\n",
              "    }\n",
              "\n",
              "    .dataframe tbody tr th {\n",
              "        vertical-align: top;\n",
              "    }\n",
              "\n",
              "    .dataframe thead th {\n",
              "        text-align: right;\n",
              "    }\n",
              "</style>\n",
              "<table border=\"1\" class=\"dataframe\">\n",
              "  <thead>\n",
              "    <tr style=\"text-align: right;\">\n",
              "      <th></th>\n",
              "      <th>id</th>\n",
              "      <th>last_access_date</th>\n",
              "      <th>reputation</th>\n",
              "      <th>up_votes</th>\n",
              "      <th>down_votes</th>\n",
              "      <th>views</th>\n",
              "    </tr>\n",
              "  </thead>\n",
              "  <tbody>\n",
              "    <tr>\n",
              "      <th>0</th>\n",
              "      <td>26</td>\n",
              "      <td>2018-04-11 04:40:35.66 UTC</td>\n",
              "      <td>11820</td>\n",
              "      <td>565</td>\n",
              "      <td>67</td>\n",
              "      <td>3547</td>\n",
              "    </tr>\n",
              "    <tr>\n",
              "      <th>1</th>\n",
              "      <td>26</td>\n",
              "      <td>2018-04-11 04:40:35.66 UTC</td>\n",
              "      <td>11820</td>\n",
              "      <td>565</td>\n",
              "      <td>67</td>\n",
              "      <td>3547</td>\n",
              "    </tr>\n",
              "  </tbody>\n",
              "</table>\n",
              "</div>"
            ],
            "text/plain": [
              "   id            last_access_date  reputation  up_votes  down_votes  views\n",
              "0  26  2018-04-11 04:40:35.66 UTC       11820       565          67   3547\n",
              "1  26  2018-04-11 04:40:35.66 UTC       11820       565          67   3547"
            ]
          },
          "metadata": {
            "tags": []
          },
          "execution_count": 20
        }
      ]
    },
    {
      "cell_type": "code",
      "metadata": {
        "colab": {
          "base_uri": "https://localhost:8080/"
        },
        "id": "IMS4HyUGXa7R",
        "outputId": "d70b1427-9899-4634-d82e-49a9fdd7eafe"
      },
      "source": [
        "#Duplicates in users Dataset\r\n",
        "print(\"Duplicated id of 26 in users dataset \",len(usersdf[usersdf.id==26]))"
      ],
      "execution_count": 21,
      "outputs": [
        {
          "output_type": "stream",
          "text": [
            "Duplicated id of 26 in users dataset  27\n"
          ],
          "name": "stdout"
        }
      ]
    },
    {
      "cell_type": "code",
      "metadata": {
        "id": "hrBhRGCSX8K8"
      },
      "source": [
        "#Dropping Duplicated Rows in ID \r\n",
        "usersdf.drop_duplicates(subset=\"id\",inplace=True)"
      ],
      "execution_count": 22,
      "outputs": []
    },
    {
      "cell_type": "code",
      "metadata": {
        "colab": {
          "base_uri": "https://localhost:8080/"
        },
        "id": "DfKZjv5nYH_v",
        "outputId": "c902dcc7-5ff1-4cbf-8d30-f9578b4c7a84"
      },
      "source": [
        "print(\"Duplicated id  users dataset \", usersdf.id.duplicated().any())"
      ],
      "execution_count": 23,
      "outputs": [
        {
          "output_type": "stream",
          "text": [
            "Duplicated id  users dataset  False\n"
          ],
          "name": "stdout"
        }
      ]
    },
    {
      "cell_type": "code",
      "metadata": {
        "colab": {
          "base_uri": "https://localhost:8080/"
        },
        "id": "AeJYXL4AYMzh",
        "outputId": "a125e706-811b-4d5b-8e96-bda141c47644"
      },
      "source": [
        "tagsdf.info()"
      ],
      "execution_count": 24,
      "outputs": [
        {
          "output_type": "stream",
          "text": [
            "<class 'pandas.core.frame.DataFrame'>\n",
            "RangeIndex: 3750994 entries, 0 to 3750993\n",
            "Data columns (total 2 columns):\n",
            " #   Column  Dtype \n",
            "---  ------  ----- \n",
            " 0   Id      int64 \n",
            " 1   Tag     object\n",
            "dtypes: int64(1), object(1)\n",
            "memory usage: 57.2+ MB\n"
          ],
          "name": "stdout"
        }
      ]
    },
    {
      "cell_type": "code",
      "metadata": {
        "id": "x5p5yJNlZMlx"
      },
      "source": [
        "tagsdf[\"Tag\"]=tagsdf[\"Tag\"].astype(str)"
      ],
      "execution_count": 25,
      "outputs": []
    },
    {
      "cell_type": "code",
      "metadata": {
        "id": "TGqV_x0eZOkx"
      },
      "source": [
        "#Merging Tags into one column by splitting by space\r\n",
        "tags_grouped=tagsdf.groupby('Id')['Tag'].apply(' '.join).reset_index()"
      ],
      "execution_count": 26,
      "outputs": []
    },
    {
      "cell_type": "code",
      "metadata": {
        "colab": {
          "base_uri": "https://localhost:8080/",
          "height": 112
        },
        "id": "qVigrjJnZeWv",
        "outputId": "42b6ccb2-e5e9-4004-8fe2-009720fb01ec"
      },
      "source": [
        "tags_grouped.head(2)"
      ],
      "execution_count": 27,
      "outputs": [
        {
          "output_type": "execute_result",
          "data": {
            "text/html": [
              "<div>\n",
              "<style scoped>\n",
              "    .dataframe tbody tr th:only-of-type {\n",
              "        vertical-align: middle;\n",
              "    }\n",
              "\n",
              "    .dataframe tbody tr th {\n",
              "        vertical-align: top;\n",
              "    }\n",
              "\n",
              "    .dataframe thead th {\n",
              "        text-align: right;\n",
              "    }\n",
              "</style>\n",
              "<table border=\"1\" class=\"dataframe\">\n",
              "  <thead>\n",
              "    <tr style=\"text-align: right;\">\n",
              "      <th></th>\n",
              "      <th>Id</th>\n",
              "      <th>Tag</th>\n",
              "    </tr>\n",
              "  </thead>\n",
              "  <tbody>\n",
              "    <tr>\n",
              "      <th>0</th>\n",
              "      <td>80</td>\n",
              "      <td>flex actionscript-3 air</td>\n",
              "    </tr>\n",
              "    <tr>\n",
              "      <th>1</th>\n",
              "      <td>90</td>\n",
              "      <td>svn tortoisesvn branch branching-and-merging</td>\n",
              "    </tr>\n",
              "  </tbody>\n",
              "</table>\n",
              "</div>"
            ],
            "text/plain": [
              "   Id                                           Tag\n",
              "0  80                       flex actionscript-3 air\n",
              "1  90  svn tortoisesvn branch branching-and-merging"
            ]
          },
          "metadata": {
            "tags": []
          },
          "execution_count": 27
        }
      ]
    },
    {
      "cell_type": "code",
      "metadata": {
        "colab": {
          "base_uri": "https://localhost:8080/"
        },
        "id": "H8XhwAv2Zlsr",
        "outputId": "6d604958-3e64-4d9d-ccee-6a63ac2bd9b2"
      },
      "source": [
        "tags_grouped[\"Tag\"].describe()"
      ],
      "execution_count": 28,
      "outputs": [
        {
          "output_type": "execute_result",
          "data": {
            "text/plain": [
              "count     1264216\n",
              "unique     685700\n",
              "top       android\n",
              "freq         9323\n",
              "Name: Tag, dtype: object"
            ]
          },
          "metadata": {
            "tags": []
          },
          "execution_count": 28
        }
      ]
    },
    {
      "cell_type": "code",
      "metadata": {
        "id": "-zx7QoqdbL9M"
      },
      "source": [
        "#Datetime conversion for Date columns in all the Dataset\r\n",
        "qdf[\"CreationDate\"]=pd.to_datetime(qdf[\"CreationDate\"])\r\n",
        "ansdf[\"CreationDate\"]=pd.to_datetime(ansdf[\"CreationDate\"])\r\n",
        "usersdf[\"last_access_date\"]=pd.to_datetime(usersdf[\"last_access_date\"])"
      ],
      "execution_count": 29,
      "outputs": []
    },
    {
      "cell_type": "markdown",
      "metadata": {
        "id": "mk9krzNzb3xK"
      },
      "source": [
        "Merging the Datasets"
      ]
    },
    {
      "cell_type": "code",
      "metadata": {
        "id": "GxW1nDkgb5-D"
      },
      "source": [
        "merged_table=pd.merge(qdf,tags_grouped,on=[\"Id\",\"Id\"],how=\"outer\")"
      ],
      "execution_count": 30,
      "outputs": []
    },
    {
      "cell_type": "code",
      "metadata": {
        "colab": {
          "base_uri": "https://localhost:8080/",
          "height": 112
        },
        "id": "K-UgZOjJa_5y",
        "outputId": "b704892c-c9cb-4769-e92f-d2adee4eecbd"
      },
      "source": [
        "merged_table.head(2)"
      ],
      "execution_count": 31,
      "outputs": [
        {
          "output_type": "execute_result",
          "data": {
            "text/html": [
              "<div>\n",
              "<style scoped>\n",
              "    .dataframe tbody tr th:only-of-type {\n",
              "        vertical-align: middle;\n",
              "    }\n",
              "\n",
              "    .dataframe tbody tr th {\n",
              "        vertical-align: top;\n",
              "    }\n",
              "\n",
              "    .dataframe thead th {\n",
              "        text-align: right;\n",
              "    }\n",
              "</style>\n",
              "<table border=\"1\" class=\"dataframe\">\n",
              "  <thead>\n",
              "    <tr style=\"text-align: right;\">\n",
              "      <th></th>\n",
              "      <th>Id</th>\n",
              "      <th>OwnerUserId</th>\n",
              "      <th>CreationDate</th>\n",
              "      <th>Score</th>\n",
              "      <th>Title</th>\n",
              "      <th>Tag</th>\n",
              "    </tr>\n",
              "  </thead>\n",
              "  <tbody>\n",
              "    <tr>\n",
              "      <th>0</th>\n",
              "      <td>80</td>\n",
              "      <td>26.0</td>\n",
              "      <td>2008-08-01 13:57:07+00:00</td>\n",
              "      <td>26</td>\n",
              "      <td>SQLStatement.execute() - multiple queries in o...</td>\n",
              "      <td>flex actionscript-3 air</td>\n",
              "    </tr>\n",
              "    <tr>\n",
              "      <th>1</th>\n",
              "      <td>90</td>\n",
              "      <td>58.0</td>\n",
              "      <td>2008-08-01 14:41:24+00:00</td>\n",
              "      <td>144</td>\n",
              "      <td>Good branching and merging tutorials for Torto...</td>\n",
              "      <td>svn tortoisesvn branch branching-and-merging</td>\n",
              "    </tr>\n",
              "  </tbody>\n",
              "</table>\n",
              "</div>"
            ],
            "text/plain": [
              "   Id  ...                                           Tag\n",
              "0  80  ...                       flex actionscript-3 air\n",
              "1  90  ...  svn tortoisesvn branch branching-and-merging\n",
              "\n",
              "[2 rows x 6 columns]"
            ]
          },
          "metadata": {
            "tags": []
          },
          "execution_count": 31
        }
      ]
    },
    {
      "cell_type": "code",
      "metadata": {
        "colab": {
          "base_uri": "https://localhost:8080/"
        },
        "id": "QfZTnaTdc5ka",
        "outputId": "18c701bc-67e5-47b1-fc05-aba9cb9b6aaa"
      },
      "source": [
        "len(merged_table[merged_table.Tag == None])"
      ],
      "execution_count": 32,
      "outputs": [
        {
          "output_type": "execute_result",
          "data": {
            "text/plain": [
              "0"
            ]
          },
          "metadata": {
            "tags": []
          },
          "execution_count": 32
        }
      ]
    },
    {
      "cell_type": "code",
      "metadata": {
        "colab": {
          "base_uri": "https://localhost:8080/"
        },
        "id": "ScJtkib3dSEy",
        "outputId": "c248183e-d638-4a46-8108-e4fcda7b4886"
      },
      "source": [
        "merged_table.shape"
      ],
      "execution_count": 33,
      "outputs": [
        {
          "output_type": "execute_result",
          "data": {
            "text/plain": [
              "(1264216, 6)"
            ]
          },
          "metadata": {
            "tags": []
          },
          "execution_count": 33
        }
      ]
    },
    {
      "cell_type": "code",
      "metadata": {
        "colab": {
          "base_uri": "https://localhost:8080/",
          "height": 300
        },
        "id": "UvtFsg1edWr0",
        "outputId": "baf35517-21cb-4ef2-ace1-87edc3385b62"
      },
      "source": [
        "merged_table.describe()"
      ],
      "execution_count": 34,
      "outputs": [
        {
          "output_type": "execute_result",
          "data": {
            "text/html": [
              "<div>\n",
              "<style scoped>\n",
              "    .dataframe tbody tr th:only-of-type {\n",
              "        vertical-align: middle;\n",
              "    }\n",
              "\n",
              "    .dataframe tbody tr th {\n",
              "        vertical-align: top;\n",
              "    }\n",
              "\n",
              "    .dataframe thead th {\n",
              "        text-align: right;\n",
              "    }\n",
              "</style>\n",
              "<table border=\"1\" class=\"dataframe\">\n",
              "  <thead>\n",
              "    <tr style=\"text-align: right;\">\n",
              "      <th></th>\n",
              "      <th>Id</th>\n",
              "      <th>OwnerUserId</th>\n",
              "      <th>Score</th>\n",
              "    </tr>\n",
              "  </thead>\n",
              "  <tbody>\n",
              "    <tr>\n",
              "      <th>count</th>\n",
              "      <td>1.264216e+06</td>\n",
              "      <td>1.249762e+06</td>\n",
              "      <td>1.264216e+06</td>\n",
              "    </tr>\n",
              "    <tr>\n",
              "      <th>mean</th>\n",
              "      <td>2.132745e+07</td>\n",
              "      <td>2.155177e+06</td>\n",
              "      <td>1.781537e+00</td>\n",
              "    </tr>\n",
              "    <tr>\n",
              "      <th>std</th>\n",
              "      <td>1.151445e+07</td>\n",
              "      <td>1.801265e+06</td>\n",
              "      <td>1.366389e+01</td>\n",
              "    </tr>\n",
              "    <tr>\n",
              "      <th>min</th>\n",
              "      <td>8.000000e+01</td>\n",
              "      <td>1.000000e+00</td>\n",
              "      <td>-7.300000e+01</td>\n",
              "    </tr>\n",
              "    <tr>\n",
              "      <th>25%</th>\n",
              "      <td>1.142598e+07</td>\n",
              "      <td>6.589110e+05</td>\n",
              "      <td>0.000000e+00</td>\n",
              "    </tr>\n",
              "    <tr>\n",
              "      <th>50%</th>\n",
              "      <td>2.172542e+07</td>\n",
              "      <td>1.611830e+06</td>\n",
              "      <td>0.000000e+00</td>\n",
              "    </tr>\n",
              "    <tr>\n",
              "      <th>75%</th>\n",
              "      <td>3.154542e+07</td>\n",
              "      <td>3.353792e+06</td>\n",
              "      <td>1.000000e+00</td>\n",
              "    </tr>\n",
              "    <tr>\n",
              "      <th>max</th>\n",
              "      <td>4.014338e+07</td>\n",
              "      <td>7.046594e+06</td>\n",
              "      <td>5.190000e+03</td>\n",
              "    </tr>\n",
              "  </tbody>\n",
              "</table>\n",
              "</div>"
            ],
            "text/plain": [
              "                 Id   OwnerUserId         Score\n",
              "count  1.264216e+06  1.249762e+06  1.264216e+06\n",
              "mean   2.132745e+07  2.155177e+06  1.781537e+00\n",
              "std    1.151445e+07  1.801265e+06  1.366389e+01\n",
              "min    8.000000e+01  1.000000e+00 -7.300000e+01\n",
              "25%    1.142598e+07  6.589110e+05  0.000000e+00\n",
              "50%    2.172542e+07  1.611830e+06  0.000000e+00\n",
              "75%    3.154542e+07  3.353792e+06  1.000000e+00\n",
              "max    4.014338e+07  7.046594e+06  5.190000e+03"
            ]
          },
          "metadata": {
            "tags": []
          },
          "execution_count": 34
        }
      ]
    },
    {
      "cell_type": "code",
      "metadata": {
        "id": "P4ljCfAKdgG3"
      },
      "source": [
        "#Changing the Column name OwnerUserid to q_uesrid and Score to q_score and id to q_id\r\n",
        "merged_table.rename(columns={\"OwnerUserId\": \"q_userid\",\"Score\":\"q_score\",\"Id\":\"q_Id\",\"Title\":\"q_Title\",\"CreationDate\":\"q_CreationDate\"},inplace=True)"
      ],
      "execution_count": 35,
      "outputs": []
    },
    {
      "cell_type": "code",
      "metadata": {
        "colab": {
          "base_uri": "https://localhost:8080/",
          "height": 112
        },
        "id": "T2_-tIobeI7_",
        "outputId": "4549d857-0846-44fe-8943-0fea8dddf0f0"
      },
      "source": [
        "merged_table.head(2)"
      ],
      "execution_count": 36,
      "outputs": [
        {
          "output_type": "execute_result",
          "data": {
            "text/html": [
              "<div>\n",
              "<style scoped>\n",
              "    .dataframe tbody tr th:only-of-type {\n",
              "        vertical-align: middle;\n",
              "    }\n",
              "\n",
              "    .dataframe tbody tr th {\n",
              "        vertical-align: top;\n",
              "    }\n",
              "\n",
              "    .dataframe thead th {\n",
              "        text-align: right;\n",
              "    }\n",
              "</style>\n",
              "<table border=\"1\" class=\"dataframe\">\n",
              "  <thead>\n",
              "    <tr style=\"text-align: right;\">\n",
              "      <th></th>\n",
              "      <th>q_Id</th>\n",
              "      <th>q_userid</th>\n",
              "      <th>q_CreationDate</th>\n",
              "      <th>q_score</th>\n",
              "      <th>q_Title</th>\n",
              "      <th>Tag</th>\n",
              "    </tr>\n",
              "  </thead>\n",
              "  <tbody>\n",
              "    <tr>\n",
              "      <th>0</th>\n",
              "      <td>80</td>\n",
              "      <td>26.0</td>\n",
              "      <td>2008-08-01 13:57:07+00:00</td>\n",
              "      <td>26</td>\n",
              "      <td>SQLStatement.execute() - multiple queries in o...</td>\n",
              "      <td>flex actionscript-3 air</td>\n",
              "    </tr>\n",
              "    <tr>\n",
              "      <th>1</th>\n",
              "      <td>90</td>\n",
              "      <td>58.0</td>\n",
              "      <td>2008-08-01 14:41:24+00:00</td>\n",
              "      <td>144</td>\n",
              "      <td>Good branching and merging tutorials for Torto...</td>\n",
              "      <td>svn tortoisesvn branch branching-and-merging</td>\n",
              "    </tr>\n",
              "  </tbody>\n",
              "</table>\n",
              "</div>"
            ],
            "text/plain": [
              "   q_Id  ...                                           Tag\n",
              "0    80  ...                       flex actionscript-3 air\n",
              "1    90  ...  svn tortoisesvn branch branching-and-merging\n",
              "\n",
              "[2 rows x 6 columns]"
            ]
          },
          "metadata": {
            "tags": []
          },
          "execution_count": 36
        }
      ]
    },
    {
      "cell_type": "code",
      "metadata": {
        "colab": {
          "base_uri": "https://localhost:8080/",
          "height": 112
        },
        "id": "df5W8Z2Web7m",
        "outputId": "bd6b117f-f9a2-4615-a077-0c71774541df"
      },
      "source": [
        "ansdf.head(2)"
      ],
      "execution_count": 37,
      "outputs": [
        {
          "output_type": "execute_result",
          "data": {
            "text/html": [
              "<div>\n",
              "<style scoped>\n",
              "    .dataframe tbody tr th:only-of-type {\n",
              "        vertical-align: middle;\n",
              "    }\n",
              "\n",
              "    .dataframe tbody tr th {\n",
              "        vertical-align: top;\n",
              "    }\n",
              "\n",
              "    .dataframe thead th {\n",
              "        text-align: right;\n",
              "    }\n",
              "</style>\n",
              "<table border=\"1\" class=\"dataframe\">\n",
              "  <thead>\n",
              "    <tr style=\"text-align: right;\">\n",
              "      <th></th>\n",
              "      <th>Id</th>\n",
              "      <th>OwnerUserId</th>\n",
              "      <th>CreationDate</th>\n",
              "      <th>ParentId</th>\n",
              "      <th>Score</th>\n",
              "    </tr>\n",
              "  </thead>\n",
              "  <tbody>\n",
              "    <tr>\n",
              "      <th>0</th>\n",
              "      <td>92</td>\n",
              "      <td>61.0</td>\n",
              "      <td>2008-08-01 14:45:37+00:00</td>\n",
              "      <td>90</td>\n",
              "      <td>13</td>\n",
              "    </tr>\n",
              "    <tr>\n",
              "      <th>1</th>\n",
              "      <td>124</td>\n",
              "      <td>26.0</td>\n",
              "      <td>2008-08-01 16:09:47+00:00</td>\n",
              "      <td>80</td>\n",
              "      <td>12</td>\n",
              "    </tr>\n",
              "  </tbody>\n",
              "</table>\n",
              "</div>"
            ],
            "text/plain": [
              "    Id  OwnerUserId              CreationDate  ParentId  Score\n",
              "0   92         61.0 2008-08-01 14:45:37+00:00        90     13\n",
              "1  124         26.0 2008-08-01 16:09:47+00:00        80     12"
            ]
          },
          "metadata": {
            "tags": []
          },
          "execution_count": 37
        }
      ]
    },
    {
      "cell_type": "code",
      "metadata": {
        "id": "lkrIxyF0fZwm"
      },
      "source": [
        "#Renaming Columns Id to a_id and OwnerUserid to a_userid ,CreationDate to a_CreationDate,Score to a_Score\r\n",
        "ansdf.rename(columns={\"Id\":\"a_Id\",\"OwnerUserId\":\"a_userid\",\"CreationDate\":\"a_CreationDate\",\"Score\":\"a_Score\",\"ParentId\":\"q_Id\"},inplace=True)"
      ],
      "execution_count": 38,
      "outputs": []
    },
    {
      "cell_type": "code",
      "metadata": {
        "colab": {
          "base_uri": "https://localhost:8080/",
          "height": 112
        },
        "id": "Yo-PQCO2gLx9",
        "outputId": "4f309171-ac62-45a6-c5c5-c2e1937ac442"
      },
      "source": [
        "ansdf.head(2)"
      ],
      "execution_count": 51,
      "outputs": [
        {
          "output_type": "execute_result",
          "data": {
            "text/html": [
              "<div>\n",
              "<style scoped>\n",
              "    .dataframe tbody tr th:only-of-type {\n",
              "        vertical-align: middle;\n",
              "    }\n",
              "\n",
              "    .dataframe tbody tr th {\n",
              "        vertical-align: top;\n",
              "    }\n",
              "\n",
              "    .dataframe thead th {\n",
              "        text-align: right;\n",
              "    }\n",
              "</style>\n",
              "<table border=\"1\" class=\"dataframe\">\n",
              "  <thead>\n",
              "    <tr style=\"text-align: right;\">\n",
              "      <th></th>\n",
              "      <th>a_Id</th>\n",
              "      <th>a_userid</th>\n",
              "      <th>a_CreationDate</th>\n",
              "      <th>q_Id</th>\n",
              "      <th>a_Score</th>\n",
              "    </tr>\n",
              "  </thead>\n",
              "  <tbody>\n",
              "    <tr>\n",
              "      <th>0</th>\n",
              "      <td>92</td>\n",
              "      <td>61.0</td>\n",
              "      <td>2008-08-01 14:45:37+00:00</td>\n",
              "      <td>90</td>\n",
              "      <td>13</td>\n",
              "    </tr>\n",
              "    <tr>\n",
              "      <th>1</th>\n",
              "      <td>124</td>\n",
              "      <td>26.0</td>\n",
              "      <td>2008-08-01 16:09:47+00:00</td>\n",
              "      <td>80</td>\n",
              "      <td>12</td>\n",
              "    </tr>\n",
              "  </tbody>\n",
              "</table>\n",
              "</div>"
            ],
            "text/plain": [
              "   a_Id  a_userid            a_CreationDate  q_Id  a_Score\n",
              "0    92      61.0 2008-08-01 14:45:37+00:00    90       13\n",
              "1   124      26.0 2008-08-01 16:09:47+00:00    80       12"
            ]
          },
          "metadata": {
            "tags": []
          },
          "execution_count": 51
        }
      ]
    },
    {
      "cell_type": "code",
      "metadata": {
        "colab": {
          "base_uri": "https://localhost:8080/"
        },
        "id": "Nkpvc3-vgxKl",
        "outputId": "33673b16-400a-41a6-83fc-e45be2f4dbed"
      },
      "source": [
        "merged_table[\"q_Id\"].duplicated().any()\r\n"
      ],
      "execution_count": 39,
      "outputs": [
        {
          "output_type": "execute_result",
          "data": {
            "text/plain": [
              "False"
            ]
          },
          "metadata": {
            "tags": []
          },
          "execution_count": 39
        }
      ]
    },
    {
      "cell_type": "code",
      "metadata": {
        "colab": {
          "base_uri": "https://localhost:8080/"
        },
        "id": "S6OAWCEcjupy",
        "outputId": "59dfd566-fbd0-47ed-eef9-1c854b46f049"
      },
      "source": [
        "merged_table.shape"
      ],
      "execution_count": 53,
      "outputs": [
        {
          "output_type": "execute_result",
          "data": {
            "text/plain": [
              "(1264216, 6)"
            ]
          },
          "metadata": {
            "tags": []
          },
          "execution_count": 53
        }
      ]
    },
    {
      "cell_type": "code",
      "metadata": {
        "id": "fc-Y9IXHgOHl"
      },
      "source": [
        "#Merging answer and Question\r\n",
        "merged_q_a=pd.merge(merged_table,ansdf,on=[\"q_Id\",\"q_Id\"],how=\"inner\")"
      ],
      "execution_count": 40,
      "outputs": []
    },
    {
      "cell_type": "code",
      "metadata": {
        "colab": {
          "base_uri": "https://localhost:8080/",
          "height": 146
        },
        "id": "BrmqXuWyjPbm",
        "outputId": "b5d18dca-bb8a-4919-b307-42c83b56fd65"
      },
      "source": [
        "merged_q_a.head(2)"
      ],
      "execution_count": 41,
      "outputs": [
        {
          "output_type": "execute_result",
          "data": {
            "text/html": [
              "<div>\n",
              "<style scoped>\n",
              "    .dataframe tbody tr th:only-of-type {\n",
              "        vertical-align: middle;\n",
              "    }\n",
              "\n",
              "    .dataframe tbody tr th {\n",
              "        vertical-align: top;\n",
              "    }\n",
              "\n",
              "    .dataframe thead th {\n",
              "        text-align: right;\n",
              "    }\n",
              "</style>\n",
              "<table border=\"1\" class=\"dataframe\">\n",
              "  <thead>\n",
              "    <tr style=\"text-align: right;\">\n",
              "      <th></th>\n",
              "      <th>q_Id</th>\n",
              "      <th>q_userid</th>\n",
              "      <th>q_CreationDate</th>\n",
              "      <th>q_score</th>\n",
              "      <th>q_Title</th>\n",
              "      <th>Tag</th>\n",
              "      <th>a_Id</th>\n",
              "      <th>a_userid</th>\n",
              "      <th>a_CreationDate</th>\n",
              "      <th>a_Score</th>\n",
              "    </tr>\n",
              "  </thead>\n",
              "  <tbody>\n",
              "    <tr>\n",
              "      <th>0</th>\n",
              "      <td>80</td>\n",
              "      <td>26.0</td>\n",
              "      <td>2008-08-01 13:57:07+00:00</td>\n",
              "      <td>26</td>\n",
              "      <td>SQLStatement.execute() - multiple queries in o...</td>\n",
              "      <td>flex actionscript-3 air</td>\n",
              "      <td>124</td>\n",
              "      <td>26.0</td>\n",
              "      <td>2008-08-01 16:09:47+00:00</td>\n",
              "      <td>12</td>\n",
              "    </tr>\n",
              "    <tr>\n",
              "      <th>1</th>\n",
              "      <td>80</td>\n",
              "      <td>26.0</td>\n",
              "      <td>2008-08-01 13:57:07+00:00</td>\n",
              "      <td>26</td>\n",
              "      <td>SQLStatement.execute() - multiple queries in o...</td>\n",
              "      <td>flex actionscript-3 air</td>\n",
              "      <td>10008</td>\n",
              "      <td>1109.0</td>\n",
              "      <td>2008-08-13 16:09:09+00:00</td>\n",
              "      <td>6</td>\n",
              "    </tr>\n",
              "  </tbody>\n",
              "</table>\n",
              "</div>"
            ],
            "text/plain": [
              "   q_Id  q_userid  ...            a_CreationDate  a_Score\n",
              "0    80      26.0  ... 2008-08-01 16:09:47+00:00       12\n",
              "1    80      26.0  ... 2008-08-13 16:09:09+00:00        6\n",
              "\n",
              "[2 rows x 10 columns]"
            ]
          },
          "metadata": {
            "tags": []
          },
          "execution_count": 41
        }
      ]
    },
    {
      "cell_type": "code",
      "metadata": {
        "colab": {
          "base_uri": "https://localhost:8080/"
        },
        "id": "lvqZLhjTjZcU",
        "outputId": "e224f27d-d6b9-4a7f-fdf8-b590ecb204ee"
      },
      "source": [
        "merged_q_a[\"q_Id\"].duplicated().any()"
      ],
      "execution_count": 42,
      "outputs": [
        {
          "output_type": "execute_result",
          "data": {
            "text/plain": [
              "True"
            ]
          },
          "metadata": {
            "tags": []
          },
          "execution_count": 42
        }
      ]
    },
    {
      "cell_type": "code",
      "metadata": {
        "colab": {
          "base_uri": "https://localhost:8080/"
        },
        "id": "LcuSPSZ_jzst",
        "outputId": "29a81b47-4745-4e25-e9af-6e64dae51b25"
      },
      "source": [
        "merged_q_a.shape\r\n"
      ],
      "execution_count": 43,
      "outputs": [
        {
          "output_type": "execute_result",
          "data": {
            "text/plain": [
              "(2001316, 10)"
            ]
          },
          "metadata": {
            "tags": []
          },
          "execution_count": 43
        }
      ]
    },
    {
      "cell_type": "code",
      "metadata": {
        "colab": {
          "base_uri": "https://localhost:8080/",
          "height": 112
        },
        "id": "IBJHGCAukWVw",
        "outputId": "643e3ad6-507c-41ed-b573-5529cda95d9a"
      },
      "source": [
        "usersdf.head(2)"
      ],
      "execution_count": 44,
      "outputs": [
        {
          "output_type": "execute_result",
          "data": {
            "text/html": [
              "<div>\n",
              "<style scoped>\n",
              "    .dataframe tbody tr th:only-of-type {\n",
              "        vertical-align: middle;\n",
              "    }\n",
              "\n",
              "    .dataframe tbody tr th {\n",
              "        vertical-align: top;\n",
              "    }\n",
              "\n",
              "    .dataframe thead th {\n",
              "        text-align: right;\n",
              "    }\n",
              "</style>\n",
              "<table border=\"1\" class=\"dataframe\">\n",
              "  <thead>\n",
              "    <tr style=\"text-align: right;\">\n",
              "      <th></th>\n",
              "      <th>id</th>\n",
              "      <th>last_access_date</th>\n",
              "      <th>reputation</th>\n",
              "      <th>up_votes</th>\n",
              "      <th>down_votes</th>\n",
              "      <th>views</th>\n",
              "    </tr>\n",
              "  </thead>\n",
              "  <tbody>\n",
              "    <tr>\n",
              "      <th>0</th>\n",
              "      <td>26</td>\n",
              "      <td>2018-04-11 04:40:35.660000+00:00</td>\n",
              "      <td>11820</td>\n",
              "      <td>565</td>\n",
              "      <td>67</td>\n",
              "      <td>3547</td>\n",
              "    </tr>\n",
              "    <tr>\n",
              "      <th>27</th>\n",
              "      <td>1109</td>\n",
              "      <td>2019-08-31 11:39:52.280000+00:00</td>\n",
              "      <td>116072</td>\n",
              "      <td>457</td>\n",
              "      <td>136</td>\n",
              "      <td>6905</td>\n",
              "    </tr>\n",
              "  </tbody>\n",
              "</table>\n",
              "</div>"
            ],
            "text/plain": [
              "      id                 last_access_date  ...  down_votes  views\n",
              "0     26 2018-04-11 04:40:35.660000+00:00  ...          67   3547\n",
              "27  1109 2019-08-31 11:39:52.280000+00:00  ...         136   6905\n",
              "\n",
              "[2 rows x 6 columns]"
            ]
          },
          "metadata": {
            "tags": []
          },
          "execution_count": 44
        }
      ]
    },
    {
      "cell_type": "code",
      "metadata": {
        "id": "EEgBtNeWkfcT"
      },
      "source": [
        "usersdf.rename(columns={\"id\":\"userid\"},inplace=True)"
      ],
      "execution_count": 46,
      "outputs": []
    },
    {
      "cell_type": "code",
      "metadata": {
        "id": "aiHVd2LqHggg"
      },
      "source": [
        ""
      ],
      "execution_count": null,
      "outputs": []
    },
    {
      "cell_type": "code",
      "metadata": {
        "colab": {
          "base_uri": "https://localhost:8080/",
          "height": 112
        },
        "id": "m_0SlslXzQ6S",
        "outputId": "6d748730-b0c9-4c40-eea5-09773ca6b752"
      },
      "source": [
        "usersdf.head(2)"
      ],
      "execution_count": 60,
      "outputs": [
        {
          "output_type": "execute_result",
          "data": {
            "text/html": [
              "<div>\n",
              "<style scoped>\n",
              "    .dataframe tbody tr th:only-of-type {\n",
              "        vertical-align: middle;\n",
              "    }\n",
              "\n",
              "    .dataframe tbody tr th {\n",
              "        vertical-align: top;\n",
              "    }\n",
              "\n",
              "    .dataframe thead th {\n",
              "        text-align: right;\n",
              "    }\n",
              "</style>\n",
              "<table border=\"1\" class=\"dataframe\">\n",
              "  <thead>\n",
              "    <tr style=\"text-align: right;\">\n",
              "      <th></th>\n",
              "      <th>userid</th>\n",
              "      <th>last_access_date</th>\n",
              "      <th>reputation</th>\n",
              "      <th>up_votes</th>\n",
              "      <th>down_votes</th>\n",
              "      <th>views</th>\n",
              "    </tr>\n",
              "  </thead>\n",
              "  <tbody>\n",
              "    <tr>\n",
              "      <th>0</th>\n",
              "      <td>26</td>\n",
              "      <td>2018-04-11 04:40:35.660000+00:00</td>\n",
              "      <td>11820</td>\n",
              "      <td>565</td>\n",
              "      <td>67</td>\n",
              "      <td>3547</td>\n",
              "    </tr>\n",
              "    <tr>\n",
              "      <th>27</th>\n",
              "      <td>1109</td>\n",
              "      <td>2019-08-31 11:39:52.280000+00:00</td>\n",
              "      <td>116072</td>\n",
              "      <td>457</td>\n",
              "      <td>136</td>\n",
              "      <td>6905</td>\n",
              "    </tr>\n",
              "  </tbody>\n",
              "</table>\n",
              "</div>"
            ],
            "text/plain": [
              "    userid                 last_access_date  ...  down_votes  views\n",
              "0       26 2018-04-11 04:40:35.660000+00:00  ...          67   3547\n",
              "27    1109 2019-08-31 11:39:52.280000+00:00  ...         136   6905\n",
              "\n",
              "[2 rows x 6 columns]"
            ]
          },
          "metadata": {
            "tags": []
          },
          "execution_count": 60
        }
      ]
    },
    {
      "cell_type": "code",
      "metadata": {
        "colab": {
          "base_uri": "https://localhost:8080/"
        },
        "id": "Sb0x1Xeqlayf",
        "outputId": "207f1665-ec27-4aad-8561-00114aa27748"
      },
      "source": [
        "usersdf.userid.duplicated().any()"
      ],
      "execution_count": 47,
      "outputs": [
        {
          "output_type": "execute_result",
          "data": {
            "text/plain": [
              "False"
            ]
          },
          "metadata": {
            "tags": []
          },
          "execution_count": 47
        }
      ]
    },
    {
      "cell_type": "code",
      "metadata": {
        "id": "hJkhLmNHkB4i"
      },
      "source": [
        "#Merging User table as well\r\n",
        "merged_whole=pd.merge(merged_q_a,usersdf,left_on=\"a_userid\",right_on=\"userid\",how=\"inner\")"
      ],
      "execution_count": 48,
      "outputs": []
    },
    {
      "cell_type": "code",
      "metadata": {
        "colab": {
          "base_uri": "https://localhost:8080/",
          "height": 236
        },
        "id": "zKh8vQEOlwge",
        "outputId": "70550c57-30b6-4879-9bb1-941baea8e67c"
      },
      "source": [
        "merged_whole.head(2)"
      ],
      "execution_count": 49,
      "outputs": [
        {
          "output_type": "execute_result",
          "data": {
            "text/html": [
              "<div>\n",
              "<style scoped>\n",
              "    .dataframe tbody tr th:only-of-type {\n",
              "        vertical-align: middle;\n",
              "    }\n",
              "\n",
              "    .dataframe tbody tr th {\n",
              "        vertical-align: top;\n",
              "    }\n",
              "\n",
              "    .dataframe thead th {\n",
              "        text-align: right;\n",
              "    }\n",
              "</style>\n",
              "<table border=\"1\" class=\"dataframe\">\n",
              "  <thead>\n",
              "    <tr style=\"text-align: right;\">\n",
              "      <th></th>\n",
              "      <th>q_Id</th>\n",
              "      <th>q_userid</th>\n",
              "      <th>q_CreationDate</th>\n",
              "      <th>q_score</th>\n",
              "      <th>q_Title</th>\n",
              "      <th>Tag</th>\n",
              "      <th>a_Id</th>\n",
              "      <th>a_userid</th>\n",
              "      <th>a_CreationDate</th>\n",
              "      <th>a_Score</th>\n",
              "      <th>userid</th>\n",
              "      <th>last_access_date</th>\n",
              "      <th>reputation</th>\n",
              "      <th>up_votes</th>\n",
              "      <th>down_votes</th>\n",
              "      <th>views</th>\n",
              "    </tr>\n",
              "  </thead>\n",
              "  <tbody>\n",
              "    <tr>\n",
              "      <th>0</th>\n",
              "      <td>80</td>\n",
              "      <td>26.0</td>\n",
              "      <td>2008-08-01 13:57:07+00:00</td>\n",
              "      <td>26</td>\n",
              "      <td>SQLStatement.execute() - multiple queries in o...</td>\n",
              "      <td>flex actionscript-3 air</td>\n",
              "      <td>124</td>\n",
              "      <td>26.0</td>\n",
              "      <td>2008-08-01 16:09:47+00:00</td>\n",
              "      <td>12</td>\n",
              "      <td>26</td>\n",
              "      <td>2018-04-11 04:40:35.660000+00:00</td>\n",
              "      <td>11820</td>\n",
              "      <td>565</td>\n",
              "      <td>67</td>\n",
              "      <td>3547</td>\n",
              "    </tr>\n",
              "    <tr>\n",
              "      <th>1</th>\n",
              "      <td>580</td>\n",
              "      <td>91.0</td>\n",
              "      <td>2008-08-02 23:30:59+00:00</td>\n",
              "      <td>21</td>\n",
              "      <td>Deploying SQL Server Databases from Test to Live</td>\n",
              "      <td>sql-server sql-server-2005 deployment release-...</td>\n",
              "      <td>1464</td>\n",
              "      <td>26.0</td>\n",
              "      <td>2008-08-04 18:00:50+00:00</td>\n",
              "      <td>5</td>\n",
              "      <td>26</td>\n",
              "      <td>2018-04-11 04:40:35.660000+00:00</td>\n",
              "      <td>11820</td>\n",
              "      <td>565</td>\n",
              "      <td>67</td>\n",
              "      <td>3547</td>\n",
              "    </tr>\n",
              "  </tbody>\n",
              "</table>\n",
              "</div>"
            ],
            "text/plain": [
              "   q_Id  q_userid            q_CreationDate  ...  up_votes down_votes views\n",
              "0    80      26.0 2008-08-01 13:57:07+00:00  ...       565         67  3547\n",
              "1   580      91.0 2008-08-02 23:30:59+00:00  ...       565         67  3547\n",
              "\n",
              "[2 rows x 16 columns]"
            ]
          },
          "metadata": {
            "tags": []
          },
          "execution_count": 49
        }
      ]
    },
    {
      "cell_type": "code",
      "metadata": {
        "colab": {
          "base_uri": "https://localhost:8080/"
        },
        "id": "qQ4y-fJnlo4Q",
        "outputId": "93a32306-72f2-4fb6-dfcc-100e09c364a3"
      },
      "source": [
        "merged_whole.shape"
      ],
      "execution_count": 50,
      "outputs": [
        {
          "output_type": "execute_result",
          "data": {
            "text/plain": [
              "(1990480, 16)"
            ]
          },
          "metadata": {
            "tags": []
          },
          "execution_count": 50
        }
      ]
    },
    {
      "cell_type": "code",
      "metadata": {
        "colab": {
          "base_uri": "https://localhost:8080/",
          "height": 320
        },
        "id": "6InVK9WymM7T",
        "outputId": "81bbe5bb-0799-4ff2-8d88-4648dc7cc4b2"
      },
      "source": [
        "merged_whole.describe()"
      ],
      "execution_count": 51,
      "outputs": [
        {
          "output_type": "execute_result",
          "data": {
            "text/html": [
              "<div>\n",
              "<style scoped>\n",
              "    .dataframe tbody tr th:only-of-type {\n",
              "        vertical-align: middle;\n",
              "    }\n",
              "\n",
              "    .dataframe tbody tr th {\n",
              "        vertical-align: top;\n",
              "    }\n",
              "\n",
              "    .dataframe thead th {\n",
              "        text-align: right;\n",
              "    }\n",
              "</style>\n",
              "<table border=\"1\" class=\"dataframe\">\n",
              "  <thead>\n",
              "    <tr style=\"text-align: right;\">\n",
              "      <th></th>\n",
              "      <th>q_Id</th>\n",
              "      <th>q_userid</th>\n",
              "      <th>q_score</th>\n",
              "      <th>a_Id</th>\n",
              "      <th>a_userid</th>\n",
              "      <th>a_Score</th>\n",
              "      <th>userid</th>\n",
              "      <th>reputation</th>\n",
              "      <th>up_votes</th>\n",
              "      <th>down_votes</th>\n",
              "      <th>views</th>\n",
              "    </tr>\n",
              "  </thead>\n",
              "  <tbody>\n",
              "    <tr>\n",
              "      <th>count</th>\n",
              "      <td>1.990480e+06</td>\n",
              "      <td>1.960156e+06</td>\n",
              "      <td>1.990480e+06</td>\n",
              "      <td>1.990480e+06</td>\n",
              "      <td>1.990480e+06</td>\n",
              "      <td>1.990480e+06</td>\n",
              "      <td>1.990480e+06</td>\n",
              "      <td>1.990480e+06</td>\n",
              "      <td>1.990480e+06</td>\n",
              "      <td>1.990480e+06</td>\n",
              "      <td>1.990480e+06</td>\n",
              "    </tr>\n",
              "    <tr>\n",
              "      <th>mean</th>\n",
              "      <td>1.809171e+07</td>\n",
              "      <td>1.813723e+06</td>\n",
              "      <td>5.654644e+00</td>\n",
              "      <td>1.916351e+07</td>\n",
              "      <td>1.480737e+06</td>\n",
              "      <td>2.485415e+00</td>\n",
              "      <td>1.480737e+06</td>\n",
              "      <td>4.545504e+04</td>\n",
              "      <td>1.539702e+03</td>\n",
              "      <td>8.212407e+02</td>\n",
              "      <td>9.450821e+03</td>\n",
              "    </tr>\n",
              "    <tr>\n",
              "      <th>std</th>\n",
              "      <td>1.167883e+07</td>\n",
              "      <td>1.698687e+06</td>\n",
              "      <td>4.671906e+01</td>\n",
              "      <td>1.167345e+07</td>\n",
              "      <td>1.543848e+06</td>\n",
              "      <td>1.596865e+01</td>\n",
              "      <td>1.543848e+06</td>\n",
              "      <td>1.226378e+05</td>\n",
              "      <td>3.494248e+03</td>\n",
              "      <td>4.199035e+03</td>\n",
              "      <td>7.877572e+04</td>\n",
              "    </tr>\n",
              "    <tr>\n",
              "      <th>min</th>\n",
              "      <td>8.000000e+01</td>\n",
              "      <td>1.000000e+00</td>\n",
              "      <td>-7.300000e+01</td>\n",
              "      <td>9.200000e+01</td>\n",
              "      <td>1.000000e+00</td>\n",
              "      <td>-4.200000e+01</td>\n",
              "      <td>1.000000e+00</td>\n",
              "      <td>1.000000e+00</td>\n",
              "      <td>0.000000e+00</td>\n",
              "      <td>0.000000e+00</td>\n",
              "      <td>0.000000e+00</td>\n",
              "    </tr>\n",
              "    <tr>\n",
              "      <th>25%</th>\n",
              "      <td>7.715652e+06</td>\n",
              "      <td>4.408440e+05</td>\n",
              "      <td>0.000000e+00</td>\n",
              "      <td>8.876039e+06</td>\n",
              "      <td>2.797618e+05</td>\n",
              "      <td>0.000000e+00</td>\n",
              "      <td>2.797618e+05</td>\n",
              "      <td>9.310000e+02</td>\n",
              "      <td>5.800000e+01</td>\n",
              "      <td>2.000000e+00</td>\n",
              "      <td>1.090000e+02</td>\n",
              "    </tr>\n",
              "    <tr>\n",
              "      <th>50%</th>\n",
              "      <td>1.712833e+07</td>\n",
              "      <td>1.235303e+06</td>\n",
              "      <td>1.000000e+00</td>\n",
              "      <td>1.866768e+07</td>\n",
              "      <td>9.494760e+05</td>\n",
              "      <td>1.000000e+00</td>\n",
              "      <td>9.494760e+05</td>\n",
              "      <td>5.042000e+03</td>\n",
              "      <td>3.530000e+02</td>\n",
              "      <td>1.800000e+01</td>\n",
              "      <td>5.290000e+02</td>\n",
              "    </tr>\n",
              "    <tr>\n",
              "      <th>75%</th>\n",
              "      <td>2.804313e+07</td>\n",
              "      <td>2.784556e+06</td>\n",
              "      <td>3.000000e+00</td>\n",
              "      <td>2.929020e+07</td>\n",
              "      <td>2.183668e+06</td>\n",
              "      <td>2.000000e+00</td>\n",
              "      <td>2.183668e+06</td>\n",
              "      <td>2.806100e+04</td>\n",
              "      <td>1.470000e+03</td>\n",
              "      <td>1.490000e+02</td>\n",
              "      <td>2.675000e+03</td>\n",
              "    </tr>\n",
              "    <tr>\n",
              "      <th>max</th>\n",
              "      <td>4.014319e+07</td>\n",
              "      <td>7.046594e+06</td>\n",
              "      <td>5.190000e+03</td>\n",
              "      <td>4.014339e+07</td>\n",
              "      <td>7.045028e+06</td>\n",
              "      <td>5.718000e+03</td>\n",
              "      <td>7.045028e+06</td>\n",
              "      <td>1.128126e+06</td>\n",
              "      <td>1.005200e+05</td>\n",
              "      <td>7.495500e+04</td>\n",
              "      <td>1.835157e+06</td>\n",
              "    </tr>\n",
              "  </tbody>\n",
              "</table>\n",
              "</div>"
            ],
            "text/plain": [
              "               q_Id      q_userid  ...    down_votes         views\n",
              "count  1.990480e+06  1.960156e+06  ...  1.990480e+06  1.990480e+06\n",
              "mean   1.809171e+07  1.813723e+06  ...  8.212407e+02  9.450821e+03\n",
              "std    1.167883e+07  1.698687e+06  ...  4.199035e+03  7.877572e+04\n",
              "min    8.000000e+01  1.000000e+00  ...  0.000000e+00  0.000000e+00\n",
              "25%    7.715652e+06  4.408440e+05  ...  2.000000e+00  1.090000e+02\n",
              "50%    1.712833e+07  1.235303e+06  ...  1.800000e+01  5.290000e+02\n",
              "75%    2.804313e+07  2.784556e+06  ...  1.490000e+02  2.675000e+03\n",
              "max    4.014319e+07  7.046594e+06  ...  7.495500e+04  1.835157e+06\n",
              "\n",
              "[8 rows x 11 columns]"
            ]
          },
          "metadata": {
            "tags": []
          },
          "execution_count": 51
        }
      ]
    },
    {
      "cell_type": "markdown",
      "metadata": {
        "id": "q6idgteszenC"
      },
      "source": [
        "**Data Analysis**"
      ]
    },
    {
      "cell_type": "markdown",
      "metadata": {
        "id": "YfNVCEz57Igy"
      },
      "source": [
        "**3.While a user raises a question, Stack Overflow wants to provide some suggestions to the users to get their queries answered quickly.**\r\n",
        "\r\n"
      ]
    },
    {
      "cell_type": "markdown",
      "metadata": {
        "id": "Co32UWsOzieI"
      },
      "source": [
        "**Analysis of Top 25 Trending Tags this will help us to understand the active community of tags so that we can suggest the active community tags to the user depending upon the question **"
      ]
    },
    {
      "cell_type": "code",
      "metadata": {
        "id": "GkCDhVffzmwn"
      },
      "source": [
        "from collections import Counter"
      ],
      "execution_count": 52,
      "outputs": []
    },
    {
      "cell_type": "code",
      "metadata": {
        "id": "4qWy3MpWzguR"
      },
      "source": [
        "tags = list (merged_whole['Tag'].unique())\r\n",
        "all_tags = []\r\n",
        "for tag in tags:\r\n",
        "    all_tags += tag.split(' ')"
      ],
      "execution_count": 53,
      "outputs": []
    },
    {
      "cell_type": "code",
      "metadata": {
        "id": "OzqKYS3zz-K0"
      },
      "source": [
        "count_tags = Counter(all_tags)\r\n",
        "tags = pd.DataFrame([list(count_tags.keys()), list(count_tags.values())])\r\n",
        "tags = tags.transpose()\r\n",
        "tags.columns = ['tag', 'count']\r\n",
        "tags = tags.sort_values(by='count', ascending=False)"
      ],
      "execution_count": 54,
      "outputs": []
    },
    {
      "cell_type": "code",
      "metadata": {
        "colab": {
          "base_uri": "https://localhost:8080/",
          "height": 638
        },
        "id": "9eoyPIWC0Fn3",
        "outputId": "4bfcc6d0-d71e-4568-f899-ea38cc49368f"
      },
      "source": [
        "plt.barh(list (tags['tag'])[:25], list (tags['count'])[:25])\r\n",
        "plt.ylabel('Tags')\r\n",
        "plt.xlabel('Count')\r\n",
        "plt.title('Top 25 Tags')"
      ],
      "execution_count": 55,
      "outputs": [
        {
          "output_type": "execute_result",
          "data": {
            "text/plain": [
              "Text(0.5, 1.0, 'Top 25 Tags')"
            ]
          },
          "metadata": {
            "tags": []
          },
          "execution_count": 55
        },
        {
          "output_type": "display_data",
          "data": {
            "image/png": "[encoded data removed]",
            "text/plain": [
              "<Figure size 720x720 with 1 Axes>"
            ]
          },
          "metadata": {
            "tags": [],
            "needs_background": "light"
          }
        }
      ]
    },
    {
      "cell_type": "markdown",
      "metadata": {
        "id": "f5uV6c5t0PWy"
      },
      "source": [
        "**Inference : Java is more popular tag in which questions were raised, then C# so when a user raises a question we can enable auto tagging based on the title of the question for maximum reach and the question can get answered quickly**"
      ]
    },
    {
      "cell_type": "markdown",
      "metadata": {
        "id": "HFy_Mllj0paX"
      },
      "source": [
        "**Popular Tags in Datascience**"
      ]
    },
    {
      "cell_type": "code",
      "metadata": {
        "id": "CQgThYh80suW"
      },
      "source": [
        "Datascience_list=['python', 'r', 'matlab', 'sas', 'excel', 'sql']\r\n",
        "for i in Datascience_list :\r\n",
        "  x = []\r\n",
        "  y = []\r\n",
        "  for tag in Datascience_list:\r\n",
        "    index = list (tags['tag']).index(tag)\r\n",
        "    x.append(tag)\r\n",
        "    y.append(list (tags['count'])[index])"
      ],
      "execution_count": 56,
      "outputs": []
    },
    {
      "cell_type": "code",
      "metadata": {
        "colab": {
          "base_uri": "https://localhost:8080/",
          "height": 621
        },
        "id": "U2AZSm4C0zWG",
        "outputId": "ae13d92f-4746-4957-f765-cd1a5aa965e2"
      },
      "source": [
        "plt.bar(x, y)\r\n",
        "plt.ylabel('Count')\r\n",
        "plt.xlabel('Tags')\r\n",
        "plt.title('Popular Data Science Tags')\r\n",
        "plt.show()"
      ],
      "execution_count": 57,
      "outputs": [
        {
          "output_type": "display_data",
          "data": {
            "image/png": "[encoded data removed]",
            "text/plain": [
              "<Figure size 720x720 with 1 Axes>"
            ]
          },
          "metadata": {
            "tags": [],
            "needs_background": "light"
          }
        }
      ]
    },
    {
      "cell_type": "markdown",
      "metadata": {
        "id": "BPM3Yb1o08WL"
      },
      "source": [
        "**Python is more popular in Datascience tags than sql as it is a general programming so once the user asks questions in python Stack overflow can suggest the user to tag the python tag using Auto tagging feature depending upon the question **"
      ]
    },
    {
      "cell_type": "markdown",
      "metadata": {
        "id": "AiXtbaBX1Usy"
      },
      "source": [
        "**Filtering the Datset with respect to Datascience tags**"
      ]
    },
    {
      "cell_type": "code",
      "metadata": {
        "id": "nvqhfmwj1aZs"
      },
      "source": [
        "Datascience=['python','r' ,'matlab', 'sas', 'excel', 'sql']\r\n",
        "def filter_datascience(tags):\r\n",
        "    \"\"\"Function to check if tag is in most common tag list\"\"\"\r\n",
        "    tags_filtered = []  \r\n",
        "    for i in range(0, len(tags)):\r\n",
        "      for j in range(i,len(Datascience)):\r\n",
        "        if tags[i] == Datascience[j]:\r\n",
        "            tags_filtered.append(tags[i])\r\n",
        "    return ' '.join([str(x) for x in tags_filtered])\r\n",
        "     "
      ],
      "execution_count": 58,
      "outputs": []
    },
    {
      "cell_type": "code",
      "metadata": {
        "colab": {
          "base_uri": "https://localhost:8080/"
        },
        "id": "1RVPtLKaPdpu",
        "outputId": "70463eff-5aa5-4bc2-da07-a207a210bb65"
      },
      "source": [
        "len(tagsdf[tagsdf.Tag == 'r'])"
      ],
      "execution_count": 59,
      "outputs": [
        {
          "output_type": "execute_result",
          "data": {
            "text/plain": [
              "15701"
            ]
          },
          "metadata": {
            "tags": []
          },
          "execution_count": 59
        }
      ]
    },
    {
      "cell_type": "code",
      "metadata": {
        "id": "-zZuYLWd5cGb"
      },
      "source": [
        "merged_DS=merged_whole.copy()"
      ],
      "execution_count": 60,
      "outputs": []
    },
    {
      "cell_type": "code",
      "metadata": {
        "colab": {
          "base_uri": "https://localhost:8080/"
        },
        "id": "UsF34UPOQiiE",
        "outputId": "be449968-feaa-4047-f7a9-e968fffea6aa"
      },
      "source": [
        "len(merged_whole[merged_whole.Tag == 'r'])"
      ],
      "execution_count": 64,
      "outputs": [
        {
          "output_type": "execute_result",
          "data": {
            "text/plain": [
              "4205"
            ]
          },
          "metadata": {
            "tags": []
          },
          "execution_count": 64
        }
      ]
    },
    {
      "cell_type": "code",
      "metadata": {
        "colab": {
          "base_uri": "https://localhost:8080/",
          "height": 236
        },
        "id": "S1Nik1dn8GXI",
        "outputId": "e7b9f587-f516-410d-d8f8-d12a4724d3fe"
      },
      "source": [
        "merged_DS.head(2)"
      ],
      "execution_count": 65,
      "outputs": [
        {
          "output_type": "execute_result",
          "data": {
            "text/html": [
              "<div>\n",
              "<style scoped>\n",
              "    .dataframe tbody tr th:only-of-type {\n",
              "        vertical-align: middle;\n",
              "    }\n",
              "\n",
              "    .dataframe tbody tr th {\n",
              "        vertical-align: top;\n",
              "    }\n",
              "\n",
              "    .dataframe thead th {\n",
              "        text-align: right;\n",
              "    }\n",
              "</style>\n",
              "<table border=\"1\" class=\"dataframe\">\n",
              "  <thead>\n",
              "    <tr style=\"text-align: right;\">\n",
              "      <th></th>\n",
              "      <th>q_Id</th>\n",
              "      <th>q_userid</th>\n",
              "      <th>q_CreationDate</th>\n",
              "      <th>q_score</th>\n",
              "      <th>q_Title</th>\n",
              "      <th>Tag</th>\n",
              "      <th>a_Id</th>\n",
              "      <th>a_userid</th>\n",
              "      <th>a_CreationDate</th>\n",
              "      <th>a_Score</th>\n",
              "      <th>userid</th>\n",
              "      <th>last_access_date</th>\n",
              "      <th>reputation</th>\n",
              "      <th>up_votes</th>\n",
              "      <th>down_votes</th>\n",
              "      <th>views</th>\n",
              "    </tr>\n",
              "  </thead>\n",
              "  <tbody>\n",
              "    <tr>\n",
              "      <th>0</th>\n",
              "      <td>80</td>\n",
              "      <td>26.0</td>\n",
              "      <td>2008-08-01 13:57:07+00:00</td>\n",
              "      <td>26</td>\n",
              "      <td>SQLStatement.execute() - multiple queries in o...</td>\n",
              "      <td>flex actionscript-3 air</td>\n",
              "      <td>124</td>\n",
              "      <td>26.0</td>\n",
              "      <td>2008-08-01 16:09:47+00:00</td>\n",
              "      <td>12</td>\n",
              "      <td>26</td>\n",
              "      <td>2018-04-11 04:40:35.660000+00:00</td>\n",
              "      <td>11820</td>\n",
              "      <td>565</td>\n",
              "      <td>67</td>\n",
              "      <td>3547</td>\n",
              "    </tr>\n",
              "    <tr>\n",
              "      <th>1</th>\n",
              "      <td>580</td>\n",
              "      <td>91.0</td>\n",
              "      <td>2008-08-02 23:30:59+00:00</td>\n",
              "      <td>21</td>\n",
              "      <td>Deploying SQL Server Databases from Test to Live</td>\n",
              "      <td>sql-server sql-server-2005 deployment release-...</td>\n",
              "      <td>1464</td>\n",
              "      <td>26.0</td>\n",
              "      <td>2008-08-04 18:00:50+00:00</td>\n",
              "      <td>5</td>\n",
              "      <td>26</td>\n",
              "      <td>2018-04-11 04:40:35.660000+00:00</td>\n",
              "      <td>11820</td>\n",
              "      <td>565</td>\n",
              "      <td>67</td>\n",
              "      <td>3547</td>\n",
              "    </tr>\n",
              "  </tbody>\n",
              "</table>\n",
              "</div>"
            ],
            "text/plain": [
              "   q_Id  q_userid            q_CreationDate  ...  up_votes down_votes views\n",
              "0    80      26.0 2008-08-01 13:57:07+00:00  ...       565         67  3547\n",
              "1   580      91.0 2008-08-02 23:30:59+00:00  ...       565         67  3547\n",
              "\n",
              "[2 rows x 16 columns]"
            ]
          },
          "metadata": {
            "tags": []
          },
          "execution_count": 65
        }
      ]
    },
    {
      "cell_type": "code",
      "metadata": {
        "id": "BKtI95-l0hWz"
      },
      "source": [
        "merged_DS[\"Tags\"]=merged_DS.Tag.apply(lambda x : x.split(\" \"))\r\n",
        "#merged_DS.head(3)\r\n",
        "\r\n",
        "merged_DS['Tags']=merged_DS.Tags.apply(lambda x: filter_datascience(x))\r\n",
        "merged_DS['Tags'] = merged_DS['Tags'].apply(lambda x: x if len(x) >0 else None)"
      ],
      "execution_count": 66,
      "outputs": []
    },
    {
      "cell_type": "code",
      "metadata": {
        "colab": {
          "base_uri": "https://localhost:8080/",
          "height": 350
        },
        "id": "2agjWP_O2Ni8",
        "outputId": "f1588fe0-b3d1-426b-ac06-86a6240e6dfc"
      },
      "source": [
        "# Drop rows that contain None in Tags column\r\n",
        "merged_DS.dropna(subset=['Tags'], inplace=True)\r\n",
        "merged_DS.head(4)\r\n"
      ],
      "execution_count": 122,
      "outputs": [
        {
          "output_type": "execute_result",
          "data": {
            "text/html": [
              "<div>\n",
              "<style scoped>\n",
              "    .dataframe tbody tr th:only-of-type {\n",
              "        vertical-align: middle;\n",
              "    }\n",
              "\n",
              "    .dataframe tbody tr th {\n",
              "        vertical-align: top;\n",
              "    }\n",
              "\n",
              "    .dataframe thead th {\n",
              "        text-align: right;\n",
              "    }\n",
              "</style>\n",
              "<table border=\"1\" class=\"dataframe\">\n",
              "  <thead>\n",
              "    <tr style=\"text-align: right;\">\n",
              "      <th></th>\n",
              "      <th>q_Id</th>\n",
              "      <th>q_userid</th>\n",
              "      <th>q_CreationDate</th>\n",
              "      <th>q_score</th>\n",
              "      <th>q_Title</th>\n",
              "      <th>Tag</th>\n",
              "      <th>a_Id</th>\n",
              "      <th>a_userid</th>\n",
              "      <th>a_CreationDate</th>\n",
              "      <th>a_Score</th>\n",
              "      <th>userid</th>\n",
              "      <th>last_access_date</th>\n",
              "      <th>reputation</th>\n",
              "      <th>up_votes</th>\n",
              "      <th>down_votes</th>\n",
              "      <th>views</th>\n",
              "      <th>Tags</th>\n",
              "    </tr>\n",
              "  </thead>\n",
              "  <tbody>\n",
              "    <tr>\n",
              "      <th>6</th>\n",
              "      <td>252230</td>\n",
              "      <td>28004.0</td>\n",
              "      <td>2008-10-31 00:17:40+00:00</td>\n",
              "      <td>4</td>\n",
              "      <td>Stored procedures or inline queries?</td>\n",
              "      <td>sql stored-procedures subsonic</td>\n",
              "      <td>252595</td>\n",
              "      <td>26.0</td>\n",
              "      <td>2008-10-31 04:27:08+00:00</td>\n",
              "      <td>0</td>\n",
              "      <td>26</td>\n",
              "      <td>2018-04-11 04:40:35.660000+00:00</td>\n",
              "      <td>11820</td>\n",
              "      <td>565</td>\n",
              "      <td>67</td>\n",
              "      <td>3547</td>\n",
              "      <td>sql</td>\n",
              "    </tr>\n",
              "    <tr>\n",
              "      <th>21</th>\n",
              "      <td>1990020</td>\n",
              "      <td>242085.0</td>\n",
              "      <td>2010-01-01 23:29:24+00:00</td>\n",
              "      <td>2</td>\n",
              "      <td>SQL statement - update on two tables</td>\n",
              "      <td>sql sql-server</td>\n",
              "      <td>1990040</td>\n",
              "      <td>26.0</td>\n",
              "      <td>2010-01-01 23:36:57+00:00</td>\n",
              "      <td>1</td>\n",
              "      <td>26</td>\n",
              "      <td>2018-04-11 04:40:35.660000+00:00</td>\n",
              "      <td>11820</td>\n",
              "      <td>565</td>\n",
              "      <td>67</td>\n",
              "      <td>3547</td>\n",
              "      <td>sql</td>\n",
              "    </tr>\n",
              "    <tr>\n",
              "      <th>105</th>\n",
              "      <td>120</td>\n",
              "      <td>83.0</td>\n",
              "      <td>2008-08-01 15:50:08+00:00</td>\n",
              "      <td>21</td>\n",
              "      <td>ASP.NET Site Maps</td>\n",
              "      <td>sql asp.net sitemap</td>\n",
              "      <td>124363</td>\n",
              "      <td>12734.0</td>\n",
              "      <td>2008-09-23 22:41:11+00:00</td>\n",
              "      <td>9</td>\n",
              "      <td>12734</td>\n",
              "      <td>2019-08-29 19:59:10.743000+00:00</td>\n",
              "      <td>695</td>\n",
              "      <td>35</td>\n",
              "      <td>0</td>\n",
              "      <td>105</td>\n",
              "      <td>sql</td>\n",
              "    </tr>\n",
              "    <tr>\n",
              "      <th>113</th>\n",
              "      <td>1068900</td>\n",
              "      <td>NaN</td>\n",
              "      <td>2009-07-01 12:29:25+00:00</td>\n",
              "      <td>2</td>\n",
              "      <td>Keep code in separate file</td>\n",
              "      <td>php sql mysql</td>\n",
              "      <td>1068927</td>\n",
              "      <td>50.0</td>\n",
              "      <td>2009-07-01 12:34:48+00:00</td>\n",
              "      <td>1</td>\n",
              "      <td>50</td>\n",
              "      <td>2019-08-26 23:37:44.843000+00:00</td>\n",
              "      <td>8525</td>\n",
              "      <td>814</td>\n",
              "      <td>50</td>\n",
              "      <td>1731</td>\n",
              "      <td>sql</td>\n",
              "    </tr>\n",
              "  </tbody>\n",
              "</table>\n",
              "</div>"
            ],
            "text/plain": [
              "        q_Id  q_userid            q_CreationDate  ...  down_votes views Tags\n",
              "6     252230   28004.0 2008-10-31 00:17:40+00:00  ...          67  3547  sql\n",
              "21   1990020  242085.0 2010-01-01 23:29:24+00:00  ...          67  3547  sql\n",
              "105      120      83.0 2008-08-01 15:50:08+00:00  ...           0   105  sql\n",
              "113  1068900       NaN 2009-07-01 12:29:25+00:00  ...          50  1731  sql\n",
              "\n",
              "[4 rows x 17 columns]"
            ]
          },
          "metadata": {
            "tags": []
          },
          "execution_count": 122
        }
      ]
    },
    {
      "cell_type": "code",
      "metadata": {
        "id": "ZvfTavyE8crc"
      },
      "source": [
        "#Splitting only Tag and QID\r\n",
        "tag_fg = merged_DS[[\"Tags\",\"q_Id\",\"Tag\"]]\r\n"
      ],
      "execution_count": 68,
      "outputs": []
    },
    {
      "cell_type": "code",
      "metadata": {
        "colab": {
          "base_uri": "https://localhost:8080/"
        },
        "id": "LMAaA8Go-d-q",
        "outputId": "e47b6272-272b-4027-ff5b-78f8be065f01"
      },
      "source": [
        "merged_DS.shape"
      ],
      "execution_count": 69,
      "outputs": [
        {
          "output_type": "execute_result",
          "data": {
            "text/plain": [
              "(210361, 17)"
            ]
          },
          "metadata": {
            "tags": []
          },
          "execution_count": 69
        }
      ]
    },
    {
      "cell_type": "code",
      "metadata": {
        "colab": {
          "base_uri": "https://localhost:8080/"
        },
        "id": "HsFf6OOF-KWo",
        "outputId": "619e5897-bb29-42a5-8ad7-4b4e28433fb9"
      },
      "source": [
        "tag_fg.shape"
      ],
      "execution_count": 70,
      "outputs": [
        {
          "output_type": "execute_result",
          "data": {
            "text/plain": [
              "(210361, 3)"
            ]
          },
          "metadata": {
            "tags": []
          },
          "execution_count": 70
        }
      ]
    },
    {
      "cell_type": "code",
      "metadata": {
        "colab": {
          "base_uri": "https://localhost:8080/"
        },
        "id": "qt1t_-gb-Nwk",
        "outputId": "54f95d4f-547c-4629-defc-6703d01c0599"
      },
      "source": [
        "tag_fg.drop_duplicates(subset=\"q_Id\",inplace=True)"
      ],
      "execution_count": 71,
      "outputs": [
        {
          "output_type": "stream",
          "text": [
            "/usr/local/lib/python3.6/dist-packages/ipykernel_launcher.py:1: SettingWithCopyWarning: \n",
            "A value is trying to be set on a copy of a slice from a DataFrame\n",
            "\n",
            "See the caveats in the documentation: https://pandas.pydata.org/pandas-docs/stable/user_guide/indexing.html#returning-a-view-versus-a-copy\n",
            "  \"\"\"Entry point for launching an IPython kernel.\n"
          ],
          "name": "stderr"
        }
      ]
    },
    {
      "cell_type": "code",
      "metadata": {
        "colab": {
          "base_uri": "https://localhost:8080/"
        },
        "id": "2GeQtFk89Wub",
        "outputId": "bf3cd8d9-cd90-4f3c-fc07-6ae3719e74cf"
      },
      "source": [
        "tag_fg[\"q_Id\"].duplicated().any()"
      ],
      "execution_count": 72,
      "outputs": [
        {
          "output_type": "execute_result",
          "data": {
            "text/plain": [
              "False"
            ]
          },
          "metadata": {
            "tags": []
          },
          "execution_count": 72
        }
      ]
    },
    {
      "cell_type": "code",
      "metadata": {
        "colab": {
          "base_uri": "https://localhost:8080/"
        },
        "id": "Xtgymp1f_YDw",
        "outputId": "f657b8c8-fd20-4c57-9f49-24679bf5108c"
      },
      "source": [
        "tag_fg.shape"
      ],
      "execution_count": 73,
      "outputs": [
        {
          "output_type": "execute_result",
          "data": {
            "text/plain": [
              "(115093, 3)"
            ]
          },
          "metadata": {
            "tags": []
          },
          "execution_count": 73
        }
      ]
    },
    {
      "cell_type": "code",
      "metadata": {
        "colab": {
          "base_uri": "https://localhost:8080/",
          "height": 592
        },
        "id": "UO_JtjhjFCku",
        "outputId": "5f5e67ff-7c7f-466d-d8b2-6a4866cbed09"
      },
      "source": [
        "tag_fg.Tags.value_counts()[:6].plot.barh()\r\n",
        "plt.title=\"Top Datascience Tagged Question\""
      ],
      "execution_count": 114,
      "outputs": [
        {
          "output_type": "display_data",
          "data": {
            "image/png": "[encoded data removed]",
            "text/plain": [
              "<Figure size 720x720 with 1 Axes>"
            ]
          },
          "metadata": {
            "tags": [],
            "needs_background": "light"
          }
        }
      ]
    },
    {
      "cell_type": "code",
      "metadata": {
        "colab": {
          "base_uri": "https://localhost:8080/"
        },
        "id": "ET6mUqCCI6ZS",
        "outputId": "22dedfdd-d843-4c86-a1d3-d4ba1ed80e48"
      },
      "source": [
        "tag_fg.groupby('Tags').size().sort_values(ascending=False)"
      ],
      "execution_count": 80,
      "outputs": [
        {
          "output_type": "execute_result",
          "data": {
            "text/plain": [
              "Tags\n",
              "python              54278\n",
              "sql                 32810\n",
              "r                   12775\n",
              "excel                8161\n",
              "matlab               5242\n",
              "sas                   551\n",
              "python sql            337\n",
              "python excel          263\n",
              "sql excel             161\n",
              "python matlab         139\n",
              "python r              118\n",
              "r excel                56\n",
              "sql sas                51\n",
              "excel matlab           38\n",
              "r matlab               37\n",
              "sql r                  30\n",
              "r sas                  17\n",
              "excel sas               9\n",
              "python sas              4\n",
              "python r excel          4\n",
              "sql matlab              3\n",
              "python r matlab         2\n",
              "python sql excel        2\n",
              "r excel matlab          1\n",
              "sql r sas               1\n",
              "sql excel sas           1\n",
              "sql r excel             1\n",
              "excel r                 1\n",
              "dtype: int64"
            ]
          },
          "metadata": {
            "tags": []
          },
          "execution_count": 80
        }
      ]
    },
    {
      "cell_type": "markdown",
      "metadata": {
        "id": "uZtYCPqpGR5e"
      },
      "source": [
        "**From the above graph we can infer that the most popular tag in the questions is the Datascience is Python and then sql**"
      ]
    },
    {
      "cell_type": "markdown",
      "metadata": {
        "id": "uLWu3gbEV6CO"
      },
      "source": [
        "**What are the scoring of Data Science related tags in Questions?**\r\n",
        "We can suggest these questions the top score question related to tags to the users depending on the ratings"
      ]
    },
    {
      "cell_type": "code",
      "metadata": {
        "colab": {
          "base_uri": "https://localhost:8080/"
        },
        "id": "knDGWI4SQ5Rp",
        "outputId": "4f0f468e-1601-42e7-ba55-03bfc378fd1f"
      },
      "source": [
        "tag_rate = merged_DS[['Tags', 'q_score']].drop_duplicates().reset_index(drop=True)\r\n",
        "tag_rate.shape"
      ],
      "execution_count": 192,
      "outputs": [
        {
          "output_type": "execute_result",
          "data": {
            "text/plain": [
              "(666, 2)"
            ]
          },
          "metadata": {
            "tags": []
          },
          "execution_count": 192
        }
      ]
    },
    {
      "cell_type": "code",
      "metadata": {
        "colab": {
          "base_uri": "https://localhost:8080/",
          "height": 118,
          "referenced_widgets": [
            "98616a7e9a5c47849b72d2776bb6fc62",
            "3d2ad37d0d0f49c7af673c8d44b6a6b9",
            "919b4738671e4c3f963bbb5f0e5375ef",
            "2200b51783ef49b38c12780003bc183a",
            "d3e9fff2d07c4845b58cd9424827c2c8",
            "91cc73b7bafa49e09a6b96841078f78e",
            "ada04f0aaab747dba2c556d0d68d791e",
            "7f9a24bbe0e44788b54e6264289001bf"
          ]
        },
        "id": "-o9_m4Ifge_k",
        "outputId": "3ef4fea1-3b5f-4c0b-b700-d09e6324ce83"
      },
      "source": [
        "tagRate = {}\r\n",
        "for i in tqdm_notebook(range(len(tag_rate['Tags']))):\r\n",
        "    for tag in tag_rate['Tags'][i].split(','):\r\n",
        "        try:\r\n",
        "            tagRate[tag].append(tag_rate['q_score'][i])\r\n",
        "        except Exception:\r\n",
        "            tagRate[tag] = [tag_rate['q_score'][i]]"
      ],
      "execution_count": 194,
      "outputs": [
        {
          "output_type": "stream",
          "text": [
            "/usr/local/lib/python3.6/dist-packages/ipykernel_launcher.py:2: TqdmDeprecationWarning: This function will be removed in tqdm==5.0.0\n",
            "Please use `tqdm.notebook.tqdm` instead of `tqdm.tqdm_notebook`\n",
            "  \n"
          ],
          "name": "stderr"
        },
        {
          "output_type": "display_data",
          "data": {
            "application/vnd.jupyter.widget-view+json": {
              "model_id": "98616a7e9a5c47849b72d2776bb6fc62",
              "version_minor": 0,
              "version_major": 2
            },
            "text/plain": [
              "HBox(children=(FloatProgress(value=0.0, max=666.0), HTML(value='')))"
            ]
          },
          "metadata": {
            "tags": []
          }
        },
        {
          "output_type": "stream",
          "text": [
            "\n"
          ],
          "name": "stdout"
        }
      ]
    },
    {
      "cell_type": "code",
      "metadata": {
        "id": "xzQS5IVtgrh-"
      },
      "source": [
        "tagRateAvg = {}\r\n",
        "for key in list(tagRate.keys()):\r\n",
        "    tagRateAvg[key] = np.average(tagRate[key])"
      ],
      "execution_count": 195,
      "outputs": []
    },
    {
      "cell_type": "code",
      "metadata": {
        "id": "30nQqutfguJp"
      },
      "source": [
        "tagRateAvg = pd.DataFrame([list(tagRateAvg.keys()), list(tagRateAvg.values())])\r\n",
        "tagRateAvg = tagRateAvg.transpose()\r\n",
        "tagRateAvg.columns = ['Tags', 'q_score']\r\n",
        "tagRateAvg = tagRateAvg.sort_values('q_score')"
      ],
      "execution_count": 196,
      "outputs": []
    },
    {
      "cell_type": "code",
      "metadata": {
        "id": "Wk9gGGK6S142"
      },
      "source": [
        "data_science = ['python', 'r', 'matlab', 'sas', 'excel', 'sql']\r\n",
        "x = []\r\n",
        "y = []\r\n",
        "for tag in data_science:\r\n",
        "    index = list(tagRateAvg['Tags']).index(tag)\r\n",
        "    x.append(tag)\r\n",
        "    y.append(list(tagRateAvg['q_score'])[index])"
      ],
      "execution_count": 197,
      "outputs": []
    },
    {
      "cell_type": "code",
      "metadata": {
        "colab": {
          "base_uri": "https://localhost:8080/",
          "height": 606
        },
        "id": "0QV80hcHS_vi",
        "outputId": "b5d59759-a192-49a3-bca6-e13ce0b08bef"
      },
      "source": [
        "plt.bar(x, y)\r\n",
        "plt.ylabel('Average Rating')\r\n",
        "plt.xlabel('Tag')\r\n",
        "plt.title='Scoring of Data Science Tags'\r\n",
        "plt.show()"
      ],
      "execution_count": 198,
      "outputs": [
        {
          "output_type": "display_data",
          "data": {
            "image/png": "[encoded data removed]",
            "text/plain": [
              "<Figure size 720x720 with 1 Axes>"
            ]
          },
          "metadata": {
            "tags": [],
            "needs_background": "light"
          }
        }
      ]
    },
    {
      "cell_type": "markdown",
      "metadata": {
        "id": "6Kz5iDrRWY6E"
      },
      "source": [
        "From the above graph we can see that **Python** and **R** got the high scores but when most popular tags Python and SQL were highest . **R** scored higher than **SQL**."
      ]
    },
    {
      "cell_type": "code",
      "metadata": {
        "colab": {
          "base_uri": "https://localhost:8080/",
          "height": 624
        },
        "id": "k8suqwxGWBTK",
        "outputId": "e5167cd5-b96a-4d24-fb3b-868e6dd4cbab"
      },
      "source": [
        "fig, ax = plt.subplots(2, 3)\r\n",
        "ax[0][0].plot(tagRate['python'])\r\n",
        "ax[0][0].set_title('python')\r\n",
        "\r\n",
        "ax[0][1].plot(tagRate['r'])\r\n",
        "ax[0][1].set_title('r')\r\n",
        "\r\n",
        "ax[0][2].plot(tagRate['sql'])\r\n",
        "ax[0][2].set_title('sql')\r\n",
        "\r\n",
        "ax[1][0].plot(tagRate['matlab'])\r\n",
        "ax[1][0].set_title('matlab')\r\n",
        "\r\n",
        "ax[1][1].plot(tagRate['sas'])\r\n",
        "ax[1][1].set_title('sas')\r\n",
        "\r\n",
        "ax[1][2].plot(tagRate['excel'])\r\n",
        "ax[1][2].set_title('excel')"
      ],
      "execution_count": 199,
      "outputs": [
        {
          "output_type": "execute_result",
          "data": {
            "text/plain": [
              "Text(0.5, 1.0, 'excel')"
            ]
          },
          "metadata": {
            "tags": []
          },
          "execution_count": 199
        },
        {
          "output_type": "display_data",
          "data": {
            "image/png": "[encoded data removed]",
            "text/plain": [
              "<Figure size 720x720 with 6 Axes>"
            ]
          },
          "metadata": {
            "tags": [],
            "needs_background": "light"
          }
        }
      ]
    },
    {
      "cell_type": "markdown",
      "metadata": {
        "id": "EkYjS13vWVL7"
      },
      "source": [
        "From the above python has lot of questions we can see that python and SQl has most questions. SAS has the least questions but still R scored well than SQL.Stack overflow should focus more on Python,R and SQL SME . \r\n",
        "MatLab,SAS  has negative scoring as well ."
      ]
    },
    {
      "cell_type": "markdown",
      "metadata": {
        "id": "yPHZfBP8bXcW"
      },
      "source": [
        "**What are the scoring of Data Science related tags in Answers?**"
      ]
    },
    {
      "cell_type": "code",
      "metadata": {
        "colab": {
          "base_uri": "https://localhost:8080/"
        },
        "id": "ov4_nmLPbu3l",
        "outputId": "0f2df2e5-d646-4b10-9759-1ce4ac547297"
      },
      "source": [
        "tag_rateans = merged_DS[['Tags', 'a_Score']].drop_duplicates().reset_index(drop=True)\r\n",
        "tag_rateans.shape"
      ],
      "execution_count": 227,
      "outputs": [
        {
          "output_type": "execute_result",
          "data": {
            "text/plain": [
              "(793, 2)"
            ]
          },
          "metadata": {
            "tags": []
          },
          "execution_count": 227
        }
      ]
    },
    {
      "cell_type": "code",
      "metadata": {
        "colab": {
          "base_uri": "https://localhost:8080/",
          "height": 118,
          "referenced_widgets": [
            "bc3f57b5a52746888f6667c7dee1bfd9",
            "60ff7bd931a6438db2552a95e4578a27",
            "672076325bd946019708a612652c6a0d",
            "aaed4873098542fcbff17ba60296d6fe",
            "286c306a64ef48d6af966a89b5ed84f0",
            "e88c0236f4134cf49fe32db161d10e82",
            "f7e62236fc1240f899e5222f850c92ca",
            "586e4eb1e1ba4e098ae3159383ad57d4"
          ]
        },
        "id": "mjlpEfgHcf8s",
        "outputId": "eeeb13db-ac05-4dd9-e91a-757278743d08"
      },
      "source": [
        "tagRate = {}\r\n",
        "for i in tqdm_notebook(range(len(tag_rateans['Tags']))):\r\n",
        "    for tag in tag_rate['Tags'][i].split(','):\r\n",
        "        try:\r\n",
        "            tagRate[tag].append(tag_rate['a_Score'][i])\r\n",
        "        except Exception:\r\n",
        "            tagRate[tag] = [tag_rate['a_Score'][i]]"
      ],
      "execution_count": 228,
      "outputs": [
        {
          "output_type": "stream",
          "text": [
            "/usr/local/lib/python3.6/dist-packages/ipykernel_launcher.py:2: TqdmDeprecationWarning: This function will be removed in tqdm==5.0.0\n",
            "Please use `tqdm.notebook.tqdm` instead of `tqdm.tqdm_notebook`\n",
            "  \n"
          ],
          "name": "stderr"
        },
        {
          "output_type": "display_data",
          "data": {
            "application/vnd.jupyter.widget-view+json": {
              "model_id": "bc3f57b5a52746888f6667c7dee1bfd9",
              "version_minor": 0,
              "version_major": 2
            },
            "text/plain": [
              "HBox(children=(FloatProgress(value=0.0, max=793.0), HTML(value='')))"
            ]
          },
          "metadata": {
            "tags": []
          }
        },
        {
          "output_type": "stream",
          "text": [
            "\n"
          ],
          "name": "stdout"
        }
      ]
    },
    {
      "cell_type": "code",
      "metadata": {
        "id": "fN9w7cbecti3"
      },
      "source": [
        "tagRateAvg = {}\r\n",
        "for key in list(tagRate.keys()):\r\n",
        "    tagRateAvg[key] = np.average(tagRate[key])"
      ],
      "execution_count": 229,
      "outputs": []
    },
    {
      "cell_type": "code",
      "metadata": {
        "id": "XArcGy5Fcx03"
      },
      "source": [
        "tagRateAvg = pd.DataFrame([list(tagRateAvg.keys()), list(tagRateAvg.values())])\r\n",
        "tagRateAvg = tagRateAvg.transpose()\r\n",
        "tagRateAvg.columns = ['Tags', 'a_Score']\r\n",
        "tagRateAvg = tagRateAvg.sort_values('a_Score')"
      ],
      "execution_count": 230,
      "outputs": []
    },
    {
      "cell_type": "code",
      "metadata": {
        "id": "2tu5j2RTbY2Q"
      },
      "source": [
        "data_science = ['python', 'r', 'matlab', 'sas', 'excel', 'sql']\r\n",
        "x = []\r\n",
        "y = []\r\n",
        "for tag in data_science:\r\n",
        "    index = list(tagRateAvg['Tags']).index(tag)\r\n",
        "    x.append(tag)\r\n",
        "    y.append(list(tagRateAvg['a_Score'])[index])"
      ],
      "execution_count": 231,
      "outputs": []
    },
    {
      "cell_type": "code",
      "metadata": {
        "colab": {
          "base_uri": "https://localhost:8080/",
          "height": 606
        },
        "id": "QvCwVWmec7so",
        "outputId": "e72107b5-d331-46f2-ac32-64e2a7852e00"
      },
      "source": [
        "plt.bar(x, y)\r\n",
        "plt.ylabel('Average Rating')\r\n",
        "plt.xlabel('Tag')\r\n",
        "#plt.title('Scoring of Data Science Tags')\r\n",
        "plt.show()"
      ],
      "execution_count": 232,
      "outputs": [
        {
          "output_type": "display_data",
          "data": {
            "image/png": "[encoded data removed]",
            "text/plain": [
              "<Figure size 720x720 with 1 Axes>"
            ]
          },
          "metadata": {
            "tags": [],
            "needs_background": "light"
          }
        }
      ]
    },
    {
      "cell_type": "markdown",
      "metadata": {
        "id": "37gLUJGkdcpe"
      },
      "source": [
        "**Python and SQL has highest score in answers**"
      ]
    },
    {
      "cell_type": "code",
      "metadata": {
        "colab": {
          "base_uri": "https://localhost:8080/",
          "height": 624
        },
        "id": "xsAiUn6adHgB",
        "outputId": "4b72862c-3614-409f-bf07-252389b9ad97"
      },
      "source": [
        "fig, ax = plt.subplots(2, 3)\r\n",
        "ax[0][0].plot(tagRate['python'])\r\n",
        "ax[0][0].set_title('python')\r\n",
        "\r\n",
        "ax[0][1].plot(tagRate['r'])\r\n",
        "ax[0][1].set_title('r')\r\n",
        "\r\n",
        "ax[0][2].plot(tagRate['sql'])\r\n",
        "ax[0][2].set_title('sql')\r\n",
        "\r\n",
        "ax[1][0].plot(tagRate['matlab'])\r\n",
        "ax[1][0].set_title('matplotlib')\r\n",
        "\r\n",
        "ax[1][1].plot(tagRate['sas'])\r\n",
        "ax[1][1].set_title('sas')\r\n",
        "\r\n",
        "ax[1][2].plot(tagRate['excel'])\r\n",
        "ax[1][2].set_title('excel')"
      ],
      "execution_count": 233,
      "outputs": [
        {
          "output_type": "execute_result",
          "data": {
            "text/plain": [
              "Text(0.5, 1.0, 'excel')"
            ]
          },
          "metadata": {
            "tags": []
          },
          "execution_count": 233
        },
        {
          "output_type": "display_data",
          "data": {
            "image/png": "[encoded data removed]",
            "text/plain": [
              "<Figure size 720x720 with 6 Axes>"
            ]
          },
          "metadata": {
            "tags": [],
            "needs_background": "light"
          }
        }
      ]
    },
    {
      "cell_type": "markdown",
      "metadata": {
        "id": "SwJXvJVVizFQ"
      },
      "source": [
        "**Python and SQL has more answers and sas has less answers **"
      ]
    },
    {
      "cell_type": "markdown",
      "metadata": {
        "id": "g9au5LU7NeAp"
      },
      "source": [
        "**1.When a user raises a question with a data science tag ('python', 'r', 'matlab', 'sas', 'excel', 'sql'), then Stack Overflow sends the notification to the relevant users.**\r\n"
      ]
    },
    {
      "cell_type": "markdown",
      "metadata": {
        "id": "zMYadeSsNo6S"
      },
      "source": [
        "**We need to find the top users answering the questions with Datascience with top reputation tags so that the notification is sent to the experts in the respected tags so that the questions are answered by the experts**"
      ]
    },
    {
      "cell_type": "code",
      "metadata": {
        "colab": {
          "base_uri": "https://localhost:8080/"
        },
        "id": "JwhfEZDjrzbe",
        "outputId": "c86edbea-d575-4c44-8cab-cd4eb2e4d830"
      },
      "source": [
        "#Analysing the usersdf by reputation as we need to find the top users with high reputation for Datascience tags.\r\n",
        "usersdf.reputation.describe()"
      ],
      "execution_count": 90,
      "outputs": [
        {
          "output_type": "execute_result",
          "data": {
            "text/plain": [
              "count    4.654600e+05\n",
              "mean     1.977049e+03\n",
              "std      1.098895e+04\n",
              "min      1.000000e+00\n",
              "25%      6.600000e+01\n",
              "50%      3.530000e+02\n",
              "75%      1.165000e+03\n",
              "max      1.128126e+06\n",
              "Name: reputation, dtype: float64"
            ]
          },
          "metadata": {
            "tags": []
          },
          "execution_count": 90
        }
      ]
    },
    {
      "cell_type": "code",
      "metadata": {
        "colab": {
          "base_uri": "https://localhost:8080/"
        },
        "id": "TewMScscRHAm",
        "outputId": "0661ec8e-8478-4231-ce21-a6d5d7352607"
      },
      "source": [
        "usersdf.shape"
      ],
      "execution_count": 91,
      "outputs": [
        {
          "output_type": "execute_result",
          "data": {
            "text/plain": [
              "(465460, 6)"
            ]
          },
          "metadata": {
            "tags": []
          },
          "execution_count": 91
        }
      ]
    },
    {
      "cell_type": "code",
      "metadata": {
        "colab": {
          "base_uri": "https://localhost:8080/"
        },
        "id": "2UPyNUyHvqKU",
        "outputId": "060e4879-a6fe-4bf1-8a96-cf99d8d06e11"
      },
      "source": [
        "usersdf.reputation.max()"
      ],
      "execution_count": 92,
      "outputs": [
        {
          "output_type": "execute_result",
          "data": {
            "text/plain": [
              "1128126"
            ]
          },
          "metadata": {
            "tags": []
          },
          "execution_count": 92
        }
      ]
    },
    {
      "cell_type": "code",
      "metadata": {
        "colab": {
          "base_uri": "https://localhost:8080/"
        },
        "id": "kYhLunytvt-Q",
        "outputId": "31c12b35-780c-431a-a31b-710c6da37db0"
      },
      "source": [
        "usersdf.reputation.min()"
      ],
      "execution_count": 93,
      "outputs": [
        {
          "output_type": "execute_result",
          "data": {
            "text/plain": [
              "1"
            ]
          },
          "metadata": {
            "tags": []
          },
          "execution_count": 93
        }
      ]
    },
    {
      "cell_type": "code",
      "metadata": {
        "colab": {
          "base_uri": "https://localhost:8080/"
        },
        "id": "1Ojqbfhbvw0U",
        "outputId": "3d076aff-a6bc-4aff-d59b-efc49ce79b14"
      },
      "source": [
        "usersdf.reputation.median()"
      ],
      "execution_count": 94,
      "outputs": [
        {
          "output_type": "execute_result",
          "data": {
            "text/plain": [
              "353.0"
            ]
          },
          "metadata": {
            "tags": []
          },
          "execution_count": 94
        }
      ]
    },
    {
      "cell_type": "code",
      "metadata": {
        "colab": {
          "base_uri": "https://localhost:8080/",
          "height": 293
        },
        "id": "EYD-XPwdv0y4",
        "outputId": "9b985476-947c-4e7b-d2d6-c620882417f6"
      },
      "source": [
        "usersdf.reputation.plot.box()"
      ],
      "execution_count": 95,
      "outputs": [
        {
          "output_type": "execute_result",
          "data": {
            "text/plain": [
              "<matplotlib.axes._subplots.AxesSubplot at 0x7ff70b5bb0b8>"
            ]
          },
          "metadata": {
            "tags": []
          },
          "execution_count": 95
        },
        {
          "output_type": "display_data",
          "data": {
            "image/png": "[encoded data removed]",
            "text/plain": [
              "<Figure size 432x288 with 1 Axes>"
            ]
          },
          "metadata": {
            "tags": [],
            "needs_background": "light"
          }
        }
      ]
    },
    {
      "cell_type": "markdown",
      "metadata": {
        "id": "JGUPTYeVOvwe"
      },
      "source": [
        "**Reputation is highly Skewed and contains lot of outliers we can standardize the dataset by filtering based on Quartile**"
      ]
    },
    {
      "cell_type": "markdown",
      "metadata": {
        "id": "H9dIi0l2gWZW"
      },
      "source": [
        "**Univariate Analysis of Reputation in Usersdf**"
      ]
    },
    {
      "cell_type": "code",
      "metadata": {
        "id": "cUzAJW-ExD-F"
      },
      "source": [
        "Q1 = np.percentile(usersdf.reputation, 25, interpolation = 'midpoint') "
      ],
      "execution_count": 96,
      "outputs": []
    },
    {
      "cell_type": "code",
      "metadata": {
        "id": "PbJ4JtcwymZE"
      },
      "source": [
        "Q3 = np.percentile(usersdf.reputation, 75, interpolation = 'midpoint') "
      ],
      "execution_count": 97,
      "outputs": []
    },
    {
      "cell_type": "code",
      "metadata": {
        "colab": {
          "base_uri": "https://localhost:8080/"
        },
        "id": "GSKePe2Wy3R9",
        "outputId": "b5bdadba-632f-4540-b920-4bc8a483a34d"
      },
      "source": [
        "IQR=Q3-Q1\r\n",
        "print(\"Reputation Quartile in the users dataset IQR :\",IQR)"
      ],
      "execution_count": 98,
      "outputs": [
        {
          "output_type": "stream",
          "text": [
            "Reputation Quartile in the users dataset IQR : 1099.0\n"
          ],
          "name": "stdout"
        }
      ]
    },
    {
      "cell_type": "code",
      "metadata": {
        "colab": {
          "base_uri": "https://localhost:8080/",
          "height": 355
        },
        "id": "uO1jPeq60z6g",
        "outputId": "e6f1a084-08e4-4682-9aa9-cbbfd3779d8b"
      },
      "source": [
        "#Analysing the filtered dataset of only Datascience tags Merged_DS is the filtered DS related to Datascience\r\n",
        "merged_DS.hist(bins=15, color='steelblue', edgecolor='black', linewidth=1.0,\r\n",
        "           xlabelsize=8, ylabelsize=8, grid=False)    \r\n",
        "plt.tight_layout(rect=(0, 0, 1.2, 1.2))"
      ],
      "execution_count": 99,
      "outputs": [
        {
          "output_type": "display_data",
          "data": {
            "image/png": "[encoded data removed]",
            "text/plain": [
              "<Figure size 432x288 with 12 Axes>"
            ]
          },
          "metadata": {
            "tags": [],
            "needs_background": "light"
          }
        }
      ]
    },
    {
      "cell_type": "code",
      "metadata": {
        "colab": {
          "base_uri": "https://localhost:8080/"
        },
        "id": "lWG2CwnCg8mv",
        "outputId": "239dbfeb-df93-47c0-9318-cd173a3d151f"
      },
      "source": [
        "merged_DS.reputation.describe()"
      ],
      "execution_count": 100,
      "outputs": [
        {
          "output_type": "execute_result",
          "data": {
            "text/plain": [
              "count    2.103610e+05\n",
              "mean     6.443569e+04\n",
              "std      1.474824e+05\n",
              "min      1.000000e+00\n",
              "25%      1.361000e+03\n",
              "50%      8.450000e+03\n",
              "75%      4.869800e+04\n",
              "max      1.128126e+06\n",
              "Name: reputation, dtype: float64"
            ]
          },
          "metadata": {
            "tags": []
          },
          "execution_count": 100
        }
      ]
    },
    {
      "cell_type": "code",
      "metadata": {
        "colab": {
          "base_uri": "https://localhost:8080/",
          "height": 295
        },
        "id": "7UcmrzTk4HP1",
        "outputId": "f53c46be-8119-4a45-b40b-ac5699f2eba6"
      },
      "source": [
        "merged_DS[\"reputation\"].plot.hist(bins=20)"
      ],
      "execution_count": 101,
      "outputs": [
        {
          "output_type": "execute_result",
          "data": {
            "text/plain": [
              "<matplotlib.axes._subplots.AxesSubplot at 0x7ff70b76f6a0>"
            ]
          },
          "metadata": {
            "tags": []
          },
          "execution_count": 101
        },
        {
          "output_type": "display_data",
          "data": {
            "image/png": "[encoded data removed]",
            "text/plain": [
              "<Figure size 432x288 with 1 Axes>"
            ]
          },
          "metadata": {
            "tags": [],
            "needs_background": "light"
          }
        }
      ]
    },
    {
      "cell_type": "markdown",
      "metadata": {
        "id": "DH3PMVIU8kd1"
      },
      "source": [
        "**Reputation is skewed which we can standardize using the IQR filtering**"
      ]
    },
    {
      "cell_type": "code",
      "metadata": {
        "colab": {
          "base_uri": "https://localhost:8080/",
          "height": 293
        },
        "id": "Fov74I4Hgvnl",
        "outputId": "ddd5be9d-6218-468b-8c55-a41999c35410"
      },
      "source": [
        "merged_DS[\"reputation\"].plot.box()"
      ],
      "execution_count": 102,
      "outputs": [
        {
          "output_type": "execute_result",
          "data": {
            "text/plain": [
              "<matplotlib.axes._subplots.AxesSubplot at 0x7ff70b88fb38>"
            ]
          },
          "metadata": {
            "tags": []
          },
          "execution_count": 102
        },
        {
          "output_type": "display_data",
          "data": {
            "image/png": "[encoded data removed]",
            "text/plain": [
              "<Figure size 432x288 with 1 Axes>"
            ]
          },
          "metadata": {
            "tags": [],
            "needs_background": "light"
          }
        }
      ]
    },
    {
      "cell_type": "markdown",
      "metadata": {
        "id": "YzA0aAEMhDpX"
      },
      "source": [
        "**The reputation is totally Skewed in the Datascience Filtered Set so we need to Standardize and will be filtering only the users with reputation in the Quartlie to get maximum reach of the question when it is posted to float it to the respected SME in the tags**"
      ]
    },
    {
      "cell_type": "code",
      "metadata": {
        "id": "zjaGoJmg1hYz"
      },
      "source": [
        "# Computing IQR in Datascience Filetered Set\r\n",
        "Q1 = merged_DS['reputation'].quantile(0.25)\r\n",
        "Q3 = merged_DS['reputation'].quantile(0.75)\r\n",
        "IQR = Q3 - Q1\r\n",
        "\r\n",
        "# Filtering Values between Q1-1.5IQR and Q3+1.5IQR\r\n",
        "filtered = merged_DS.query('(@Q1 - 1.5 * @IQR) <= reputation <= (@Q3 + 1.5 * @IQR)')"
      ],
      "execution_count": 103,
      "outputs": []
    },
    {
      "cell_type": "code",
      "metadata": {
        "colab": {
          "base_uri": "https://localhost:8080/",
          "height": 349
        },
        "id": "2vf5FQLn14bD",
        "outputId": "b0ad56f9-ea95-4ce8-9a5c-58069b43e0ee"
      },
      "source": [
        "# Ploting the result to check the difference\r\n",
        "merged_DS.join(filtered, rsuffix='_filtered').boxplot()"
      ],
      "execution_count": 104,
      "outputs": [
        {
          "output_type": "stream",
          "text": [
            "/usr/local/lib/python3.6/dist-packages/numpy/core/_asarray.py:83: VisibleDeprecationWarning: Creating an ndarray from ragged nested sequences (which is a list-or-tuple of lists-or-tuples-or ndarrays with different lengths or shapes) is deprecated. If you meant to do this, you must specify 'dtype=object' when creating the ndarray\n",
            "  return array(a, dtype, copy=False, order=order)\n"
          ],
          "name": "stderr"
        },
        {
          "output_type": "execute_result",
          "data": {
            "text/plain": [
              "<matplotlib.axes._subplots.AxesSubplot at 0x7ff70b8ec1d0>"
            ]
          },
          "metadata": {
            "tags": []
          },
          "execution_count": 104
        },
        {
          "output_type": "display_data",
          "data": {
            "image/png": "[encoded data removed]",
            "text/plain": [
              "<Figure size 432x288 with 1 Axes>"
            ]
          },
          "metadata": {
            "tags": [],
            "needs_background": "light"
          }
        }
      ]
    },
    {
      "cell_type": "code",
      "metadata": {
        "colab": {
          "base_uri": "https://localhost:8080/",
          "height": 282
        },
        "id": "m6VI_dT02flp",
        "outputId": "e3018073-bb52-4e4f-9031-05517acd9232"
      },
      "source": [
        "filtered.reputation.plot.box()"
      ],
      "execution_count": 105,
      "outputs": [
        {
          "output_type": "execute_result",
          "data": {
            "text/plain": [
              "<matplotlib.axes._subplots.AxesSubplot at 0x7ff70b93d0b8>"
            ]
          },
          "metadata": {
            "tags": []
          },
          "execution_count": 105
        },
        {
          "output_type": "display_data",
          "data": {
            "image/png": "[encoded data removed]",
            "text/plain": [
              "<Figure size 432x288 with 1 Axes>"
            ]
          },
          "metadata": {
            "tags": [],
            "needs_background": "light"
          }
        }
      ]
    },
    {
      "cell_type": "code",
      "metadata": {
        "colab": {
          "base_uri": "https://localhost:8080/",
          "height": 298
        },
        "id": "6nziSr7q4Wxq",
        "outputId": "fb0b66e5-2b09-4b30-b035-2a1e4cb849f5"
      },
      "source": [
        "filtered.reputation.plot.hist(bins=20)\r\n",
        "plt.title(\"Distribution of Reputation after Standardization\")"
      ],
      "execution_count": 106,
      "outputs": [
        {
          "output_type": "execute_result",
          "data": {
            "text/plain": [
              "Text(0.5, 1.0, 'Distribution of Reputation after Standardization')"
            ]
          },
          "metadata": {
            "tags": []
          },
          "execution_count": 106
        },
        {
          "output_type": "display_data",
          "data": {
            "image/png": "[encoded data removed]",
            "text/plain": [
              "<Figure size 432x288 with 1 Axes>"
            ]
          },
          "metadata": {
            "tags": [],
            "needs_background": "light"
          }
        }
      ]
    },
    {
      "cell_type": "code",
      "metadata": {
        "colab": {
          "base_uri": "https://localhost:8080/"
        },
        "id": "kU-Erf632jQv",
        "outputId": "afe46071-fe8e-4941-c062-ca4557803108"
      },
      "source": [
        "filtered.shape"
      ],
      "execution_count": 107,
      "outputs": [
        {
          "output_type": "execute_result",
          "data": {
            "text/plain": [
              "(181204, 17)"
            ]
          },
          "metadata": {
            "tags": []
          },
          "execution_count": 107
        }
      ]
    },
    {
      "cell_type": "markdown",
      "metadata": {
        "id": "YiN7QM_khlBP"
      },
      "source": [
        "**Grouping the Users with respect to tags for filtering for the notification when a question is posted with Datascience tags**"
      ]
    },
    {
      "cell_type": "code",
      "metadata": {
        "id": "cE_KS7jUVv6H"
      },
      "source": [
        "q_expert = filtered[[\"a_userid\",\"reputation\",\"Tags\"]]"
      ],
      "execution_count": 108,
      "outputs": []
    },
    {
      "cell_type": "markdown",
      "metadata": {
        "id": "urnfMa9Hjj4Q"
      },
      "source": [
        "**we will use q_expert dataset as DB for sending the notification to relevant users who answer the relevant tags when a question is posted with the tags**"
      ]
    },
    {
      "cell_type": "code",
      "metadata": {
        "id": "6d25CYu_ckdG",
        "colab": {
          "base_uri": "https://localhost:8080/"
        },
        "outputId": "7f0f5583-2b9a-424f-ca74-ee3a40acc7a2"
      },
      "source": [
        "q_expert.sort_values(by=\"reputation\",ascending=False,inplace=True)"
      ],
      "execution_count": 109,
      "outputs": [
        {
          "output_type": "stream",
          "text": [
            "/usr/local/lib/python3.6/dist-packages/ipykernel_launcher.py:1: SettingWithCopyWarning: \n",
            "A value is trying to be set on a copy of a slice from a DataFrame\n",
            "\n",
            "See the caveats in the documentation: https://pandas.pydata.org/pandas-docs/stable/user_guide/indexing.html#returning-a-view-versus-a-copy\n",
            "  \"\"\"Entry point for launching an IPython kernel.\n"
          ],
          "name": "stderr"
        }
      ]
    },
    {
      "cell_type": "code",
      "metadata": {
        "colab": {
          "base_uri": "https://localhost:8080/",
          "height": 206
        },
        "id": "s_Wn3JJJqyVL",
        "outputId": "baa18345-f281-4b57-d8a2-d7a575c034d4"
      },
      "source": [
        "q_expert.head(5)"
      ],
      "execution_count": 110,
      "outputs": [
        {
          "output_type": "execute_result",
          "data": {
            "text/html": [
              "<div>\n",
              "<style scoped>\n",
              "    .dataframe tbody tr th:only-of-type {\n",
              "        vertical-align: middle;\n",
              "    }\n",
              "\n",
              "    .dataframe tbody tr th {\n",
              "        vertical-align: top;\n",
              "    }\n",
              "\n",
              "    .dataframe thead th {\n",
              "        text-align: right;\n",
              "    }\n",
              "</style>\n",
              "<table border=\"1\" class=\"dataframe\">\n",
              "  <thead>\n",
              "    <tr style=\"text-align: right;\">\n",
              "      <th></th>\n",
              "      <th>a_userid</th>\n",
              "      <th>reputation</th>\n",
              "      <th>Tags</th>\n",
              "    </tr>\n",
              "  </thead>\n",
              "  <tbody>\n",
              "    <tr>\n",
              "      <th>27190</th>\n",
              "      <td>2688.0</td>\n",
              "      <td>119702</td>\n",
              "      <td>sql</td>\n",
              "    </tr>\n",
              "    <tr>\n",
              "      <th>81169</th>\n",
              "      <td>14637.0</td>\n",
              "      <td>119365</td>\n",
              "      <td>python</td>\n",
              "    </tr>\n",
              "    <tr>\n",
              "      <th>81088</th>\n",
              "      <td>14637.0</td>\n",
              "      <td>119365</td>\n",
              "      <td>r</td>\n",
              "    </tr>\n",
              "    <tr>\n",
              "      <th>81158</th>\n",
              "      <td>14637.0</td>\n",
              "      <td>119365</td>\n",
              "      <td>python</td>\n",
              "    </tr>\n",
              "    <tr>\n",
              "      <th>81159</th>\n",
              "      <td>14637.0</td>\n",
              "      <td>119365</td>\n",
              "      <td>python</td>\n",
              "    </tr>\n",
              "  </tbody>\n",
              "</table>\n",
              "</div>"
            ],
            "text/plain": [
              "       a_userid  reputation    Tags\n",
              "27190    2688.0      119702     sql\n",
              "81169   14637.0      119365  python\n",
              "81088   14637.0      119365       r\n",
              "81158   14637.0      119365  python\n",
              "81159   14637.0      119365  python"
            ]
          },
          "metadata": {
            "tags": []
          },
          "execution_count": 110
        }
      ]
    },
    {
      "cell_type": "code",
      "metadata": {
        "colab": {
          "base_uri": "https://localhost:8080/"
        },
        "id": "0JBGDKIHrXk3",
        "outputId": "0c537f2a-14d9-4823-a512-3a9238bd340a"
      },
      "source": [
        "q_expert.shape"
      ],
      "execution_count": 111,
      "outputs": [
        {
          "output_type": "execute_result",
          "data": {
            "text/plain": [
              "(181204, 3)"
            ]
          },
          "metadata": {
            "tags": []
          },
          "execution_count": 111
        }
      ]
    },
    {
      "cell_type": "code",
      "metadata": {
        "colab": {
          "base_uri": "https://localhost:8080/"
        },
        "id": "grYLVH2Yq5sL",
        "outputId": "670cadd2-e20b-44bc-b5b1-af67c7a8dd53"
      },
      "source": [
        "q_expert.drop_duplicates(subset=[\"a_userid\",\"Tags\"],inplace=True)"
      ],
      "execution_count": 112,
      "outputs": [
        {
          "output_type": "stream",
          "text": [
            "/usr/local/lib/python3.6/dist-packages/ipykernel_launcher.py:1: SettingWithCopyWarning: \n",
            "A value is trying to be set on a copy of a slice from a DataFrame\n",
            "\n",
            "See the caveats in the documentation: https://pandas.pydata.org/pandas-docs/stable/user_guide/indexing.html#returning-a-view-versus-a-copy\n",
            "  \"\"\"Entry point for launching an IPython kernel.\n"
          ],
          "name": "stderr"
        }
      ]
    },
    {
      "cell_type": "code",
      "metadata": {
        "colab": {
          "base_uri": "https://localhost:8080/",
          "height": 206
        },
        "id": "7K7G7b8grQmF",
        "outputId": "57a69ca7-1bc2-4b58-88f3-655ea4b69733"
      },
      "source": [
        "q_expert.head(5)"
      ],
      "execution_count": 113,
      "outputs": [
        {
          "output_type": "execute_result",
          "data": {
            "text/html": [
              "<div>\n",
              "<style scoped>\n",
              "    .dataframe tbody tr th:only-of-type {\n",
              "        vertical-align: middle;\n",
              "    }\n",
              "\n",
              "    .dataframe tbody tr th {\n",
              "        vertical-align: top;\n",
              "    }\n",
              "\n",
              "    .dataframe thead th {\n",
              "        text-align: right;\n",
              "    }\n",
              "</style>\n",
              "<table border=\"1\" class=\"dataframe\">\n",
              "  <thead>\n",
              "    <tr style=\"text-align: right;\">\n",
              "      <th></th>\n",
              "      <th>a_userid</th>\n",
              "      <th>reputation</th>\n",
              "      <th>Tags</th>\n",
              "    </tr>\n",
              "  </thead>\n",
              "  <tbody>\n",
              "    <tr>\n",
              "      <th>27190</th>\n",
              "      <td>2688.0</td>\n",
              "      <td>119702</td>\n",
              "      <td>sql</td>\n",
              "    </tr>\n",
              "    <tr>\n",
              "      <th>81169</th>\n",
              "      <td>14637.0</td>\n",
              "      <td>119365</td>\n",
              "      <td>python</td>\n",
              "    </tr>\n",
              "    <tr>\n",
              "      <th>81088</th>\n",
              "      <td>14637.0</td>\n",
              "      <td>119365</td>\n",
              "      <td>r</td>\n",
              "    </tr>\n",
              "    <tr>\n",
              "      <th>81063</th>\n",
              "      <td>14637.0</td>\n",
              "      <td>119365</td>\n",
              "      <td>sql</td>\n",
              "    </tr>\n",
              "    <tr>\n",
              "      <th>788958</th>\n",
              "      <td>569436.0</td>\n",
              "      <td>119301</td>\n",
              "      <td>sql</td>\n",
              "    </tr>\n",
              "  </tbody>\n",
              "</table>\n",
              "</div>"
            ],
            "text/plain": [
              "        a_userid  reputation    Tags\n",
              "27190     2688.0      119702     sql\n",
              "81169    14637.0      119365  python\n",
              "81088    14637.0      119365       r\n",
              "81063    14637.0      119365     sql\n",
              "788958  569436.0      119301     sql"
            ]
          },
          "metadata": {
            "tags": []
          },
          "execution_count": 113
        }
      ]
    },
    {
      "cell_type": "code",
      "metadata": {
        "id": "vWqEmLO7rSn7"
      },
      "source": [
        "df1=q_expert.groupby(\"Tags\")[\"a_userid\"].count()"
      ],
      "execution_count": 114,
      "outputs": []
    },
    {
      "cell_type": "code",
      "metadata": {
        "colab": {
          "base_uri": "https://localhost:8080/",
          "height": 370
        },
        "id": "J8d9n8d5QC2L",
        "outputId": "7744b389-7728-484c-86b2-6be41d13e9bb"
      },
      "source": [
        "df1.plot.bar()"
      ],
      "execution_count": 115,
      "outputs": [
        {
          "output_type": "execute_result",
          "data": {
            "text/plain": [
              "<matplotlib.axes._subplots.AxesSubplot at 0x7ff70b9afb38>"
            ]
          },
          "metadata": {
            "tags": []
          },
          "execution_count": 115
        },
        {
          "output_type": "display_data",
          "data": {
            "image/png": "[encoded data removed]",
            "text/plain": [
              "<Figure size 432x288 with 1 Axes>"
            ]
          },
          "metadata": {
            "tags": [],
            "needs_background": "light"
          }
        }
      ]
    },
    {
      "cell_type": "code",
      "metadata": {
        "id": "48JWCctYRV6a"
      },
      "source": [
        "expert_users=q_expert.groupby(\"Tags\")[\"a_userid\"]"
      ],
      "execution_count": 116,
      "outputs": []
    },
    {
      "cell_type": "code",
      "metadata": {
        "colab": {
          "base_uri": "https://localhost:8080/",
          "height": 281
        },
        "id": "jE7vNPRuQkTF",
        "outputId": "8f221af8-df85-4d14-ab37-48c3d0649869"
      },
      "source": [
        "#Filtering the Top 10 Tags with the count of experts\r\n",
        "expert_users.count().sort_values(ascending=False)[:10].plot.barh()\r\n",
        "plt.title(\"Expert Users for top 10 Tags\")\r\n",
        "plt.xlabel=\"User\"\r\n",
        "plt.show()"
      ],
      "execution_count": 117,
      "outputs": [
        {
          "output_type": "display_data",
          "data": {
            "image/png": "[encoded data removed]",
            "text/plain": [
              "<Figure size 432x288 with 1 Axes>"
            ]
          },
          "metadata": {
            "tags": [],
            "needs_background": "light"
          }
        }
      ]
    },
    {
      "cell_type": "code",
      "metadata": {
        "id": "u0xhxbeaich9"
      },
      "source": [
        "expert_users=pd.DataFrame(q_expert.groupby(\"Tags\")[\"a_userid\"])"
      ],
      "execution_count": 118,
      "outputs": []
    },
    {
      "cell_type": "code",
      "metadata": {
        "colab": {
          "base_uri": "https://localhost:8080/"
        },
        "id": "YIKXR15uig9n",
        "outputId": "f39f1d82-f36a-4522-81aa-d1dc4b7e83b6"
      },
      "source": [
        "expert_users.shape"
      ],
      "execution_count": 119,
      "outputs": [
        {
          "output_type": "execute_result",
          "data": {
            "text/plain": [
              "(28, 2)"
            ]
          },
          "metadata": {
            "tags": []
          },
          "execution_count": 119
        }
      ]
    },
    {
      "cell_type": "code",
      "metadata": {
        "colab": {
          "base_uri": "https://localhost:8080/",
          "height": 206
        },
        "id": "eqfErAXRipYv",
        "outputId": "702e9494-a044-4790-cfab-72375d118697"
      },
      "source": [
        "expert_users.head()"
      ],
      "execution_count": 120,
      "outputs": [
        {
          "output_type": "execute_result",
          "data": {
            "text/html": [
              "<div>\n",
              "<style scoped>\n",
              "    .dataframe tbody tr th:only-of-type {\n",
              "        vertical-align: middle;\n",
              "    }\n",
              "\n",
              "    .dataframe tbody tr th {\n",
              "        vertical-align: top;\n",
              "    }\n",
              "\n",
              "    .dataframe thead th {\n",
              "        text-align: right;\n",
              "    }\n",
              "</style>\n",
              "<table border=\"1\" class=\"dataframe\">\n",
              "  <thead>\n",
              "    <tr style=\"text-align: right;\">\n",
              "      <th></th>\n",
              "      <th>0</th>\n",
              "      <th>1</th>\n",
              "    </tr>\n",
              "  </thead>\n",
              "  <tbody>\n",
              "    <tr>\n",
              "      <th>0</th>\n",
              "      <td>excel</td>\n",
              "      <td>236222       59303.0\n",
              "58603         6819.0\n",
              "8274...</td>\n",
              "    </tr>\n",
              "    <tr>\n",
              "      <th>1</th>\n",
              "      <td>excel matlab</td>\n",
              "      <td>425954       97160.0\n",
              "1474645    2586922.0\n",
              "1632...</td>\n",
              "    </tr>\n",
              "    <tr>\n",
              "      <th>2</th>\n",
              "      <td>excel r</td>\n",
              "      <td>371464    134830.0\n",
              "277959     37751.0\n",
              "713092  ...</td>\n",
              "    </tr>\n",
              "    <tr>\n",
              "      <th>3</th>\n",
              "      <td>excel sas</td>\n",
              "      <td>1275340    1623007.0\n",
              "1504733    2734437.0\n",
              "3927...</td>\n",
              "    </tr>\n",
              "    <tr>\n",
              "      <th>4</th>\n",
              "      <td>matlab</td>\n",
              "      <td>425956       97160.0\n",
              "117631       44330.0\n",
              "7865...</td>\n",
              "    </tr>\n",
              "  </tbody>\n",
              "</table>\n",
              "</div>"
            ],
            "text/plain": [
              "              0                                                  1\n",
              "0         excel  236222       59303.0\n",
              "58603         6819.0\n",
              "8274...\n",
              "1  excel matlab  425954       97160.0\n",
              "1474645    2586922.0\n",
              "1632...\n",
              "2       excel r  371464    134830.0\n",
              "277959     37751.0\n",
              "713092  ...\n",
              "3     excel sas  1275340    1623007.0\n",
              "1504733    2734437.0\n",
              "3927...\n",
              "4        matlab  425956       97160.0\n",
              "117631       44330.0\n",
              "7865..."
            ]
          },
          "metadata": {
            "tags": []
          },
          "execution_count": 120
        }
      ]
    },
    {
      "cell_type": "markdown",
      "metadata": {
        "id": "GdAHc8aXtYHz"
      },
      "source": [
        "**Python and SQL tags has lot of SME and experts in Datascience world so when a question is raised with these tags the notifications can be sent to these users**"
      ]
    },
    {
      "cell_type": "markdown",
      "metadata": {
        "id": "bUehkpdI484Q"
      },
      "source": [
        "**Multivariate Analysis of each feature**"
      ]
    },
    {
      "cell_type": "code",
      "metadata": {
        "id": "CB-bw-5Uz7uA"
      },
      "source": [
        "import seaborn as sns"
      ],
      "execution_count": 121,
      "outputs": []
    },
    {
      "cell_type": "code",
      "metadata": {
        "colab": {
          "base_uri": "https://localhost:8080/",
          "height": 466
        },
        "id": "DV4nhh801Z7f",
        "outputId": "b3ae5866-822e-415d-d78d-166ef22896eb"
      },
      "source": [
        "# Correlation Matrix Heatmap\r\n",
        "f, ax = plt.subplots(figsize=(10, 6))\r\n",
        "corr = merged_whole.corr()\r\n",
        "hm = sns.heatmap(round(corr,2), annot=True, ax=ax, cmap=\"coolwarm\",fmt='.2f',\r\n",
        "                 linewidths=.05)\r\n",
        "f.subplots_adjust(top=0.93)\r\n",
        "t= f.suptitle('Overall Stack overflow Associations', fontsize=14)"
      ],
      "execution_count": 122,
      "outputs": [
        {
          "output_type": "display_data",
          "data": {
            "image/png": "[encoded data removed]",
            "text/plain": [
              "<Figure size 720x432 with 2 Axes>"
            ]
          },
          "metadata": {
            "tags": [],
            "needs_background": "light"
          }
        }
      ]
    },
    {
      "cell_type": "markdown",
      "metadata": {
        "id": "owuNScMu5Dgk"
      },
      "source": [
        "\r\n",
        "1.It seems like Up_votes and reputation has positive correlation of 0.67. \r\n",
        "2.Down_votes vs reputation has 0.41 positive correlation.\r\n",
        "3.Views vs reputation has 0.61 positive correlation.\r\n",
        "\r\n",
        "\r\n",
        "\r\n",
        "\r\n",
        "\r\n"
      ]
    },
    {
      "cell_type": "code",
      "metadata": {
        "colab": {
          "base_uri": "https://localhost:8080/",
          "height": 418
        },
        "id": "aT-nFyyl2Lwf",
        "outputId": "1cc95ec3-2005-4ea8-fbfc-977170ad998b"
      },
      "source": [
        "# Correlation Matrix Heatmap\r\n",
        "ff=filtered[[\"reputation\",\"a_Score\",\"q_score\",\"up_votes\",\"down_votes\",\"views\"]]\r\n",
        "f, ax = plt.subplots(figsize=(10, 6))\r\n",
        "corr = ff.corr()\r\n",
        "hm = sns.heatmap(round(corr,2), annot=True, ax=ax, cmap=\"coolwarm\",fmt='.2f',\r\n",
        "                 linewidths=.05)\r\n",
        "f.subplots_adjust(top=0.93)\r\n",
        "t= f.suptitle('Datascience Stack overflow Correlation', fontsize=14)"
      ],
      "execution_count": 123,
      "outputs": [
        {
          "output_type": "display_data",
          "data": {
            "image/png": "[encoded data removed]",
            "text/plain": [
              "<Figure size 720x432 with 2 Axes>"
            ]
          },
          "metadata": {
            "tags": [],
            "needs_background": "light"
          }
        }
      ]
    },
    {
      "cell_type": "markdown",
      "metadata": {
        "id": "bwwr-D3i6Tko"
      },
      "source": [
        "1.It seems like Up_votes and reputation has positive correlation of 0.56. \r\n",
        "2.Down_votes vs reputation has 0.24 positive correlation.\r\n",
        "3.Views vs reputation has 0.67 positive correlation. "
      ]
    },
    {
      "cell_type": "markdown",
      "metadata": {
        "id": "SAXPE5wgTS6Z"
      },
      "source": [
        "**2.When a user provides a data science tag ('python', 'r', 'matlab', 'sas', 'excel', 'sql') to their question, then Stack Overflow should come up with the expected approximate time to get it answered.**"
      ]
    },
    {
      "cell_type": "code",
      "metadata": {
        "colab": {
          "base_uri": "https://localhost:8080/",
          "height": 112
        },
        "id": "S2MVUXM3TNjR",
        "outputId": "7ad30442-204c-4a20-de76-54509c3b7afa"
      },
      "source": [
        "#Analysing Datetime stamps of Questions Created time and answer created time.\r\n",
        "time_qa = merged_DS[['q_CreationDate', 'a_CreationDate',\"Tag\"]]\r\n",
        "time_qa.head(2)"
      ],
      "execution_count": 287,
      "outputs": [
        {
          "output_type": "execute_result",
          "data": {
            "text/html": [
              "<div>\n",
              "<style scoped>\n",
              "    .dataframe tbody tr th:only-of-type {\n",
              "        vertical-align: middle;\n",
              "    }\n",
              "\n",
              "    .dataframe tbody tr th {\n",
              "        vertical-align: top;\n",
              "    }\n",
              "\n",
              "    .dataframe thead th {\n",
              "        text-align: right;\n",
              "    }\n",
              "</style>\n",
              "<table border=\"1\" class=\"dataframe\">\n",
              "  <thead>\n",
              "    <tr style=\"text-align: right;\">\n",
              "      <th></th>\n",
              "      <th>q_CreationDate</th>\n",
              "      <th>a_CreationDate</th>\n",
              "      <th>Tag</th>\n",
              "    </tr>\n",
              "  </thead>\n",
              "  <tbody>\n",
              "    <tr>\n",
              "      <th>6</th>\n",
              "      <td>2008-10-31 00:17:40+00:00</td>\n",
              "      <td>2008-10-31 04:27:08+00:00</td>\n",
              "      <td>sql stored-procedures subsonic</td>\n",
              "    </tr>\n",
              "    <tr>\n",
              "      <th>21</th>\n",
              "      <td>2010-01-01 23:29:24+00:00</td>\n",
              "      <td>2010-01-01 23:36:57+00:00</td>\n",
              "      <td>sql sql-server</td>\n",
              "    </tr>\n",
              "  </tbody>\n",
              "</table>\n",
              "</div>"
            ],
            "text/plain": [
              "              q_CreationDate  ...                             Tag\n",
              "6  2008-10-31 00:17:40+00:00  ...  sql stored-procedures subsonic\n",
              "21 2010-01-01 23:29:24+00:00  ...                  sql sql-server\n",
              "\n",
              "[2 rows x 3 columns]"
            ]
          },
          "metadata": {
            "tags": []
          },
          "execution_count": 287
        }
      ]
    },
    {
      "cell_type": "code",
      "metadata": {
        "colab": {
          "base_uri": "https://localhost:8080/",
          "height": 216
        },
        "id": "1EkCmmy3TpFn",
        "outputId": "ed8dad77-04a8-4607-8150-fe971bcb266f"
      },
      "source": [
        "#Diffrence between First answer time and Question Created Date\r\n",
        "import datetime\r\n",
        "time_qa['diff'] = abs(time_qa['a_CreationDate'] - time_qa['q_CreationDate'])\r\n",
        "time_qa.head(2)"
      ],
      "execution_count": 288,
      "outputs": [
        {
          "output_type": "stream",
          "text": [
            "/usr/local/lib/python3.6/dist-packages/ipykernel_launcher.py:3: SettingWithCopyWarning: \n",
            "A value is trying to be set on a copy of a slice from a DataFrame.\n",
            "Try using .loc[row_indexer,col_indexer] = value instead\n",
            "\n",
            "See the caveats in the documentation: https://pandas.pydata.org/pandas-docs/stable/user_guide/indexing.html#returning-a-view-versus-a-copy\n",
            "  This is separate from the ipykernel package so we can avoid doing imports until\n"
          ],
          "name": "stderr"
        },
        {
          "output_type": "execute_result",
          "data": {
            "text/html": [
              "<div>\n",
              "<style scoped>\n",
              "    .dataframe tbody tr th:only-of-type {\n",
              "        vertical-align: middle;\n",
              "    }\n",
              "\n",
              "    .dataframe tbody tr th {\n",
              "        vertical-align: top;\n",
              "    }\n",
              "\n",
              "    .dataframe thead th {\n",
              "        text-align: right;\n",
              "    }\n",
              "</style>\n",
              "<table border=\"1\" class=\"dataframe\">\n",
              "  <thead>\n",
              "    <tr style=\"text-align: right;\">\n",
              "      <th></th>\n",
              "      <th>q_CreationDate</th>\n",
              "      <th>a_CreationDate</th>\n",
              "      <th>Tag</th>\n",
              "      <th>diff</th>\n",
              "    </tr>\n",
              "  </thead>\n",
              "  <tbody>\n",
              "    <tr>\n",
              "      <th>6</th>\n",
              "      <td>2008-10-31 00:17:40+00:00</td>\n",
              "      <td>2008-10-31 04:27:08+00:00</td>\n",
              "      <td>sql stored-procedures subsonic</td>\n",
              "      <td>0 days 04:09:28</td>\n",
              "    </tr>\n",
              "    <tr>\n",
              "      <th>21</th>\n",
              "      <td>2010-01-01 23:29:24+00:00</td>\n",
              "      <td>2010-01-01 23:36:57+00:00</td>\n",
              "      <td>sql sql-server</td>\n",
              "      <td>0 days 00:07:33</td>\n",
              "    </tr>\n",
              "  </tbody>\n",
              "</table>\n",
              "</div>"
            ],
            "text/plain": [
              "              q_CreationDate  ...            diff\n",
              "6  2008-10-31 00:17:40+00:00  ... 0 days 04:09:28\n",
              "21 2010-01-01 23:29:24+00:00  ... 0 days 00:07:33\n",
              "\n",
              "[2 rows x 4 columns]"
            ]
          },
          "metadata": {
            "tags": []
          },
          "execution_count": 288
        }
      ]
    },
    {
      "cell_type": "code",
      "metadata": {
        "colab": {
          "base_uri": "https://localhost:8080/"
        },
        "id": "MvvDtQj4-OP3",
        "outputId": "33ac8946-8f70-430d-cc55-28d65b64f266"
      },
      "source": [
        "print(\"The max time that takes for a question to be answered\",time_qa[\"diff\"].max())"
      ],
      "execution_count": 289,
      "outputs": [
        {
          "output_type": "stream",
          "text": [
            "The max time that takes for a question to be answered 2944 days 08:48:01\n"
          ],
          "name": "stdout"
        }
      ]
    },
    {
      "cell_type": "code",
      "metadata": {
        "colab": {
          "base_uri": "https://localhost:8080/"
        },
        "id": "h5DSqH-y-ran",
        "outputId": "4b1b8f12-a4dc-422d-ca53-cf6d225545eb"
      },
      "source": [
        "print(\"The min time that takes for a question to be answered\",time_qa[\"diff\"].min())"
      ],
      "execution_count": 290,
      "outputs": [
        {
          "output_type": "stream",
          "text": [
            "The min time that takes for a question to be answered 0 days 00:00:00\n"
          ],
          "name": "stdout"
        }
      ]
    },
    {
      "cell_type": "code",
      "metadata": {
        "colab": {
          "base_uri": "https://localhost:8080/"
        },
        "id": "9Rhq8E3E-vQu",
        "outputId": "7e7b3638-e1b1-4ef7-da5f-7f788629e142"
      },
      "source": [
        "print(\"The mean time for the question to be answered is \",time_qa[\"diff\"].mean())"
      ],
      "execution_count": 291,
      "outputs": [
        {
          "output_type": "stream",
          "text": [
            "The mean time for the question to be answered is  57 days 06:01:48.144199719\n"
          ],
          "name": "stdout"
        }
      ]
    },
    {
      "cell_type": "code",
      "metadata": {
        "colab": {
          "base_uri": "https://localhost:8080/"
        },
        "id": "nK5soMSzVIku",
        "outputId": "5c273c5e-1193-405d-c828-2699e90e52c8"
      },
      "source": [
        "time_qa.sort_values(\"diff\",ascending=True,inplace=True)"
      ],
      "execution_count": 292,
      "outputs": [
        {
          "output_type": "stream",
          "text": [
            "/usr/local/lib/python3.6/dist-packages/ipykernel_launcher.py:1: SettingWithCopyWarning: \n",
            "A value is trying to be set on a copy of a slice from a DataFrame\n",
            "\n",
            "See the caveats in the documentation: https://pandas.pydata.org/pandas-docs/stable/user_guide/indexing.html#returning-a-view-versus-a-copy\n",
            "  \"\"\"Entry point for launching an IPython kernel.\n"
          ],
          "name": "stderr"
        }
      ]
    },
    {
      "cell_type": "code",
      "metadata": {
        "colab": {
          "base_uri": "https://localhost:8080/"
        },
        "id": "QyyzxN3EWalY",
        "outputId": "01823c4f-3912-4b0a-8699-42ad7bc9e771"
      },
      "source": [
        "#Changing the datatype of diff to epoch time in seconds\r\n",
        "time_qa[\"diff_epoch\"]=time_qa[\"diff\"].astype('int64')//1e9"
      ],
      "execution_count": 293,
      "outputs": [
        {
          "output_type": "stream",
          "text": [
            "/usr/local/lib/python3.6/dist-packages/ipykernel_launcher.py:2: SettingWithCopyWarning: \n",
            "A value is trying to be set on a copy of a slice from a DataFrame.\n",
            "Try using .loc[row_indexer,col_indexer] = value instead\n",
            "\n",
            "See the caveats in the documentation: https://pandas.pydata.org/pandas-docs/stable/user_guide/indexing.html#returning-a-view-versus-a-copy\n",
            "  \n"
          ],
          "name": "stderr"
        }
      ]
    },
    {
      "cell_type": "code",
      "metadata": {
        "colab": {
          "base_uri": "https://localhost:8080/",
          "height": 112
        },
        "id": "VjOZ4TJU_W9K",
        "outputId": "42edd800-eee0-41e4-bba3-def88e07ae44"
      },
      "source": [
        "time_qa.head(2)"
      ],
      "execution_count": 294,
      "outputs": [
        {
          "output_type": "execute_result",
          "data": {
            "text/html": [
              "<div>\n",
              "<style scoped>\n",
              "    .dataframe tbody tr th:only-of-type {\n",
              "        vertical-align: middle;\n",
              "    }\n",
              "\n",
              "    .dataframe tbody tr th {\n",
              "        vertical-align: top;\n",
              "    }\n",
              "\n",
              "    .dataframe thead th {\n",
              "        text-align: right;\n",
              "    }\n",
              "</style>\n",
              "<table border=\"1\" class=\"dataframe\">\n",
              "  <thead>\n",
              "    <tr style=\"text-align: right;\">\n",
              "      <th></th>\n",
              "      <th>q_CreationDate</th>\n",
              "      <th>a_CreationDate</th>\n",
              "      <th>Tag</th>\n",
              "      <th>diff</th>\n",
              "      <th>diff_epoch</th>\n",
              "    </tr>\n",
              "  </thead>\n",
              "  <tbody>\n",
              "    <tr>\n",
              "      <th>694421</th>\n",
              "      <td>2013-11-12 18:34:55+00:00</td>\n",
              "      <td>2013-11-12 18:34:55+00:00</td>\n",
              "      <td>python dictionary</td>\n",
              "      <td>0 days</td>\n",
              "      <td>0</td>\n",
              "    </tr>\n",
              "    <tr>\n",
              "      <th>1307699</th>\n",
              "      <td>2015-08-17 19:21:34+00:00</td>\n",
              "      <td>2015-08-17 19:21:34+00:00</td>\n",
              "      <td>python decorator introspection python-decorators</td>\n",
              "      <td>0 days</td>\n",
              "      <td>0</td>\n",
              "    </tr>\n",
              "  </tbody>\n",
              "</table>\n",
              "</div>"
            ],
            "text/plain": [
              "                   q_CreationDate            a_CreationDate  ...   diff diff_epoch\n",
              "694421  2013-11-12 18:34:55+00:00 2013-11-12 18:34:55+00:00  ... 0 days          0\n",
              "1307699 2015-08-17 19:21:34+00:00 2015-08-17 19:21:34+00:00  ... 0 days          0\n",
              "\n",
              "[2 rows x 5 columns]"
            ]
          },
          "metadata": {
            "tags": []
          },
          "execution_count": 294
        }
      ]
    },
    {
      "cell_type": "code",
      "metadata": {
        "colab": {
          "base_uri": "https://localhost:8080/"
        },
        "id": "T2CY0VSiivRW",
        "outputId": "dccae827-4b6d-4aa1-cdd1-fd341584fe8e"
      },
      "source": [
        "print(\"The average time response between the question and answer time in Hrs \",np.average(time_qa[\"diff_epoch\"])/3600.0)"
      ],
      "execution_count": 295,
      "outputs": [
        {
          "output_type": "stream",
          "text": [
            "The average time response between the question and answer time in Hrs  1374.0300400554813\n"
          ],
          "name": "stdout"
        }
      ]
    },
    {
      "cell_type": "code",
      "metadata": {
        "colab": {
          "base_uri": "https://localhost:8080/"
        },
        "id": "BGYfBEQOW1_o",
        "outputId": "62bcf389-69d4-4e0e-b590-8f9fe6fca9a2"
      },
      "source": [
        "time_qa[\"diff_epoch\"].describe()"
      ],
      "execution_count": 159,
      "outputs": [
        {
          "output_type": "execute_result",
          "data": {
            "text/plain": [
              "count    2.103610e+05\n",
              "mean     4.946508e+06\n",
              "std      2.238292e+07\n",
              "min      0.000000e+00\n",
              "25%      4.860000e+02\n",
              "50%      1.538000e+03\n",
              "75%      1.123700e+04\n",
              "max      2.543933e+08\n",
              "Name: diff_epoch, dtype: float64"
            ]
          },
          "metadata": {
            "tags": []
          },
          "execution_count": 159
        }
      ]
    },
    {
      "cell_type": "code",
      "metadata": {
        "id": "cB_Ovayxa36w"
      },
      "source": [
        "time_qa.set_index(\"q_CreationDate\",inplace=True)"
      ],
      "execution_count": 296,
      "outputs": []
    },
    {
      "cell_type": "code",
      "metadata": {
        "colab": {
          "base_uri": "https://localhost:8080/",
          "height": 592
        },
        "id": "McNH17M5W5TH",
        "outputId": "d3afeb7e-b9e4-450e-919e-3e4aeef50896"
      },
      "source": [
        "time_qa[\"diff\"].plot.line()"
      ],
      "execution_count": 297,
      "outputs": [
        {
          "output_type": "execute_result",
          "data": {
            "text/plain": [
              "<matplotlib.axes._subplots.AxesSubplot at 0x7f891c315ba8>"
            ]
          },
          "metadata": {
            "tags": []
          },
          "execution_count": 297
        },
        {
          "output_type": "display_data",
          "data": {
            "image/png": "[encoded data removed]",
            "text/plain": [
              "<Figure size 720x720 with 1 Axes>"
            ]
          },
          "metadata": {
            "tags": [],
            "needs_background": "light"
          }
        }
      ]
    },
    {
      "cell_type": "markdown",
      "metadata": {
        "id": "WPyac4FF_3BG"
      },
      "source": [
        "**The response time for the question is declining than 2009 to 2017**"
      ]
    },
    {
      "cell_type": "markdown",
      "metadata": {
        "id": "NAA0NhWX2-6G"
      },
      "source": [
        "**Does Number of tags has influence on the response time ?**"
      ]
    },
    {
      "cell_type": "code",
      "metadata": {
        "colab": {
          "base_uri": "https://localhost:8080/",
          "height": 143
        },
        "id": "wZZNSc_1cdju",
        "outputId": "e0faa828-736f-421a-cbe5-54ef84eb4ada"
      },
      "source": [
        "time_qa.head(2)"
      ],
      "execution_count": 135,
      "outputs": [
        {
          "output_type": "execute_result",
          "data": {
            "text/html": [
              "<div>\n",
              "<style scoped>\n",
              "    .dataframe tbody tr th:only-of-type {\n",
              "        vertical-align: middle;\n",
              "    }\n",
              "\n",
              "    .dataframe tbody tr th {\n",
              "        vertical-align: top;\n",
              "    }\n",
              "\n",
              "    .dataframe thead th {\n",
              "        text-align: right;\n",
              "    }\n",
              "</style>\n",
              "<table border=\"1\" class=\"dataframe\">\n",
              "  <thead>\n",
              "    <tr style=\"text-align: right;\">\n",
              "      <th></th>\n",
              "      <th>a_CreationDate</th>\n",
              "      <th>Tag</th>\n",
              "      <th>diff</th>\n",
              "    </tr>\n",
              "    <tr>\n",
              "      <th>q_CreationDate</th>\n",
              "      <th></th>\n",
              "      <th></th>\n",
              "      <th></th>\n",
              "    </tr>\n",
              "  </thead>\n",
              "  <tbody>\n",
              "    <tr>\n",
              "      <th>2013-11-12 18:34:55+00:00</th>\n",
              "      <td>2013-11-12 18:34:55+00:00</td>\n",
              "      <td>python dictionary</td>\n",
              "      <td>0</td>\n",
              "    </tr>\n",
              "    <tr>\n",
              "      <th>2015-08-17 19:21:34+00:00</th>\n",
              "      <td>2015-08-17 19:21:34+00:00</td>\n",
              "      <td>python decorator introspection python-decorators</td>\n",
              "      <td>0</td>\n",
              "    </tr>\n",
              "  </tbody>\n",
              "</table>\n",
              "</div>"
            ],
            "text/plain": [
              "                                     a_CreationDate  ... diff\n",
              "q_CreationDate                                       ...     \n",
              "2013-11-12 18:34:55+00:00 2013-11-12 18:34:55+00:00  ...    0\n",
              "2015-08-17 19:21:34+00:00 2015-08-17 19:21:34+00:00  ...    0\n",
              "\n",
              "[2 rows x 3 columns]"
            ]
          },
          "metadata": {
            "tags": []
          },
          "execution_count": 135
        }
      ]
    },
    {
      "cell_type": "code",
      "metadata": {
        "colab": {
          "base_uri": "https://localhost:8080/",
          "height": 206
        },
        "id": "zEGPTrC9efhP",
        "outputId": "6c217cd9-5e9e-4c82-ae28-e252e193030b"
      },
      "source": [
        "time_qa[time_qa[\"diff\"] > 10][:4]"
      ],
      "execution_count": 136,
      "outputs": [
        {
          "output_type": "execute_result",
          "data": {
            "text/html": [
              "<div>\n",
              "<style scoped>\n",
              "    .dataframe tbody tr th:only-of-type {\n",
              "        vertical-align: middle;\n",
              "    }\n",
              "\n",
              "    .dataframe tbody tr th {\n",
              "        vertical-align: top;\n",
              "    }\n",
              "\n",
              "    .dataframe thead th {\n",
              "        text-align: right;\n",
              "    }\n",
              "</style>\n",
              "<table border=\"1\" class=\"dataframe\">\n",
              "  <thead>\n",
              "    <tr style=\"text-align: right;\">\n",
              "      <th></th>\n",
              "      <th>a_CreationDate</th>\n",
              "      <th>Tag</th>\n",
              "      <th>diff</th>\n",
              "    </tr>\n",
              "    <tr>\n",
              "      <th>q_CreationDate</th>\n",
              "      <th></th>\n",
              "      <th></th>\n",
              "      <th></th>\n",
              "    </tr>\n",
              "  </thead>\n",
              "  <tbody>\n",
              "    <tr>\n",
              "      <th>2008-10-13 07:35:14+00:00</th>\n",
              "      <td>2008-10-13 07:35:25+00:00</td>\n",
              "      <td>python windows windows-vista wxpython pywin32</td>\n",
              "      <td>11</td>\n",
              "    </tr>\n",
              "    <tr>\n",
              "      <th>2008-10-17 04:46:08+00:00</th>\n",
              "      <td>2008-10-17 04:46:20+00:00</td>\n",
              "      <td>python python-import</td>\n",
              "      <td>12</td>\n",
              "    </tr>\n",
              "    <tr>\n",
              "      <th>2016-01-13 10:14:22+00:00</th>\n",
              "      <td>2016-01-13 10:14:35+00:00</td>\n",
              "      <td>sql sql-server database-performance sqlgeograp...</td>\n",
              "      <td>13</td>\n",
              "    </tr>\n",
              "    <tr>\n",
              "      <th>2014-06-05 11:13:52+00:00</th>\n",
              "      <td>2014-06-05 11:14:08+00:00</td>\n",
              "      <td>excel vba clipboard</td>\n",
              "      <td>16</td>\n",
              "    </tr>\n",
              "  </tbody>\n",
              "</table>\n",
              "</div>"
            ],
            "text/plain": [
              "                                     a_CreationDate  ... diff\n",
              "q_CreationDate                                       ...     \n",
              "2008-10-13 07:35:14+00:00 2008-10-13 07:35:25+00:00  ...   11\n",
              "2008-10-17 04:46:08+00:00 2008-10-17 04:46:20+00:00  ...   12\n",
              "2016-01-13 10:14:22+00:00 2016-01-13 10:14:35+00:00  ...   13\n",
              "2014-06-05 11:13:52+00:00 2014-06-05 11:14:08+00:00  ...   16\n",
              "\n",
              "[4 rows x 3 columns]"
            ]
          },
          "metadata": {
            "tags": []
          },
          "execution_count": 136
        }
      ]
    },
    {
      "cell_type": "code",
      "metadata": {
        "colab": {
          "base_uri": "https://localhost:8080/"
        },
        "id": "t1MWN0DCr4gC",
        "outputId": "ee2eb61f-29c8-4e89-d89e-143a2eacc71b"
      },
      "source": [
        "#Creating Tag Count column to see whether there is a differece in the response time when the number of tags\r\n",
        "time_qa[\"tag_count\"] = time_qa[\"Tag\"].apply(lambda text: len(text.split(\" \")))"
      ],
      "execution_count": 298,
      "outputs": [
        {
          "output_type": "stream",
          "text": [
            "/usr/local/lib/python3.6/dist-packages/ipykernel_launcher.py:2: SettingWithCopyWarning: \n",
            "A value is trying to be set on a copy of a slice from a DataFrame.\n",
            "Try using .loc[row_indexer,col_indexer] = value instead\n",
            "\n",
            "See the caveats in the documentation: https://pandas.pydata.org/pandas-docs/stable/user_guide/indexing.html#returning-a-view-versus-a-copy\n",
            "  \n"
          ],
          "name": "stderr"
        }
      ]
    },
    {
      "cell_type": "code",
      "metadata": {
        "colab": {
          "base_uri": "https://localhost:8080/",
          "height": 143
        },
        "id": "BJxMwiu0sCKy",
        "outputId": "06b5dc29-96c3-4759-b0fd-4a39f7598428"
      },
      "source": [
        "time_qa.head(2)"
      ],
      "execution_count": 299,
      "outputs": [
        {
          "output_type": "execute_result",
          "data": {
            "text/html": [
              "<div>\n",
              "<style scoped>\n",
              "    .dataframe tbody tr th:only-of-type {\n",
              "        vertical-align: middle;\n",
              "    }\n",
              "\n",
              "    .dataframe tbody tr th {\n",
              "        vertical-align: top;\n",
              "    }\n",
              "\n",
              "    .dataframe thead th {\n",
              "        text-align: right;\n",
              "    }\n",
              "</style>\n",
              "<table border=\"1\" class=\"dataframe\">\n",
              "  <thead>\n",
              "    <tr style=\"text-align: right;\">\n",
              "      <th></th>\n",
              "      <th>a_CreationDate</th>\n",
              "      <th>Tag</th>\n",
              "      <th>diff</th>\n",
              "      <th>diff_epoch</th>\n",
              "      <th>tag_count</th>\n",
              "    </tr>\n",
              "    <tr>\n",
              "      <th>q_CreationDate</th>\n",
              "      <th></th>\n",
              "      <th></th>\n",
              "      <th></th>\n",
              "      <th></th>\n",
              "      <th></th>\n",
              "    </tr>\n",
              "  </thead>\n",
              "  <tbody>\n",
              "    <tr>\n",
              "      <th>2013-11-12 18:34:55+00:00</th>\n",
              "      <td>2013-11-12 18:34:55+00:00</td>\n",
              "      <td>python dictionary</td>\n",
              "      <td>0 days</td>\n",
              "      <td>0</td>\n",
              "      <td>2</td>\n",
              "    </tr>\n",
              "    <tr>\n",
              "      <th>2015-08-17 19:21:34+00:00</th>\n",
              "      <td>2015-08-17 19:21:34+00:00</td>\n",
              "      <td>python decorator introspection python-decorators</td>\n",
              "      <td>0 days</td>\n",
              "      <td>0</td>\n",
              "      <td>4</td>\n",
              "    </tr>\n",
              "  </tbody>\n",
              "</table>\n",
              "</div>"
            ],
            "text/plain": [
              "                                     a_CreationDate  ... tag_count\n",
              "q_CreationDate                                       ...          \n",
              "2013-11-12 18:34:55+00:00 2013-11-12 18:34:55+00:00  ...         2\n",
              "2015-08-17 19:21:34+00:00 2015-08-17 19:21:34+00:00  ...         4\n",
              "\n",
              "[2 rows x 5 columns]"
            ]
          },
          "metadata": {
            "tags": []
          },
          "execution_count": 299
        }
      ]
    },
    {
      "cell_type": "code",
      "metadata": {
        "colab": {
          "base_uri": "https://localhost:8080/",
          "height": 237
        },
        "id": "Np0emEWvtgDb",
        "outputId": "e22d78f7-ec2a-46fc-f9ef-7595e2aa05f2"
      },
      "source": [
        "time_qa.groupby(\"tag_count\").count()"
      ],
      "execution_count": 303,
      "outputs": [
        {
          "output_type": "execute_result",
          "data": {
            "text/html": [
              "<div>\n",
              "<style scoped>\n",
              "    .dataframe tbody tr th:only-of-type {\n",
              "        vertical-align: middle;\n",
              "    }\n",
              "\n",
              "    .dataframe tbody tr th {\n",
              "        vertical-align: top;\n",
              "    }\n",
              "\n",
              "    .dataframe thead th {\n",
              "        text-align: right;\n",
              "    }\n",
              "</style>\n",
              "<table border=\"1\" class=\"dataframe\">\n",
              "  <thead>\n",
              "    <tr style=\"text-align: right;\">\n",
              "      <th></th>\n",
              "      <th>a_CreationDate</th>\n",
              "      <th>Tag</th>\n",
              "      <th>diff</th>\n",
              "      <th>diff_epoch</th>\n",
              "    </tr>\n",
              "    <tr>\n",
              "      <th>tag_count</th>\n",
              "      <th></th>\n",
              "      <th></th>\n",
              "      <th></th>\n",
              "      <th></th>\n",
              "    </tr>\n",
              "  </thead>\n",
              "  <tbody>\n",
              "    <tr>\n",
              "      <th>1</th>\n",
              "      <td>20372</td>\n",
              "      <td>20372</td>\n",
              "      <td>20372</td>\n",
              "      <td>20372</td>\n",
              "    </tr>\n",
              "    <tr>\n",
              "      <th>2</th>\n",
              "      <td>58656</td>\n",
              "      <td>58656</td>\n",
              "      <td>58656</td>\n",
              "      <td>58656</td>\n",
              "    </tr>\n",
              "    <tr>\n",
              "      <th>3</th>\n",
              "      <td>64703</td>\n",
              "      <td>64703</td>\n",
              "      <td>64703</td>\n",
              "      <td>64703</td>\n",
              "    </tr>\n",
              "    <tr>\n",
              "      <th>4</th>\n",
              "      <td>42016</td>\n",
              "      <td>42016</td>\n",
              "      <td>42016</td>\n",
              "      <td>42016</td>\n",
              "    </tr>\n",
              "    <tr>\n",
              "      <th>5</th>\n",
              "      <td>24614</td>\n",
              "      <td>24614</td>\n",
              "      <td>24614</td>\n",
              "      <td>24614</td>\n",
              "    </tr>\n",
              "  </tbody>\n",
              "</table>\n",
              "</div>"
            ],
            "text/plain": [
              "           a_CreationDate    Tag   diff  diff_epoch\n",
              "tag_count                                          \n",
              "1                   20372  20372  20372       20372\n",
              "2                   58656  58656  58656       58656\n",
              "3                   64703  64703  64703       64703\n",
              "4                   42016  42016  42016       42016\n",
              "5                   24614  24614  24614       24614"
            ]
          },
          "metadata": {
            "tags": []
          },
          "execution_count": 303
        }
      ]
    },
    {
      "cell_type": "code",
      "metadata": {
        "colab": {
          "base_uri": "https://localhost:8080/",
          "height": 418
        },
        "id": "utwQuJ-7tL0s",
        "outputId": "1eac8409-31c7-4e57-d6ad-dfaa7b0e28cc"
      },
      "source": [
        "ff=time_qa[[\"diff_epoch\",\"tag_count\"]]\r\n",
        "f, ax = plt.subplots(figsize=(10, 6))\r\n",
        "corr = ff.corr()\r\n",
        "hm = sns.heatmap(round(corr,2), annot=True, ax=ax, cmap=\"coolwarm\",fmt='.2f',\r\n",
        "                 linewidths=.05)\r\n",
        "f.subplots_adjust(top=0.93)\r\n",
        "t= f.suptitle('Datascience Stack overflow Correlation', fontsize=14)"
      ],
      "execution_count": 168,
      "outputs": [
        {
          "output_type": "display_data",
          "data": {
            "image/png": "[encoded data removed]",
            "text/plain": [
              "<Figure size 720x432 with 2 Axes>"
            ]
          },
          "metadata": {
            "tags": [],
            "needs_background": "light"
          }
        }
      ]
    },
    {
      "cell_type": "markdown",
      "metadata": {
        "id": "9XaHLnKjAuyq"
      },
      "source": [
        "**By above graph we can infer that it is no relation between the number of tags and the response time**"
      ]
    },
    {
      "cell_type": "markdown",
      "metadata": {
        "id": "WKeuV3Qo2baX"
      },
      "source": [
        "**Average response time of questions to Respond for Tags?**"
      ]
    },
    {
      "cell_type": "code",
      "metadata": {
        "colab": {
          "base_uri": "https://localhost:8080/",
          "height": 206
        },
        "id": "5wvKfyR0nOxM",
        "outputId": "893e1530-f7fa-4bf5-fa53-af127e23bb12"
      },
      "source": [
        "tag_rate = merged_DS[['Tags', 'q_CreationDate', 'a_CreationDate']].drop_duplicates().reset_index(drop=True)\r\n",
        "tag_rate['diff'] = abs(tag_rate['q_CreationDate'] - tag_rate['a_CreationDate'])\r\n",
        "tag_rate.head()"
      ],
      "execution_count": 273,
      "outputs": [
        {
          "output_type": "execute_result",
          "data": {
            "text/html": [
              "<div>\n",
              "<style scoped>\n",
              "    .dataframe tbody tr th:only-of-type {\n",
              "        vertical-align: middle;\n",
              "    }\n",
              "\n",
              "    .dataframe tbody tr th {\n",
              "        vertical-align: top;\n",
              "    }\n",
              "\n",
              "    .dataframe thead th {\n",
              "        text-align: right;\n",
              "    }\n",
              "</style>\n",
              "<table border=\"1\" class=\"dataframe\">\n",
              "  <thead>\n",
              "    <tr style=\"text-align: right;\">\n",
              "      <th></th>\n",
              "      <th>Tags</th>\n",
              "      <th>q_CreationDate</th>\n",
              "      <th>a_CreationDate</th>\n",
              "      <th>diff</th>\n",
              "    </tr>\n",
              "  </thead>\n",
              "  <tbody>\n",
              "    <tr>\n",
              "      <th>0</th>\n",
              "      <td>sql</td>\n",
              "      <td>2008-10-31 00:17:40+00:00</td>\n",
              "      <td>2008-10-31 04:27:08+00:00</td>\n",
              "      <td>0 days 04:09:28</td>\n",
              "    </tr>\n",
              "    <tr>\n",
              "      <th>1</th>\n",
              "      <td>sql</td>\n",
              "      <td>2010-01-01 23:29:24+00:00</td>\n",
              "      <td>2010-01-01 23:36:57+00:00</td>\n",
              "      <td>0 days 00:07:33</td>\n",
              "    </tr>\n",
              "    <tr>\n",
              "      <th>2</th>\n",
              "      <td>sql</td>\n",
              "      <td>2008-08-01 15:50:08+00:00</td>\n",
              "      <td>2008-09-23 22:41:11+00:00</td>\n",
              "      <td>53 days 06:51:03</td>\n",
              "    </tr>\n",
              "    <tr>\n",
              "      <th>3</th>\n",
              "      <td>sql</td>\n",
              "      <td>2009-07-01 12:29:25+00:00</td>\n",
              "      <td>2009-07-01 12:34:48+00:00</td>\n",
              "      <td>0 days 00:05:23</td>\n",
              "    </tr>\n",
              "    <tr>\n",
              "      <th>4</th>\n",
              "      <td>sql</td>\n",
              "      <td>2011-10-15 02:49:19+00:00</td>\n",
              "      <td>2011-10-15 02:57:29+00:00</td>\n",
              "      <td>0 days 00:08:10</td>\n",
              "    </tr>\n",
              "  </tbody>\n",
              "</table>\n",
              "</div>"
            ],
            "text/plain": [
              "  Tags            q_CreationDate            a_CreationDate             diff\n",
              "0  sql 2008-10-31 00:17:40+00:00 2008-10-31 04:27:08+00:00  0 days 04:09:28\n",
              "1  sql 2010-01-01 23:29:24+00:00 2010-01-01 23:36:57+00:00  0 days 00:07:33\n",
              "2  sql 2008-08-01 15:50:08+00:00 2008-09-23 22:41:11+00:00 53 days 06:51:03\n",
              "3  sql 2009-07-01 12:29:25+00:00 2009-07-01 12:34:48+00:00  0 days 00:05:23\n",
              "4  sql 2011-10-15 02:49:19+00:00 2011-10-15 02:57:29+00:00  0 days 00:08:10"
            ]
          },
          "metadata": {
            "tags": []
          },
          "execution_count": 273
        }
      ]
    },
    {
      "cell_type": "code",
      "metadata": {
        "colab": {
          "base_uri": "https://localhost:8080/"
        },
        "id": "XFXyWauroZUU",
        "outputId": "1afa4fcd-be20-44c2-991c-f88174335874"
      },
      "source": [
        "tag_rate.info()"
      ],
      "execution_count": 274,
      "outputs": [
        {
          "output_type": "stream",
          "text": [
            "<class 'pandas.core.frame.DataFrame'>\n",
            "RangeIndex: 210245 entries, 0 to 210244\n",
            "Data columns (total 4 columns):\n",
            " #   Column          Non-Null Count   Dtype              \n",
            "---  ------          --------------   -----              \n",
            " 0   Tags            210245 non-null  object             \n",
            " 1   q_CreationDate  210245 non-null  datetime64[ns, UTC]\n",
            " 2   a_CreationDate  210245 non-null  datetime64[ns, UTC]\n",
            " 3   diff            210245 non-null  timedelta64[ns]    \n",
            "dtypes: datetime64[ns, UTC](2), object(1), timedelta64[ns](1)\n",
            "memory usage: 6.4+ MB\n"
          ],
          "name": "stdout"
        }
      ]
    },
    {
      "cell_type": "code",
      "metadata": {
        "colab": {
          "base_uri": "https://localhost:8080/",
          "height": 112
        },
        "id": "Fts7d3zkqMtW",
        "outputId": "1b54eb89-252c-4aac-f9bd-f44c643aa5d4"
      },
      "source": [
        "tag_rate.head(2)"
      ],
      "execution_count": 275,
      "outputs": [
        {
          "output_type": "execute_result",
          "data": {
            "text/html": [
              "<div>\n",
              "<style scoped>\n",
              "    .dataframe tbody tr th:only-of-type {\n",
              "        vertical-align: middle;\n",
              "    }\n",
              "\n",
              "    .dataframe tbody tr th {\n",
              "        vertical-align: top;\n",
              "    }\n",
              "\n",
              "    .dataframe thead th {\n",
              "        text-align: right;\n",
              "    }\n",
              "</style>\n",
              "<table border=\"1\" class=\"dataframe\">\n",
              "  <thead>\n",
              "    <tr style=\"text-align: right;\">\n",
              "      <th></th>\n",
              "      <th>Tags</th>\n",
              "      <th>q_CreationDate</th>\n",
              "      <th>a_CreationDate</th>\n",
              "      <th>diff</th>\n",
              "    </tr>\n",
              "  </thead>\n",
              "  <tbody>\n",
              "    <tr>\n",
              "      <th>0</th>\n",
              "      <td>sql</td>\n",
              "      <td>2008-10-31 00:17:40+00:00</td>\n",
              "      <td>2008-10-31 04:27:08+00:00</td>\n",
              "      <td>0 days 04:09:28</td>\n",
              "    </tr>\n",
              "    <tr>\n",
              "      <th>1</th>\n",
              "      <td>sql</td>\n",
              "      <td>2010-01-01 23:29:24+00:00</td>\n",
              "      <td>2010-01-01 23:36:57+00:00</td>\n",
              "      <td>0 days 00:07:33</td>\n",
              "    </tr>\n",
              "  </tbody>\n",
              "</table>\n",
              "</div>"
            ],
            "text/plain": [
              "  Tags            q_CreationDate            a_CreationDate            diff\n",
              "0  sql 2008-10-31 00:17:40+00:00 2008-10-31 04:27:08+00:00 0 days 04:09:28\n",
              "1  sql 2010-01-01 23:29:24+00:00 2010-01-01 23:36:57+00:00 0 days 00:07:33"
            ]
          },
          "metadata": {
            "tags": []
          },
          "execution_count": 275
        }
      ]
    },
    {
      "cell_type": "code",
      "metadata": {
        "id": "T6YQFT_8xLlv"
      },
      "source": [
        "tag_rate[\"diffint\"]=tag_rate[\"diff\"].astype('timedelta64[s]').astype(int)"
      ],
      "execution_count": 276,
      "outputs": []
    },
    {
      "cell_type": "code",
      "metadata": {
        "colab": {
          "base_uri": "https://localhost:8080/"
        },
        "id": "PXcUpkR3x3RT",
        "outputId": "36df7435-e57d-4c2c-97c3-6868820c0515"
      },
      "source": [
        "tag_rate.info()"
      ],
      "execution_count": 277,
      "outputs": [
        {
          "output_type": "stream",
          "text": [
            "<class 'pandas.core.frame.DataFrame'>\n",
            "RangeIndex: 210245 entries, 0 to 210244\n",
            "Data columns (total 5 columns):\n",
            " #   Column          Non-Null Count   Dtype              \n",
            "---  ------          --------------   -----              \n",
            " 0   Tags            210245 non-null  object             \n",
            " 1   q_CreationDate  210245 non-null  datetime64[ns, UTC]\n",
            " 2   a_CreationDate  210245 non-null  datetime64[ns, UTC]\n",
            " 3   diff            210245 non-null  timedelta64[ns]    \n",
            " 4   diffint         210245 non-null  int64              \n",
            "dtypes: datetime64[ns, UTC](2), int64(1), object(1), timedelta64[ns](1)\n",
            "memory usage: 8.0+ MB\n"
          ],
          "name": "stdout"
        }
      ]
    },
    {
      "cell_type": "code",
      "metadata": {
        "colab": {
          "base_uri": "https://localhost:8080/",
          "height": 112
        },
        "id": "8ScIlBt0xXrN",
        "outputId": "72c2c7f0-e5e6-43a8-938b-b441899b6830"
      },
      "source": [
        "tag_rate.head(2)"
      ],
      "execution_count": 268,
      "outputs": [
        {
          "output_type": "execute_result",
          "data": {
            "text/html": [
              "<div>\n",
              "<style scoped>\n",
              "    .dataframe tbody tr th:only-of-type {\n",
              "        vertical-align: middle;\n",
              "    }\n",
              "\n",
              "    .dataframe tbody tr th {\n",
              "        vertical-align: top;\n",
              "    }\n",
              "\n",
              "    .dataframe thead th {\n",
              "        text-align: right;\n",
              "    }\n",
              "</style>\n",
              "<table border=\"1\" class=\"dataframe\">\n",
              "  <thead>\n",
              "    <tr style=\"text-align: right;\">\n",
              "      <th></th>\n",
              "      <th>Tags</th>\n",
              "      <th>q_CreationDate</th>\n",
              "      <th>a_CreationDate</th>\n",
              "      <th>diff</th>\n",
              "      <th>diffint</th>\n",
              "    </tr>\n",
              "  </thead>\n",
              "  <tbody>\n",
              "    <tr>\n",
              "      <th>0</th>\n",
              "      <td>sql</td>\n",
              "      <td>2008-10-31 00:17:40+00:00</td>\n",
              "      <td>2008-10-31 04:27:08+00:00</td>\n",
              "      <td>0 days 04:09:28</td>\n",
              "      <td>14968</td>\n",
              "    </tr>\n",
              "    <tr>\n",
              "      <th>1</th>\n",
              "      <td>sql</td>\n",
              "      <td>2010-01-01 23:29:24+00:00</td>\n",
              "      <td>2010-01-01 23:36:57+00:00</td>\n",
              "      <td>0 days 00:07:33</td>\n",
              "      <td>453</td>\n",
              "    </tr>\n",
              "  </tbody>\n",
              "</table>\n",
              "</div>"
            ],
            "text/plain": [
              "  Tags            q_CreationDate  ...            diff diffint\n",
              "0  sql 2008-10-31 00:17:40+00:00  ... 0 days 04:09:28   14968\n",
              "1  sql 2010-01-01 23:29:24+00:00  ... 0 days 00:07:33     453\n",
              "\n",
              "[2 rows x 5 columns]"
            ]
          },
          "metadata": {
            "tags": []
          },
          "execution_count": 268
        }
      ]
    },
    {
      "cell_type": "code",
      "metadata": {
        "colab": {
          "base_uri": "https://localhost:8080/",
          "height": 118,
          "referenced_widgets": [
            "f5dcecc7505544f88e7fc25adfd63ab9",
            "f780e83b7b6f48b39902a34450708a08",
            "26644606325f42948198fb508d95c779",
            "8fe49a8973e84c8f9379687d67357107",
            "4dbb52f885254338a4220bb734c25ae8",
            "a94235ebf4194140b115c3b7e5618683",
            "aa864c2768d94b0a822bc337411e36fe",
            "60cdeabcff1645dfb9236382765c35ca"
          ]
        },
        "id": "W60WQq9qnOlZ",
        "outputId": "59acd2ab-b585-45c0-93f2-cb5b91888264"
      },
      "source": [
        "AnsRate = {}\r\n",
        "for i in tqdm_notebook(range(len(tag_rate['Tags']))):\r\n",
        "    for tag in tag_rate['Tags'][i].split(','):\r\n",
        "        try:\r\n",
        "            AnsRate[tag].append(tag_rate['diffint'][i])\r\n",
        "        except Exception:\r\n",
        "            AnsRate[tag] = [tag_rate['diffint'][i]]"
      ],
      "execution_count": 278,
      "outputs": [
        {
          "output_type": "stream",
          "text": [
            "/usr/local/lib/python3.6/dist-packages/ipykernel_launcher.py:2: TqdmDeprecationWarning: This function will be removed in tqdm==5.0.0\n",
            "Please use `tqdm.notebook.tqdm` instead of `tqdm.tqdm_notebook`\n",
            "  \n"
          ],
          "name": "stderr"
        },
        {
          "output_type": "display_data",
          "data": {
            "application/vnd.jupyter.widget-view+json": {
              "model_id": "f5dcecc7505544f88e7fc25adfd63ab9",
              "version_minor": 0,
              "version_major": 2
            },
            "text/plain": [
              "HBox(children=(FloatProgress(value=0.0, max=210245.0), HTML(value='')))"
            ]
          },
          "metadata": {
            "tags": []
          }
        },
        {
          "output_type": "stream",
          "text": [
            "\n"
          ],
          "name": "stdout"
        }
      ]
    },
    {
      "cell_type": "code",
      "metadata": {
        "id": "pohe1WLKnyiO"
      },
      "source": [
        "tagRateAvg = {}\r\n",
        "for key in list(AnsRate.keys()):\r\n",
        "    tagRateAvg[key] = np.average(AnsRate[key])"
      ],
      "execution_count": 279,
      "outputs": []
    },
    {
      "cell_type": "code",
      "metadata": {
        "id": "JEcrqdeSyhLf"
      },
      "source": [
        "tagRateAvg = pd.DataFrame([list(tagRateAvg.keys()), list(tagRateAvg.values())])\r\n",
        "tagRateAvg = tagRateAvg.transpose()\r\n",
        "tagRateAvg.columns = ['Tags', 'diffint']\r\n",
        "tagRateAvg = tagRateAvg.sort_values('diffint')"
      ],
      "execution_count": 280,
      "outputs": []
    },
    {
      "cell_type": "code",
      "metadata": {
        "id": "2R_er8F4ysr8"
      },
      "source": [
        "data_science = ['python', 'r', 'matlab', 'sas', 'excel', 'sql']\r\n",
        "x = []\r\n",
        "y = []\r\n",
        "for tag in data_science:\r\n",
        "    index = list(tagRateAvg['Tags']).index(tag)\r\n",
        "    x.append(tag)\r\n",
        "    y.append(list(tagRateAvg['diffint'])[index])"
      ],
      "execution_count": 282,
      "outputs": []
    },
    {
      "cell_type": "code",
      "metadata": {
        "colab": {
          "base_uri": "https://localhost:8080/",
          "height": 616
        },
        "id": "ZcyvS8Gcy1MQ",
        "outputId": "a250d503-e48f-493e-8887-0a674f63445e"
      },
      "source": [
        "plt.bar(x, y)\r\n",
        "plt.ylabel('Average Time taken to Respond/Answer')\r\n",
        "plt.xlabel('Tag')\r\n",
        "#plt.title('Active/Inactive Community in Data Science')\r\n",
        "plt.show()"
      ],
      "execution_count": 284,
      "outputs": [
        {
          "output_type": "display_data",
          "data": {
            "image/png": "[encoded data removed]",
            "text/plain": [
              "<Figure size 720x720 with 1 Axes>"
            ]
          },
          "metadata": {
            "tags": [],
            "needs_background": "light"
          }
        }
      ]
    },
    {
      "cell_type": "markdown",
      "metadata": {
        "id": "csnVMWUL2H-U"
      },
      "source": [
        "**by the above graph Python and Excel,matlab tags have good average response time for the questions**"
      ]
    }
  ]
}