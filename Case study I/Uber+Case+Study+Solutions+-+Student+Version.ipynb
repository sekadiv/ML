{
 "cells": [
  {
   "cell_type": "code",
   "execution_count": 1,
   "metadata": {},
   "outputs": [],
   "source": [
    "#Import the libraries\n",
    "import pandas as pd\n",
    "import matplotlib.pyplot as plt\n",
    "import seaborn as sns\n",
    "import datetime as dt\n",
    "import numpy as np"
   ]
  },
  {
   "cell_type": "code",
   "execution_count": 3,
   "metadata": {},
   "outputs": [],
   "source": [
    "#Write code to load the dataset here\n",
    "df = pd.read_csv(\"UberRequestData.csv\")"
   ]
  },
  {
   "cell_type": "code",
   "execution_count": 4,
   "metadata": {},
   "outputs": [
    {
     "name": "stdout",
     "output_type": "stream",
     "text": [
      "<class 'pandas.core.frame.DataFrame'>\n",
      "RangeIndex: 6745 entries, 0 to 6744\n",
      "Data columns (total 6 columns):\n",
      " #   Column             Non-Null Count  Dtype  \n",
      "---  ------             --------------  -----  \n",
      " 0   Request id         6745 non-null   int64  \n",
      " 1   Pickup point       6745 non-null   object \n",
      " 2   Driver id          4095 non-null   float64\n",
      " 3   Status             6745 non-null   object \n",
      " 4   Request timestamp  6745 non-null   object \n",
      " 5   Drop timestamp     2831 non-null   object \n",
      "dtypes: float64(1), int64(1), object(4)\n",
      "memory usage: 316.3+ KB\n"
     ]
    }
   ],
   "source": [
    "#use the following few lines to explore the data or clean it\n",
    "df.info()"
   ]
  },
  {
   "cell_type": "markdown",
   "metadata": {},
   "source": [
    "## Q1. Null Values\n",
    "Which columns have null values and how many?\n",
    "\n",
    "a) Request id - 2650 Driver id - 3914\n",
    "\n",
    "b) Request id-   3914 Driver id - 2650\n",
    "\n",
    "$\\color{green} {c)\\,Driver\\,id\\,-\\,2650\\,Drop\\,time\\,stamp\\,-\\,3914}$\n",
    "\n",
    "d) There are no null values in the dataset."
   ]
  },
  {
   "cell_type": "code",
   "execution_count": 5,
   "metadata": {},
   "outputs": [
    {
     "name": "stdout",
     "output_type": "stream",
     "text": [
      "Request id              0\n",
      "Pickup point            0\n",
      "Driver id            2650\n",
      "Status                  0\n",
      "Request timestamp       0\n",
      "Drop timestamp       3914\n",
      "dtype: int64\n"
     ]
    }
   ],
   "source": [
    "#We simply use isnull().sum() on whole df\n",
    "print (df.isnull().sum())"
   ]
  },
  {
   "cell_type": "code",
   "execution_count": null,
   "metadata": {},
   "outputs": [],
   "source": []
  },
  {
   "cell_type": "code",
   "execution_count": null,
   "metadata": {},
   "outputs": [],
   "source": []
  },
  {
   "cell_type": "markdown",
   "metadata": {},
   "source": [
    "## Q2. Choose Correct\n",
    "\n",
    "Select the correct statements from the options given below. (More than one may be correct)\n",
    "\n",
    "a) We need to delete the records containing the null values as they won’t be useful for our analysis.\n",
    "\n",
    "b) Only the records containing null values in the Driver id need to be eliminated.\n",
    "\n",
    "$\\color{green} {c)\\,There\\,are\\,a\\,total \\,of \\,1264\\, requests \\,which\\, have\\, a \\,status\\, of \\, “cancelled”.}$\n",
    "\n",
    "$\\color{green} {d)\\,We \\,need \\,to \\,keep\\, the\\, records\\, containing\\, null \\,values\\, for \\,both\\, the\\, columns\\, and \\,using\\, them \\,analyse \\,the\\, problems \\,faced \\,by\\, Uber.}$"
   ]
  },
  {
   "cell_type": "code",
   "execution_count": 6,
   "metadata": {},
   "outputs": [
    {
     "data": {
      "text/plain": [
       "Trip Completed       2831\n",
       "No Cars Available    2650\n",
       "Cancelled            1264\n",
       "Name: Status, dtype: int64"
      ]
     },
     "execution_count": 6,
     "metadata": {},
     "output_type": "execute_result"
    }
   ],
   "source": [
    "# value_counts() on Status\n",
    "df['Status'].value_counts()"
   ]
  },
  {
   "cell_type": "code",
   "execution_count": null,
   "metadata": {},
   "outputs": [],
   "source": []
  },
  {
   "cell_type": "code",
   "execution_count": null,
   "metadata": {},
   "outputs": [],
   "source": []
  },
  {
   "cell_type": "markdown",
   "metadata": {},
   "source": [
    "## Q3. Busy Hour\n",
    "\n",
    "Now that you have understood the significance of the null values in this case study, the next step would involve fixing the Request Time-Stamp and Drop-Time Stamp columns. Go ahead and convert it into a date-time object. After that report back the hour in which the most number of requests are being made.\n",
    "\n",
    "$\\color{green} {a)\\,18:00-19:00}$\n",
    "\n",
    "b) 16:00-17:00\n",
    "\n",
    "c) 14:00-15:00\n",
    "\n",
    "d) 13:00-14:00\n",
    "\n",
    "e) 19:00-20:00"
   ]
  },
  {
   "cell_type": "code",
   "execution_count": 7,
   "metadata": {},
   "outputs": [],
   "source": [
    "#We first convert Request timestamp and Drop timestamp to datetime\n",
    "df['Request timestamp']=pd.to_datetime(df['Request timestamp'])\n",
    "df['Drop timestamp']=pd.to_datetime(df['Drop timestamp'])"
   ]
  },
  {
   "cell_type": "code",
   "execution_count": 8,
   "metadata": {
    "scrolled": false
   },
   "outputs": [
    {
     "data": {
      "text/plain": [
       "18    510\n",
       "20    492\n",
       "19    473\n",
       "21    449\n",
       "5     445\n",
       "9     431\n",
       "8     423\n",
       "17    418\n",
       "7     406\n",
       "6     398\n",
       "22    304\n",
       "10    243\n",
       "4     203\n",
       "23    194\n",
       "12    184\n",
       "11    171\n",
       "15    171\n",
       "13    160\n",
       "16    159\n",
       "14    136\n",
       "2      99\n",
       "0      99\n",
       "3      92\n",
       "1      85\n",
       "Name: Request hour, dtype: int64"
      ]
     },
     "execution_count": 8,
     "metadata": {},
     "output_type": "execute_result"
    }
   ],
   "source": [
    "#next we make a new column of request hour about what hour the request was made\n",
    "df['Request hour']=df['Request timestamp'].apply(lambda x: x.hour)\n",
    "#and then use value_counts() on this new column\n",
    "df['Request hour'].value_counts()"
   ]
  },
  {
   "cell_type": "markdown",
   "metadata": {},
   "source": [
    "We note that __$18^{th}$__ hour has most requests "
   ]
  },
  {
   "cell_type": "code",
   "execution_count": null,
   "metadata": {},
   "outputs": [],
   "source": []
  },
  {
   "cell_type": "code",
   "execution_count": null,
   "metadata": {},
   "outputs": [],
   "source": []
  },
  {
   "cell_type": "markdown",
   "metadata": {},
   "source": [
    "## Q4. Cancelled Dates\n",
    "Next, extract the date from the request timestamp and find the date when the most number of trips were cancelled.\n",
    "\n",
    "$\\color{green} {a)\\,2016-07-13}$\n",
    "\n",
    "b) 2016-11-07\n",
    "\n",
    "c) 2016-07-14\n",
    "\n",
    "d) 2016-07-15 \n",
    "\n",
    "e) 2016-12-07"
   ]
  },
  {
   "cell_type": "code",
   "execution_count": 9,
   "metadata": {},
   "outputs": [
    {
     "data": {
      "text/plain": [
       "2016-07-13    270\n",
       "2016-11-07    262\n",
       "2016-07-14    252\n",
       "2016-12-07    240\n",
       "2016-07-15    240\n",
       "Name: Request date, dtype: int64"
      ]
     },
     "execution_count": 9,
     "metadata": {},
     "output_type": "execute_result"
    }
   ],
   "source": [
    "# We make a new column and extract dates from Request time stamp\n",
    "df['Request date']=df['Request timestamp'].apply(lambda x: x.date())\n",
    "#and now do a value counts() on Cancelled rides for Request date\n",
    "df[df['Status']=='Cancelled']['Request date'].value_counts()"
   ]
  },
  {
   "cell_type": "markdown",
   "metadata": {},
   "source": [
    "We note that the date __2016-07-13__ has the highest number of cancelations"
   ]
  },
  {
   "cell_type": "code",
   "execution_count": null,
   "metadata": {},
   "outputs": [],
   "source": []
  },
  {
   "cell_type": "code",
   "execution_count": null,
   "metadata": {},
   "outputs": [],
   "source": []
  },
  {
   "cell_type": "markdown",
   "metadata": {},
   "source": [
    "## Correct Statements II\n",
    "\n",
    "Choose the correct statements from the ones given below.\n",
    "\n",
    "(More than one may be correct)\n",
    "\n",
    "$\\color{green} {a)\\,In\\,general, \\,the \\,five \\,hour \\,time \\,period \\,in \\,which\\, the\\, most\\, number\\, of \\,trips\\, are\\, completed \\,is\\, approximately\\, 5-10.}$\n",
    "\n",
    "b) Across all the days, the number of trips from the City that get cancelled is nearly 9 times less than the trips when there were no cars available.\n",
    "\n",
    "c) Across all the days, the number of trips from the Airport that get cancelled is comparable to the number of trips when there were no cars available.\n",
    "\n",
    "$\\color{green} {d)\\,The\\, number\\, of \\,trips \\,getting\\, completed \\,from \\,City\\, is\\, higher \\,than\\, the\\, trips\\, completed\\, from\\, the\\, airport.}$\n"
   ]
  },
  {
   "cell_type": "code",
   "execution_count": 10,
   "metadata": {
    "scrolled": true
   },
   "outputs": [
    {
     "data": {
      "text/plain": [
       "0     214\n",
       "1     359\n",
       "2     501\n",
       "3     638\n",
       "4     759\n",
       "5     854\n",
       "6     785\n",
       "7     733\n",
       "8     680\n",
       "9     614\n",
       "10    529\n",
       "11    515\n",
       "12    491\n",
       "13    521\n",
       "14    596\n",
       "15    674\n",
       "16    733\n",
       "17    784\n",
       "18    787\n",
       "19    726\n",
       "20    560\n",
       "21    399\n",
       "22    257\n",
       "23    103\n",
       "Name: Request hour, dtype: int64"
      ]
     },
     "execution_count": 10,
     "metadata": {},
     "output_type": "execute_result"
    }
   ],
   "source": [
    "#Checking option (a)\n",
    "Q5a=df[df['Status']=='Trip Completed']['Request hour'].value_counts().sort_index()\n",
    "for i in range(24):\n",
    "    Q5a[i]=sum(Q5a[i:i+5])\n",
    "Q5a"
   ]
  },
  {
   "cell_type": "markdown",
   "metadata": {},
   "source": [
    "We see that the maximum Trips completed in 5 hour window is in 5-10 (854)"
   ]
  },
  {
   "cell_type": "code",
   "execution_count": 11,
   "metadata": {},
   "outputs": [
    {
     "data": {
      "text/plain": [
       "1066"
      ]
     },
     "execution_count": 11,
     "metadata": {},
     "output_type": "execute_result"
    }
   ],
   "source": [
    "#for options b and c\n",
    "#find the rides cancled from city\n",
    "len(df[(df['Pickup point']=='City') & (df['Status']=='Cancelled')])\n"
   ]
  },
  {
   "cell_type": "code",
   "execution_count": 12,
   "metadata": {},
   "outputs": [
    {
     "data": {
      "text/plain": [
       "198"
      ]
     },
     "execution_count": 12,
     "metadata": {},
     "output_type": "execute_result"
    }
   ],
   "source": [
    "#rides cancled from airport\n",
    "len(df[(df['Pickup point']=='Airport') & (df['Status']=='Cancelled')])"
   ]
  },
  {
   "cell_type": "code",
   "execution_count": 13,
   "metadata": {},
   "outputs": [
    {
     "data": {
      "text/plain": [
       "2650"
      ]
     },
     "execution_count": 13,
     "metadata": {},
     "output_type": "execute_result"
    }
   ],
   "source": [
    "#no cars available\n",
    "len(df[(df['Status']=='No Cars Available')])"
   ]
  },
  {
   "cell_type": "markdown",
   "metadata": {},
   "source": [
    "We note that options b and c are not true"
   ]
  },
  {
   "cell_type": "code",
   "execution_count": 14,
   "metadata": {},
   "outputs": [
    {
     "data": {
      "text/plain": [
       "1504"
      ]
     },
     "execution_count": 14,
     "metadata": {},
     "output_type": "execute_result"
    }
   ],
   "source": [
    "#check for option d\n",
    "len(df[(df['Pickup point']=='City') & (df['Status']=='Trip Completed')])"
   ]
  },
  {
   "cell_type": "code",
   "execution_count": 15,
   "metadata": {},
   "outputs": [
    {
     "data": {
      "text/plain": [
       "1327"
      ]
     },
     "execution_count": 15,
     "metadata": {},
     "output_type": "execute_result"
    }
   ],
   "source": [
    "len(df[(df['Pickup point']=='Airport') & (df['Status']=='Trip Completed')])"
   ]
  },
  {
   "cell_type": "markdown",
   "metadata": {},
   "source": [
    "Hence trips completed from city are more than trips completed from airport"
   ]
  },
  {
   "cell_type": "code",
   "execution_count": null,
   "metadata": {},
   "outputs": [],
   "source": []
  },
  {
   "cell_type": "code",
   "execution_count": null,
   "metadata": {},
   "outputs": [],
   "source": []
  },
  {
   "cell_type": "markdown",
   "metadata": {},
   "source": [
    "## Q6. Request Time\n",
    "\n",
    "Once you’ve analysed requests for all the days at an aggregate level, it’s time to find patterns in individual days and see if there is anything common across the days. Analyse the distribution of requests across all the days and choose the correct option.\n",
    "\n",
    "a) The most number of requests are obtained only in the morning hours across all the days.\n",
    "\n",
    "b) The most number of requests are obtained only in the evening hours across all the days.\n",
    "\n",
    "$\\color{green} {c)\\,The\\, most \\,number \\,of \\,requests\\, are \\,obtained\\, both\\, in\\, the\\, morning\\, as\\, well \\,as\\, the\\, evening\\, hours\\, across\\, all\\, the\\, days.}$\n",
    "\n",
    "d) None of these"
   ]
  },
  {
   "cell_type": "code",
   "execution_count": 17,
   "metadata": {},
   "outputs": [
    {
     "data": {
      "image/png": "[encoded data removed]",
      "text/plain": [
       "<Figure size 432x288 with 1 Axes>"
      ]
     },
     "metadata": {
      "needs_background": "light"
     },
     "output_type": "display_data"
    },
    {
     "data": {
      "image/png": "[encoded data removed]",
      "text/plain": [
       "<Figure size 432x288 with 1 Axes>"
      ]
     },
     "metadata": {
      "needs_background": "light"
     },
     "output_type": "display_data"
    },
    {
     "data": {
      "image/png": "[encoded data removed]",
      "text/plain": [
       "<Figure size 432x288 with 1 Axes>"
      ]
     },
     "metadata": {
      "needs_background": "light"
     },
     "output_type": "display_data"
    },
    {
     "data": {
      "image/png": "[encoded data removed]",
      "text/plain": [
       "<Figure size 432x288 with 1 Axes>"
      ]
     },
     "metadata": {
      "needs_background": "light"
     },
     "output_type": "display_data"
    },
    {
     "data": {
      "image/png": "[encoded data removed]",
      "text/plain": [
       "<Figure size 432x288 with 1 Axes>"
      ]
     },
     "metadata": {
      "needs_background": "light"
     },
     "output_type": "display_data"
    }
   ],
   "source": [
    "#best way to do this is to plot the histograms for all dates\n",
    "#we first get the unique dates \n",
    "unique_dates=df['Request date'].unique()\n",
    "#and now use a for loop to plot the histogram on 'Request hour'\n",
    "for i in unique_dates:\n",
    "    #we will use 24 bins, one bin for each hour\n",
    "    sns.histplot(df[df[\"Request date\"]==i]['Request hour'], bins=24)\n",
    "    plt.title(str(i))\n",
    "    plt.show()"
   ]
  },
  {
   "cell_type": "markdown",
   "metadata": {},
   "source": [
    "Option __(c)__ is clearly the correct statement"
   ]
  },
  {
   "cell_type": "code",
   "execution_count": null,
   "metadata": {},
   "outputs": [],
   "source": []
  },
  {
   "cell_type": "code",
   "execution_count": null,
   "metadata": {},
   "outputs": [],
   "source": []
  },
  {
   "cell_type": "markdown",
   "metadata": {},
   "source": [
    "## Q7. Request Time II\n",
    "\n",
    "Now that you’ve observed that the number of requests across all the days is similar, you need to check it across the pick-up points as well. Analyse the distribution of requests across each of the pick-up points exclusively and choose the correct option:\n",
    "\n",
    "a) The majority of requests from City are obtained during evening hours.\n",
    "\n",
    "b) The majority of requests from Airport are obtained during morning hours.\n",
    " \n",
    "$\\color{green} {c)\\,The\\, majority \\,of \\,requests\\, from \\,City\\, are \\,obtained\\, during\\, morning \\,hours.}$\n",
    "\n",
    "d) Both a) and b)\n"
   ]
  },
  {
   "cell_type": "code",
   "execution_count": 18,
   "metadata": {},
   "outputs": [
    {
     "name": "stderr",
     "output_type": "stream",
     "text": [
      "C:\\ProgramData\\Anaconda3\\lib\\site-packages\\seaborn\\distributions.py:2551: FutureWarning: `distplot` is a deprecated function and will be removed in a future version. Please adapt your code to use either `displot` (a figure-level function with similar flexibility) or `histplot` (an axes-level function for histograms).\n",
      "  warnings.warn(msg, FutureWarning)\n"
     ]
    },
    {
     "data": {
      "image/png": "[encoded data removed]",
      "text/plain": [
       "<Figure size 432x288 with 1 Axes>"
      ]
     },
     "metadata": {
      "needs_background": "light"
     },
     "output_type": "display_data"
    },
    {
     "name": "stderr",
     "output_type": "stream",
     "text": [
      "C:\\ProgramData\\Anaconda3\\lib\\site-packages\\seaborn\\distributions.py:2551: FutureWarning: `distplot` is a deprecated function and will be removed in a future version. Please adapt your code to use either `displot` (a figure-level function with similar flexibility) or `histplot` (an axes-level function for histograms).\n",
      "  warnings.warn(msg, FutureWarning)\n"
     ]
    },
    {
     "data": {
      "image/png": "[encoded data removed]",
      "text/plain": [
       "<Figure size 432x288 with 1 Axes>"
      ]
     },
     "metadata": {
      "needs_background": "light"
     },
     "output_type": "display_data"
    },
    {
     "name": "stderr",
     "output_type": "stream",
     "text": [
      "C:\\ProgramData\\Anaconda3\\lib\\site-packages\\seaborn\\distributions.py:2551: FutureWarning: `distplot` is a deprecated function and will be removed in a future version. Please adapt your code to use either `displot` (a figure-level function with similar flexibility) or `histplot` (an axes-level function for histograms).\n",
      "  warnings.warn(msg, FutureWarning)\n"
     ]
    },
    {
     "data": {
      "image/png": "[encoded data removed]",
      "text/plain": [
       "<Figure size 432x288 with 1 Axes>"
      ]
     },
     "metadata": {
      "needs_background": "light"
     },
     "output_type": "display_data"
    },
    {
     "name": "stderr",
     "output_type": "stream",
     "text": [
      "C:\\ProgramData\\Anaconda3\\lib\\site-packages\\seaborn\\distributions.py:2551: FutureWarning: `distplot` is a deprecated function and will be removed in a future version. Please adapt your code to use either `displot` (a figure-level function with similar flexibility) or `histplot` (an axes-level function for histograms).\n",
      "  warnings.warn(msg, FutureWarning)\n"
     ]
    },
    {
     "data": {
      "image/png": "[encoded data removed]",
      "text/plain": [
       "<Figure size 432x288 with 1 Axes>"
      ]
     },
     "metadata": {
      "needs_background": "light"
     },
     "output_type": "display_data"
    },
    {
     "name": "stderr",
     "output_type": "stream",
     "text": [
      "C:\\ProgramData\\Anaconda3\\lib\\site-packages\\seaborn\\distributions.py:2551: FutureWarning: `distplot` is a deprecated function and will be removed in a future version. Please adapt your code to use either `displot` (a figure-level function with similar flexibility) or `histplot` (an axes-level function for histograms).\n",
      "  warnings.warn(msg, FutureWarning)\n"
     ]
    },
    {
     "data": {
      "image/png": "[encoded data removed]",
      "text/plain": [
       "<Figure size 432x288 with 1 Axes>"
      ]
     },
     "metadata": {
      "needs_background": "light"
     },
     "output_type": "display_data"
    }
   ],
   "source": [
    "#just like previous question, we plot histogram for all dates\n",
    "#this time we add another filter and divide it into two parts\n",
    "\n",
    "# for city\n",
    "for i in unique_dates:\n",
    "    sns.distplot(df[(df[\"Request date\"]==i) & (df['Pickup point']=='City')]['Request hour'], bins=24)\n",
    "    plt.title(str(i))\n",
    "    plt.show()"
   ]
  },
  {
   "cell_type": "markdown",
   "metadata": {},
   "source": [
    "From above graphs we conclude that option __(a)__ is __false__ and option __(c)__ is __true__"
   ]
  },
  {
   "cell_type": "code",
   "execution_count": 17,
   "metadata": {},
   "outputs": [
    {
     "data": {
      "image/png": "[encoded data removed]",
      "text/plain": [
       "<Figure size 432x288 with 1 Axes>"
      ]
     },
     "metadata": {
      "needs_background": "light"
     },
     "output_type": "display_data"
    },
    {
     "data": {
      "image/png": "[encoded data removed]",
      "text/plain": [
       "<Figure size 432x288 with 1 Axes>"
      ]
     },
     "metadata": {
      "needs_background": "light"
     },
     "output_type": "display_data"
    },
    {
     "data": {
      "image/png": "[encoded data removed]",
      "text/plain": [
       "<Figure size 432x288 with 1 Axes>"
      ]
     },
     "metadata": {
      "needs_background": "light"
     },
     "output_type": "display_data"
    },
    {
     "data": {
      "image/png": "[encoded data removed]",
      "text/plain": [
       "<Figure size 432x288 with 1 Axes>"
      ]
     },
     "metadata": {
      "needs_background": "light"
     },
     "output_type": "display_data"
    },
    {
     "data": {
      "image/png": "[encoded data removed]",
      "text/plain": [
       "<Figure size 432x288 with 1 Axes>"
      ]
     },
     "metadata": {
      "needs_background": "light"
     },
     "output_type": "display_data"
    }
   ],
   "source": [
    "#for Airport pickups\n",
    "for i in unique_dates:\n",
    "    sns.distplot(df[(df[\"Request date\"]==i) & (df['Pickup point']=='Airport')]['Request hour'], bins=24)\n",
    "    plt.title(str(i))\n",
    "    plt.show()"
   ]
  },
  {
   "cell_type": "code",
   "execution_count": null,
   "metadata": {},
   "outputs": [],
   "source": []
  },
  {
   "cell_type": "code",
   "execution_count": null,
   "metadata": {},
   "outputs": [],
   "source": []
  },
  {
   "cell_type": "markdown",
   "metadata": {},
   "source": [
    "## Q8. Request Time III\n",
    "Now that you have realised the patterns of requests coming from both the city and the airport, the next step is to divide the entire time period to certain slots and then analyse them using plots. Use the following classification table to create the slots and then choose the correct option.\n",
    "\n",
    "\n",
    "| Hour Range(x) |   Time Slot   |\n",
    "|:-------------:|:-------------:|\n",
    "|     x < 5     | Early morning |\n",
    "|  5 <= x < 10  |    Morning    |\n",
    "|  10 <= x < 17 |    Day Time   |\n",
    "|  17 <= x < 22 |    Evening    |\n",
    "|    22 <= x    |   Late Night  |\n",
    "\n",
    "\n",
    "a) The maximum number of requests across all the days happens in the Evening.\n",
    "\n",
    "b) The minimum number of requests across all the days happens in Early Morning.\n",
    "\n",
    "c) The minimum number of requests across all the days happens in Late Night.\n",
    "\n",
    "$\\color{green} {d)\\,Both \\,(a) \\,and\\, (c).}$"
   ]
  },
  {
   "cell_type": "code",
   "execution_count": 19,
   "metadata": {},
   "outputs": [
    {
     "data": {
      "text/plain": [
       "Evenning         2342\n",
       "Morning          2103\n",
       "Day Time         1224\n",
       "Early Morning     578\n",
       "Late Night        498\n",
       "Name: Time slot, dtype: int64"
      ]
     },
     "execution_count": 19,
     "metadata": {},
     "output_type": "execute_result"
    }
   ],
   "source": [
    "#for this we will write a function and then pass it in apply to make a new column called time_slot\n",
    "def time_period(x):\n",
    "    #divide the time of the day into five categories\n",
    "    if x < 5:\n",
    "        return \"Early Morning\"\n",
    "    elif 5 <= x < 10:\n",
    "        return \"Morning\"\n",
    "    elif 10 <= x < 17:\n",
    "        return \"Day Time\"\n",
    "    elif 17 <= x < 22:\n",
    "        return \"Evenning\"\n",
    "    else:\n",
    "        return \"Late Night\"\n",
    "\n",
    "#use this function on the request hour to create Time slot \n",
    "df['Time slot'] = df['Request hour'].apply(lambda x: time_period(x))\n",
    "df['Time slot'].value_counts()"
   ]
  },
  {
   "cell_type": "code",
   "execution_count": null,
   "metadata": {},
   "outputs": [],
   "source": []
  },
  {
   "cell_type": "code",
   "execution_count": null,
   "metadata": {},
   "outputs": [],
   "source": []
  },
  {
   "cell_type": "markdown",
   "metadata": {},
   "source": [
    "## Q9. Bar\n",
    "After this, you decide to plot a bar plot with the time slots in the X-axis and the number of requests in the Y-axis and observe the Status of trips for each time slot. This way you’ll get the number of trip request across each time slot and their status as well. \n",
    "\n",
    "To make things easier, you created an additional column called ‘Count’ whose value is fixed at 1 for all the rows(df[\"Count\"]=1). Then in order to create a bar plot as mentioned in the first statement, you decided to use sns.barplot() function. \n",
    "\n",
    "What are the parameters that you need to take here?\n",
    "\n",
    "a) Take time slots as x and Count as y.\n",
    "\n",
    "b) Take the Status as hue and df as the data.\n",
    "\n",
    "c) Both (a) and (b).\n",
    "\n",
    "$\\color{green} {d)\\,The \\,parameters\\, mentioned \\,above\\, are\\, insufficient.}$"
   ]
  },
  {
   "cell_type": "code",
   "execution_count": 20,
   "metadata": {},
   "outputs": [
    {
     "data": {
      "text/plain": [
       "<AxesSubplot:xlabel='Time slot', ylabel='Count'>"
      ]
     },
     "execution_count": 20,
     "metadata": {},
     "output_type": "execute_result"
    },
    {
     "data": {
      "image/png": "[encoded data removed]",
      "text/plain": [
       "<Figure size 432x288 with 1 Axes>"
      ]
     },
     "metadata": {
      "needs_background": "light"
     },
     "output_type": "display_data"
    }
   ],
   "source": [
    "df['Count']=1\n",
    "\n",
    "#we will have to change the estimated as sum, since by default the barplot takes the mean\n",
    "sns.barplot(data = df, x = 'Time slot', y='Count', hue= 'Status',estimator = np.sum)\n",
    "\n"
   ]
  },
  {
   "cell_type": "markdown",
   "metadata": {},
   "source": [
    "#### why dont you try what the plot will look like without estimator?"
   ]
  },
  {
   "cell_type": "code",
   "execution_count": null,
   "metadata": {},
   "outputs": [],
   "source": []
  },
  {
   "cell_type": "code",
   "execution_count": null,
   "metadata": {},
   "outputs": [],
   "source": []
  },
  {
   "cell_type": "code",
   "execution_count": null,
   "metadata": {},
   "outputs": [],
   "source": []
  },
  {
   "cell_type": "markdown",
   "metadata": {},
   "source": [
    "## Q10. Correct Bar\n",
    "Once you have created the bar plot correctly, what major issues are you able to observe? Choose the correct options amongst the following-\n",
    "\n",
    "a) A majority of requests in the evening are having a “No cars available” status.\n",
    "\n",
    "b) The major issue in the morning slot is that it has a lot of cancellations.\n",
    "\n",
    "$\\color{green} {c)\\,Both\\, (a)\\, and \\,(b).}$\n",
    "\n",
    "d) None of the above."
   ]
  },
  {
   "cell_type": "markdown",
   "metadata": {},
   "source": [
    "#### There is no code required in this question use the bar plot in the above question, the insights are obvious"
   ]
  },
  {
   "cell_type": "code",
   "execution_count": null,
   "metadata": {},
   "outputs": [],
   "source": []
  },
  {
   "cell_type": "code",
   "execution_count": null,
   "metadata": {},
   "outputs": [],
   "source": []
  },
  {
   "cell_type": "markdown",
   "metadata": {},
   "source": [
    "## Q11. Demand Supply\n",
    "Now that you’ve understood the major issues in the morning and the evening time slots, it’s time to compute the demand and supply gap. Here,\n",
    "\n",
    "Demand - Number of Requests Uber Gets\n",
    "Supply - Number of Requests Uber is able to fulfil\n",
    "\n",
    "Demand supply gap = Demand - Supply.\n",
    "\n",
    "Compute the demand-supply gap for both the morning and the evening slots for the Pick-up points having the most number of requests in that time_slot\n",
    "\n",
    "\n",
    "$\\color{green} {a)\\,Morning\\, - \\,1205\\, Evening \\,-\\, 1427.}$\n",
    "\n",
    "b) Morning - 1427 Evening - 1205\n",
    "\n",
    "c) Morning - 1249 Evening - 1558\n",
    "\n",
    "d) Morning - 1558 Evening - 1249\n"
   ]
  },
  {
   "cell_type": "code",
   "execution_count": 21,
   "metadata": {},
   "outputs": [
    {
     "data": {
      "text/html": [
       "<div>\n",
       "<style scoped>\n",
       "    .dataframe tbody tr th:only-of-type {\n",
       "        vertical-align: middle;\n",
       "    }\n",
       "\n",
       "    .dataframe tbody tr th {\n",
       "        vertical-align: top;\n",
       "    }\n",
       "\n",
       "    .dataframe thead th {\n",
       "        text-align: right;\n",
       "    }\n",
       "</style>\n",
       "<table border=\"1\" class=\"dataframe\">\n",
       "  <thead>\n",
       "    <tr style=\"text-align: right;\">\n",
       "      <th>Status</th>\n",
       "      <th>Cancelled</th>\n",
       "      <th>No Cars Available</th>\n",
       "      <th>Trip Completed</th>\n",
       "      <th>Gap</th>\n",
       "    </tr>\n",
       "    <tr>\n",
       "      <th>Time slot</th>\n",
       "      <th></th>\n",
       "      <th></th>\n",
       "      <th></th>\n",
       "      <th></th>\n",
       "    </tr>\n",
       "  </thead>\n",
       "  <tbody>\n",
       "    <tr>\n",
       "      <th>Day Time</th>\n",
       "      <td>104</td>\n",
       "      <td>247</td>\n",
       "      <td>395</td>\n",
       "      <td>351</td>\n",
       "    </tr>\n",
       "    <tr>\n",
       "      <th>Early Morning</th>\n",
       "      <td>63</td>\n",
       "      <td>151</td>\n",
       "      <td>111</td>\n",
       "      <td>214</td>\n",
       "    </tr>\n",
       "    <tr>\n",
       "      <th>Evenning</th>\n",
       "      <td>60</td>\n",
       "      <td>71</td>\n",
       "      <td>411</td>\n",
       "      <td>131</td>\n",
       "    </tr>\n",
       "    <tr>\n",
       "      <th>Late Night</th>\n",
       "      <td>19</td>\n",
       "      <td>83</td>\n",
       "      <td>115</td>\n",
       "      <td>102</td>\n",
       "    </tr>\n",
       "    <tr>\n",
       "      <th>Morning</th>\n",
       "      <td>820</td>\n",
       "      <td>385</td>\n",
       "      <td>472</td>\n",
       "      <td>1205</td>\n",
       "    </tr>\n",
       "  </tbody>\n",
       "</table>\n",
       "</div>"
      ],
      "text/plain": [
       "Status         Cancelled  No Cars Available  Trip Completed   Gap\n",
       "Time slot                                                        \n",
       "Day Time             104                247             395   351\n",
       "Early Morning         63                151             111   214\n",
       "Evenning              60                 71             411   131\n",
       "Late Night            19                 83             115   102\n",
       "Morning              820                385             472  1205"
      ]
     },
     "execution_count": 21,
     "metadata": {},
     "output_type": "execute_result"
    }
   ],
   "source": [
    "# We make pivot table as follows\n",
    "demandsupply_City=pd.pivot_table(df[df['Pickup point']=='City'], values='Count', index='Time slot', columns ='Status', aggfunc=np.sum)\n",
    "#note how we modified the data while passing\n",
    "\n",
    "#We make a new column in this pivot table 'Gap'.\n",
    "#Gap will be nothing but the customers uber couldnt serve\n",
    "#This is simply 'Cancelled' + 'No cars available'\n",
    "demandsupply_City['Gap']=demandsupply_City['Cancelled'].add(demandsupply_City['No Cars Available'])\n",
    "demandsupply_City"
   ]
  },
  {
   "cell_type": "code",
   "execution_count": 22,
   "metadata": {},
   "outputs": [
    {
     "data": {
      "text/html": [
       "<div>\n",
       "<style scoped>\n",
       "    .dataframe tbody tr th:only-of-type {\n",
       "        vertical-align: middle;\n",
       "    }\n",
       "\n",
       "    .dataframe tbody tr th {\n",
       "        vertical-align: top;\n",
       "    }\n",
       "\n",
       "    .dataframe thead th {\n",
       "        text-align: right;\n",
       "    }\n",
       "</style>\n",
       "<table border=\"1\" class=\"dataframe\">\n",
       "  <thead>\n",
       "    <tr style=\"text-align: right;\">\n",
       "      <th>Status</th>\n",
       "      <th>Cancelled</th>\n",
       "      <th>No Cars Available</th>\n",
       "      <th>Trip Completed</th>\n",
       "      <th>Gap</th>\n",
       "    </tr>\n",
       "    <tr>\n",
       "      <th>Time slot</th>\n",
       "      <th></th>\n",
       "      <th></th>\n",
       "      <th></th>\n",
       "      <th></th>\n",
       "    </tr>\n",
       "  </thead>\n",
       "  <tbody>\n",
       "    <tr>\n",
       "      <th>Day Time</th>\n",
       "      <td>64</td>\n",
       "      <td>87</td>\n",
       "      <td>327</td>\n",
       "      <td>151</td>\n",
       "    </tr>\n",
       "    <tr>\n",
       "      <th>Early Morning</th>\n",
       "      <td>2</td>\n",
       "      <td>148</td>\n",
       "      <td>103</td>\n",
       "      <td>150</td>\n",
       "    </tr>\n",
       "    <tr>\n",
       "      <th>Evenning</th>\n",
       "      <td>106</td>\n",
       "      <td>1321</td>\n",
       "      <td>373</td>\n",
       "      <td>1427</td>\n",
       "    </tr>\n",
       "    <tr>\n",
       "      <th>Late Night</th>\n",
       "      <td>3</td>\n",
       "      <td>136</td>\n",
       "      <td>142</td>\n",
       "      <td>139</td>\n",
       "    </tr>\n",
       "    <tr>\n",
       "      <th>Morning</th>\n",
       "      <td>23</td>\n",
       "      <td>21</td>\n",
       "      <td>382</td>\n",
       "      <td>44</td>\n",
       "    </tr>\n",
       "  </tbody>\n",
       "</table>\n",
       "</div>"
      ],
      "text/plain": [
       "Status         Cancelled  No Cars Available  Trip Completed   Gap\n",
       "Time slot                                                        \n",
       "Day Time              64                 87             327   151\n",
       "Early Morning          2                148             103   150\n",
       "Evenning             106               1321             373  1427\n",
       "Late Night             3                136             142   139\n",
       "Morning               23                 21             382    44"
      ]
     },
     "execution_count": 22,
     "metadata": {},
     "output_type": "execute_result"
    }
   ],
   "source": [
    "#we do same for Airport\n",
    "demandsupply_Airport=pd.pivot_table(df[df['Pickup point']=='Airport'], values='Count', index='Time slot', columns ='Status', aggfunc=np.sum)\n",
    "demandsupply_Airport['Gap']=demandsupply_Airport['Cancelled'].add(demandsupply_Airport['No Cars Available'])\n",
    "\n",
    "demandsupply_Airport"
   ]
  },
  {
   "cell_type": "markdown",
   "metadata": {},
   "source": [
    "It is now easy to verify that option __(a)__ is the correct option\n"
   ]
  },
  {
   "cell_type": "code",
   "execution_count": null,
   "metadata": {},
   "outputs": [],
   "source": []
  },
  {
   "cell_type": "code",
   "execution_count": null,
   "metadata": {},
   "outputs": [],
   "source": []
  },
  {
   "cell_type": "code",
   "execution_count": null,
   "metadata": {},
   "outputs": [],
   "source": []
  },
  {
   "cell_type": "code",
   "execution_count": null,
   "metadata": {},
   "outputs": [],
   "source": []
  }
 ],
 "metadata": {
  "kernelspec": {
   "display_name": "Python 3",
   "language": "python",
   "name": "python3"
  },
  "language_info": {
   "codemirror_mode": {
    "name": "ipython",
    "version": 3
   },
   "file_extension": ".py",
   "mimetype": "text/x-python",
   "name": "python",
   "nbconvert_exporter": "python",
   "pygments_lexer": "ipython3",
   "version": "3.8.5"
  }
 },
 "nbformat": 4,
 "nbformat_minor": 2
}
